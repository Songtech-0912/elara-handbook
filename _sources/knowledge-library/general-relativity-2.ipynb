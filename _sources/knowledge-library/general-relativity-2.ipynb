{
 "cells": [
  {
   "cell_type": "markdown",
   "id": "c3351964",
   "metadata": {},
   "source": [
    "# General Relativity, Part 2"
   ]
  },
  {
   "cell_type": "markdown",
   "id": "237af098",
   "metadata": {},
   "source": [
    "Previously, we built up the idea of acceleration as being indistinguishable from gravitational force, and found the geodesic equation, which governs how objects move in curved spacetime. But to truly accurately describe relativity, we also need a mathematical description of what curvature in spacetime is. This will be what we'll explore in this section."
   ]
  },
  {
   "cell_type": "markdown",
   "id": "0749dd4c",
   "metadata": {},
   "source": [
    "## The Covariant Derivative"
   ]
  },
  {
   "cell_type": "markdown",
   "id": "74af0130",
   "metadata": {},
   "source": [
    "As we've seen by this point, the laws of physics are primarily written in partial differential equations, and so it would be natural to think that General Relativity can be characterized by partial differential equations too. The issue is, consider a vector $\\vec V = V^a e_a$. If we were to take its partial derivative, we'd have (using the product rule):"
   ]
  },
  {
   "cell_type": "markdown",
   "id": "f0a158db",
   "metadata": {},
   "source": [
    "$$\n",
    "\\frac{\\partial \\vec V}{\\partial x^b} = \\frac{\\partial V^a}{\\partial x^b} e_a + \\frac{\\partial e_a}{\\partial x^b} V^a\n",
    "$$"
   ]
  },
  {
   "cell_type": "markdown",
   "id": "2740fd04",
   "metadata": {},
   "source": [
    "But remember that tensors should transform like tensors, where each component is at most a partial derivative multiplied by the original tensor? The additional $\\frac{\\partial e_a}{\\partial x^b} V^a$ term means that the regular partial derivative doesn't transform like a tensor. So instead of partial derivatives, we need to define a new type of derivative, the **covariant derivative**, which compensates for the additional term in the partial derivative. The covariant derivative takes the form:"
   ]
  },
  {
   "cell_type": "markdown",
   "id": "940165c6",
   "metadata": {},
   "source": [
    "$$\n",
    "\\nabla_b V^a = \\frac{\\partial V^a}{\\partial x^b} + V^k \\Gamma^a_{kb}\n",
    "$$"
   ]
  },
  {
   "cell_type": "markdown",
   "id": "b2d47052",
   "metadata": {},
   "source": [
    "for vectors (those with an upper index), and the form:"
   ]
  },
  {
   "cell_type": "markdown",
   "id": "b77163be",
   "metadata": {},
   "source": [
    "$$\n",
    "\\nabla_b V_a = \\frac{\\partial V_a}{\\partial x^b} - V_k \\Gamma^k_{ab}\n",
    "$$"
   ]
  },
  {
   "cell_type": "markdown",
   "id": "738c6a6b",
   "metadata": {},
   "source": [
    "for covectors (those with a lower index). To take the covariant derivative of tensors formed from both vectors and covectors, such as the metric tensor $g_{\\mu \\nu}$, we add a term for each upper index the tensor has and subtract a term for each lower index the tensor has (you'll see how this works in just a moment). For example, for the metric tensor, we first write out the covariant derivative as a partial derivative, plus an unknown term:"
   ]
  },
  {
   "cell_type": "markdown",
   "id": "55d0c646",
   "metadata": {},
   "source": [
    "$$\n",
    "\\nabla_b g_{\\mu \\nu} = \\frac{\\partial g_{\\mu \\nu}}{\\partial x^b} + \\dots\n",
    "$$"
   ]
  },
  {
   "cell_type": "markdown",
   "id": "22b5724a",
   "metadata": {},
   "source": [
    "Then, we notice that the metric tensor has two lower indices, so we need two correction terms. The first correction term is for the index $\\mu$, and the second correction term is for the index $\\nu$. To emphasize which index each correction term is for, there is a little hat on that index:"
   ]
  },
  {
   "cell_type": "markdown",
   "id": "2b2392ac",
   "metadata": {},
   "source": [
    "$$\n",
    "\\nabla_b g_{\\mu \\nu} = \\frac{\\partial g_{\\mu \\nu}}{\\partial x^b} - g_{\\hat \\mu \\nu} A - g_{\\mu \\hat \\nu} B\n",
    "$$"
   ]
  },
  {
   "cell_type": "markdown",
   "id": "33f7afc1",
   "metadata": {},
   "source": [
    "Now comes the slightly bizarre part. We're going to replace whichever index we're interested in (the one with a hat on) with a dummy index $\\alpha$. This is so that the rules of tensor algebra work out such that the covariant derivative transforms like a tensor. So:"
   ]
  },
  {
   "cell_type": "markdown",
   "id": "063853cf",
   "metadata": {},
   "source": [
    "$$\n",
    "\\frac{\\partial g_{\\mu \\nu}}{\\partial x^b} - g_{\\alpha \\nu} A - g_{\\mu \\alpha} B\n",
    "$$"
   ]
  },
  {
   "cell_type": "markdown",
   "id": "d1ea10d3",
   "metadata": {},
   "source": [
    "To figure out the correct index convention for $A$ and $B$, we use the rule that we multiply $\\Gamma^\\alpha_{\\gamma b}$ for each lower index correction term, and multiply $\\Gamma^\\gamma_{\\alpha b}$ for each upper index correction term. Here:\n",
    "\n",
    "- $\\alpha$ is the dummy index we're using\n",
    "- $\\gamma$ is the index of the term we're interested in\n",
    "- $b$ is the index we take the covariant derivative with respect to. \n",
    "\n",
    "So $A = \\Gamma^\\alpha_{\\mu b}$ and $B = \\Gamma^\\alpha_{\\nu b}$. Thus we have:"
   ]
  },
  {
   "cell_type": "markdown",
   "id": "aca5f467",
   "metadata": {},
   "source": [
    "$$\n",
    "\\nabla_b g_{\\mu \\nu} = \\frac{\\partial g_{\\mu \\nu}}{\\partial x^b} - g_{\\alpha \\nu} \\Gamma^\\alpha_{\\mu b} - g_{\\mu \\alpha} \\Gamma^\\alpha_{\\nu b}\n",
    "$$"
   ]
  },
  {
   "cell_type": "markdown",
   "id": "b568777d",
   "metadata": {},
   "source": [
    "Also, it should be noted that \"covariant derivative\" is a bit of a misnomer - here, the definition of the word \"covariant\" pre-dates the idea of contra- and covariant tensors (tensors with upper/lower indices), and referes to the earlier definition of \"invariant\". Thus, the covariant derivative is really just a fancy way of saying a derivative of a tensor that is invariant of the coordinates used."
   ]
  },
  {
   "cell_type": "markdown",
   "id": "3a034089",
   "metadata": {},
   "source": [
    "Lastly, the covariant derivative of a field with respect to the same index as the index of the field is equal to simply the divergence:"
   ]
  },
  {
   "cell_type": "markdown",
   "id": "bd809a30",
   "metadata": {},
   "source": [
    "$$\n",
    "\\nabla_b V^b = \\nabla \\cdot \\vec V\n",
    "$$"
   ]
  },
  {
   "cell_type": "markdown",
   "id": "1a929a0e",
   "metadata": {},
   "source": [
    "## The Riemann tensor"
   ]
  },
  {
   "cell_type": "markdown",
   "id": "e123cd3b",
   "metadata": {},
   "source": [
    "What can we use to measure the curvature of spacetime? We already know that with the covariant derivative, we can take fully-invariant derivatives in spacetime. But if spacetime is to be curved, then if we take a derivative of a vector along direction $\\mu$, then another along direction $\\nu$, we'd expect to get a different result than if we were to take a derivative along direction $\\nu$, then along direction $\\mu$. We can qualitatively describe this as:"
   ]
  },
  {
   "cell_type": "markdown",
   "id": "0a9d9201",
   "metadata": {},
   "source": [
    "$$\n",
    "\\nabla_\\mu \\nabla_\\nu V^\\alpha \\neq \\nabla_\\nu \\nabla_\\mu V^\\alpha\n",
    "$$"
   ]
  },
  {
   "cell_type": "markdown",
   "id": "e17cba99",
   "metadata": {},
   "source": [
    "The difference between the two sets of derivatives is going to tell us how much the curvature of spacetime varies between the two points. So we simply need to compute:"
   ]
  },
  {
   "cell_type": "markdown",
   "id": "9a8052ab",
   "metadata": {},
   "source": [
    "$$\n",
    "\\nabla_\\mu \\nabla_\\nu V^\\alpha - \\nabla_\\nu \\nabla_\\mu V^\\alpha\n",
    "$$"
   ]
  },
  {
   "cell_type": "markdown",
   "id": "718d6055",
   "metadata": {},
   "source": [
    "First, we expand out the covariant derivatives:"
   ]
  },
  {
   "cell_type": "markdown",
   "id": "e8a08217",
   "metadata": {},
   "source": [
    "$$\n",
    "\\nabla_\\mu (\\nabla_\\nu V^\\alpha) - \\nabla_\\nu (\\nabla_\\mu V^\\alpha)\n",
    "$$"
   ]
  },
  {
   "cell_type": "markdown",
   "id": "1c69d4e3",
   "metadata": {},
   "source": [
    "$$\n",
    "\\nabla_\\mu (\\partial_\\nu V^\\alpha + V^\\sigma \\Gamma^\\alpha_{\\sigma \\nu}) - \\nabla_\\nu (\\partial_\\mu V^\\alpha + V^\\sigma \\Gamma^\\alpha_{\\sigma \\mu})\n",
    "$$"
   ]
  },
  {
   "cell_type": "markdown",
   "id": "fe6ac102",
   "metadata": {},
   "source": [
    "Let's take this step by step, and we'll start with the first covariant derivative:"
   ]
  },
  {
   "cell_type": "markdown",
   "id": "954f58b7",
   "metadata": {},
   "source": [
    "$$\n",
    "\\nabla_\\mu (\\partial_\\nu V^\\alpha + V^\\sigma \\Gamma^\\alpha_{\\sigma \\nu})\n",
    "$$"
   ]
  },
  {
   "cell_type": "markdown",
   "id": "8a04f59e",
   "metadata": {},
   "source": [
    "Notice that because $\\sigma$ is a dummy index and contracts, we can rewrite the inside of the parentheses as another tensor:"
   ]
  },
  {
   "cell_type": "markdown",
   "id": "fcbf5d91",
   "metadata": {},
   "source": [
    "$$\n",
    "C^\\alpha_\\nu = \\partial_\\nu V^\\alpha + V^\\sigma \\Gamma^\\alpha_{\\sigma \\nu}\n",
    "$$"
   ]
  },
  {
   "cell_type": "markdown",
   "id": "1bbf0100",
   "metadata": {},
   "source": [
    "If we take the covariant derivative of $C^\\alpha_\\nu$, we know that we have a partial derivative, plus several other correction terms::"
   ]
  },
  {
   "cell_type": "markdown",
   "id": "47466e0d",
   "metadata": {},
   "source": [
    "$$\n",
    "\\nabla_\\mu C^\\alpha_\\nu = \\partial_\\mu C^\\alpha_\\nu + \\dots\n",
    "$$"
   ]
  },
  {
   "cell_type": "markdown",
   "id": "46311f3f",
   "metadata": {},
   "source": [
    "We can write out the remaining correction terms as the tensor multiplied by several coefficients (add correction term if upper index, subtract correction term if lower index), with hats indicating which terms we're interested in:"
   ]
  },
  {
   "cell_type": "markdown",
   "id": "a6925be9",
   "metadata": {},
   "source": [
    "$$\n",
    "\\nabla_\\mu C^\\alpha_\\nu = \\partial_\\mu C^\\alpha_\\nu + C^{\\hat \\alpha}_\\nu A - C^\\alpha_{\\hat \\nu} B\n",
    "$$"
   ]
  },
  {
   "cell_type": "markdown",
   "id": "fbaef060",
   "metadata": {},
   "source": [
    "We replace the hatted indices with our dummy index $\\lambda$ (we chose a new variable so as not to cause confusion with the existing variables):"
   ]
  },
  {
   "cell_type": "markdown",
   "id": "1ce7b798",
   "metadata": {},
   "source": [
    "$$\n",
    "\\nabla_\\mu C^\\alpha_\\nu = \\partial_\\mu C^\\alpha_\\nu + C^\\lambda_\\nu A - C^\\alpha_\\lambda B\n",
    "$$"
   ]
  },
  {
   "cell_type": "markdown",
   "id": "c9ce058d",
   "metadata": {},
   "source": [
    "Using the correction term coefficient rule described earlier for the Christoffel symbols, we recall that:\n",
    "\n",
    "- For an upper index coefficient term we have the dummy index on the bottom and the interested index on the top\n",
    "- For a lower index coefficient term we have the dummy index on top and the interested index on the bottom\n",
    "- The rightmost lower term on the coefficient is always the index we're taking the covariant derivative with respect to (in our case $\\mu$)\n",
    "\n",
    "So we can figure out that $A = \\Gamma^\\alpha_{\\lambda \\mu}$, and $B = \\Gamma^\\lambda_{\\nu \\mu}$. So:"
   ]
  },
  {
   "cell_type": "markdown",
   "id": "b0d36194",
   "metadata": {},
   "source": [
    "$$\n",
    "\\nabla_\\mu C^\\alpha_\\nu = \\partial_\\mu C^\\alpha_\\nu + C^\\lambda_\\nu \\Gamma^\\alpha_{\\lambda \\mu} - C^\\alpha_\\lambda \\Gamma^\\lambda_{\\nu \\mu}\n",
    "$$"
   ]
  },
  {
   "cell_type": "markdown",
   "id": "2f051bdf",
   "metadata": {},
   "source": [
    "But recall that:"
   ]
  },
  {
   "cell_type": "markdown",
   "id": "54ef66f8",
   "metadata": {},
   "source": [
    "$$\n",
    "C^\\alpha_\\nu = \\partial_\\nu V^\\alpha + V^\\sigma \\Gamma^\\alpha_{\\sigma \\nu}\n",
    "$$"
   ]
  },
  {
   "cell_type": "markdown",
   "id": "fa9bcb9f",
   "metadata": {},
   "source": [
    "From which we can perform index substitutions on every index to get:"
   ]
  },
  {
   "cell_type": "markdown",
   "id": "4616d762",
   "metadata": {},
   "source": [
    "$$\n",
    "C^\\lambda_\\nu = \\partial_\\nu V^\\lambda + V^\\sigma \\Gamma^\\lambda_{\\sigma \\nu}\n",
    "$$"
   ]
  },
  {
   "cell_type": "markdown",
   "id": "f1e7e57b",
   "metadata": {},
   "source": [
    "$$\n",
    "C^\\alpha_\\lambda = \\partial_\\lambda V^\\alpha + V^\\sigma \\Gamma^\\alpha_{\\sigma \\lambda}\n",
    "$$"
   ]
  },
  {
   "cell_type": "markdown",
   "id": "2b6da34b",
   "metadata": {},
   "source": [
    "```{note}\n",
    "The last two were obtained by changing the indices $\\alpha \\to \\lambda$ and $\\nu \\to \\lambda$. Shouldn't this be illegal in tensor algebra, where we're not supposed to swap free indices in the same equation? There is a nuance here - we can swap free indices **only** if we subtitute each and every index with a corresponding different index. That, is, if you have an equation $x^i = g^{ij} b_j$, you can't simply say \"I want to swap $j \\to i$ and make the equation $x^i = g^{ii} b_i$\". Here, you're selectively substituting $j \\to i$ without making a substitution for $i$, so the equation is wrong! But you can say that \"I'll rewrite the equation using different indices, substituting $i \\to a$ and $j \\to b$, so I have $x^a = g^{ab} b_b$\". Since we swapped _every_ index with a _unique_ different index, this is acceptable.\n",
    "```"
   ]
  },
  {
   "cell_type": "markdown",
   "id": "d2d617d1",
   "metadata": {},
   "source": [
    "We can therefore rewrite the covariant derivative of $C^\\alpha_\\nu$ as:"
   ]
  },
  {
   "cell_type": "markdown",
   "id": "431ec605",
   "metadata": {},
   "source": [
    "$$\n",
    "\\nabla_\\mu C^\\alpha_\\nu = \\partial_\\mu (\\partial_\\nu V^\\alpha + V^\\sigma \\Gamma^\\alpha_{\\sigma \\nu}) + (\\partial_\\nu V^\\lambda + V^\\sigma \\Gamma^\\lambda_{\\sigma \\nu}) \\Gamma^\\alpha_{\\lambda \\mu} - (\\partial_\\lambda V^\\alpha + V^\\sigma \\Gamma^\\alpha_{\\sigma \\lambda}) \\Gamma^\\lambda_{\\nu \\mu}\n",
    "$$"
   ]
  },
  {
   "cell_type": "markdown",
   "id": "a337b333",
   "metadata": {},
   "source": [
    "Be careful! The second and third terms are just products, but the first term is a derivative, so we have to use the product rule to expand - $\\partial_\\mu (\\partial_\\nu V^\\alpha + V^\\sigma \\Gamma^\\alpha_{\\sigma \\nu}) = \\partial_\\mu \\partial_\\nu V^\\alpha + \\partial_\\mu (V^\\sigma \\Gamma^\\alpha_{\\sigma \\nu})$. Using that, and expanding the rest of the terms out, we get:"
   ]
  },
  {
   "cell_type": "markdown",
   "id": "c4777136",
   "metadata": {},
   "source": [
    "$$\n",
    "\\nabla_\\mu \\nabla_\\nu V^\\alpha = \\nabla_\\mu C^\\alpha_\\nu = \\partial_\\mu \\partial_\\nu V^\\alpha + \\partial_\\mu (V^\\sigma \\Gamma^\\alpha_{\\sigma \\nu}) + \\Gamma^\\alpha_{\\lambda \\mu} \\partial_\\nu V^\\lambda + V^\\sigma \\Gamma^\\lambda_{\\sigma \\nu} \\Gamma^\\alpha_{\\lambda \\mu} - \\partial_\\lambda V^\\alpha \\Gamma^\\lambda_{\\nu \\mu} - V^\\sigma \\Gamma^\\alpha_{\\sigma \\lambda} \\Gamma^\\lambda_{\\nu \\mu}\n",
    "$$"
   ]
  },
  {
   "cell_type": "markdown",
   "id": "bd19a7b5",
   "metadata": {},
   "source": [
    "Phew! We're almost there, just hang in there for the remaining derivation. Good news! Things are going to look simpler from this point on. We've already solved the left double covariant derivative, $\\nabla_\\mu \\nabla_\\nu V^\\alpha$. The right double covariant derivative is just the left double covariant derivative with an index swap $\\mu \\leftrightarrow \\nu$ (that means every time we see a $\\mu$, we replace it with a $\\nu$, and every time we see a $\\nu$, we replace it with a $\\mu$). So it is:"
   ]
  },
  {
   "cell_type": "markdown",
   "id": "2ce4ffae",
   "metadata": {},
   "source": [
    "$$\n",
    "\\nabla_\\nu \\nabla_\\mu V^\\alpha = \n",
    "\\partial_\\nu \\partial_\\mu V^\\alpha + \\partial_\\nu (V^\\sigma \\Gamma^\\alpha_{\\sigma \\mu}) + \\Gamma^\\alpha_{\\lambda \\nu} \\partial_\\mu V^\\lambda + V^\\sigma \\Gamma^\\lambda_{\\sigma \\mu} \\Gamma^\\alpha_{\\lambda \\nu} - \\partial_\\lambda V^\\alpha \\Gamma^\\lambda_{\\mu \\nu} - V^\\sigma \\Gamma^\\alpha_{\\sigma \\lambda} \\Gamma^\\lambda_{\\mu \\nu}\n",
    "$$"
   ]
  },
  {
   "cell_type": "markdown",
   "id": "f5c3fa46",
   "metadata": {},
   "source": [
    "Now is the glorious part - when we subtract one from the other, the terms cancel each other out. Because second partial derivatives are equal no matter what order you take them, $\\partial_\\mu \\partial_\\nu = \\partial_\\nu \\partial_\\mu$, so those cancel. The last two terms are identical for both (given the symmetry of the Christoffel symbols, so they cancel as well. We're left with:"
   ]
  },
  {
   "cell_type": "markdown",
   "id": "9b4318bf",
   "metadata": {},
   "source": [
    "$$\n",
    "\\nabla_\\mu \\nabla_\\nu V^\\alpha - \\nabla_\\nu \\nabla_\\mu V^\\alpha = (\\partial_\\mu (V^\\sigma \\Gamma^\\alpha_{\\sigma \\nu}) + \\Gamma^\\alpha_{\\lambda \\mu} \\partial_\\nu V^\\lambda - V^\\sigma \\Gamma^\\lambda_{\\sigma \\nu} \\Gamma^\\alpha_{\\lambda \\mu}) - (\\partial_\\nu (V^\\sigma \\Gamma^\\alpha_{\\sigma \\mu}) + \\Gamma^\\alpha_{\\lambda \\nu} \\partial_\\mu V^\\lambda - V^\\sigma \\Gamma^\\lambda_{\\sigma \\mu} \\Gamma^\\alpha_{\\lambda \\nu})\n",
    "$$"
   ]
  },
  {
   "cell_type": "markdown",
   "id": "fc53ed3f",
   "metadata": {},
   "source": [
    "Notice a third less obvious cancellation where $\\partial_\\mu (V^\\sigma \\Gamma^\\alpha_{\\sigma \\nu}) = \\partial_\\mu V^\\sigma \\Gamma^\\alpha_{\\sigma \\nu} + \\partial_\\mu \\Gamma^\\alpha_{\\sigma \\nu} V^\\sigma$ which cancels out $\\Gamma^\\alpha_{\\lambda \\nu} \\partial_\\mu V^\\lambda$ on the right (because dummy indices don't matter). This simplifies the expression to:"
   ]
  },
  {
   "cell_type": "markdown",
   "id": "892b394e",
   "metadata": {},
   "source": [
    "$$\n",
    "\\nabla_\\mu \\nabla_\\nu V^\\alpha - \\nabla_\\nu \\nabla_\\mu V^\\alpha = \\partial_\\mu \\Gamma^\\alpha_{\\sigma \\nu} V^\\sigma - \\partial_\\nu \\Gamma^\\alpha_{\\sigma \\mu} V^\\sigma + V^\\sigma \\Gamma^\\lambda_{\\sigma \\nu} \\Gamma^\\alpha_{\\lambda \\mu} - V^\\sigma \\Gamma^\\lambda_{\\sigma \\mu} \\Gamma^\\alpha_{\\lambda \\nu}\n",
    "$$"
   ]
  },
  {
   "cell_type": "markdown",
   "id": "352e6e45",
   "metadata": {},
   "source": [
    "We can now finally (!!!) factor out the $V^\\sigma$ from the expression, to get:"
   ]
  },
  {
   "cell_type": "markdown",
   "id": "87970f5e",
   "metadata": {},
   "source": [
    "$$\n",
    "\\nabla_\\mu \\nabla_\\nu V^\\alpha - \\nabla_\\nu \\nabla_\\mu V^\\alpha = V^\\sigma [\\partial_\\mu \\Gamma^\\alpha_{\\sigma \\nu} - \\partial_\\nu \\Gamma^\\alpha_{\\sigma \\mu} + \\Gamma^\\lambda_{\\sigma \\nu} \\Gamma^\\alpha_{\\lambda \\mu} -  \\Gamma^\\lambda_{\\sigma \\mu} \\Gamma^\\alpha_{\\lambda \\nu}]\n",
    "$$"
   ]
  },
  {
   "cell_type": "markdown",
   "id": "f02bdfe4",
   "metadata": {},
   "source": [
    "The term in the brackets can be written as a new tensor:"
   ]
  },
  {
   "cell_type": "markdown",
   "id": "7a8e8321",
   "metadata": {},
   "source": [
    "$$\n",
    "R^\\alpha_{\\sigma \\mu \\nu} = \\partial_\\mu \\Gamma^\\alpha_{\\sigma \\nu} - \\partial_\\nu \\Gamma^\\alpha_{\\sigma \\mu} + \\Gamma^\\lambda_{\\sigma \\nu} \\Gamma^\\alpha_{\\lambda \\mu} - \\Gamma^\\lambda_{\\sigma \\mu} \\Gamma^\\alpha_{\\lambda \\nu}\n",
    "$$"
   ]
  },
  {
   "cell_type": "markdown",
   "id": "747ef55d",
   "metadata": {},
   "source": [
    "The is the **Riemann curvature tensor**, and it measures how vectors diverge due to the curvature of space. It is a monster tensor - it has 256 components in 4D space, making it a $4 \\times 4 \\times 4 \\times 4$ matrix."
   ]
  },
  {
   "cell_type": "markdown",
   "id": "d5c10b3a",
   "metadata": {},
   "source": [
    "To make this tensor easier to work with, we often contract it by making the 1st and 3rd indices identical, creating the **Ricci tensor**, which is defined by:"
   ]
  },
  {
   "cell_type": "markdown",
   "id": "5b331185",
   "metadata": {},
   "source": [
    "$$\n",
    "R_{\\sigma \\nu} = R^\\mu_{\\sigma \\mu \\nu} = \\partial_\\mu \\Gamma^\\mu_{\\sigma \\nu} - \\partial_\\nu \\Gamma^\\mu_{\\sigma \\mu} + \\Gamma^\\lambda_{\\sigma \\nu} \\Gamma^\\mu_{\\lambda \\mu} - \\Gamma^\\lambda_{\\sigma \\mu} \\Gamma^\\mu_{\\lambda \\nu}\n",
    "$$"
   ]
  },
  {
   "cell_type": "markdown",
   "id": "7cdb0909",
   "metadata": {},
   "source": [
    "We can further contract the Ricci tensor by multiplying it by the inverse metric, giving the **Ricci scalar**:"
   ]
  },
  {
   "cell_type": "markdown",
   "id": "edf1f4f4",
   "metadata": {},
   "source": [
    "$$\n",
    "R = g^{\\mu \\nu} R_{\\mu \\nu}\n",
    "$$"
   ]
  },
  {
   "cell_type": "markdown",
   "id": "6a6092d0",
   "metadata": {},
   "source": [
    "We now have all the tensors we need to derive the ultimate equation - the **Einstein Field Equations**."
   ]
  }
 ],
 "metadata": {
  "kernelspec": {
   "display_name": "Python 3 (ipykernel)",
   "language": "python",
   "name": "python3"
  },
  "language_info": {
   "codemirror_mode": {
    "name": "ipython",
    "version": 3
   },
   "file_extension": ".py",
   "mimetype": "text/x-python",
   "name": "python",
   "nbconvert_exporter": "python",
   "pygments_lexer": "ipython3",
   "version": "3.11.4"
  }
 },
 "nbformat": 4,
 "nbformat_minor": 5
}
