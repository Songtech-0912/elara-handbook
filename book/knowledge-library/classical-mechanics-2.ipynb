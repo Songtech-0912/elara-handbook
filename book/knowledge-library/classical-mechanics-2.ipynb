{
 "cells": [
  {
   "cell_type": "markdown",
   "id": "f632ce6e",
   "metadata": {},
   "source": [
    "# Classical mechanics, Part 2"
   ]
  },
  {
   "cell_type": "markdown",
   "id": "e8561a02",
   "metadata": {},
   "source": [
    "Newton's laws and conservation of energy are two approaches to solving for the equations of motion of an object. We can make Newtonian mechanics more elegant by extending them to fields and potentials. But ultimately, Newtonian mechanics is still cumbersome to use. Here is an alternate, more beautiful approach - Lagrangian mechanics."
   ]
  },
  {
   "cell_type": "markdown",
   "id": "f913251d",
   "metadata": {},
   "source": [
    "## Lagrangian Mechanics"
   ]
  },
  {
   "cell_type": "markdown",
   "id": "084c8ada",
   "metadata": {},
   "source": [
    "The **Lagrangian** is the difference of an object's kinetic and potential energies, and is denoted by:"
   ]
  },
  {
   "cell_type": "markdown",
   "id": "8ba3f96b",
   "metadata": {},
   "source": [
    "$$\n",
    "\\mathcal{L(x, \\dot x)} = K(\\dot x) - U(x)\n",
    "$$"
   ]
  },
  {
   "cell_type": "markdown",
   "id": "c7479331",
   "metadata": {},
   "source": [
    "Note that the dots are used for the time derivatives - that is, $\\dot x = \\frac{dx}{dt}$."
   ]
  },
  {
   "cell_type": "markdown",
   "id": "e7d5aff1",
   "metadata": {},
   "source": [
    "The **action** is the time integral of the Lagrangian:"
   ]
  },
  {
   "cell_type": "markdown",
   "id": "e350bb07",
   "metadata": {},
   "source": [
    "$$\n",
    "S = \\int_{t_1}^{t_2} \\mathcal{L}(x, \\dot x)~dt\n",
    "$$"
   ]
  },
  {
   "cell_type": "markdown",
   "id": "0b171914",
   "metadata": {},
   "source": [
    "The **principle of stationary action** is one of the most fundamental and profound laws of physics, and states that for any given system, the action is stationary. What does stationary mean? Recall the idea of stationary _points_ in calculus - which include minima and maxima. For the action to be stationary, that means the Lagrangian must be a stationary _function_, which are analogous to stationary points, just for the action, which is a function of functions."
   ]
  },
  {
   "cell_type": "markdown",
   "id": "af206617",
   "metadata": {},
   "source": [
    "But what form does that Lagrangian have to take to obey the principle of stationary action? The short answer is that it must obey the following equation, known as the **Euler-Lagrange equation**:  "
   ]
  },
  {
   "cell_type": "markdown",
   "id": "4f7cd98c",
   "metadata": {},
   "source": [
    "$$\n",
    "\\frac{\\partial \\mathcal{L}}{\\partial x} - \\frac{d}{dt} \\frac{\\partial \\mathcal{L}}{\\partial \\dot x} = 0\n",
    "$$"
   ]
  },
  {
   "cell_type": "markdown",
   "id": "88fa9461",
   "metadata": {},
   "source": [
    "We will derive this differential equation in the following section - if this section is too math-heavy, feel free to skip this section."
   ]
  },
  {
   "cell_type": "markdown",
   "id": "03d9e3f1",
   "metadata": {},
   "source": [
    "To begin our derivation, we first go back to single-variable calculus, where we are often told to find the stationary points - such as the maxima or minima - of a function. Both maxima and minima are called **stationary points** - points where the derivative of a function is zero. But what exactly defines a stationary point? Let's take a step back first. We know that the derivative is defined as the limit as $\\epsilon \\to 0$ of:"
   ]
  },
  {
   "cell_type": "markdown",
   "id": "8ab2f6e3",
   "metadata": {},
   "source": [
    "$$\n",
    "f'(x) = \\frac{f(x + \\epsilon) - f(x)}{\\epsilon}\n",
    "$$"
   ]
  },
  {
   "cell_type": "markdown",
   "id": "a84e4348",
   "metadata": {},
   "source": [
    "We can rearrange that equation to form:"
   ]
  },
  {
   "cell_type": "markdown",
   "id": "adcc811a",
   "metadata": {},
   "source": [
    "$$\n",
    "f(x + \\epsilon) = f(x) + \\epsilon f'(x)\n",
    "$$"
   ]
  },
  {
   "cell_type": "markdown",
   "id": "ed10f1b4",
   "metadata": {},
   "source": [
    "For a point to be stationary, we know that $f'(x)$ must be zero. Thus:"
   ]
  },
  {
   "cell_type": "markdown",
   "id": "aafece14",
   "metadata": {},
   "source": [
    "$$\n",
    "f(x + \\epsilon) = f(x)\n",
    "$$"
   ]
  },
  {
   "cell_type": "markdown",
   "id": "baa258a3",
   "metadata": {},
   "source": [
    "which means that at a stationary point, the function remains the same so long as you remain within a small distance $\\epsilon$ away from the point. We denote a new notation, $\\delta$, which we call the **variation**, and which we define as:"
   ]
  },
  {
   "cell_type": "markdown",
   "id": "1bd66e52",
   "metadata": {},
   "source": [
    "$$\n",
    "\\delta f = f(x + \\epsilon) - f(x)\n",
    "$$"
   ]
  },
  {
   "cell_type": "markdown",
   "id": "156dc807",
   "metadata": {},
   "source": [
    "Normally, since $f(x + \\epsilon) = f(x) + \\epsilon f'(x)$, it would be true that:"
   ]
  },
  {
   "cell_type": "markdown",
   "id": "35aef23e",
   "metadata": {},
   "source": [
    "$$\n",
    "\\delta f = [f(x) + \\epsilon f'(x)] - f(x) = \\epsilon f'(x)\n",
    "$$"
   ]
  },
  {
   "cell_type": "markdown",
   "id": "798ffe59",
   "metadata": {},
   "source": [
    "But because $f(x + \\epsilon) = f(x)$ at a _stationary_ point, $f(x + \\epsilon) - f(x) = 0$, so at any stationary point, it is true that:"
   ]
  },
  {
   "cell_type": "markdown",
   "id": "0311afd9",
   "metadata": {},
   "source": [
    "$$\n",
    "\\delta f = 0\n",
    "$$"
   ]
  },
  {
   "cell_type": "markdown",
   "id": "9e4154f0",
   "metadata": {},
   "source": [
    "```{note}\n",
    "$\\delta f = \\epsilon f'(x)$ is still true at a stationary point, but since $f'(x) = 0$ at a stationary point, $\\delta f = \\epsilon \\cdot 0 = 0$. So you can arrive at the result $\\delta f = 0$ at all stationary points using either method.\n",
    "```"
   ]
  },
  {
   "cell_type": "markdown",
   "id": "88f67679",
   "metadata": {},
   "source": [
    "Now, we return to the action:"
   ]
  },
  {
   "cell_type": "markdown",
   "id": "6e1f70af",
   "metadata": {},
   "source": [
    "$$\n",
    "S = \\int \\limits_a^b \\mathcal{L}(x, \\dot x)~dt\n",
    "$$"
   ]
  },
  {
   "cell_type": "markdown",
   "id": "d5c89b00",
   "metadata": {},
   "source": [
    "We demand that the action must be stationary:"
   ]
  },
  {
   "cell_type": "markdown",
   "id": "2bcb324a",
   "metadata": {},
   "source": [
    "$$\n",
    "\\delta S = 0\n",
    "$$"
   ]
  },
  {
   "cell_type": "markdown",
   "id": "9d3464e6",
   "metadata": {},
   "source": [
    "Which also means that:"
   ]
  },
  {
   "cell_type": "markdown",
   "id": "f8b79e12",
   "metadata": {},
   "source": [
    "$$\n",
    "\\int \\limits_a^b \\delta \\mathcal{L}(x, \\dot x)~dt = 0\n",
    "$$"
   ]
  },
  {
   "cell_type": "markdown",
   "id": "a6a9fd37",
   "metadata": {},
   "source": [
    "Recall that in the single-variable case, we have:"
   ]
  },
  {
   "cell_type": "markdown",
   "id": "bac78ad3",
   "metadata": {},
   "source": [
    "$$\n",
    "\\delta f = \\epsilon f'(x)\n",
    "$$"
   ]
  },
  {
   "cell_type": "markdown",
   "id": "657ad70c",
   "metadata": {},
   "source": [
    "In the multivariable case, the derivative is replaced by partial derivatives. So we can rewrite the variation of $\\mathcal{L}$ as:"
   ]
  },
  {
   "cell_type": "markdown",
   "id": "6f008246",
   "metadata": {},
   "source": [
    "$$\n",
    "\\int \\limits_a^b \\delta \\mathcal{L}(x, \\dot x)~dt = \\int \\limits_a^b \\epsilon \\frac{\\partial \\mathcal{L}}{\\partial x} + \\dot \\epsilon \\frac{\\partial \\mathcal{L}}{\\partial \\dot x}~dt\n",
    "$$"
   ]
  },
  {
   "cell_type": "markdown",
   "id": "2054f66d",
   "metadata": {},
   "source": [
    "We can split apart this integral to get:"
   ]
  },
  {
   "cell_type": "markdown",
   "id": "d939bded",
   "metadata": {},
   "source": [
    "$$\n",
    "\\int \\limits_a^b \\epsilon \\frac{\\partial \\mathcal{L}}{\\partial x}~dt + \\int \\limits_a^b \\frac{\\partial \\mathcal{L}}{\\partial \\dot x} \\frac{d\\epsilon}{dt}~dt\n",
    "$$"
   ]
  },
  {
   "cell_type": "markdown",
   "id": "29650141",
   "metadata": {},
   "source": [
    "We now can use integration by parts on the second integral. Set:"
   ]
  },
  {
   "cell_type": "markdown",
   "id": "f94d54a5",
   "metadata": {},
   "source": [
    "$$\n",
    "u = \\frac{\\partial \\mathcal{L}}{\\partial \\dot x}\n",
    "$$\n",
    "\n",
    "$$\n",
    "dv = \\frac{d\\epsilon}{dt}\n",
    "$$\n",
    "\n",
    "$$\n",
    "v = \\epsilon\n",
    "$$"
   ]
  },
  {
   "cell_type": "markdown",
   "id": "ac801d6d",
   "metadata": {},
   "source": [
    "Therefore:"
   ]
  },
  {
   "cell_type": "markdown",
   "id": "fdcea97c",
   "metadata": {},
   "source": [
    "$$\n",
    "du = \\frac{d}{dt} \\frac{\\partial \\mathcal{L}}{\\partial \\dot x} dt\n",
    "$$\n",
    "\n",
    "$$\n",
    "v = \\int dv = \\epsilon\n",
    "$$"
   ]
  },
  {
   "cell_type": "markdown",
   "id": "3955669d",
   "metadata": {},
   "source": [
    "And using the integration by parts formula:"
   ]
  },
  {
   "cell_type": "markdown",
   "id": "88b02c38",
   "metadata": {},
   "source": [
    "$$\n",
    "\\int \\limits_a^b  u~dv = uv \\bigg |_a^b - \\int \\limits_a^b  v~du\n",
    "$$"
   ]
  },
  {
   "cell_type": "markdown",
   "id": "2f94466c",
   "metadata": {},
   "source": [
    "The second term becomes:"
   ]
  },
  {
   "cell_type": "markdown",
   "id": "0c65bf7e",
   "metadata": {},
   "source": [
    "$$\n",
    "\\epsilon \\frac{\\partial \\mathcal{L}}{\\partial \\dot x} \\bigg |_a^b - \\int \\limits_a^b \\epsilon \\frac{d}{dt} \\frac{\\partial \\mathcal{L}}{\\partial \\dot x}~dt\n",
    "$$"
   ]
  },
  {
   "cell_type": "markdown",
   "id": "1e702dd4",
   "metadata": {},
   "source": [
    "But remember, since we are evaluating at a stationary function (not stationary point, stationary function, as the action is a function of functions), all the derivatives of $\\mathcal{L}$ go to zero, so $\\epsilon \\frac{\\partial \\mathcal{L}}{\\partial \\dot x} \\bigg |_a^b$ is zero and can be cancelled out. Therefore, the second term is just:"
   ]
  },
  {
   "cell_type": "markdown",
   "id": "ac83e411",
   "metadata": {},
   "source": [
    "$$\n",
    "- \\int \\limits_a^b \\epsilon \\frac{d}{dt} \\frac{\\partial \\mathcal{L}}{\\partial \\dot x}~dt\n",
    "$$"
   ]
  },
  {
   "cell_type": "markdown",
   "id": "fe9dad55",
   "metadata": {},
   "source": [
    "Let's put the second term and the first term back together:"
   ]
  },
  {
   "cell_type": "markdown",
   "id": "23df278e",
   "metadata": {},
   "source": [
    "$$\n",
    "\\int \\limits_a^b \\epsilon \\frac{\\partial \\mathcal{L}}{\\partial x}~dt - \\int \\limits_a^b \\epsilon \\frac{d}{dt}\\frac{\\partial \\mathcal{L}}{\\partial \\dot x}~dt\n",
    "$$"
   ]
  },
  {
   "cell_type": "markdown",
   "id": "c77029c8",
   "metadata": {},
   "source": [
    "Since they are with respect to the same variable, we can recombine these two integrals:"
   ]
  },
  {
   "cell_type": "markdown",
   "id": "55d0371e",
   "metadata": {},
   "source": [
    "$$\n",
    "\\int \\limits_a^b \\epsilon \\frac{\\partial \\mathcal{L}}{\\partial x}~dt - \\epsilon \\frac{d}{dt} \\frac{\\partial \\mathcal{L}}{\\partial \\dot x}~dt\n",
    "$$"
   ]
  },
  {
   "cell_type": "markdown",
   "id": "4ab41b65",
   "metadata": {},
   "source": [
    "And we can factor out the epsilon:"
   ]
  },
  {
   "cell_type": "markdown",
   "id": "bfdadebe",
   "metadata": {},
   "source": [
    "$$\n",
    "\\int \\limits_a^b \\left(\\frac{\\partial \\mathcal{L}}{\\partial x} - \\frac{d}{dt} \\frac{\\partial \\mathcal{L}}{\\partial \\dot x} \\right) \\epsilon~dt\n",
    "$$"
   ]
  },
  {
   "cell_type": "markdown",
   "id": "128b97fc",
   "metadata": {},
   "source": [
    "But remember, $\\delta S = 0$, so:"
   ]
  },
  {
   "cell_type": "markdown",
   "id": "cb032a3b",
   "metadata": {},
   "source": [
    "$$\n",
    "\\int \\limits_a^b \\left(\\frac{\\partial \\mathcal{L}}{\\partial x} - \\frac{d}{dt} \\frac{\\partial \\mathcal{L}}{\\partial \\dot x} \\right) \\epsilon~dt = 0\n",
    "$$"
   ]
  },
  {
   "cell_type": "markdown",
   "id": "cee2d8d6",
   "metadata": {},
   "source": [
    "And the only way for the equation to be true is if:"
   ]
  },
  {
   "cell_type": "markdown",
   "id": "4f363dff",
   "metadata": {},
   "source": [
    "$$\n",
    "\\frac{\\partial \\mathcal{L}}{\\partial x} - \\frac{d}{dt} \\frac{\\partial \\mathcal{L}}{\\partial \\dot x} = 0\n",
    "$$"
   ]
  },
  {
   "cell_type": "markdown",
   "id": "321df9a3",
   "metadata": {},
   "source": [
    "This is the **Euler-Lagrange equation**, and it can be used to solve for the equations of motion as long as the Lagrangian is known."
   ]
  },
  {
   "cell_type": "markdown",
   "id": "042fe7e4",
   "metadata": {},
   "source": [
    "Note that for a more general set of coordinate systems, where the system is not one-dimensional motion along the $x$ axis, the Euler-Lagrange equation takes the form:"
   ]
  },
  {
   "cell_type": "markdown",
   "id": "712485c4",
   "metadata": {},
   "source": [
    "$$\n",
    "\\frac{d}{dt} \\frac{\\partial \\mathcal{L}}{\\partial \\dot q_i} - \\frac{\\partial \\mathcal{L}}{\\partial q_i} = 0\n",
    "$$"
   ]
  },
  {
   "cell_type": "markdown",
   "id": "6575bb55",
   "metadata": {},
   "source": [
    "And specifically when we are interested in solving for the motion of a system, and not just of one individual object, it should be noted that the kinetic and potential energies are those of the **system** - that is, the sum of the kinetic and potential energies of every object in the system:"
   ]
  },
  {
   "cell_type": "markdown",
   "id": "d71fce2e",
   "metadata": {},
   "source": [
    "$$\n",
    "K = \\sum_i K_i = K_1 + K_2 + K_3 + \\dots + K_n\n",
    "$$\n",
    "\n",
    "$$\n",
    "U = \\sum_i U_i = U_1 + U_2 + U_3 + \\dots + U_n\n",
    "$$"
   ]
  },
  {
   "cell_type": "markdown",
   "id": "7a1bd47a",
   "metadata": {},
   "source": [
    "Note that the Euler-Lagrange equations apply primarily to closed systems, i.e. systems with no external force acting on them. If there is an external applied force on the system that does work $W$, then the Euler-Lagrange equations become:"
   ]
  },
  {
   "cell_type": "markdown",
   "id": "3c35a388",
   "metadata": {},
   "source": [
    "$$\n",
    "\\frac{d}{dt} \\frac{\\partial \\mathcal{L}}{\\partial \\dot q_i} - \\frac{\\partial \\mathcal{L}}{\\partial q_i} = \\frac{\\partial W}{\\partial q_i}\n",
    "$$"
   ]
  },
  {
   "cell_type": "markdown",
   "id": "9becb30d",
   "metadata": {},
   "source": [
    "### Using Lagrangian mechanics to solve the harmonic oscillator"
   ]
  },
  {
   "cell_type": "markdown",
   "id": "803e51fd",
   "metadata": {},
   "source": [
    "```{image} ../images/raster/simple-oscillator.png\n",
    ":alt: Simple oscillator\n",
    ":width: 400px\n",
    ":align: center\n",
    "```"
   ]
  },
  {
   "cell_type": "markdown",
   "id": "e19e5700",
   "metadata": {},
   "source": [
    "For the single pendulum problem, we first find the equations $x(t)$ and $y(t)$ given our coordinate system. Our coordinate system is based on the point $(0, 0)$ located at the point where the pendulum is attached to the ceiling. Using basic trigonometry, we find that:"
   ]
  },
  {
   "cell_type": "markdown",
   "id": "80699850",
   "metadata": {},
   "source": [
    "$$\n",
    "x(t) = \\ell \\sin \\theta (t)\n",
    "$$\n",
    "\n",
    "$$\n",
    "y(t) = -\\ell \\cos \\theta (t)\n",
    "$$"
   ]
  },
  {
   "cell_type": "markdown",
   "id": "2455a02e",
   "metadata": {},
   "source": [
    "Where $y(t)$ is negative because the pendulum is at a negative height relative to our origin. Using our expressions for $x(t)$ and $y(t)$, we want to find the expression for the kinetic energy $K$. We know that:"
   ]
  },
  {
   "cell_type": "markdown",
   "id": "2f1c32a0",
   "metadata": {},
   "source": [
    "$$\n",
    "K = \\frac{1}{2} mv^2\n",
    "$$"
   ]
  },
  {
   "cell_type": "markdown",
   "id": "42b0eecc",
   "metadata": {},
   "source": [
    "And that:"
   ]
  },
  {
   "cell_type": "markdown",
   "id": "de875cc6",
   "metadata": {},
   "source": [
    "$$\n",
    "v = \\sqrt{v_x^2 + v_y^2} = \\sqrt{\\left(\\frac{dx}{dt}\\right)^2 + \\left(\\frac{dy}{dt}\\right)^2}\n",
    "$$"
   ]
  },
  {
   "cell_type": "markdown",
   "id": "5e024bbc",
   "metadata": {},
   "source": [
    "To do this, we solve for $\\frac{dx}{dt}$ and $\\frac{dy}{dt}$. This takes a bit of care, because we need to implicitly differentiate $x(t)$ and $y(t)$ with respect to $t$, where:"
   ]
  },
  {
   "cell_type": "markdown",
   "id": "0eceda5a",
   "metadata": {},
   "source": [
    "$$\n",
    "\\frac{dx}{dt} = \\frac{dx}{d\\theta} \\frac{d\\theta}{dt}\n",
    "$$"
   ]
  },
  {
   "cell_type": "markdown",
   "id": "c2f9dee1",
   "metadata": {},
   "source": [
    "$$\n",
    "\\frac{dy}{dt} = \\frac{dy}{d\\theta} \\frac{d\\theta}{dt}\n",
    "$$"
   ]
  },
  {
   "cell_type": "markdown",
   "id": "50634b1a",
   "metadata": {},
   "source": [
    "Implicitly differentiating, we have:"
   ]
  },
  {
   "cell_type": "markdown",
   "id": "f21c20d9",
   "metadata": {},
   "source": [
    "$$\n",
    "v_x = \\frac{dx}{dt} = \\ell \\cos \\theta \\frac{d\\theta}{dt}\n",
    "$$\n",
    "\n",
    "$$\n",
    "v_y = \\frac{dy}{dt} = \\ell \\sin \\theta \\frac{d\\theta}{dt}\n",
    "$$"
   ]
  },
  {
   "cell_type": "markdown",
   "id": "936a0900",
   "metadata": {},
   "source": [
    "Now, we plug our values for $v_x$ and $v_y$ into the kinetic energy equation, which gives us:"
   ]
  },
  {
   "cell_type": "markdown",
   "id": "7b5d04b7",
   "metadata": {},
   "source": [
    "$$\n",
    "K = \\frac{1}{2} m \\left(\\ell^2 \\cos^2 \\theta \\frac{d\\theta}{dt} + \\ell^2 \\sin^2 \\theta \\frac{d\\theta}{dt}\\right)\n",
    "$$"
   ]
  },
  {
   "cell_type": "markdown",
   "id": "263d3e96",
   "metadata": {},
   "source": [
    "If we do a little simplification by factoring and remembering that $\\cos^2 \\theta + \\sin^2 \\theta = 1$, we get:"
   ]
  },
  {
   "cell_type": "markdown",
   "id": "ae0fe6e3",
   "metadata": {},
   "source": [
    "$$\n",
    "K = \\frac{1}{2} m \\ell^2 \\left(\\frac{d\\theta}{dt}\\right)^2\n",
    "$$"
   ]
  },
  {
   "cell_type": "markdown",
   "id": "bfdd3547",
   "metadata": {},
   "source": [
    "Now we find the potential energy. Remember that close to Earth, the potential energy is determined by and only by the vertical distance between the origin (which is the reference height of zero) and the measured point. This means that:"
   ]
  },
  {
   "cell_type": "markdown",
   "id": "a527ff44",
   "metadata": {},
   "source": [
    "$$\n",
    "U = mgh\n",
    "$$"
   ]
  },
  {
   "cell_type": "markdown",
   "id": "d67f3949",
   "metadata": {},
   "source": [
    "The height in this case is negative (because it's below the origin) and we're only taking the vertical component of the height (hence $\\cos \\theta$) so:"
   ]
  },
  {
   "cell_type": "markdown",
   "id": "7ef04d68",
   "metadata": {},
   "source": [
    "$$\n",
    "U = -mg \\cos \\theta \\ell\n",
    "$$"
   ]
  },
  {
   "cell_type": "markdown",
   "id": "18921591",
   "metadata": {},
   "source": [
    "Putting it all together, our Lagrangian is:"
   ]
  },
  {
   "cell_type": "markdown",
   "id": "eeaf1a0d",
   "metadata": {},
   "source": [
    "$$\n",
    "\\mathcal{L} = \\frac{1}{2} m \\ell^2 \\left(\\frac{d\\theta}{dt}\\right)^2 + mg \\cos \\theta \\ell\n",
    "$$"
   ]
  },
  {
   "cell_type": "markdown",
   "id": "ed2f1aaa",
   "metadata": {},
   "source": [
    "Here, our coordinates are determined in terms of the angle $\\theta$ only, so the Euler-Lagrange equations take the form:"
   ]
  },
  {
   "cell_type": "markdown",
   "id": "7688d25e",
   "metadata": {},
   "source": [
    "$$\n",
    "\\frac{d}{dt} \\frac{\\partial \\mathcal{L}}{\\partial \\dot \\theta} - \\frac{\\partial \\mathcal{L}}{\\partial \\theta} = 0\n",
    "$$"
   ]
  },
  {
   "cell_type": "markdown",
   "id": "8e86dccf",
   "metadata": {},
   "source": [
    "If we plug this into the Euler-Lagrange equation, we get:"
   ]
  },
  {
   "cell_type": "markdown",
   "id": "355d7227",
   "metadata": {},
   "source": [
    "$$\n",
    "m \\frac{d^2 \\theta}{dt^2} \\ell^2 + mg \\sin \\theta \\ell = 0\n",
    "$$"
   ]
  },
  {
   "cell_type": "markdown",
   "id": "70f0258c",
   "metadata": {},
   "source": [
    "We can rewrite this as:"
   ]
  },
  {
   "cell_type": "markdown",
   "id": "6414acc5",
   "metadata": {},
   "source": [
    "$$\n",
    "m \\frac{d^2 \\theta}{dt^2} \\ell^2 = - mg \\sin \\theta \\ell\n",
    "$$"
   ]
  },
  {
   "cell_type": "markdown",
   "id": "cb7aa91e",
   "metadata": {},
   "source": [
    "And cancel out the common factors to yield:"
   ]
  },
  {
   "cell_type": "markdown",
   "id": "03934343",
   "metadata": {},
   "source": [
    "$$\n",
    "\\frac{d^2 \\theta}{dt^2} = - \\frac{g}{\\ell} \\sin \\theta\n",
    "$$"
   ]
  },
  {
   "cell_type": "markdown",
   "id": "56bc5243",
   "metadata": {},
   "source": [
    "We have arrived at our answer. This is the differential equation of the simple pendulum. Note that while this equation is impossible to solve analytically directly, we can use the small-angle approximation of $\\sin \\theta \\approx \\theta$ to get:"
   ]
  },
  {
   "cell_type": "markdown",
   "id": "6ce3da9f",
   "metadata": {},
   "source": [
    "$$\n",
    "\\frac{d^2 \\theta}{dt^2} = -\\frac{g}{\\ell} \\theta\n",
    "$$"
   ]
  },
  {
   "cell_type": "markdown",
   "id": "eb96dd18",
   "metadata": {},
   "source": [
    "Of which the solution is:"
   ]
  },
  {
   "cell_type": "markdown",
   "id": "7cdcd1c4",
   "metadata": {},
   "source": [
    "$$\n",
    "\\theta(t) = \\theta_{max} \\sin \\left(\\sqrt{\\frac{g}{\\ell}}t + \\phi_0 \\right)\n",
    "$$"
   ]
  },
  {
   "cell_type": "markdown",
   "id": "4c987512",
   "metadata": {},
   "source": [
    "### Using Lagrangian mechanics to solve the orbit equation"
   ]
  },
  {
   "cell_type": "markdown",
   "id": "c353d58f",
   "metadata": {},
   "source": [
    "We want to derive the orbit of Earth around the Sun. To do so, we again first derive the expressions for $x(t)$ and $y(t)$ in terms of the solar-earth system:"
   ]
  },
  {
   "cell_type": "markdown",
   "id": "984f7b66",
   "metadata": {},
   "source": [
    "$$\n",
    "x(t) = r(t) \\cos \\theta(t)\n",
    "$$\n",
    "\n",
    "$$\n",
    "y(t) = r(t) \\sin \\theta(t)\n",
    "$$"
   ]
  },
  {
   "cell_type": "markdown",
   "id": "a9ea0da1",
   "metadata": {},
   "source": [
    "Differentiating both (and remembering to use the product rule), we find that:"
   ]
  },
  {
   "cell_type": "markdown",
   "id": "32556d60",
   "metadata": {},
   "source": [
    "$$\n",
    "v_x(t) = \\cos \\theta(t) \\frac{dr}{dt} - r(t) \\sin \\theta (t) \\frac{d\\theta}{dt}\n",
    "$$\n",
    "\n",
    "$$\n",
    "v_y(t) = \\sin \\theta(t) \\frac{dr}{dt} + r(t) \\cos \\theta \\frac{d\\theta}{dt}\n",
    "$$"
   ]
  },
  {
   "cell_type": "markdown",
   "id": "3f8b5e07",
   "metadata": {},
   "source": [
    "Which we can use to find the kinetic energy (after lots of algebra and several passes at using the identity $\\sin^2 \\theta + \\cos^2 \\theta = 1$):"
   ]
  },
  {
   "cell_type": "markdown",
   "id": "c823b31e",
   "metadata": {},
   "source": [
    "$$\n",
    "K = \\frac{1}{2} m \\left[\\left(\\frac{dr}{dt}\\right)^2 + r^2 \\left(\\frac{d\\theta}{dt}\\right)^2\\right]\n",
    "$$"
   ]
  },
  {
   "cell_type": "markdown",
   "id": "ac93b75e",
   "metadata": {},
   "source": [
    "The potential energy is given by $U = -\\frac{GMm}{r}$, so the Lagrangian is:"
   ]
  },
  {
   "cell_type": "markdown",
   "id": "935ae8d1",
   "metadata": {},
   "source": [
    "$$\n",
    "\\mathcal{L} = \\frac{1}{2} m (\\dot r^2 + r^2 \\dot \\theta^2) + \\frac{GMm}{r}\n",
    "$$"
   ]
  },
  {
   "cell_type": "markdown",
   "id": "08b17474",
   "metadata": {},
   "source": [
    "Applying the Euler-Lagrange equations to each coordinate, $r$ and $\\theta$, present in the Lagrangian, we have:"
   ]
  },
  {
   "cell_type": "markdown",
   "id": "c7e263a3",
   "metadata": {},
   "source": [
    "$$\n",
    "\\frac{d}{dt} \\frac{\\partial \\mathcal{L}}{\\partial \\dot r} - \\frac{\\partial \\mathcal{L}}{\\partial r} = 0\n",
    "$$\n",
    "\n",
    "$$\n",
    "\\frac{d}{dt} \\frac{\\partial \\mathcal{L}}{\\partial \\dot \\theta} - \\frac{\\partial \\mathcal{L}}{\\partial \\theta} = 0\n",
    "$$"
   ]
  },
  {
   "cell_type": "markdown",
   "id": "ebbf2a45",
   "metadata": {},
   "source": [
    "Solving both equations yields the equations of motion for the Earth:"
   ]
  },
  {
   "cell_type": "markdown",
   "id": "e18931e7",
   "metadata": {},
   "source": [
    "$$\n",
    "\\frac{d^2 r}{dt^2} = r \\left(\\frac{d\\theta}{dt}\\right)^2 - \\frac{GM}{r^2}\n",
    "$$\n",
    "\n",
    "$$\n",
    "\\frac{d^2 \\theta}{dt^2} = - \\frac{2}{r} \\frac{dr}{dt} \\frac{d\\theta}{dt} \n",
    "$$"
   ]
  },
  {
   "cell_type": "markdown",
   "id": "e4e5b390",
   "metadata": {},
   "source": [
    "These can be solved analytically, but for the sake of simplicity here they will be solved using a numerical differential equation solver:"
   ]
  },
  {
   "cell_type": "code",
   "execution_count": 42,
   "id": "065c08c6",
   "metadata": {},
   "outputs": [],
   "source": [
    "from scipy.integrate import solve_ivp"
   ]
  },
  {
   "cell_type": "code",
   "execution_count": 48,
   "id": "c74334db",
   "metadata": {},
   "outputs": [],
   "source": [
    "def newtonian_d_dt(t, X, G=6.67e-11, M=2e30):\n",
    "    r, theta, u, v = X\n",
    "    dr_dt = u\n",
    "    dtheta_dt = v\n",
    "    du_dt = r * v ** 2 -(G * M) / (r ** 2) \n",
    "    dv_dt = -(2 * u * v) / r\n",
    "    return dr_dt, dtheta_dt, du_dt, dv_dt"
   ]
  },
  {
   "cell_type": "code",
   "execution_count": 49,
   "id": "a9ea9089",
   "metadata": {},
   "outputs": [],
   "source": [
    "r0 = 1.5e11\n",
    "theta0 = np.pi/2\n",
    "u0 = 0\n",
    "v0 = 1.99e-7 # 2pi / 365 days\n",
    "newtonian_initial = [r0, theta0, u0, v0]"
   ]
  },
  {
   "cell_type": "code",
   "execution_count": 50,
   "id": "e08be656",
   "metadata": {},
   "outputs": [],
   "source": [
    "tmax = 365 * 24 * 60 * 60 # 1 year\n",
    "samples = 5000\n",
    "t = np.linspace(0, tmax, samples)\n",
    "newtonian = solve_ivp(newtonian_d_dt, (0, tmax), y0=newtonian_initial, dense_output=True)\n",
    "sol = newtonian.sol(t)"
   ]
  },
  {
   "cell_type": "code",
   "execution_count": 51,
   "id": "d1154b14",
   "metadata": {},
   "outputs": [
    {
     "data": {
      "image/png": "[encoded data removed]",
      "text/plain": [
       "<Figure size 640x480 with 1 Axes>"
      ]
     },
     "metadata": {},
     "output_type": "display_data"
    }
   ],
   "source": [
    "fig = plt.figure()\n",
    "ax = plt.axes()\n",
    "\n",
    "r = sol[0]\n",
    "theta = sol[1]\n",
    "\n",
    "# Convert from polar to cartesian\n",
    "x1 = r * np.cos(theta)\n",
    "y1 = r * np.sin(theta)\n",
    "\n",
    "ax.plot(x1, y1)\n",
    "ax.set_title('Plot of Newtonian orbit')\n",
    "plt.show()"
   ]
  },
  {
   "cell_type": "markdown",
   "id": "a817d9ac",
   "metadata": {},
   "source": [
    "As it can be seen, the orbit is a ellipse, and we have arrived at this result using Lagrangian mechanics!"
   ]
  },
  {
   "cell_type": "markdown",
   "id": "dcb5646c",
   "metadata": {},
   "source": [
    "### Using Lagrangians to solve the double pendulum problem"
   ]
  },
  {
   "cell_type": "markdown",
   "id": "abb00654",
   "metadata": {},
   "source": [
    "We will now tackle a problem that would be very difficult to solve using Newton's laws, but much easier with Lagrangian mechanics. Here we have a system as follows:"
   ]
  },
  {
   "cell_type": "markdown",
   "id": "bb8b0fec",
   "metadata": {},
   "source": [
    "```{image} ../images/raster/double-pendulum.png\n",
    ":alt: Double pendulum diagram\n",
    ":width: 400px\n",
    ":align: center\n",
    "```"
   ]
  },
  {
   "cell_type": "markdown",
   "id": "cde5c1ed",
   "metadata": {},
   "source": [
    "Here, the notable difference is that we have a **system** as opposed to a single object, and we need to find the kinetic and potential energies of the entire system. To do this, we divide the kinetic and potential energies into two parts:"
   ]
  },
  {
   "cell_type": "markdown",
   "id": "4826ca5b",
   "metadata": {},
   "source": [
    "$$\n",
    "K = K_1 + K_2\n",
    "$$\n",
    "\n",
    "$$\n",
    "U = U_1 + U_2\n",
    "$$"
   ]
  },
  {
   "cell_type": "markdown",
   "id": "18417462",
   "metadata": {},
   "source": [
    "Where $K_1$ and $K_2$ are respectively the kinetic energies of the first pendulum mass and second pendulum mass, and likewise with $U_1$ and $U_2$ and their potential energies."
   ]
  },
  {
   "cell_type": "markdown",
   "id": "27706bbd",
   "metadata": {},
   "source": [
    "We will first derive the kinetic energies, because they are harder :( As we know, we first setup a coordinate system where the point $(0, 0)$ is centered on the point the double pendulum is attached to the ceiling. Then, we write the position functions of the first pendulum:"
   ]
  },
  {
   "cell_type": "markdown",
   "id": "a1de65e7",
   "metadata": {},
   "source": [
    "$$\n",
    "x_1(t) = \\ell_1 \\sin \\theta_1 (t)\n",
    "$$\n",
    "\n",
    "$$\n",
    "y_1(t) = -\\ell_1 \\cos \\theta_1 (t)\n",
    "$$"
   ]
  },
  {
   "cell_type": "markdown",
   "id": "9f85a46d",
   "metadata": {},
   "source": [
    "We figure these out from basic trigonometry and the fact that $y_1(t)$ is negative, as it is below the origin. We then take the derivatives to find the $x$ and $y$ components of the velocity:"
   ]
  },
  {
   "cell_type": "markdown",
   "id": "d907ba9b",
   "metadata": {},
   "source": [
    "$$\n",
    "\\frac{dx_1}{dt} = \\ell_1 \\cos \\theta_1 (t) \\frac{d\\theta_1}{dt}\n",
    "$$\n",
    "\n",
    "$$\n",
    "\\frac{dy_1}{dt} = \\ell_1 \\sin \\theta_1 (t) \\frac{d\\theta_1}{dt}\n",
    "$$"
   ]
  },
  {
   "cell_type": "markdown",
   "id": "1a6c113d",
   "metadata": {},
   "source": [
    "Using this, we can find $K_1$:"
   ]
  },
  {
   "cell_type": "markdown",
   "id": "19db8dc2",
   "metadata": {},
   "source": [
    "$$\n",
    "K_1 = \\frac{1}{2} m_1 \\left(\\dot x_1^2 + \\dot y_1^2\\right)\n",
    "$$"
   ]
  },
  {
   "cell_type": "markdown",
   "id": "2f0893c2",
   "metadata": {},
   "source": [
    "$$\n",
    "K_1 = \\frac{1}{2} m_1 \\left[ \\left(\\ell_1 \\cos \\theta_1 (t) \\frac{d\\theta_1}{dt} \\right)^2 + \n",
    "\\left(\\ell_1 \\sin \\theta_1 (t) \\frac{d\\theta_1}{dt}\\right)^2 \\right]\n",
    "$$"
   ]
  },
  {
   "cell_type": "markdown",
   "id": "ff81f23d",
   "metadata": {},
   "source": [
    "Using the trig identity $\\sin^2 \\theta + \\cos^2 \\theta = 1$, this is trivial to simplify into:"
   ]
  },
  {
   "cell_type": "markdown",
   "id": "da75773d",
   "metadata": {},
   "source": [
    "$$\n",
    "K_1 = \\frac{1}{2} m_1 \\ell_1^2 \\left(\\frac{d\\theta}{dt}\\right)^2\n",
    "$$"
   ]
  },
  {
   "cell_type": "markdown",
   "id": "1c68e6f7",
   "metadata": {},
   "source": [
    "Then, we write the position functions of the second pendulum:"
   ]
  },
  {
   "cell_type": "markdown",
   "id": "3e8be654",
   "metadata": {},
   "source": [
    "$$\n",
    "x_2 (t) = x_1(t) + \\ell_2 \\sin \\theta_2 (t)\n",
    "$$\n",
    "\n",
    "$$\n",
    "y_2 (t) = y_1(t) + (- \\ell_2 \\cos \\theta_2 (t))\n",
    "$$"
   ]
  },
  {
   "cell_type": "markdown",
   "id": "2a025e73",
   "metadata": {},
   "source": [
    "Here, we add the $x$ and $y$ displacement of the second pendulum with the $x$ and $y$ displacement of the first to find the total displacement from the origin, because remember, we're using the _same_ coordinate system for both pendulums. If we sub in the values of $x_1(t)$ and $y_1(t)$, we have:"
   ]
  },
  {
   "cell_type": "markdown",
   "id": "b5ae54b1",
   "metadata": {},
   "source": [
    "$$\n",
    "x_2 (t) = \\ell_1 \\sin \\theta_1 (t) + \\ell_2 \\sin \\theta_2 (t)\n",
    "$$\n",
    "\n",
    "$$\n",
    "y_2 (t) = - \\ell_1 \\cos \\theta_1 (t) - \\ell_2 \\cos \\theta_2 (t))\n",
    "$$"
   ]
  },
  {
   "cell_type": "markdown",
   "id": "374c96b0",
   "metadata": {},
   "source": [
    "We compute their derivatives:"
   ]
  },
  {
   "cell_type": "markdown",
   "id": "57b24f62",
   "metadata": {},
   "source": [
    "$$\n",
    "\\frac{dx_2}{dt} = \\ell_1 \\cos \\theta_1 (t) \\frac{d\\theta_1}{dt} + \\ell_2 \\cos \\theta_2(t) \\frac{d\\theta_2}{dt}\n",
    "$$\n",
    "\n",
    "$$\n",
    "\\frac{dy_2}{dt} = \\ell_1 \\sin \\theta_1(t) \\frac{d\\theta_1}{dt} + \\ell_2 \\sin \\theta_2(t) \\frac{d\\theta_2}{dt}\n",
    "$$"
   ]
  },
  {
   "cell_type": "markdown",
   "id": "c603bbd1",
   "metadata": {},
   "source": [
    "And then plug them into the kinetic energy formula to find:"
   ]
  },
  {
   "cell_type": "markdown",
   "id": "d21ca6d1",
   "metadata": {},
   "source": [
    "$$\n",
    "K_2 = \\frac{1}{2} m_2 \\left[\n",
    "\\left(\\ell_1 \\cos \\theta_1 (t) \\frac{d\\theta_1}{dt} + \\ell_2 \\cos \\theta_2(t) \\frac{d\\theta_2}{dt}\\right)^2 +\n",
    "\\left(\\ell_1 \\sin \\theta_1(t) \\frac{d\\theta_1}{dt} + \\ell_2 \\sin \\theta_2(t) \\frac{d\\theta_2}{dt}\\right)^2\n",
    "\\right]\n",
    "$$"
   ]
  },
  {
   "cell_type": "markdown",
   "id": "b3eaa9c6",
   "metadata": {},
   "source": [
    "Expanding that out, and using $\\sin^2 \\theta + \\cos^2 \\theta = 1$ to simplify, we have:"
   ]
  },
  {
   "cell_type": "markdown",
   "id": "dd75a89f",
   "metadata": {},
   "source": [
    "$$\n",
    "K_2 = \\frac{1}{2} m_2 \\left[\n",
    "\\ell_1^2 \\left(\\frac{d\\theta_1}{dt}\\right)^2 + 2\\ell_1 \\ell_2 \\frac{d\\theta_1}{dt} \\frac{d\\theta_2}{dt}\n",
    "(\\cos \\theta_1 \\cos \\theta_2 + \\sin \\theta_2 \\sin \\theta_2) + \\ell_2^2 \\left(\\frac{d\\theta_2}{dt}\\right)^2\n",
    "\\right]\n",
    "$$"
   ]
  },
  {
   "cell_type": "markdown",
   "id": "08847438",
   "metadata": {},
   "source": [
    "Here, we can use the identity $\\cos x \\cos y + \\sin x \\sin y = \\cos (x - y)$ to simplify to:"
   ]
  },
  {
   "cell_type": "markdown",
   "id": "a0624d4c",
   "metadata": {},
   "source": [
    "$$\n",
    "K_2 = \\frac{1}{2} m_2 \\left[\n",
    "\\ell_1^2 \\left(\\frac{d\\theta_1}{dt}\\right)^2 + 2\\ell_1 \\ell_2 \\frac{d\\theta_1}{dt} \\frac{d\\theta_2}{dt} \\cos (\\theta_1 - \\theta_2) + \\ell_2^2 \\left(\\frac{d\\theta_2}{dt}\\right)^2\n",
    "\\right]\n",
    "$$"
   ]
  },
  {
   "cell_type": "markdown",
   "id": "60c48ee0",
   "metadata": {},
   "source": [
    "Now, combining the two kinetic energies together, we end up with:"
   ]
  },
  {
   "cell_type": "markdown",
   "id": "1cf27484",
   "metadata": {},
   "source": [
    "$$\n",
    "K = \\frac{1}{2} m_1 \\ell_1^2 \\left(\\frac{d\\theta}{dt}\\right)^2 + \\frac{1}{2} m_2 \\left[\n",
    "\\ell_1^2 \\left(\\frac{d\\theta_1}{dt}\\right)^2 + 2\\ell_1 \\ell_2 \\frac{d\\theta_1}{dt} \\frac{d\\theta_2}{dt} \\cos (\\theta_1 - \\theta_2) + \\ell_2^2 \\left(\\frac{d\\theta_2}{dt}\\right)^2\n",
    "\\right]\n",
    "$$"
   ]
  },
  {
   "cell_type": "markdown",
   "id": "be266e3d",
   "metadata": {},
   "source": [
    "We use a similar approach for the potential energies - we add the potential energy of the first pendulum and the second to find the total system's potential energy:"
   ]
  },
  {
   "cell_type": "markdown",
   "id": "16d10072",
   "metadata": {},
   "source": [
    "$$\n",
    "U = U_1 + U_2\n",
    "$$"
   ]
  },
  {
   "cell_type": "markdown",
   "id": "43187116",
   "metadata": {},
   "source": [
    "$$\n",
    "U = m_1 g (-\\ell_1 \\cos \\theta_1 (t) ) + m_2 g (-\\ell_1 \\cos \\theta_1(t) - \\ell_2 \\cos \\theta_2(t))\n",
    "$$"
   ]
  },
  {
   "cell_type": "markdown",
   "id": "dbbc2d94",
   "metadata": {},
   "source": [
    "After factoring, we have:"
   ]
  },
  {
   "cell_type": "markdown",
   "id": "8c99e01e",
   "metadata": {},
   "source": [
    "$$\n",
    "U = -(m_1 + m_2) g \\ell_1 \\cos \\theta_1(t) - m_2 g \\ell_2 \\cos \\theta_2 (t)\n",
    "$$"
   ]
  },
  {
   "cell_type": "markdown",
   "id": "fcf3cfe9",
   "metadata": {},
   "source": [
    "Using $\\mathcal{L} = K - U$, we substitute into the two Euler-Lagrange equations (one for $\\theta_1$ and one for $\\theta_2$):"
   ]
  },
  {
   "cell_type": "markdown",
   "id": "f85737b7",
   "metadata": {},
   "source": [
    "$$\n",
    "\\frac{d}{dt} \\frac{\\partial \\mathcal{L}}{\\partial \\dot \\theta_1} - \\frac{\\partial \\mathcal{L}}{\\partial \\theta_2} = 0\n",
    "$$\n",
    "\n",
    "$$\n",
    "\\frac{d}{dt} \\frac{\\partial \\mathcal{L}}{\\partial \\dot \\theta_1} - \\frac{\\partial \\mathcal{L}}{\\partial \\theta_2} = 0\n",
    "$$"
   ]
  },
  {
   "cell_type": "markdown",
   "id": "0e2da808",
   "metadata": {},
   "source": [
    "With the Lagrangian:"
   ]
  },
  {
   "cell_type": "markdown",
   "id": "e557626d",
   "metadata": {},
   "source": [
    "$$\n",
    "\\mathcal{L} = \\frac{1}{2} m_1 \\ell_1^2 \\left(\\frac{d\\theta}{dt}\\right)^2 + \\frac{1}{2} m_2 \\left[\n",
    "\\ell_1^2 \\left(\\frac{d\\theta_1}{dt}\\right)^2 + 2\\ell_1 \\ell_2 \\frac{d\\theta_1}{dt} \\frac{d\\theta_2}{dt} \\cos (\\theta_1 - \\theta_2) + \\ell_2^2 \\left(\\frac{d\\theta_2}{dt}\\right)^2\n",
    "\\right]\n",
    "+ (m_1 + m_2) g \\ell_1 \\cos \\theta_1(t) + m_2 g \\ell_2 \\cos \\theta_2 (t)\n",
    "$$"
   ]
  },
  {
   "cell_type": "markdown",
   "id": "c7d68024",
   "metadata": {},
   "source": [
    "To find the equations of motion ([source](https://diego.assencio.com/?index=1500c66ae7ab27bb0106467c68feebc6)):"
   ]
  },
  {
   "cell_type": "markdown",
   "id": "27c59b57",
   "metadata": {},
   "source": [
    "$$\n",
    "(m_1 + m_2) l_1 \\ddot{\\theta}_1 + m_2 l_2 \\ddot{\\theta}_2 \\cos(\\theta_1 - \\theta_2) + m_2 l_2 \\dot{\\theta}_2^2\\sin(\\theta_1 - \\theta_2) + (m_1 + m_2) g \\sin\\theta_1 = 0\n",
    "$$\n",
    "\n",
    "$$\n",
    "l_2 \\ddot{\\theta}_2 + l_1 \\ddot{\\theta}_1 \\cos(\\theta_1 - \\theta_2)\n",
    "- l_1 \\dot{\\theta}_1^2 \\sin(\\theta_1 - \\theta_2)  + g \\sin\\theta_2 = 0\n",
    "$$"
   ]
  },
  {
   "cell_type": "markdown",
   "id": "a573b6c0",
   "metadata": {},
   "source": [
    "These equations are completely unsolvable analytically, but they can be solved numerically to yield the position of a double pendulum with time."
   ]
  },
  {
   "cell_type": "markdown",
   "id": "d50d131d",
   "metadata": {},
   "source": [
    "### Langrangian to Newtonian mechanics"
   ]
  },
  {
   "cell_type": "markdown",
   "id": "f98156f8",
   "metadata": {},
   "source": [
    "Let's see how we can recover Newton's 2nd law from the Euler-Lagrange equation. Remember that the equation (in the case of one-dimenional motion along the $x$ axis) is given by:"
   ]
  },
  {
   "cell_type": "markdown",
   "id": "357b86ca",
   "metadata": {},
   "source": [
    "$$\n",
    "\\frac{d}{dt}\\frac{\\partial \\mathcal{L}}{\\partial \\dot x} = \\frac{\\partial \\mathcal{L}}{\\partial x}\n",
    "$$"
   ]
  },
  {
   "cell_type": "markdown",
   "id": "249e7b13",
   "metadata": {},
   "source": [
    "And remember that the Lagrangian is given by:"
   ]
  },
  {
   "cell_type": "markdown",
   "id": "c7ab2bb3",
   "metadata": {},
   "source": [
    "$$\n",
    "\\mathcal{L} = \\frac{1}{2} m \\dot x^2 - U(x)\n",
    "$$"
   ]
  },
  {
   "cell_type": "markdown",
   "id": "dbd45a07",
   "metadata": {},
   "source": [
    "Applying the Euler-Lagrange equations to the general Lagrangian, we get:"
   ]
  },
  {
   "cell_type": "markdown",
   "id": "1ea552a1",
   "metadata": {},
   "source": [
    "$$\n",
    "m \\ddot x = -\\frac{dU}{dx}\n",
    "$$"
   ]
  },
  {
   "cell_type": "markdown",
   "id": "d75f4eeb",
   "metadata": {},
   "source": [
    "Recalling that $F = -\\frac{dU}{dx}$ and $\\ddot x = a$, we have recovered Newton's 2nd law!"
   ]
  },
  {
   "cell_type": "markdown",
   "id": "fb7e7f0d",
   "metadata": {},
   "source": [
    "$$\n",
    "F = ma\n",
    "$$"
   ]
  },
  {
   "cell_type": "markdown",
   "id": "df6f0c90",
   "metadata": {},
   "source": [
    "We can even use Lagrangian mechanics on simple problems and check that it matches with Newtonian mechanics. Let's do our freefall example from earlier. With $K = \\frac{1}{2} m \\dot y^2$ and $U = mgy$, we use the Euler-Lagrange equations to find:"
   ]
  },
  {
   "cell_type": "markdown",
   "id": "fdf0f44e",
   "metadata": {},
   "source": [
    "$$\n",
    "m \\frac{d^2 y}{dt^2} = - mg\n",
    "$$"
   ]
  },
  {
   "cell_type": "markdown",
   "id": "23b586c7",
   "metadata": {},
   "source": [
    "Which we can simplify to:"
   ]
  },
  {
   "cell_type": "markdown",
   "id": "ed297727",
   "metadata": {},
   "source": [
    "$$\n",
    "a_y = -g\n",
    "$$"
   ]
  },
  {
   "cell_type": "markdown",
   "id": "17a3ba5c",
   "metadata": {},
   "source": [
    "Which reproduces the Newtonian result!"
   ]
  },
  {
   "cell_type": "markdown",
   "id": "3f4d2d91",
   "metadata": {},
   "source": [
    "### Lagrangians to the stars"
   ]
  },
  {
   "cell_type": "markdown",
   "id": "dfe028e9",
   "metadata": {},
   "source": [
    "The Lagrangian formulation of classical mechanics is so powerful, precisely because it relies on a differential equation that can be generalized. Beyond classical mechanics, the Lagrangian isn't always necessarily $\\mathcal{L} = K - U$, but the Euler-Lagrange equations still hold true, and so does the principle of stationary action. Thus, just defining a Lagrangian can describe entire theories, as the Euler-Lagrange equations yield the equations of methods for each theory, from which every other result of the theory can be derived. This is the power of Lagrangian mechanics."
   ]
  },
  {
   "cell_type": "markdown",
   "id": "5ab2004d",
   "metadata": {},
   "source": [
    "We will end with one final thought - one of the most successful theories in all of physics, the **Standard model** of particle physics, is encapsulated in one compact Lagrangian:"
   ]
  },
  {
   "cell_type": "markdown",
   "id": "29c27ad2",
   "metadata": {},
   "source": [
    "$$\n",
    "\\mathcal{L} = -\\frac{1}{4} F_{\\mu \\nu} F^{\\mu \\nu} + i \\overline \\psi \\gamma_\\beta D^\\beta + h.c. + \\psi_i y_{ij} \\psi_j \\phi + h.c. + |D_\\mu \\phi |^2 - V(\\phi)\n",
    "$$"
   ]
  },
  {
   "cell_type": "markdown",
   "id": "e731a0e7",
   "metadata": {},
   "source": [
    "And one of the most mathematically beautiful theories, in fact one we will see very soon, **General Relativity**, is described in another compact Lagrangian:"
   ]
  },
  {
   "cell_type": "markdown",
   "id": "34c5ed35",
   "metadata": {},
   "source": [
    "$$\n",
    "\\mathcal{L} = \\frac{1}{2\\kappa} R \\sqrt{-g}~ ~d^4 x\n",
    "$$"
   ]
  },
  {
   "cell_type": "markdown",
   "id": "333ad71a",
   "metadata": {},
   "source": [
    "Who knew that Lagrangians could take us deep into the hearts of atoms, and to the furthest stars...? :)"
   ]
  }
 ],
 "metadata": {
  "kernelspec": {
   "display_name": "Python 3 (ipykernel)",
   "language": "python",
   "name": "python3"
  },
  "language_info": {
   "codemirror_mode": {
    "name": "ipython",
    "version": 3
   },
   "file_extension": ".py",
   "mimetype": "text/x-python",
   "name": "python",
   "nbconvert_exporter": "python",
   "pygments_lexer": "ipython3",
   "version": "3.11.4"
  }
 },
 "nbformat": 4,
 "nbformat_minor": 5
}
