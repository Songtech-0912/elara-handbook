{
 "cells": [
  {
   "cell_type": "markdown",
   "id": "f632ce6e",
   "metadata": {},
   "source": [
    "# Classical mechanics"
   ]
  },
  {
   "cell_type": "markdown",
   "id": "1f25fd07",
   "metadata": {},
   "source": [
    "> \"The important thing is to never stop questioning.\"\n",
    ">\n",
    "> **Albert Einstein**\n",
    "\n",
    "For over 200 years, before the advent of 20th century relativistic and quantum physics, our view of the world was dominated by classical mechanics. From the foundation laid by Newton to the work of Lagrange and Euler and the masterminds of Faraday and Maxwell, classical mechanics set out to describe the world around us through concrete, physical laws, and still does so brilliantly. This guide aims to explain classical mechanics in as simple and elegant a way as possible, hopefully allowing you to soon have a working knowledge of mechanics with which to do physics."
   ]
  },
  {
   "cell_type": "markdown",
   "id": "e34bd92c",
   "metadata": {},
   "source": [
    "## Kinematics"
   ]
  },
  {
   "cell_type": "markdown",
   "id": "e14e456b",
   "metadata": {},
   "source": [
    "We can describe the location of a point through what is known as a position function. The position function $s(t)$ describes the location of an object through space at any given time. For example, imagine a position function as follows:"
   ]
  },
  {
   "cell_type": "markdown",
   "id": "65263aab",
   "metadata": {},
   "source": [
    "$$\n",
    "s(t) = 3t^{3}-5t+1\n",
    "$$"
   ]
  },
  {
   "cell_type": "markdown",
   "id": "b8ca2b9b",
   "metadata": {},
   "source": [
    "We adopt the convention in physics that positive numbers are used for positions to the top or right, and negative numbers are used for positions to the left or bottom.\n",
    "\n",
    "At $t = 0$, $s(t) = 1$, which means that the object is 1 meter to the right of the origin at that time. At $t = 1$, $s(t) = -1$, which means the object is 1 meter to the left of the origin. At $t = 2$, $s(t) = 15$, which means the object is 15 meters to the right of the origin."
   ]
  },
  {
   "cell_type": "markdown",
   "id": "2ca3f97d",
   "metadata": {},
   "source": [
    "Sometimes, we like to specify that $s(t)$ is moving along the x-direction, so we call it $x(t)$ instead. We can also specify that $s(t)$ is moving along the y-direction by calling it $y(t)$. The position function remains the same, just the direction of travel becomes different."
   ]
  },
  {
   "cell_type": "markdown",
   "id": "0edbc095",
   "metadata": {},
   "source": [
    "**Velocity** is the derivative of position with respect to time. That is:"
   ]
  },
  {
   "cell_type": "markdown",
   "id": "f0779729",
   "metadata": {},
   "source": [
    "$$\n",
    "v = \\frac{ds}{dt}\n",
    "$$"
   ]
  },
  {
   "cell_type": "markdown",
   "id": "1861b0bf",
   "metadata": {},
   "source": [
    "For example, given that $s(t) = 3t^3 - 5t + 1$, $v(t) = 9t^2 - 5$, as it is the derivative of $s(t)$."
   ]
  },
  {
   "cell_type": "markdown",
   "id": "f4088252",
   "metadata": {},
   "source": [
    "**Acceleration** is the derivative of velocity, which is the second derivative of position. That is:"
   ]
  },
  {
   "cell_type": "markdown",
   "id": "020b084d",
   "metadata": {},
   "source": [
    "$$\n",
    "a = \\frac{dv}{dt} = \\frac{d^2 s}{dt^2}\n",
    "$$"
   ]
  },
  {
   "cell_type": "markdown",
   "id": "4b4b76fc",
   "metadata": {},
   "source": [
    "From the same definitions, velocity is the integral of acceleration, and position is the integral of velocity:"
   ]
  },
  {
   "cell_type": "markdown",
   "id": "955c9602",
   "metadata": {},
   "source": [
    "$$\n",
    "v = \\int a dt\n",
    "$$\n",
    "\n",
    "$$\n",
    "s = \\int v dt\n",
    "$$"
   ]
  },
  {
   "cell_type": "markdown",
   "id": "bff39c63",
   "metadata": {},
   "source": [
    "Lastly, **displacement**, denoted by $\\Delta s$ (or $\\Delta x$ or $\\Delta y$) is the change in position between 2 times:"
   ]
  },
  {
   "cell_type": "markdown",
   "id": "10091105",
   "metadata": {},
   "source": [
    "$$\n",
    "\\Delta s = s(b) - s(a)\n",
    "$$"
   ]
  },
  {
   "cell_type": "markdown",
   "id": "26911d9b",
   "metadata": {},
   "source": [
    "### 1D projectile motion"
   ]
  },
  {
   "cell_type": "markdown",
   "id": "f2151161",
   "metadata": {},
   "source": [
    "The **kinematic equations** describe the motion of objects under constant acceleration. They are given as follows:"
   ]
  },
  {
   "cell_type": "markdown",
   "id": "7540d3d7",
   "metadata": {},
   "source": [
    "$$\n",
    "v = v_0 + at\n",
    "$$\n",
    "\n",
    "$$\n",
    "\\Delta s = \\left(\\frac{v + v_0}{2}\\right)\n",
    "$$\n",
    "\n",
    "$$\n",
    "\\Delta s = v_0 t + \\frac{1}{2} at^2\n",
    "$$\n",
    "\n",
    "$$\n",
    "v^2 = (v_0)^2 + 2a \\Delta x\n",
    "$$"
   ]
  },
  {
   "cell_type": "markdown",
   "id": "2b65a589",
   "metadata": {},
   "source": [
    "The kinematic equations are especially helpful when analyzing objects in free-fall, as all objects in free-fall - called projectiles - have a constant acceleration of $|g| = 9.81\\ \\mathrm{m/s^2}$. For example, suppose that a rock was thrown off a cliff from rest and took 5 seconds to hit the ground. We can write:"
   ]
  },
  {
   "cell_type": "markdown",
   "id": "ecc0259a",
   "metadata": {},
   "source": [
    "$$\n",
    "\\Delta y = v_0 (5) + \\frac{1}{2} a(5^2)\n",
    "$$"
   ]
  },
  {
   "cell_type": "markdown",
   "id": "d0d4b7ba",
   "metadata": {},
   "source": [
    "We know that the rock was thrown from rest, so $v_0 = 0$, allowing us to simplify to:"
   ]
  },
  {
   "cell_type": "markdown",
   "id": "0acd8095",
   "metadata": {},
   "source": [
    "$$\n",
    "\\Delta y = \\frac{1}{2} a (25)\n",
    "$$"
   ]
  },
  {
   "cell_type": "markdown",
   "id": "c92b7412",
   "metadata": {},
   "source": [
    "We know that the acceleration is $g = 9.81\\ \\mathrm{m/s^2}$, and as the acceleration is downwards, we write it as negative:"
   ]
  },
  {
   "cell_type": "markdown",
   "id": "d26e539e",
   "metadata": {},
   "source": [
    "$$\n",
    "\\Delta y = - \\frac{1}{2} (9.81)(25)\n",
    "$$"
   ]
  },
  {
   "cell_type": "markdown",
   "id": "365947fc",
   "metadata": {},
   "source": [
    "Which gives $\\Delta y = -122.625\\mathrm{\\ m}$, meaning that the rock dropped in the downwards direction 122 meters, so the cliff's height is also 122 meters."
   ]
  },
  {
   "cell_type": "markdown",
   "id": "b21f23b0",
   "metadata": {},
   "source": [
    "### 2D projectile motion"
   ]
  },
  {
   "cell_type": "markdown",
   "id": "6044bec1",
   "metadata": {},
   "source": [
    "To analyze projectile motion in two dimensions, we analyze the components of vertical and horizontal motion separately. To do this, we write the velocity as a 2D vector:"
   ]
  },
  {
   "cell_type": "markdown",
   "id": "9dc53d35",
   "metadata": {},
   "source": [
    "$$\n",
    "\\vec v = \\begin{bmatrix}\n",
    "v_x \\\\\n",
    "v_y\n",
    "\\end{bmatrix}\n",
    "$$"
   ]
  },
  {
   "cell_type": "markdown",
   "id": "2f77cd2d",
   "metadata": {},
   "source": [
    "Using basic trigonometry, we can find that:"
   ]
  },
  {
   "cell_type": "markdown",
   "id": "5f3842ce",
   "metadata": {},
   "source": [
    "$$\n",
    "v_x = \\vec v \\cos \\theta\n",
    "$$\n",
    "\n",
    "$$\n",
    "v_y = \\vec v \\sin \\theta\n",
    "$$"
   ]
  },
  {
   "cell_type": "markdown",
   "id": "6d135d2f",
   "metadata": {},
   "source": [
    "Where $\\theta$ is the angle of the vector from the horizontal."
   ]
  },
  {
   "cell_type": "markdown",
   "id": "fa314aa0",
   "metadata": {},
   "source": [
    "For a 2D projectile, one unique fact is that its horizontal velocity will always be the same as its initial horizontal velcity. That is:"
   ]
  },
  {
   "cell_type": "markdown",
   "id": "f53bc861",
   "metadata": {},
   "source": [
    "$$\n",
    "v_x = v_{0_x}\n",
    "$$"
   ]
  },
  {
   "cell_type": "markdown",
   "id": "91661a5d",
   "metadata": {},
   "source": [
    "Meanwhile, its vertical velocity follows the kinematic equation of freefall, with constant acceleration $g$. This means that:"
   ]
  },
  {
   "cell_type": "markdown",
   "id": "001c3450",
   "metadata": {},
   "source": [
    "$$\n",
    "v_y = v_{0_y} t + \\frac{1}{2} at^2\n",
    "$$"
   ]
  },
  {
   "cell_type": "markdown",
   "id": "6734fb60",
   "metadata": {},
   "source": [
    "And as $g$ is acting in the negative direction, we can write it as:"
   ]
  },
  {
   "cell_type": "markdown",
   "id": "ed3dbe24",
   "metadata": {},
   "source": [
    "$$\n",
    "v_y = v_{0_y} t - \\frac{1}{2} gt^2\n",
    "$$"
   ]
  },
  {
   "cell_type": "markdown",
   "id": "bc6915a8",
   "metadata": {},
   "source": [
    "Lastly, remember that we can rewrite $v_x$ and $v_y$ in terms of $\\vec v$ using trigonometry. Thus, the general equation of projectile motion of an object launched at angle $\\theta_0$ and initial velocity $\\vec v_0$ is:"
   ]
  },
  {
   "cell_type": "markdown",
   "id": "e9f2bd73",
   "metadata": {},
   "source": [
    "$$\n",
    "x(t) = \\vec v_0 \\cos \\theta_0 t\n",
    "$$\n",
    "\n",
    "$$\n",
    "y(t) = \\vec v_0 \\sin \\theta_0 t - \\frac{1}{2} gt^2\n",
    "$$"
   ]
  },
  {
   "cell_type": "markdown",
   "id": "2a2b2eea",
   "metadata": {},
   "source": [
    "A plot of the equation shows that it is correct:"
   ]
  },
  {
   "cell_type": "code",
   "execution_count": 3,
   "id": "a63a7c5a",
   "metadata": {},
   "outputs": [],
   "source": [
    "import matplotlib.pyplot as plt\n",
    "import numpy as np"
   ]
  },
  {
   "cell_type": "code",
   "execution_count": 8,
   "id": "c787f948",
   "metadata": {},
   "outputs": [],
   "source": [
    "t = np.linspace(0, 10)\n",
    "v0 = 50\n",
    "theta0 = np.pi / 4 # 45 degrees\n",
    "g = 9.81\n",
    "x = v0 * np.cos(theta0) * t\n",
    "y = v0 * np.sin(theta0) * t - (1/2) * 9.81 * (t ** 2)"
   ]
  },
  {
   "cell_type": "code",
   "execution_count": 13,
   "id": "fb58d100",
   "metadata": {},
   "outputs": [
    {
     "data": {
      "image/png": "[encoded data removed]",
      "text/plain": [
       "<Figure size 640x480 with 1 Axes>"
      ]
     },
     "metadata": {},
     "output_type": "display_data"
    }
   ],
   "source": [
    "plt.plot(x, y)\n",
    "plt.title(\"Projectile 2D motion\")\n",
    "plt.xlim(0, 250)\n",
    "plt.ylim(0, 100)\n",
    "plt.show()"
   ]
  },
  {
   "cell_type": "markdown",
   "id": "4edf8380",
   "metadata": {},
   "source": [
    "## Newton's Laws"
   ]
  },
  {
   "cell_type": "markdown",
   "id": "67fbc0d6",
   "metadata": {},
   "source": [
    "In the late-1600s, Isaac Newton came up with a series of 3 laws to describe a more general set of moving objects, not limited to objects in freefall. These form the foundation of Newtonian physics."
   ]
  },
  {
   "cell_type": "markdown",
   "id": "966d4d6c",
   "metadata": {},
   "source": [
    "**Newton's 1st law** states that objects in constant motion remain in motion unless acted on by a net force. A net force occurs when the forces acting on an object are not balanced. This means that objects in constant motion can have forces acting on them, but no _net_ force, because all the forces are balanced."
   ]
  },
  {
   "cell_type": "markdown",
   "id": "c2aec2d1",
   "metadata": {},
   "source": [
    "**Newton's 2nd law** states that a net force acts on an object to accelerate it, or mathematically:"
   ]
  },
  {
   "cell_type": "markdown",
   "id": "30fa0b0f",
   "metadata": {},
   "source": [
    "$$\n",
    "F_{net} = \\sum F = ma\n",
    "$$"
   ]
  },
  {
   "cell_type": "markdown",
   "id": "dae3e25a",
   "metadata": {},
   "source": [
    "**Newton's 3rd law** states that for every action force, there is an equal and opposite reaction force opposing it."
   ]
  },
  {
   "cell_type": "markdown",
   "id": "108f444a",
   "metadata": {},
   "source": [
    "Of all of Newton's laws, it is the second that is the most typically helpful.\n",
    "\n",
    "To utilize Newton's 2nd law, we often like to draw free-body diagrams to illustrate all the forces on an object. Forces that are in the positive direction (usually up and right) are positive, and forces in the negative direction (usually down and left) are negative. For instance, consider a free-falling object, influenced only by the downward force of gravity:"
   ]
  },
  {
   "cell_type": "markdown",
   "id": "6247bd89",
   "metadata": {},
   "source": [
    "![Free body diagram single force](../images/fbd-gravity.png)"
   ]
  },
  {
   "cell_type": "markdown",
   "id": "724108b6",
   "metadata": {},
   "source": [
    "To apply Newton's 2nd law, we first sum all the forces to find the net force:"
   ]
  },
  {
   "cell_type": "markdown",
   "id": "b2c83ae5",
   "metadata": {},
   "source": [
    "$$\n",
    "F_{net} = \\sum F = 0 + (-F_g) = -F_g\n",
    "$$"
   ]
  },
  {
   "cell_type": "markdown",
   "id": "7cb5667d",
   "metadata": {},
   "source": [
    "Then, we equate the net force to $ma$:"
   ]
  },
  {
   "cell_type": "markdown",
   "id": "952fc99d",
   "metadata": {},
   "source": [
    "$$\n",
    "F_{net} = ma\n",
    "$$\n",
    "\n",
    "$$\n",
    "-F_g = ma\n",
    "$$"
   ]
  },
  {
   "cell_type": "markdown",
   "id": "a5e21e56",
   "metadata": {},
   "source": [
    "Given that the force of gravity close to Earth is given by $F_g = mg$, we can rewrite the last equation as:"
   ]
  },
  {
   "cell_type": "markdown",
   "id": "e29da060",
   "metadata": {},
   "source": [
    "$$\n",
    "-mg = ma\n",
    "$$"
   ]
  },
  {
   "cell_type": "markdown",
   "id": "05d2e5ce",
   "metadata": {},
   "source": [
    "Which we can simplify to:"
   ]
  },
  {
   "cell_type": "markdown",
   "id": "e59ce0d1",
   "metadata": {},
   "source": [
    "$$\n",
    "-g = a\n",
    "$$"
   ]
  },
  {
   "cell_type": "markdown",
   "id": "ad6fc6c5",
   "metadata": {},
   "source": [
    "To find the motion of the object, we need to recall that the acceleration is the second derivative of position, so:"
   ]
  },
  {
   "cell_type": "markdown",
   "id": "f99df2e7",
   "metadata": {},
   "source": [
    "$$\n",
    "-g = \\frac{d^2 s}{dt^2}\n",
    "$$"
   ]
  },
  {
   "cell_type": "markdown",
   "id": "582d1d5b",
   "metadata": {},
   "source": [
    "We can solve this differential equation by integrating both sides twice, to get:"
   ]
  },
  {
   "cell_type": "markdown",
   "id": "b0cb09d6",
   "metadata": {},
   "source": [
    "$$\n",
    "s(t) = v_0 t - \\frac{1}{2}gt^2 + h_0\n",
    "$$"
   ]
  },
  {
   "cell_type": "markdown",
   "id": "1993cd6b",
   "metadata": {},
   "source": [
    "A more difficult example is with the following system, where $F_T$ is the tension force, transmitted by the rope:"
   ]
  },
  {
   "cell_type": "markdown",
   "id": "72dd1eee",
   "metadata": {},
   "source": [
    "![Atwood's machine](https://upload.wikimedia.org/wikipedia/commons/c/cb/Atwood.svg)"
   ]
  },
  {
   "cell_type": "markdown",
   "id": "64a4f2dd",
   "metadata": {},
   "source": [
    "Here, to draw a free-body diagram, we \"unwrap\" and stretch out the system, then draw 2 separate free-body diagrams for each sub-system:"
   ]
  },
  {
   "cell_type": "markdown",
   "id": "15d228c6",
   "metadata": {},
   "source": [
    "![Free body diagram muliple force](../images/fbd-atwoods.png)"
   ]
  },
  {
   "cell_type": "markdown",
   "id": "abb6a929",
   "metadata": {},
   "source": [
    "From there we can apply the 2nd law individually to each system. For the first system:"
   ]
  },
  {
   "cell_type": "markdown",
   "id": "ebe22125",
   "metadata": {},
   "source": [
    "$$\n",
    "\\sum F = F_T + (-F_{g_1}) = m_1 a\n",
    "$$"
   ]
  },
  {
   "cell_type": "markdown",
   "id": "d442a644",
   "metadata": {},
   "source": [
    "Which we simplify to:"
   ]
  },
  {
   "cell_type": "markdown",
   "id": "53af39e6",
   "metadata": {},
   "source": [
    "$$\n",
    "F_T - F_{g_1} = m_1 a\n",
    "$$"
   ]
  },
  {
   "cell_type": "markdown",
   "id": "c5529d69",
   "metadata": {},
   "source": [
    "And recalling $F_g = mg$, we can further simplify with:"
   ]
  },
  {
   "cell_type": "markdown",
   "id": "2fb33923",
   "metadata": {},
   "source": [
    "$$\n",
    "F_T - m_1 g = m_1 a\n",
    "$$"
   ]
  },
  {
   "cell_type": "markdown",
   "id": "c0edf893",
   "metadata": {},
   "source": [
    "And for the second system:"
   ]
  },
  {
   "cell_type": "markdown",
   "id": "2eaaff0c",
   "metadata": {},
   "source": [
    "$$\n",
    "\\sum F = F_{g_2} + (-F_T) = m_2 a\n",
    "$$"
   ]
  },
  {
   "cell_type": "markdown",
   "id": "4f82f1b5",
   "metadata": {},
   "source": [
    "Which we can simplify to:"
   ]
  },
  {
   "cell_type": "markdown",
   "id": "0bba7775",
   "metadata": {},
   "source": [
    "$$\n",
    "F_{g_2} -F_T = m_2 a\n",
    "$$"
   ]
  },
  {
   "cell_type": "markdown",
   "id": "e393aa78",
   "metadata": {},
   "source": [
    "Again, we can use $F_g = mg$ to further simplify with:"
   ]
  },
  {
   "cell_type": "markdown",
   "id": "93a423c2",
   "metadata": {},
   "source": [
    "$$\n",
    "m_2 g - F_T = m_2 a\n",
    "$$"
   ]
  },
  {
   "cell_type": "markdown",
   "id": "b33f833d",
   "metadata": {},
   "source": [
    "We now have a simultaneous series of equations:"
   ]
  },
  {
   "cell_type": "markdown",
   "id": "bf81bb5c",
   "metadata": {},
   "source": [
    "$$\n",
    "F_T - m_1 g = m_1 a\n",
    "$$"
   ]
  },
  {
   "cell_type": "markdown",
   "id": "3a09abf4",
   "metadata": {},
   "source": [
    "$$\n",
    "m_2 g - F_T = m_2 a\n",
    "$$"
   ]
  },
  {
   "cell_type": "markdown",
   "id": "1ea69370",
   "metadata": {},
   "source": [
    "Solving them allows us to find the net acceleration of both systems:"
   ]
  },
  {
   "cell_type": "markdown",
   "id": "052efbe0",
   "metadata": {},
   "source": [
    "$$\n",
    "m_2 g - F_T = m_2 a\n",
    "$$\n",
    "\n",
    "$$\n",
    "m_2 g = F_T + m_2 a\n",
    "$$\n",
    "\n",
    "$$\n",
    "F_T = m_2 g - m_2 a\n",
    "$$\n",
    "\n",
    "$$\n",
    "F_T = m_1 a + m_1 g\n",
    "$$\n",
    "\n",
    "$$\n",
    "m_2 g - m_2 a = m_1 a + m_1 g\n",
    "$$\n",
    "\n",
    "$$\n",
    "m_2 g - m_1 g = m_1 a + m_2 a\n",
    "$$\n",
    "\n",
    "$$\n",
    "g(m_2 - m_1) = a(m_1 + m_2)\n",
    "$$\n",
    "\n",
    "$$\n",
    "a = \\frac{g(m_2 - m_1)}{m_1 + m_2}\n",
    "$$"
   ]
  },
  {
   "cell_type": "markdown",
   "id": "1fefaa47",
   "metadata": {},
   "source": [
    "We can also use the same equations to derive a value of the tension force:"
   ]
  },
  {
   "cell_type": "markdown",
   "id": "18bc3aaf",
   "metadata": {},
   "source": [
    "$$\n",
    "F_T = \\frac{2 m_1 m_2 g}{m_1 + m_2}\n",
    "$$"
   ]
  },
  {
   "cell_type": "markdown",
   "id": "a88ebc38",
   "metadata": {},
   "source": [
    "And the equation of motion for the entire system can be found by solving the differential equation, which is in turn found by substituting $a$ for the second derivative of position:"
   ]
  },
  {
   "cell_type": "markdown",
   "id": "b5c6f1a5",
   "metadata": {},
   "source": [
    "$$\n",
    "\\frac{d^2 s}{dt^2} = \\frac{g(m_2 - m_1)}{m_1 + m_2}\n",
    "$$"
   ]
  },
  {
   "cell_type": "markdown",
   "id": "991806e6",
   "metadata": {},
   "source": [
    "Using Newton's laws usually results in a second-order differential equation for a system - one typically not easily solved, and usually only solvable via computer."
   ]
  },
  {
   "cell_type": "markdown",
   "id": "ecbd2ef3",
   "metadata": {},
   "source": [
    "Finally, it is worth mentioning **Newton's law of universal gravitation**, which states the gravitational force between two _arbitrary_ distant masses (as opposed to close to Earth for $F_g = mg$) is given by:"
   ]
  },
  {
   "cell_type": "markdown",
   "id": "31aad188",
   "metadata": {},
   "source": [
    "$$\n",
    "F_g = -\\frac{G Mm}{r^2}\n",
    "$$"
   ]
  },
  {
   "cell_type": "markdown",
   "id": "c0468294",
   "metadata": {},
   "source": [
    "Where $G$ is the universal gravitational constant, and $G \\approx 6.67 \\times 10^{-11}$"
   ]
  },
  {
   "cell_type": "markdown",
   "id": "e24d4623",
   "metadata": {},
   "source": [
    "## Work, Energy, and Power"
   ]
  },
  {
   "cell_type": "markdown",
   "id": "f04b2357",
   "metadata": {},
   "source": [
    "Analyzing forces is one very good approach to finding the equations of motion for a system, but it has its drawbacks - the vector equation $F_{net} = ma$ is often long and tedious to solve for. Another approach - the work-energy approach - is often much easier and more helpful for arriving at a solution when analyzing a given system. "
   ]
  },
  {
   "cell_type": "markdown",
   "id": "47af0c3a",
   "metadata": {},
   "source": [
    "At its simplest, **work** is simply force exerted over a distance:"
   ]
  },
  {
   "cell_type": "markdown",
   "id": "58a1892e",
   "metadata": {},
   "source": [
    "$$\n",
    "W = \\int_{x_1}^{x_2} F dx\n",
    "$$"
   ]
  },
  {
   "cell_type": "markdown",
   "id": "13a17bc6",
   "metadata": {},
   "source": [
    "Kinetic energy $K$, the energy of moving objects, is equal to the work done to accelerate an object from rest to a velocity $v$. That is:"
   ]
  },
  {
   "cell_type": "markdown",
   "id": "3433c15a",
   "metadata": {},
   "source": [
    "$$\n",
    "K = \\int_{x_1}^{x_2} F dx = \\int_{x_1}^{x_2} ma dx = \n",
    "\\int_{x_1}^{x^2} m \\frac{dv}{dt} dx = \\int_{x_1}^{x^2} m \\frac{dv}{dx}\\frac{dx}{dt} dx = \\int_0^v mv dv = \\frac{1}{2} mv^2\n",
    "$$"
   ]
  },
  {
   "cell_type": "markdown",
   "id": "965a7580",
   "metadata": {},
   "source": [
    "For instance, a 1 kg object moving at $10 \\mathrm{\\ m/s}$ will have a kinetic energy of 50 Joules."
   ]
  },
  {
   "cell_type": "markdown",
   "id": "465476b6",
   "metadata": {},
   "source": [
    "Potential energy $U$, the energy possessed by objects due to their position or configuration, is given by:"
   ]
  },
  {
   "cell_type": "markdown",
   "id": "5bdf2bb2",
   "metadata": {},
   "source": [
    "$$\n",
    "U(x) = -\\int F dx\n",
    "$$"
   ]
  },
  {
   "cell_type": "markdown",
   "id": "0fd2f9d3",
   "metadata": {},
   "source": [
    "For gravity, this results in:"
   ]
  },
  {
   "cell_type": "markdown",
   "id": "f8e8ad8b",
   "metadata": {},
   "source": [
    "$$\n",
    "U_g (r) = -\\int - \\frac{G m_1 m_2}{r^2} dr = -\\frac{G Mm}{r}\n",
    "$$"
   ]
  },
  {
   "cell_type": "markdown",
   "id": "f56efa53",
   "metadata": {},
   "source": [
    "Note that an approximation for gravitational potential energy is $U_g = mgh$, which works close to Earth."
   ]
  },
  {
   "cell_type": "markdown",
   "id": "44bd38f4",
   "metadata": {},
   "source": [
    "For springs, where the elastic force is given by $F = -kx$, this results in:"
   ]
  },
  {
   "cell_type": "markdown",
   "id": "f77c17ca",
   "metadata": {},
   "source": [
    "$$\n",
    "U_s(x) = -\\int -kx dx = \\frac{1}{2} kx^2\n",
    "$$"
   ]
  },
  {
   "cell_type": "markdown",
   "id": "7e54ce51",
   "metadata": {},
   "source": [
    "For electrostatics, where the electrostatic force is given by $F = \\frac{kq_1 q_2}{r^2}$, this results in:"
   ]
  },
  {
   "cell_type": "markdown",
   "id": "97fcf509",
   "metadata": {},
   "source": [
    "$$\n",
    "U_e (r) = -\\int \\frac{kq_1 q_2}{r^2} dr = \\frac{kq_1 q_2}{r}\n",
    "$$"
   ]
  },
  {
   "cell_type": "markdown",
   "id": "27027367",
   "metadata": {},
   "source": [
    "The potential energy, when expressed as a quantity, is always taken _relative some reference point_. For a falling object, a common reference point is the surface of the Earth. This means that on the Earth's surface, an object has zero potential energy, while far from the Earth's surface, the object has maximal potential energy."
   ]
  },
  {
   "cell_type": "markdown",
   "id": "b89763d4",
   "metadata": {},
   "source": [
    "The **conservation of energy** states that the sum of potential and kinetic energy is constant - that is, the sum of inital potential and kinetic energy is equal to the sum of final kinetic potential and kinetic energy:"
   ]
  },
  {
   "cell_type": "markdown",
   "id": "d4cdb5b0",
   "metadata": {},
   "source": [
    "$$\n",
    "K_i + U_i = K_f + U_f\n",
    "$$"
   ]
  },
  {
   "cell_type": "markdown",
   "id": "bb29e5a2",
   "metadata": {},
   "source": [
    "For example, let's use the same cliff example as earlier, with the only difference being that we know that the final velocity of the falling object is $48.9\\mathrm{\\ m/s}$."
   ]
  },
  {
   "cell_type": "markdown",
   "id": "cf070ed5",
   "metadata": {},
   "source": [
    "Using the conservation of energy, we know that $K_i = 0$ (as the object is thrown from rest), and $U_f = 0$ (as the object is on the surface of the Earth, our reference point). So:"
   ]
  },
  {
   "cell_type": "markdown",
   "id": "51aa8b98",
   "metadata": {},
   "source": [
    "$$\n",
    "U_i = K_f\n",
    "$$"
   ]
  },
  {
   "cell_type": "markdown",
   "id": "dbfe88f8",
   "metadata": {},
   "source": [
    "$$\n",
    "mgh = \\frac{1}{2} m (v_f)^2\n",
    "$$"
   ]
  },
  {
   "cell_type": "markdown",
   "id": "64049de0",
   "metadata": {},
   "source": [
    "$$\n",
    "h = \\frac{1}{2} \\frac{m(v_f)^2}{g}\n",
    "$$"
   ]
  },
  {
   "cell_type": "markdown",
   "id": "f5e3cec4",
   "metadata": {},
   "source": [
    "Plugging in the values, this gives us the same answer of the height of the cliff: 122 meters! However, note that we didn't need to use any kinematic formulas, just an understanding of work and energy!"
   ]
  },
  {
   "cell_type": "markdown",
   "id": "d3804de6",
   "metadata": {},
   "source": [
    "## Momentum"
   ]
  },
  {
   "cell_type": "markdown",
   "id": "5a66baa9",
   "metadata": {},
   "source": [
    "**Momentum** is the product of mass and velocity:"
   ]
  },
  {
   "cell_type": "markdown",
   "id": "33fd695d",
   "metadata": {},
   "source": [
    "$$\n",
    "p = mv\n",
    "$$"
   ]
  },
  {
   "cell_type": "markdown",
   "id": "deb8e388",
   "metadata": {},
   "source": [
    "Which also makes the derivative of the momentum force:"
   ]
  },
  {
   "cell_type": "markdown",
   "id": "c699e5f7",
   "metadata": {},
   "source": [
    "$$\n",
    "F = \\frac{dp}{dt}\n",
    "$$"
   ]
  },
  {
   "cell_type": "markdown",
   "id": "288b2a35",
   "metadata": {},
   "source": [
    "And the (time) integral of force momentum:"
   ]
  },
  {
   "cell_type": "markdown",
   "id": "64ddd4ee",
   "metadata": {},
   "source": [
    "$$\n",
    "p = \\int F dt\n",
    "$$"
   ]
  },
  {
   "cell_type": "markdown",
   "id": "be1e84cf",
   "metadata": {},
   "source": [
    "Do not confuse this with potential energy, which is the position integral of force!"
   ]
  },
  {
   "cell_type": "markdown",
   "id": "4fd776d9",
   "metadata": {},
   "source": [
    "Momentum cannot be created nor destroyed; it can only be transferred between objects. This is the principle of the **conservation of momentum**:"
   ]
  },
  {
   "cell_type": "markdown",
   "id": "9e85cd4a",
   "metadata": {},
   "source": [
    "$$\n",
    "P_{A_i} + P_{B_i} = P_{A_i} + P_{B_f}\n",
    "$$"
   ]
  },
  {
   "cell_type": "markdown",
   "id": "205b509f",
   "metadata": {},
   "source": [
    "Or more generally:"
   ]
  },
  {
   "cell_type": "markdown",
   "id": "a69950ff",
   "metadata": {},
   "source": [
    "$$\n",
    "\\sum P_i = \\sum P_f\n",
    "$$"
   ]
  },
  {
   "cell_type": "markdown",
   "id": "2aef7cd5",
   "metadata": {},
   "source": [
    "**Impulse** is the change in momentum:"
   ]
  },
  {
   "cell_type": "markdown",
   "id": "05dce597",
   "metadata": {},
   "source": [
    "$$\n",
    "J = \\Delta P = \\int_{t_1}^{t_2} F dt\n",
    "$$"
   ]
  },
  {
   "cell_type": "markdown",
   "id": "e36d86be",
   "metadata": {},
   "source": [
    "## Fields"
   ]
  },
  {
   "cell_type": "markdown",
   "id": "bdb44bb2",
   "metadata": {},
   "source": [
    "A vector field is an object that spans all of space and assigns a vector to each point in space. For example, take the gravitational field, equivalent to the gravitational force exerted on a unit mass:"
   ]
  },
  {
   "cell_type": "markdown",
   "id": "48b310b6",
   "metadata": {},
   "source": [
    "$$\n",
    "\\vec g(r) = \\frac{GM}{r^2}\n",
    "$$"
   ]
  },
  {
   "cell_type": "markdown",
   "id": "a6ec897f",
   "metadata": {},
   "source": [
    "The gravitational field is related to the gravitational force by:"
   ]
  },
  {
   "cell_type": "markdown",
   "id": "1ef119bc",
   "metadata": {},
   "source": [
    "$$\n",
    "\\vec g = \\frac{F}{m}\n",
    "$$"
   ]
  },
  {
   "cell_type": "markdown",
   "id": "5f411143",
   "metadata": {},
   "source": [
    "A potential field, similar to a vector field, is an object that spans all of space and assigns a scalar potential to each point in space. The gravitional potential, equivalent to the gravitational potential energy exerted on a unit mass, is given by:"
   ]
  },
  {
   "cell_type": "markdown",
   "id": "51745109",
   "metadata": {},
   "source": [
    "$$\n",
    "\\phi = \\frac{GM}{r}\n",
    "$$"
   ]
  },
  {
   "cell_type": "markdown",
   "id": "67899c18",
   "metadata": {},
   "source": [
    "The gravitational potential is related to the gravitational potential energy by:"
   ]
  },
  {
   "cell_type": "markdown",
   "id": "3b5a9ef7",
   "metadata": {},
   "source": [
    "$$\n",
    "\\phi = \\frac{U}{m}\n",
    "$$"
   ]
  },
  {
   "cell_type": "markdown",
   "id": "22a29464",
   "metadata": {},
   "source": [
    "Gravitational potential doesn't depend on the mass of the attracted object, but only on the central mass creating the gravitational field. The gravitational field and potential are related by:"
   ]
  },
  {
   "cell_type": "markdown",
   "id": "e399b2cf",
   "metadata": {},
   "source": [
    "$$\n",
    "\\vec g = - \\nabla \\phi = -\\left( \\frac{\\partial \\phi}{\\partial x}, \\frac{\\partial \\phi}{\\partial y}, \n",
    "\\frac{\\partial \\phi}{\\partial z} \\right)\n",
    "$$"
   ]
  }
 ],
 "metadata": {
  "kernelspec": {
   "display_name": "Python 3 (ipykernel)",
   "language": "python",
   "name": "python3"
  },
  "language_info": {
   "codemirror_mode": {
    "name": "ipython",
    "version": 3
   },
   "file_extension": ".py",
   "mimetype": "text/x-python",
   "name": "python",
   "nbconvert_exporter": "python",
   "pygments_lexer": "ipython3",
   "version": "3.8.10"
  }
 },
 "nbformat": 4,
 "nbformat_minor": 5
}
