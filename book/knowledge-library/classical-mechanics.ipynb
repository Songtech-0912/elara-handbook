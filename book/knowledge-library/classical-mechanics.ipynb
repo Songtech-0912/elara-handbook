{
 "cells": [
  {
   "cell_type": "markdown",
   "id": "f632ce6e",
   "metadata": {},
   "source": [
    "# Classical mechanics"
   ]
  },
  {
   "cell_type": "markdown",
   "id": "1f25fd07",
   "metadata": {},
   "source": [
    "> \"The important thing is to never stop questioning.\"\n",
    ">\n",
    "> **Albert Einstein**\n",
    "\n",
    "For over 200 years, before the advent of 20th century relativistic and quantum physics, our view of the world was dominated by classical mechanics. From the foundation laid by Newton to the work of Lagrange and Euler and the masterminds of Faraday and Maxwell, classical mechanics set out to describe the world around us through concrete, physical laws, and still does so brilliantly. This guide aims to explain classical mechanics in as simple and elegant a way as possible, hopefully allowing you to soon have a working knowledge of mechanics with which to do physics."
   ]
  },
  {
   "cell_type": "markdown",
   "id": "e34bd92c",
   "metadata": {},
   "source": [
    "## Kinematics"
   ]
  },
  {
   "cell_type": "markdown",
   "id": "e14e456b",
   "metadata": {},
   "source": [
    "We can describe the location of a point through what is known as a position function. The position function $s(t)$ describes the location of an object through space at any given time. For example, imagine a position function as follows:"
   ]
  },
  {
   "cell_type": "markdown",
   "id": "65263aab",
   "metadata": {},
   "source": [
    "$$\n",
    "s(t) = 3t^{3}-5t+1\n",
    "$$"
   ]
  },
  {
   "cell_type": "markdown",
   "id": "b8ca2b9b",
   "metadata": {},
   "source": [
    "We adopt the convention in physics that positive numbers are used for positions to the top or right, and negative numbers are used for positions to the left or bottom.\n",
    "\n",
    "At $t = 0$, $s(t) = 1$, which means that the object is 1 meter to the right of the origin at that time. At $t = 1$, $s(t) = -1$, which means the object is 1 meter to the left of the origin. At $t = 2$, $s(t) = 15$, which means the object is 15 meters to the right of the origin."
   ]
  },
  {
   "cell_type": "markdown",
   "id": "2ca3f97d",
   "metadata": {},
   "source": [
    "Sometimes, we like to specify that $s(t)$ is moving along the x-direction, so we call it $x(t)$ instead. We can also specify that $s(t)$ is moving along the y-direction by calling it $y(t)$. The position function remains the same, just the direction of travel becomes different."
   ]
  },
  {
   "cell_type": "markdown",
   "id": "0edbc095",
   "metadata": {},
   "source": [
    "**Velocity** is the derivative of position with respect to time. That is:"
   ]
  },
  {
   "cell_type": "markdown",
   "id": "f0779729",
   "metadata": {},
   "source": [
    "$$\n",
    "v = \\frac{ds}{dt}\n",
    "$$"
   ]
  },
  {
   "cell_type": "markdown",
   "id": "1861b0bf",
   "metadata": {},
   "source": [
    "For example, given that $s(t) = 3t^3 - 5t + 1$, $v(t) = 9t^2 - 5$, as it is the derivative of $s(t)$."
   ]
  },
  {
   "cell_type": "markdown",
   "id": "f4088252",
   "metadata": {},
   "source": [
    "**Acceleration** is the derivative of velocity, which is the second derivative of position. That is:"
   ]
  },
  {
   "cell_type": "markdown",
   "id": "020b084d",
   "metadata": {},
   "source": [
    "$$\n",
    "a = \\frac{dv}{dt} = \\frac{d^2 s}{dt^2}\n",
    "$$"
   ]
  },
  {
   "cell_type": "markdown",
   "id": "4b4b76fc",
   "metadata": {},
   "source": [
    "From the same definitions, velocity is the integral of acceleration, and position is the integral of velocity:"
   ]
  },
  {
   "cell_type": "markdown",
   "id": "955c9602",
   "metadata": {},
   "source": [
    "$$\n",
    "v = \\int a dt\n",
    "$$\n",
    "\n",
    "$$\n",
    "s = \\int v dt\n",
    "$$"
   ]
  },
  {
   "cell_type": "markdown",
   "id": "bff39c63",
   "metadata": {},
   "source": [
    "Lastly, **displacement**, denoted by $\\Delta s$ (or $\\Delta x$ or $\\Delta y$) is the change in position between 2 times:"
   ]
  },
  {
   "cell_type": "markdown",
   "id": "10091105",
   "metadata": {},
   "source": [
    "$$\n",
    "\\Delta s = s(b) - s(a)\n",
    "$$"
   ]
  },
  {
   "cell_type": "markdown",
   "id": "26911d9b",
   "metadata": {},
   "source": [
    "### 1D projectile motion"
   ]
  },
  {
   "cell_type": "markdown",
   "id": "f2151161",
   "metadata": {},
   "source": [
    "The **kinematic equations** describe the motion of objects under constant acceleration. They are given as follows:"
   ]
  },
  {
   "cell_type": "markdown",
   "id": "7540d3d7",
   "metadata": {},
   "source": [
    "$$\n",
    "v = v_0 + at\n",
    "$$\n",
    "\n",
    "$$\n",
    "\\Delta s = \\left(\\frac{v + v_0}{2}\\right)\n",
    "$$\n",
    "\n",
    "$$\n",
    "\\Delta s = v_0 t + \\frac{1}{2} at^2\n",
    "$$\n",
    "\n",
    "$$\n",
    "v^2 = (v_0)^2 + 2a \\Delta x\n",
    "$$"
   ]
  },
  {
   "cell_type": "markdown",
   "id": "2b65a589",
   "metadata": {},
   "source": [
    "The kinematic equations are especially helpful when analyzing objects in free-fall, as all objects in free-fall - called projectiles - have a constant acceleration of $|g| = 9.81\\ \\mathrm{m/s^2}$. For example, suppose that a rock was thrown off a cliff from rest and took 5 seconds to hit the ground. We can write:"
   ]
  },
  {
   "cell_type": "markdown",
   "id": "ecc0259a",
   "metadata": {},
   "source": [
    "$$\n",
    "\\Delta y = v_0 (5) + \\frac{1}{2} a(5^2)\n",
    "$$"
   ]
  },
  {
   "cell_type": "markdown",
   "id": "d0d4b7ba",
   "metadata": {},
   "source": [
    "We know that the rock was thrown from rest, so $v_0 = 0$, allowing us to simplify to:"
   ]
  },
  {
   "cell_type": "markdown",
   "id": "0acd8095",
   "metadata": {},
   "source": [
    "$$\n",
    "\\Delta y = \\frac{1}{2} a (25)\n",
    "$$"
   ]
  },
  {
   "cell_type": "markdown",
   "id": "c92b7412",
   "metadata": {},
   "source": [
    "We know that the acceleration is $g = 9.81\\ \\mathrm{m/s^2}$, and as the acceleration is downwards, we write it as negative:"
   ]
  },
  {
   "cell_type": "markdown",
   "id": "d26e539e",
   "metadata": {},
   "source": [
    "$$\n",
    "\\Delta y = - \\frac{1}{2} (9.81)(25)\n",
    "$$"
   ]
  },
  {
   "cell_type": "markdown",
   "id": "365947fc",
   "metadata": {},
   "source": [
    "Which gives $\\Delta y = -122.625\\mathrm{\\ m}$, meaning that the rock dropped in the downwards direction 122 meters, so the cliff's height is also 122 meters."
   ]
  },
  {
   "cell_type": "markdown",
   "id": "b21f23b0",
   "metadata": {},
   "source": [
    "### 2D projectile motion"
   ]
  },
  {
   "cell_type": "markdown",
   "id": "6044bec1",
   "metadata": {},
   "source": [
    "To analyze projectile motion in two dimensions, we analyze the components of vertical and horizontal motion separately. To do this, we write the velocity as a 2D vector:"
   ]
  },
  {
   "cell_type": "markdown",
   "id": "9dc53d35",
   "metadata": {},
   "source": [
    "$$\n",
    "\\vec v = \\begin{bmatrix}\n",
    "v_x \\\\\n",
    "v_y\n",
    "\\end{bmatrix}\n",
    "$$"
   ]
  },
  {
   "cell_type": "markdown",
   "id": "2f77cd2d",
   "metadata": {},
   "source": [
    "Using basic trigonometry, we can find that:"
   ]
  },
  {
   "cell_type": "markdown",
   "id": "5f3842ce",
   "metadata": {},
   "source": [
    "$$\n",
    "v_x = \\vec v \\cos \\theta\n",
    "$$\n",
    "\n",
    "$$\n",
    "v_y = \\vec v \\sin \\theta\n",
    "$$"
   ]
  },
  {
   "cell_type": "markdown",
   "id": "6d135d2f",
   "metadata": {},
   "source": [
    "Where $\\theta$ is the angle of the vector from the horizontal."
   ]
  },
  {
   "cell_type": "markdown",
   "id": "fa314aa0",
   "metadata": {},
   "source": [
    "For a 2D projectile, one unique fact is that its horizontal velocity will always be the same as its initial horizontal velcity. That is:"
   ]
  },
  {
   "cell_type": "markdown",
   "id": "f53bc861",
   "metadata": {},
   "source": [
    "$$\n",
    "v_x = v_{0_x}\n",
    "$$"
   ]
  },
  {
   "cell_type": "markdown",
   "id": "91661a5d",
   "metadata": {},
   "source": [
    "Meanwhile, its vertical velocity follows the kinematic equation of freefall, with constant acceleration $g$. This means that:"
   ]
  },
  {
   "cell_type": "markdown",
   "id": "001c3450",
   "metadata": {},
   "source": [
    "$$\n",
    "v_y = v_{0_y} t + \\frac{1}{2} at^2\n",
    "$$"
   ]
  },
  {
   "cell_type": "markdown",
   "id": "6734fb60",
   "metadata": {},
   "source": [
    "And as $g$ is acting in the negative direction, we can write it as:"
   ]
  },
  {
   "cell_type": "markdown",
   "id": "ed3dbe24",
   "metadata": {},
   "source": [
    "$$\n",
    "v_y = v_{0_y} t - \\frac{1}{2} gt^2\n",
    "$$"
   ]
  },
  {
   "cell_type": "markdown",
   "id": "bc6915a8",
   "metadata": {},
   "source": [
    "Lastly, remember that we can rewrite $v_x$ and $v_y$ in terms of $\\vec v$ using trigonometry. Thus, the general equation of projectile motion of an object launched at angle $\\theta_0$ and initial velocity $\\vec v_0$ is:"
   ]
  },
  {
   "cell_type": "markdown",
   "id": "e9f2bd73",
   "metadata": {},
   "source": [
    "$$\n",
    "x(t) = \\vec v_0 \\cos \\theta_0 t\n",
    "$$\n",
    "\n",
    "$$\n",
    "y(t) = \\vec v_0 \\sin \\theta_0 t - \\frac{1}{2} gt^2\n",
    "$$"
   ]
  },
  {
   "cell_type": "markdown",
   "id": "2a2b2eea",
   "metadata": {},
   "source": [
    "A plot of the equation shows that it is correct:"
   ]
  },
  {
   "cell_type": "code",
   "execution_count": 7,
   "id": "a63a7c5a",
   "metadata": {},
   "outputs": [],
   "source": [
    "import matplotlib.pyplot as plt\n",
    "import numpy as np\n",
    "from matplotlib.colors import LinearSegmentedColormap"
   ]
  },
  {
   "cell_type": "code",
   "execution_count": 8,
   "id": "c787f948",
   "metadata": {},
   "outputs": [],
   "source": [
    "t = np.linspace(0, 10)\n",
    "v0 = 50\n",
    "theta0 = np.pi / 4 # 45 degrees\n",
    "g = 9.81\n",
    "x = v0 * np.cos(theta0) * t\n",
    "y = v0 * np.sin(theta0) * t - (1/2) * 9.81 * (t ** 2)"
   ]
  },
  {
   "cell_type": "code",
   "execution_count": 13,
   "id": "fb58d100",
   "metadata": {},
   "outputs": [
    {
     "data": {
      "image/png": "[encoded data removed]",
      "text/plain": [
       "<Figure size 640x480 with 1 Axes>"
      ]
     },
     "metadata": {},
     "output_type": "display_data"
    }
   ],
   "source": [
    "plt.plot(x, y)\n",
    "plt.title(\"Projectile 2D motion\")\n",
    "plt.xlim(0, 250)\n",
    "plt.ylim(0, 100)\n",
    "plt.show()"
   ]
  },
  {
   "cell_type": "markdown",
   "id": "4edf8380",
   "metadata": {},
   "source": [
    "## Newton's Laws"
   ]
  },
  {
   "cell_type": "markdown",
   "id": "67fbc0d6",
   "metadata": {},
   "source": [
    "In the late-1600s, Isaac Newton came up with a series of 3 laws to describe a more general set of moving objects, not limited to objects in freefall. These form the foundation of Newtonian physics."
   ]
  },
  {
   "cell_type": "markdown",
   "id": "966d4d6c",
   "metadata": {},
   "source": [
    "**Newton's 1st law** states that objects in constant motion remain in motion unless acted on by a net force. A net force occurs when the forces acting on an object are not balanced. This means that objects in constant motion can have forces acting on them, but no _net_ force, because all the forces are balanced."
   ]
  },
  {
   "cell_type": "markdown",
   "id": "c2aec2d1",
   "metadata": {},
   "source": [
    "**Newton's 2nd law** states that a net force acts on an object to accelerate it, or mathematically:"
   ]
  },
  {
   "cell_type": "markdown",
   "id": "30fa0b0f",
   "metadata": {},
   "source": [
    "$$\n",
    "F_{net} = \\sum F = ma\n",
    "$$"
   ]
  },
  {
   "cell_type": "markdown",
   "id": "dae3e25a",
   "metadata": {},
   "source": [
    "**Newton's 3rd law** states that for every action force, there is an equal and opposite reaction force opposing it."
   ]
  },
  {
   "cell_type": "markdown",
   "id": "108f444a",
   "metadata": {},
   "source": [
    "Of all of Newton's laws, it is the second that is the most typically helpful.\n",
    "\n",
    "To utilize Newton's 2nd law, we often like to draw free-body diagrams to illustrate all the forces on an object. Forces that are in the positive direction (usually up and right) are positive, and forces in the negative direction (usually down and left) are negative. For instance, consider a free-falling object, influenced only by the downward force of gravity:"
   ]
  },
  {
   "cell_type": "markdown",
   "id": "6247bd89",
   "metadata": {},
   "source": [
    "![Free body diagram single force](../images/fbd-gravity.png)"
   ]
  },
  {
   "cell_type": "markdown",
   "id": "724108b6",
   "metadata": {},
   "source": [
    "To apply Newton's 2nd law, we first sum all the forces to find the net force:"
   ]
  },
  {
   "cell_type": "markdown",
   "id": "b2c83ae5",
   "metadata": {},
   "source": [
    "$$\n",
    "F_{net} = \\sum F = 0 + (-F_g) = -F_g\n",
    "$$"
   ]
  },
  {
   "cell_type": "markdown",
   "id": "7cb5667d",
   "metadata": {},
   "source": [
    "Then, we equate the net force to $ma$:"
   ]
  },
  {
   "cell_type": "markdown",
   "id": "952fc99d",
   "metadata": {},
   "source": [
    "$$\n",
    "F_{net} = ma\n",
    "$$\n",
    "\n",
    "$$\n",
    "-F_g = ma\n",
    "$$"
   ]
  },
  {
   "cell_type": "markdown",
   "id": "a5e21e56",
   "metadata": {},
   "source": [
    "Given that the force of gravity close to Earth is given by $F_g = mg$, we can rewrite the last equation as:"
   ]
  },
  {
   "cell_type": "markdown",
   "id": "e29da060",
   "metadata": {},
   "source": [
    "$$\n",
    "-mg = ma\n",
    "$$"
   ]
  },
  {
   "cell_type": "markdown",
   "id": "05d2e5ce",
   "metadata": {},
   "source": [
    "Which we can simplify to:"
   ]
  },
  {
   "cell_type": "markdown",
   "id": "e59ce0d1",
   "metadata": {},
   "source": [
    "$$\n",
    "-g = a\n",
    "$$"
   ]
  },
  {
   "cell_type": "markdown",
   "id": "ad6fc6c5",
   "metadata": {},
   "source": [
    "To find the motion of the object, we need to recall that the acceleration is the second derivative of position, so:"
   ]
  },
  {
   "cell_type": "markdown",
   "id": "f99df2e7",
   "metadata": {},
   "source": [
    "$$\n",
    "-g = \\frac{d^2 s}{dt^2}\n",
    "$$"
   ]
  },
  {
   "cell_type": "markdown",
   "id": "582d1d5b",
   "metadata": {},
   "source": [
    "We can solve this differential equation by integrating both sides twice, to get:"
   ]
  },
  {
   "cell_type": "markdown",
   "id": "b0cb09d6",
   "metadata": {},
   "source": [
    "$$\n",
    "s(t) = v_0 t - \\frac{1}{2}gt^2 + h_0\n",
    "$$"
   ]
  },
  {
   "cell_type": "markdown",
   "id": "1993cd6b",
   "metadata": {},
   "source": [
    "A more difficult example is with the following system, where $F_T$ is the tension force, transmitted by the rope:"
   ]
  },
  {
   "cell_type": "markdown",
   "id": "72dd1eee",
   "metadata": {},
   "source": [
    "![Atwood's machine](https://upload.wikimedia.org/wikipedia/commons/c/cb/Atwood.svg)"
   ]
  },
  {
   "cell_type": "markdown",
   "id": "64a4f2dd",
   "metadata": {},
   "source": [
    "Here, to draw a free-body diagram, we \"unwrap\" and stretch out the system, then draw 2 separate free-body diagrams for each sub-system:"
   ]
  },
  {
   "cell_type": "markdown",
   "id": "15d228c6",
   "metadata": {},
   "source": [
    "![Free body diagram muliple force](../images/fbd-atwoods.png)"
   ]
  },
  {
   "cell_type": "markdown",
   "id": "abb6a929",
   "metadata": {},
   "source": [
    "From there we can apply the 2nd law individually to each system. For the first system:"
   ]
  },
  {
   "cell_type": "markdown",
   "id": "ebe22125",
   "metadata": {},
   "source": [
    "$$\n",
    "\\sum F = F_T + (-F_{g_1}) = m_1 a\n",
    "$$"
   ]
  },
  {
   "cell_type": "markdown",
   "id": "d442a644",
   "metadata": {},
   "source": [
    "Which we simplify to:"
   ]
  },
  {
   "cell_type": "markdown",
   "id": "53af39e6",
   "metadata": {},
   "source": [
    "$$\n",
    "F_T - F_{g_1} = m_1 a\n",
    "$$"
   ]
  },
  {
   "cell_type": "markdown",
   "id": "c5529d69",
   "metadata": {},
   "source": [
    "And recalling $F_g = mg$, we can further simplify with:"
   ]
  },
  {
   "cell_type": "markdown",
   "id": "2fb33923",
   "metadata": {},
   "source": [
    "$$\n",
    "F_T - m_1 g = m_1 a\n",
    "$$"
   ]
  },
  {
   "cell_type": "markdown",
   "id": "c0edf893",
   "metadata": {},
   "source": [
    "And for the second system:"
   ]
  },
  {
   "cell_type": "markdown",
   "id": "2eaaff0c",
   "metadata": {},
   "source": [
    "$$\n",
    "\\sum F = F_{g_2} + (-F_T) = m_2 a\n",
    "$$"
   ]
  },
  {
   "cell_type": "markdown",
   "id": "4f82f1b5",
   "metadata": {},
   "source": [
    "Which we can simplify to:"
   ]
  },
  {
   "cell_type": "markdown",
   "id": "0bba7775",
   "metadata": {},
   "source": [
    "$$\n",
    "F_{g_2} -F_T = m_2 a\n",
    "$$"
   ]
  },
  {
   "cell_type": "markdown",
   "id": "e393aa78",
   "metadata": {},
   "source": [
    "Again, we can use $F_g = mg$ to further simplify with:"
   ]
  },
  {
   "cell_type": "markdown",
   "id": "93a423c2",
   "metadata": {},
   "source": [
    "$$\n",
    "m_2 g - F_T = m_2 a\n",
    "$$"
   ]
  },
  {
   "cell_type": "markdown",
   "id": "b33f833d",
   "metadata": {},
   "source": [
    "We now have a simultaneous series of equations:"
   ]
  },
  {
   "cell_type": "markdown",
   "id": "bf81bb5c",
   "metadata": {},
   "source": [
    "$$\n",
    "F_T - m_1 g = m_1 a\n",
    "$$"
   ]
  },
  {
   "cell_type": "markdown",
   "id": "3a09abf4",
   "metadata": {},
   "source": [
    "$$\n",
    "m_2 g - F_T = m_2 a\n",
    "$$"
   ]
  },
  {
   "cell_type": "markdown",
   "id": "1ea69370",
   "metadata": {},
   "source": [
    "Solving them allows us to find the net acceleration of both systems:"
   ]
  },
  {
   "cell_type": "markdown",
   "id": "052efbe0",
   "metadata": {},
   "source": [
    "$$\n",
    "m_2 g - F_T = m_2 a\n",
    "$$\n",
    "\n",
    "$$\n",
    "m_2 g = F_T + m_2 a\n",
    "$$\n",
    "\n",
    "$$\n",
    "F_T = m_2 g - m_2 a\n",
    "$$\n",
    "\n",
    "$$\n",
    "F_T = m_1 a + m_1 g\n",
    "$$\n",
    "\n",
    "$$\n",
    "m_2 g - m_2 a = m_1 a + m_1 g\n",
    "$$\n",
    "\n",
    "$$\n",
    "m_2 g - m_1 g = m_1 a + m_2 a\n",
    "$$\n",
    "\n",
    "$$\n",
    "g(m_2 - m_1) = a(m_1 + m_2)\n",
    "$$\n",
    "\n",
    "$$\n",
    "a = \\frac{g(m_2 - m_1)}{m_1 + m_2}\n",
    "$$"
   ]
  },
  {
   "cell_type": "markdown",
   "id": "1fefaa47",
   "metadata": {},
   "source": [
    "We can also use the same equations to derive a value of the tension force:"
   ]
  },
  {
   "cell_type": "markdown",
   "id": "18bc3aaf",
   "metadata": {},
   "source": [
    "$$\n",
    "F_T = \\frac{2 m_1 m_2 g}{m_1 + m_2}\n",
    "$$"
   ]
  },
  {
   "cell_type": "markdown",
   "id": "a88ebc38",
   "metadata": {},
   "source": [
    "And the equation of motion for the entire system can be found by solving the differential equation, which is in turn found by substituting $a$ for the second derivative of position:"
   ]
  },
  {
   "cell_type": "markdown",
   "id": "b5c6f1a5",
   "metadata": {},
   "source": [
    "$$\n",
    "\\frac{d^2 s}{dt^2} = \\frac{g(m_2 - m_1)}{m_1 + m_2}\n",
    "$$"
   ]
  },
  {
   "cell_type": "markdown",
   "id": "991806e6",
   "metadata": {},
   "source": [
    "Using Newton's laws usually results in a second-order differential equation for a system - one typically not easily solved, and usually only solvable via computer."
   ]
  },
  {
   "cell_type": "markdown",
   "id": "ecbd2ef3",
   "metadata": {},
   "source": [
    "Finally, it is worth mentioning **Newton's law of universal gravitation**, which states the gravitational force between two _arbitrary_ distant masses (as opposed to close to Earth for $F_g = mg$) is given by:"
   ]
  },
  {
   "cell_type": "markdown",
   "id": "31aad188",
   "metadata": {},
   "source": [
    "$$\n",
    "F_g = -\\frac{G Mm}{r^2}\n",
    "$$"
   ]
  },
  {
   "cell_type": "markdown",
   "id": "c0468294",
   "metadata": {},
   "source": [
    "Where $G$ is the universal gravitational constant, and $G \\approx 6.67 \\times 10^{-11}$"
   ]
  },
  {
   "cell_type": "markdown",
   "id": "e24d4623",
   "metadata": {},
   "source": [
    "## Work, Energy, and Power"
   ]
  },
  {
   "cell_type": "markdown",
   "id": "f04b2357",
   "metadata": {},
   "source": [
    "Analyzing forces is one very good approach to finding the equations of motion for a system, but it has its drawbacks - the vector equation $F_{net} = ma$ is often long and tedious to solve for. Another approach - the work-energy approach - is often much easier and more helpful for arriving at a solution when analyzing a given system. "
   ]
  },
  {
   "cell_type": "markdown",
   "id": "47af0c3a",
   "metadata": {},
   "source": [
    "At its simplest, **work** is simply force exerted over a distance:"
   ]
  },
  {
   "cell_type": "markdown",
   "id": "58a1892e",
   "metadata": {},
   "source": [
    "$$\n",
    "W = \\int_{x_1}^{x_2} F dx\n",
    "$$"
   ]
  },
  {
   "cell_type": "markdown",
   "id": "13a17bc6",
   "metadata": {},
   "source": [
    "Kinetic energy $K$, the energy of moving objects, is equal to the work done to accelerate an object from rest to a velocity $v$. That is:"
   ]
  },
  {
   "cell_type": "markdown",
   "id": "3433c15a",
   "metadata": {},
   "source": [
    "$$\n",
    "K = \\int_{x_1}^{x_2} F dx = \\int_{x_1}^{x_2} ma dx = \n",
    "\\int_{x_1}^{x^2} m \\frac{dv}{dt} dx = \\int_{x_1}^{x^2} m \\frac{dv}{dx}\\frac{dx}{dt} dx = \\int_0^v mv dv = \\frac{1}{2} mv^2\n",
    "$$"
   ]
  },
  {
   "cell_type": "markdown",
   "id": "965a7580",
   "metadata": {},
   "source": [
    "For instance, a 1 kg object moving at $10 \\mathrm{\\ m/s}$ will have a kinetic energy of 50 Joules."
   ]
  },
  {
   "cell_type": "markdown",
   "id": "465476b6",
   "metadata": {},
   "source": [
    "Potential energy $U$, the energy possessed by objects due to their position or configuration, is given by:"
   ]
  },
  {
   "cell_type": "markdown",
   "id": "5bdf2bb2",
   "metadata": {},
   "source": [
    "$$\n",
    "U(x) = -\\int F dx\n",
    "$$"
   ]
  },
  {
   "cell_type": "markdown",
   "id": "ff8cc2ed",
   "metadata": {},
   "source": [
    "```{attention} Note about the potential energy equation\n",
    "Note that this equation only holds true for **conservative forces** in the single-variable case, where the work done is independent of the path taken.\n",
    "```"
   ]
  },
  {
   "cell_type": "markdown",
   "id": "0fd2f9d3",
   "metadata": {},
   "source": [
    "For gravity, this results in:"
   ]
  },
  {
   "cell_type": "markdown",
   "id": "f8e8ad8b",
   "metadata": {},
   "source": [
    "$$\n",
    "U_g (r) = -\\int - \\frac{G m_1 m_2}{r^2} dr = -\\frac{G Mm}{r}\n",
    "$$"
   ]
  },
  {
   "cell_type": "markdown",
   "id": "f56efa53",
   "metadata": {},
   "source": [
    "Note that an approximation for gravitational potential energy is $U_g = mgh$, which works close to Earth."
   ]
  },
  {
   "cell_type": "markdown",
   "id": "44bd38f4",
   "metadata": {},
   "source": [
    "For springs, where the elastic force is given by $F = -kx$, this results in:"
   ]
  },
  {
   "cell_type": "markdown",
   "id": "f77c17ca",
   "metadata": {},
   "source": [
    "$$\n",
    "U_s(x) = -\\int -kx dx = \\frac{1}{2} kx^2\n",
    "$$"
   ]
  },
  {
   "cell_type": "markdown",
   "id": "7e54ce51",
   "metadata": {},
   "source": [
    "For electrostatics, where the electrostatic force is given by $F = \\frac{kq_1 q_2}{r^2}$, this results in:"
   ]
  },
  {
   "cell_type": "markdown",
   "id": "97fcf509",
   "metadata": {},
   "source": [
    "$$\n",
    "U_e (r) = -\\int \\frac{kq_1 q_2}{r^2} dr = \\frac{kq_1 q_2}{r}\n",
    "$$"
   ]
  },
  {
   "cell_type": "markdown",
   "id": "27027367",
   "metadata": {},
   "source": [
    "The potential energy, when expressed as a quantity, is always taken _relative some reference point_. For a falling object, a common reference point is the surface of the Earth. This means that on the Earth's surface, an object has zero potential energy, while far from the Earth's surface, the object has maximal potential energy."
   ]
  },
  {
   "cell_type": "markdown",
   "id": "b89763d4",
   "metadata": {},
   "source": [
    "The **conservation of energy** states that the sum of potential and kinetic energy is constant - that is, the sum of inital potential and kinetic energy is equal to the sum of final kinetic potential and kinetic energy:"
   ]
  },
  {
   "cell_type": "markdown",
   "id": "d4cdb5b0",
   "metadata": {},
   "source": [
    "$$\n",
    "K_i + U_i = K_f + U_f\n",
    "$$"
   ]
  },
  {
   "cell_type": "markdown",
   "id": "bb29e5a2",
   "metadata": {},
   "source": [
    "For example, let's use the same cliff example as earlier, with the only difference being that we know that the final velocity of the falling object is $48.9\\mathrm{\\ m/s}$."
   ]
  },
  {
   "cell_type": "markdown",
   "id": "cf070ed5",
   "metadata": {},
   "source": [
    "Using the conservation of energy, we know that $K_i = 0$ (as the object is thrown from rest), and $U_f = 0$ (as the object is on the surface of the Earth, our reference point). So:"
   ]
  },
  {
   "cell_type": "markdown",
   "id": "51aa8b98",
   "metadata": {},
   "source": [
    "$$\n",
    "U_i = K_f\n",
    "$$"
   ]
  },
  {
   "cell_type": "markdown",
   "id": "dbfe88f8",
   "metadata": {},
   "source": [
    "$$\n",
    "mgh = \\frac{1}{2} m (v_f)^2\n",
    "$$"
   ]
  },
  {
   "cell_type": "markdown",
   "id": "64049de0",
   "metadata": {},
   "source": [
    "$$\n",
    "h = \\frac{1}{2} \\frac{m(v_f)^2}{g}\n",
    "$$"
   ]
  },
  {
   "cell_type": "markdown",
   "id": "f5e3cec4",
   "metadata": {},
   "source": [
    "Plugging in the values, this gives us the same answer of the height of the cliff: 122 meters! However, note that we didn't need to use any kinematic formulas, just an understanding of work and energy!"
   ]
  },
  {
   "cell_type": "markdown",
   "id": "d3804de6",
   "metadata": {},
   "source": [
    "## Momentum"
   ]
  },
  {
   "cell_type": "markdown",
   "id": "5a66baa9",
   "metadata": {},
   "source": [
    "**Momentum** is the product of mass and velocity:"
   ]
  },
  {
   "cell_type": "markdown",
   "id": "33fd695d",
   "metadata": {},
   "source": [
    "$$\n",
    "p = mv\n",
    "$$"
   ]
  },
  {
   "cell_type": "markdown",
   "id": "deb8e388",
   "metadata": {},
   "source": [
    "Which also makes the derivative of the momentum force:"
   ]
  },
  {
   "cell_type": "markdown",
   "id": "c699e5f7",
   "metadata": {},
   "source": [
    "$$\n",
    "F = \\frac{dp}{dt}\n",
    "$$"
   ]
  },
  {
   "cell_type": "markdown",
   "id": "288b2a35",
   "metadata": {},
   "source": [
    "And the (time) integral of force momentum:"
   ]
  },
  {
   "cell_type": "markdown",
   "id": "64ddd4ee",
   "metadata": {},
   "source": [
    "$$\n",
    "p = \\int F dt\n",
    "$$"
   ]
  },
  {
   "cell_type": "markdown",
   "id": "be1e84cf",
   "metadata": {},
   "source": [
    "Do not confuse this with potential energy, which is the position integral of force!"
   ]
  },
  {
   "cell_type": "markdown",
   "id": "4fd776d9",
   "metadata": {},
   "source": [
    "Momentum cannot be created nor destroyed; it can only be transferred between objects. This is the principle of the **conservation of momentum**:"
   ]
  },
  {
   "cell_type": "markdown",
   "id": "9e85cd4a",
   "metadata": {},
   "source": [
    "$$\n",
    "P_{A_i} + P_{B_i} = P_{A_i} + P_{B_f}\n",
    "$$"
   ]
  },
  {
   "cell_type": "markdown",
   "id": "205b509f",
   "metadata": {},
   "source": [
    "Or more generally:"
   ]
  },
  {
   "cell_type": "markdown",
   "id": "a69950ff",
   "metadata": {},
   "source": [
    "$$\n",
    "\\sum P_i = \\sum P_f\n",
    "$$"
   ]
  },
  {
   "cell_type": "markdown",
   "id": "2aef7cd5",
   "metadata": {},
   "source": [
    "**Impulse** is the change in momentum:"
   ]
  },
  {
   "cell_type": "markdown",
   "id": "05dce597",
   "metadata": {},
   "source": [
    "$$\n",
    "J = \\Delta P = \\int_{t_1}^{t_2} F dt\n",
    "$$"
   ]
  },
  {
   "cell_type": "markdown",
   "id": "e36d86be",
   "metadata": {},
   "source": [
    "## Fields"
   ]
  },
  {
   "cell_type": "markdown",
   "id": "bdb44bb2",
   "metadata": {},
   "source": [
    "A vector field is an object that spans all of space and assigns a vector to each point in space. For example, take the gravitational field, equivalent to the gravitational force exerted on a unit mass:"
   ]
  },
  {
   "cell_type": "markdown",
   "id": "48b310b6",
   "metadata": {},
   "source": [
    "$$\n",
    "\\vec g(r) = \\frac{GM}{r^2}\n",
    "$$"
   ]
  },
  {
   "cell_type": "markdown",
   "id": "a5b4f2a7",
   "metadata": {},
   "source": [
    "Here is a visualization of the gravitational field $\\vec g(r)$:"
   ]
  },
  {
   "cell_type": "code",
   "execution_count": 1,
   "id": "1827d3ca",
   "metadata": {},
   "outputs": [],
   "source": [
    "def plot_gfield():\n",
    "    \"\"\"\n",
    "    Plot vector field of gravity in polar coordinates\n",
    "    \"\"\"\n",
    "    G = 1\n",
    "    M = 1\n",
    "    radii = np.linspace(1, 3, 5)\n",
    "    thetas = np.linspace(0, 2 * np.pi, 20)\n",
    "    theta, r = np.meshgrid(thetas, radii)\n",
    "    R = -(G * M) / (r ** 2)\n",
    "\n",
    "    f = plt.figure()\n",
    "    ax = f.add_subplot(polar=True)\n",
    "    ax.quiver(theta, r, R * np.cos(theta), R * np.sin(theta))\n",
    "    plt.title(\"Gravitational vector field\")\n",
    "    plt.show()"
   ]
  },
  {
   "cell_type": "code",
   "execution_count": 4,
   "id": "32fd62c5",
   "metadata": {},
   "outputs": [
    {
     "data": {
      "image/png": "[encoded data removed]",
      "text/plain": [
       "<Figure size 640x480 with 1 Axes>"
      ]
     },
     "metadata": {},
     "output_type": "display_data"
    }
   ],
   "source": [
    "plot_gfield()"
   ]
  },
  {
   "cell_type": "markdown",
   "id": "a6ec897f",
   "metadata": {},
   "source": [
    "The gravitational field is related to the gravitational force by:"
   ]
  },
  {
   "cell_type": "markdown",
   "id": "1ef119bc",
   "metadata": {},
   "source": [
    "$$\n",
    "\\vec g = \\frac{F}{m}\n",
    "$$"
   ]
  },
  {
   "cell_type": "markdown",
   "id": "5f411143",
   "metadata": {},
   "source": [
    "A potential field, similar to a vector field, is an object that spans all of space and assigns a scalar potential to each point in space. The gravitional potential, equivalent to the gravitational potential energy exerted on a unit mass, is given by:"
   ]
  },
  {
   "cell_type": "markdown",
   "id": "51745109",
   "metadata": {},
   "source": [
    "$$\n",
    "\\phi = \\frac{GM}{r}\n",
    "$$"
   ]
  },
  {
   "cell_type": "markdown",
   "id": "6421617b",
   "metadata": {},
   "source": [
    "A visualization of the gravitational potential is shown below:"
   ]
  },
  {
   "cell_type": "code",
   "execution_count": 8,
   "id": "c7f2a1df",
   "metadata": {},
   "outputs": [],
   "source": [
    "def calc_div_grav():\n",
    "    %matplotlib inline\n",
    "    G = 1\n",
    "    M = 1\n",
    "    radii = np.linspace(0.4, 7, 50)\n",
    "    thetas = np.linspace(0, 2 * np.pi, 50)\n",
    "    R, T = np.meshgrid(radii, thetas)\n",
    "    Phi = -(G * M)/(R)\n",
    "    \n",
    "    # convert r, theta coordinates to\n",
    "    # cartesian x, y coordinates\n",
    "    X, Y = R*np.cos(T), R*np.sin(T)\n",
    "    \n",
    "    f = plt.figure(figsize=(7, 7))\n",
    "    ax = f.add_subplot(projection=\"3d\")\n",
    "    # Set the angle of the camera\n",
    "    ax.view_init(25, -45)\n",
    "    ax.set_zlim(-3, 3)\n",
    "    \n",
    "    # Colormap\n",
    "    cmap = LinearSegmentedColormap.from_list(\"\", [\"#D54C90\", \"#A37DF8\", \"#B3E6FF\"])\n",
    "    ax.plot_surface(X, Y, Phi,linewidth=0.1 ,\n",
    "                    cmap=cmap,\n",
    "                    alpha=1,\n",
    "                    cstride=2,\n",
    "                    rstride=2,\n",
    "                    edgecolors=\"black\")\n",
    "    plt.title(\"Gravitational potential field $\\Phi$\")\n",
    "    plt.grid()\n",
    "    plt.rcParams[\"figure.autolayout\"] \n",
    "    plt.show()"
   ]
  },
  {
   "cell_type": "code",
   "execution_count": 9,
   "id": "ebebaff5",
   "metadata": {},
   "outputs": [
    {
     "data": {
      "image/png": "[encoded data removed]",
      "text/plain": [
       "<Figure size 700x700 with 1 Axes>"
      ]
     },
     "metadata": {},
     "output_type": "display_data"
    }
   ],
   "source": [
    "calc_div_grav()"
   ]
  },
  {
   "cell_type": "markdown",
   "id": "67899c18",
   "metadata": {},
   "source": [
    "The gravitational potential is related to the gravitational potential energy by:"
   ]
  },
  {
   "cell_type": "markdown",
   "id": "3b5a9ef7",
   "metadata": {},
   "source": [
    "$$\n",
    "\\phi = \\frac{U}{m}\n",
    "$$"
   ]
  },
  {
   "cell_type": "markdown",
   "id": "22a29464",
   "metadata": {},
   "source": [
    "Gravitational potential doesn't depend on the mass of the attracted object, but only on the central mass creating the gravitational field. The gravitational field and potential are related by:"
   ]
  },
  {
   "cell_type": "markdown",
   "id": "e399b2cf",
   "metadata": {},
   "source": [
    "$$\n",
    "\\vec g = - \\nabla \\phi = -\\left( \\frac{\\partial \\phi}{\\partial x}, \\frac{\\partial \\phi}{\\partial y}, \n",
    "\\frac{\\partial \\phi}{\\partial z} \\right)\n",
    "$$"
   ]
  },
  {
   "cell_type": "markdown",
   "id": "461a2b00",
   "metadata": {},
   "source": [
    "The divergence of the gravitational field is given by:"
   ]
  },
  {
   "cell_type": "markdown",
   "id": "62613066",
   "metadata": {},
   "source": [
    "$$\n",
    "\\nabla \\cdot \\vec g = -4\\pi G \\rho\n",
    "$$"
   ]
  },
  {
   "cell_type": "markdown",
   "id": "71d758a1",
   "metadata": {},
   "source": [
    "Combining the two equations, we can find the gravitational potential in terms of its mass density (or more precisely, mass-energy density, due to mass-energy equivalence):"
   ]
  },
  {
   "cell_type": "markdown",
   "id": "844495be",
   "metadata": {},
   "source": [
    "$$\n",
    "\\vec g = - \\nabla \\Phi\n",
    "$$"
   ]
  },
  {
   "cell_type": "markdown",
   "id": "51222faa",
   "metadata": {},
   "source": [
    "$$\n",
    "\\nabla \\cdot - \\nabla \\Phi = \\nabla^2 \\Phi = 4 \\pi G \\rho\n",
    "$$"
   ]
  },
  {
   "cell_type": "markdown",
   "id": "dd1da12c",
   "metadata": {},
   "source": [
    "This is **Poisson's equation**:"
   ]
  },
  {
   "cell_type": "markdown",
   "id": "9e4d4468",
   "metadata": {},
   "source": [
    "$$\n",
    "\\nabla^2 \\Phi = 4 \\pi G \\rho\n",
    "$$"
   ]
  },
  {
   "cell_type": "markdown",
   "id": "b4d07d81",
   "metadata": {},
   "source": [
    "In empty space, the equation reduces to:"
   ]
  },
  {
   "cell_type": "markdown",
   "id": "70694201",
   "metadata": {},
   "source": [
    "$$\n",
    "\\nabla^2 \\Phi = 0\n",
    "$$"
   ]
  },
  {
   "cell_type": "markdown",
   "id": "f913251d",
   "metadata": {},
   "source": [
    "## Lagrangian Mechanics"
   ]
  },
  {
   "cell_type": "markdown",
   "id": "e8561a02",
   "metadata": {},
   "source": [
    "Newton's laws and energy are two approaches to solving for the equations of motion of an object. Here is a third approach - Lagrangian mechanics."
   ]
  },
  {
   "cell_type": "markdown",
   "id": "084c8ada",
   "metadata": {},
   "source": [
    "The **Lagrangian** is the difference of an object's kinetic and potential energies, and is denoted by:"
   ]
  },
  {
   "cell_type": "markdown",
   "id": "8ba3f96b",
   "metadata": {},
   "source": [
    "$$\n",
    "\\mathcal{L(x, \\dot x)} = K(\\dot x) - U(x)\n",
    "$$"
   ]
  },
  {
   "cell_type": "markdown",
   "id": "c7479331",
   "metadata": {},
   "source": [
    "Note that the dots are used for the time derivatives - that is, $\\dot x = \\frac{dx}{dt}$."
   ]
  },
  {
   "cell_type": "markdown",
   "id": "e7d5aff1",
   "metadata": {},
   "source": [
    "The **action** is the time integral of the Lagrangian:"
   ]
  },
  {
   "cell_type": "markdown",
   "id": "e350bb07",
   "metadata": {},
   "source": [
    "$$\n",
    "S = \\int_{t_1}^{t_2} \\mathcal{L} dt\n",
    "$$"
   ]
  },
  {
   "cell_type": "markdown",
   "id": "466f505d",
   "metadata": {},
   "source": [
    "The **principle of least action** states that for any given system, the action always stays constant:"
   ]
  },
  {
   "cell_type": "markdown",
   "id": "66f511b0",
   "metadata": {},
   "source": [
    "$$\n",
    "\\Delta S = 0\n",
    "$$"
   ]
  },
  {
   "cell_type": "markdown",
   "id": "12d2db42",
   "metadata": {},
   "source": [
    "But how can we use the principle of least action to derive the equations of motion of the system? To do this, we use the **calculus of variations**. We observe the change of the Lagrangian as we vary $x(t) \\rightarrow x(t) + \\epsilon(t)$. This means that:"
   ]
  },
  {
   "cell_type": "markdown",
   "id": "0d913351",
   "metadata": {},
   "source": [
    "$$\n",
    "\\mathcal{L}(x, \\dot x) \\rightarrow \\mathcal{L}(x + \\epsilon, \\dot x + \\dot \\epsilon)\n",
    "$$"
   ]
  },
  {
   "cell_type": "markdown",
   "id": "5995aa17",
   "metadata": {},
   "source": [
    "We can simplify by noting that the change in the Lagrangian can be split into two parts, one due to the change in $x$ and one due to the change in $\\dot x$:"
   ]
  },
  {
   "cell_type": "markdown",
   "id": "f6200bd4",
   "metadata": {},
   "source": [
    "$$\n",
    "d\\mathcal{L} = d\\mathcal{L}_x - d\\mathcal{L}_{\\dot x}\n",
    "$$"
   ]
  },
  {
   "cell_type": "markdown",
   "id": "cea71a6c",
   "metadata": {},
   "source": [
    "First, we can find the portion of the change of the Lagrangian due to the change in $x$ through:"
   ]
  },
  {
   "cell_type": "markdown",
   "id": "f02a86a8",
   "metadata": {},
   "source": [
    "$$\n",
    "d\\mathcal{L}_{x} = \\mathcal{L} (x + \\epsilon) - \\mathcal{L}(x) = \\frac{\\partial \\mathcal{L}}{\\partial x} \\epsilon\n",
    "$$"
   ]
  },
  {
   "cell_type": "markdown",
   "id": "78f7925f",
   "metadata": {},
   "source": [
    "Then, we can find the portion of the change of the Lagrangian due to the change in $\\dot x$ through:"
   ]
  },
  {
   "cell_type": "markdown",
   "id": "e34b02b1",
   "metadata": {},
   "source": [
    "$$\n",
    "d\\mathcal{L}_{\\dot x} = \\mathcal{L}(\\dot x + \\dot \\epsilon) - \\mathcal{L}(\\dot x) =\n",
    "\\frac{\\partial \\mathcal{L}}{\\partial \\dot x} \\dot \\epsilon = \n",
    "\\frac{d}{dt} \\frac{\\partial \\mathcal{L}}{\\partial \\dot x} \\epsilon\n",
    "$$"
   ]
  },
  {
   "cell_type": "markdown",
   "id": "cc092d9a",
   "metadata": {},
   "source": [
    "We demand that the action must be constant, so if we substitute the change of the Lagrangian into the action formula, we have:"
   ]
  },
  {
   "cell_type": "markdown",
   "id": "3c40d551",
   "metadata": {},
   "source": [
    "$$\n",
    "\\int_{t_1}^{t_2} \\epsilon \\left(\\frac{\\partial \\mathcal{L}}{\\partial x} - \\frac{d}{dt} \\frac{\\partial \\mathcal{L}}{\\partial \\dot x}\\right) dt = 0\n",
    "$$"
   ]
  },
  {
   "cell_type": "markdown",
   "id": "b007f15d",
   "metadata": {},
   "source": [
    "The only way this is true is if:"
   ]
  },
  {
   "cell_type": "markdown",
   "id": "c3265205",
   "metadata": {},
   "source": [
    "$$\n",
    "\\frac{d}{dt} \\frac{\\partial \\mathcal{L}}{\\partial \\dot x} = \\frac{\\partial \\mathcal{L}}{\\partial x}\n",
    "$$"
   ]
  },
  {
   "cell_type": "markdown",
   "id": "e2125d26",
   "metadata": {},
   "source": [
    "Rearranging, we have:"
   ]
  },
  {
   "cell_type": "markdown",
   "id": "71ada4d8",
   "metadata": {},
   "source": [
    "$$\n",
    "\\frac{d}{dt} \\frac{\\partial \\mathcal{L}}{\\partial \\dot x} - \\frac{\\partial \\mathcal{L}}{\\partial x} = 0\n",
    "$$"
   ]
  },
  {
   "cell_type": "markdown",
   "id": "321df9a3",
   "metadata": {},
   "source": [
    "This is the **Euler-Lagrange equation**, and it can be used to solve for the equations of motion as long as the Lagrangian is known."
   ]
  },
  {
   "cell_type": "markdown",
   "id": "042fe7e4",
   "metadata": {},
   "source": [
    "Note that for a more general set of coordinate systems, where the system is not one-dimensional motion along the $x$ axis, the Euler-Lagrange equation takes the form:"
   ]
  },
  {
   "cell_type": "markdown",
   "id": "712485c4",
   "metadata": {},
   "source": [
    "$$\n",
    "\\frac{d}{dt} \\frac{\\partial \\mathcal{L}}{\\partial \\dot q_i} - \\frac{\\partial \\mathcal{L}}{\\partial q_i} = 0\n",
    "$$"
   ]
  },
  {
   "cell_type": "markdown",
   "id": "6575bb55",
   "metadata": {},
   "source": [
    "And specifically when we are interested in solving for the motion of a system, and not just of one individual object, it should be noted that the kinetic and potential energies are those of the **system** - that is, the sum of the kinetic and potential energies of every object in the system:"
   ]
  },
  {
   "cell_type": "markdown",
   "id": "d71fce2e",
   "metadata": {},
   "source": [
    "$$\n",
    "K = \\sum_i K_i = K_1 + K_2 + K_3 + \\dots + K_n\n",
    "$$\n",
    "\n",
    "$$\n",
    "U = \\sum_i U_i = U_1 + U_2 + U_3 + \\dots + U_n\n",
    "$$"
   ]
  },
  {
   "cell_type": "markdown",
   "id": "9becb30d",
   "metadata": {},
   "source": [
    "### Using Lagrangian mechanics to solve the harmonic oscillator"
   ]
  },
  {
   "cell_type": "markdown",
   "id": "803e51fd",
   "metadata": {},
   "source": [
    "![Simple oscillator](../images/simple-oscillator.svg)"
   ]
  },
  {
   "cell_type": "markdown",
   "id": "e19e5700",
   "metadata": {},
   "source": [
    "For the single pendulum problem, we first find the equations $x(t)$ and $y(t)$ given our coordinate system. Our coordinate system is based on the point $(0, 0)$ located at the point where the pendulum is attached to the ceiling. Using basic trigonometry, we find that:"
   ]
  },
  {
   "cell_type": "markdown",
   "id": "80699850",
   "metadata": {},
   "source": [
    "$$\n",
    "x(t) = \\ell \\sin \\theta (t)\n",
    "$$\n",
    "\n",
    "$$\n",
    "y(t) = -\\ell \\cos \\theta (t)\n",
    "$$"
   ]
  },
  {
   "cell_type": "markdown",
   "id": "2455a02e",
   "metadata": {},
   "source": [
    "Where $y(t)$ is negative because the pendulum is at a negative height relative to our origin. Using our expressions for $x(t)$ and $y(t)$, we want to find the expression for the kinetic energy $K$. We know that:"
   ]
  },
  {
   "cell_type": "markdown",
   "id": "2f1c32a0",
   "metadata": {},
   "source": [
    "$$\n",
    "K = \\frac{1}{2} mv^2\n",
    "$$"
   ]
  },
  {
   "cell_type": "markdown",
   "id": "42b0eecc",
   "metadata": {},
   "source": [
    "And that:"
   ]
  },
  {
   "cell_type": "markdown",
   "id": "de875cc6",
   "metadata": {},
   "source": [
    "$$\n",
    "v = \\sqrt{v_x^2 + v_y^2} = \\sqrt{\\left(\\frac{dx}{dt}\\right)^2 + \\left(\\frac{dy}{dt}\\right)^2}\n",
    "$$"
   ]
  },
  {
   "cell_type": "markdown",
   "id": "5e024bbc",
   "metadata": {},
   "source": [
    "To do this, we solve for $\\frac{dx}{dt}$ and $\\frac{dy}{dt}$. This takes a bit of care, because we need to implicitly differentiate $x(t)$ and $y(t)$ with respect to $t$, where:"
   ]
  },
  {
   "cell_type": "markdown",
   "id": "0eceda5a",
   "metadata": {},
   "source": [
    "$$\n",
    "\\frac{dx}{dt} = \\frac{dx}{d\\theta} \\frac{d\\theta}{dt}\n",
    "$$"
   ]
  },
  {
   "cell_type": "markdown",
   "id": "c2f9dee1",
   "metadata": {},
   "source": [
    "$$\n",
    "\\frac{dy}{dt} = \\frac{dy}{d\\theta} \\frac{d\\theta}{dt}\n",
    "$$"
   ]
  },
  {
   "cell_type": "markdown",
   "id": "50634b1a",
   "metadata": {},
   "source": [
    "Implicitly differentiating, we have:"
   ]
  },
  {
   "cell_type": "markdown",
   "id": "f21c20d9",
   "metadata": {},
   "source": [
    "$$\n",
    "v_x = \\frac{dx}{dt} = \\ell \\cos \\theta \\frac{d\\theta}{dt}\n",
    "$$\n",
    "\n",
    "$$\n",
    "v_y = \\frac{dy}{dt} = \\ell \\sin \\theta \\frac{d\\theta}{dt}\n",
    "$$"
   ]
  },
  {
   "cell_type": "markdown",
   "id": "936a0900",
   "metadata": {},
   "source": [
    "Now, we plug our values for $v_x$ and $v_y$ into the kinetic energy equation, which gives us:"
   ]
  },
  {
   "cell_type": "markdown",
   "id": "7b5d04b7",
   "metadata": {},
   "source": [
    "$$\n",
    "K = \\frac{1}{2} m \\left(\\ell^2 \\cos^2 \\theta \\frac{d\\theta}{dt} + \\ell^2 \\sin^2 \\theta \\frac{d\\theta}{dt}\\right)\n",
    "$$"
   ]
  },
  {
   "cell_type": "markdown",
   "id": "263d3e96",
   "metadata": {},
   "source": [
    "If we do a little simplification by factoring and remembering that $\\cos^2 \\theta + \\sin^2 \\theta = 1$, we get:"
   ]
  },
  {
   "cell_type": "markdown",
   "id": "ae0fe6e3",
   "metadata": {},
   "source": [
    "$$\n",
    "K = \\frac{1}{2} m \\ell^2 \\left(\\frac{d\\theta}{dt}\\right)^2\n",
    "$$"
   ]
  },
  {
   "cell_type": "markdown",
   "id": "bfdd3547",
   "metadata": {},
   "source": [
    "Now we find the potential energy. Remember that close to Earth, the potential energy is determined by and only by the vertical distance between the origin (which is the reference height of zero) and the measured point. This means that:"
   ]
  },
  {
   "cell_type": "markdown",
   "id": "a527ff44",
   "metadata": {},
   "source": [
    "$$\n",
    "U = mgh\n",
    "$$"
   ]
  },
  {
   "cell_type": "markdown",
   "id": "d67f3949",
   "metadata": {},
   "source": [
    "The height in this case is negative (because it's below the origin) and we're only taking the vertical component of the height (hence $\\cos \\theta$) so:"
   ]
  },
  {
   "cell_type": "markdown",
   "id": "7ef04d68",
   "metadata": {},
   "source": [
    "$$\n",
    "U = -mg \\cos \\theta \\ell\n",
    "$$"
   ]
  },
  {
   "cell_type": "markdown",
   "id": "18921591",
   "metadata": {},
   "source": [
    "Putting it all together, our Lagrangian is:"
   ]
  },
  {
   "cell_type": "markdown",
   "id": "eeaf1a0d",
   "metadata": {},
   "source": [
    "$$\n",
    "\\mathcal{L} = \\frac{1}{2} m \\ell^2 \\left(\\frac{d\\theta}{dt}\\right)^2 + mg \\cos \\theta \\ell\n",
    "$$"
   ]
  },
  {
   "cell_type": "markdown",
   "id": "ed2f1aaa",
   "metadata": {},
   "source": [
    "Here, our coordinates are determined in terms of the angle $\\theta$ only, so the Euler-Lagrange equations take the form:"
   ]
  },
  {
   "cell_type": "markdown",
   "id": "7688d25e",
   "metadata": {},
   "source": [
    "$$\n",
    "\\frac{d}{dt} \\frac{\\partial \\mathcal{L}}{\\partial \\dot \\theta} - \\frac{\\partial \\mathcal{L}}{\\partial \\theta} = 0\n",
    "$$"
   ]
  },
  {
   "cell_type": "markdown",
   "id": "8e86dccf",
   "metadata": {},
   "source": [
    "If we plug this into the Euler-Lagrange equation, we get:"
   ]
  },
  {
   "cell_type": "markdown",
   "id": "355d7227",
   "metadata": {},
   "source": [
    "$$\n",
    "m \\frac{d^2 \\theta}{dt^2} \\ell^2 + mg \\sin \\theta \\ell = 0\n",
    "$$"
   ]
  },
  {
   "cell_type": "markdown",
   "id": "70f0258c",
   "metadata": {},
   "source": [
    "We can rewrite this as:"
   ]
  },
  {
   "cell_type": "markdown",
   "id": "6414acc5",
   "metadata": {},
   "source": [
    "$$\n",
    "m \\frac{d^2 \\theta}{dt^2} \\ell^2 = - mg \\sin \\theta \\ell\n",
    "$$"
   ]
  },
  {
   "cell_type": "markdown",
   "id": "cb7aa91e",
   "metadata": {},
   "source": [
    "And cancel out the common factors to yield:"
   ]
  },
  {
   "cell_type": "markdown",
   "id": "03934343",
   "metadata": {},
   "source": [
    "$$\n",
    "\\frac{d^2 \\theta}{dt^2} = - \\frac{g}{\\ell} \\sin \\theta\n",
    "$$"
   ]
  },
  {
   "cell_type": "markdown",
   "id": "56bc5243",
   "metadata": {},
   "source": [
    "We have arrived at our answer. This is the differential equation of the simple pendulum. Note that while this equation is impossible to solve analytically directly, we can use the small-angle approximation of $\\sin \\theta \\approx \\theta$ to get:"
   ]
  },
  {
   "cell_type": "markdown",
   "id": "6ce3da9f",
   "metadata": {},
   "source": [
    "$$\n",
    "\\frac{d^2 \\theta}{dt^2} = -\\frac{g}{\\ell} \\theta\n",
    "$$"
   ]
  },
  {
   "cell_type": "markdown",
   "id": "eb96dd18",
   "metadata": {},
   "source": [
    "Of which the solution is:"
   ]
  },
  {
   "cell_type": "markdown",
   "id": "7cdcd1c4",
   "metadata": {},
   "source": [
    "$$\n",
    "\\theta(t) = \\theta_{max} \\sin \\left(\\sqrt{\\frac{g}{\\ell}}t + \\phi_0 \\right)\n",
    "$$"
   ]
  },
  {
   "cell_type": "markdown",
   "id": "4c987512",
   "metadata": {},
   "source": [
    "### Using Lagrangian mechanics to solve the orbit equation"
   ]
  },
  {
   "cell_type": "markdown",
   "id": "c353d58f",
   "metadata": {},
   "source": [
    "We want to derive the orbit of Earth around the Sun. To do so, we again first derive the expressions for $x(t)$ and $y(t)$ in terms of the solar-earth system:"
   ]
  },
  {
   "cell_type": "markdown",
   "id": "984f7b66",
   "metadata": {},
   "source": [
    "$$\n",
    "x(t) = r(t) \\cos \\theta(t)\n",
    "$$\n",
    "\n",
    "$$\n",
    "y(t) = r(t) \\sin \\theta(t)\n",
    "$$"
   ]
  },
  {
   "cell_type": "markdown",
   "id": "a9ea0da1",
   "metadata": {},
   "source": [
    "Differentiating both (and remembering to use the product rule), we find that:"
   ]
  },
  {
   "cell_type": "markdown",
   "id": "32556d60",
   "metadata": {},
   "source": [
    "$$\n",
    "v_x(t) = \\cos \\theta(t) \\frac{dr}{dt} - r(t) \\sin \\theta (t) \\frac{d\\theta}{dt}\n",
    "$$\n",
    "\n",
    "$$\n",
    "v_y(t) = \\sin \\theta(t) \\frac{dr}{dt} + r(t) \\cos \\theta \\frac{d\\theta}{dt}\n",
    "$$"
   ]
  },
  {
   "cell_type": "markdown",
   "id": "3f8b5e07",
   "metadata": {},
   "source": [
    "Which we can use to find the kinetic energy (after lots of algebra and several passes at using the identity $\\sin^2 \\theta + \\cos^2 \\theta = 1$):"
   ]
  },
  {
   "cell_type": "markdown",
   "id": "c823b31e",
   "metadata": {},
   "source": [
    "$$\n",
    "K = \\frac{1}{2} m \\left[\\left(\\frac{dr}{dt}\\right)^2 + r^2 \\left(\\frac{d\\theta}{dt}\\right)^2\\right]\n",
    "$$"
   ]
  },
  {
   "cell_type": "markdown",
   "id": "ac93b75e",
   "metadata": {},
   "source": [
    "The potential energy is given by $U = -\\frac{GMm}{r}$, so the Lagrangian is:"
   ]
  },
  {
   "cell_type": "markdown",
   "id": "935ae8d1",
   "metadata": {},
   "source": [
    "$$\n",
    "\\mathcal{L} = \\frac{1}{2} m (\\dot r^2 + r^2 \\dot \\theta^2) + \\frac{GMm}{r}\n",
    "$$"
   ]
  },
  {
   "cell_type": "markdown",
   "id": "08b17474",
   "metadata": {},
   "source": [
    "Applying the Euler-Lagrange equations to each coordinate, $r$ and $\\theta$, present in the Lagrangian, we have:"
   ]
  },
  {
   "cell_type": "markdown",
   "id": "c7e263a3",
   "metadata": {},
   "source": [
    "$$\n",
    "\\frac{d}{dt} \\frac{\\partial \\mathcal{L}}{\\partial \\dot r} - \\frac{\\partial \\mathcal{L}}{\\partial r} = 0\n",
    "$$\n",
    "\n",
    "$$\n",
    "\\frac{d}{dt} \\frac{\\partial \\mathcal{L}}{\\partial \\dot \\theta} - \\frac{\\partial \\mathcal{L}}{\\partial \\theta} = 0\n",
    "$$"
   ]
  },
  {
   "cell_type": "markdown",
   "id": "ebbf2a45",
   "metadata": {},
   "source": [
    "Solving both equations yields the equations of motion for the Earth:"
   ]
  },
  {
   "cell_type": "markdown",
   "id": "e18931e7",
   "metadata": {},
   "source": [
    "$$\n",
    "\\frac{d^2 r}{dt^2} = r \\left(\\frac{d\\theta}{dt}\\right)^2 - \\frac{GM}{r^2}\n",
    "$$\n",
    "\n",
    "$$\n",
    "\\frac{d^2 \\theta}{dt^2} = - \\frac{2}{r} \\frac{dr}{dt} \\frac{d\\theta}{dt} \n",
    "$$"
   ]
  },
  {
   "cell_type": "markdown",
   "id": "e4e5b390",
   "metadata": {},
   "source": [
    "These can be solved analytically, but for the sake of simplicity here they will be solved using a numerical differential equation solver:"
   ]
  },
  {
   "cell_type": "code",
   "execution_count": 42,
   "id": "065c08c6",
   "metadata": {},
   "outputs": [],
   "source": [
    "from scipy.integrate import solve_ivp"
   ]
  },
  {
   "cell_type": "code",
   "execution_count": 48,
   "id": "c74334db",
   "metadata": {},
   "outputs": [],
   "source": [
    "def newtonian_d_dt(t, X, G=6.67e-11, M=2e30):\n",
    "    r, theta, u, v = X\n",
    "    dr_dt = u\n",
    "    dtheta_dt = v\n",
    "    du_dt = r * v ** 2 -(G * M) / (r ** 2) \n",
    "    dv_dt = -(2 * u * v) / r\n",
    "    return dr_dt, dtheta_dt, du_dt, dv_dt"
   ]
  },
  {
   "cell_type": "code",
   "execution_count": 49,
   "id": "a9ea9089",
   "metadata": {},
   "outputs": [],
   "source": [
    "r0 = 1.5e11\n",
    "theta0 = np.pi/2\n",
    "u0 = 0\n",
    "v0 = 1.99e-7 # 2pi / 365 days\n",
    "newtonian_initial = [r0, theta0, u0, v0]"
   ]
  },
  {
   "cell_type": "code",
   "execution_count": 50,
   "id": "e08be656",
   "metadata": {},
   "outputs": [],
   "source": [
    "tmax = 365 * 24 * 60 * 60 # 1 year\n",
    "samples = 5000\n",
    "t = np.linspace(0, tmax, samples)\n",
    "newtonian = solve_ivp(newtonian_d_dt, (0, tmax), y0=newtonian_initial, dense_output=True)\n",
    "sol = newtonian.sol(t)"
   ]
  },
  {
   "cell_type": "code",
   "execution_count": 51,
   "id": "d1154b14",
   "metadata": {},
   "outputs": [
    {
     "data": {
      "image/png": "[encoded data removed]",
      "text/plain": [
       "<Figure size 640x480 with 1 Axes>"
      ]
     },
     "metadata": {},
     "output_type": "display_data"
    }
   ],
   "source": [
    "fig = plt.figure()\n",
    "ax = plt.axes()\n",
    "\n",
    "r = sol[0]\n",
    "theta = sol[1]\n",
    "\n",
    "# Convert from polar to cartesian\n",
    "x1 = r * np.cos(theta)\n",
    "y1 = r * np.sin(theta)\n",
    "\n",
    "ax.plot(x1, y1)\n",
    "ax.set_title('Plot of Newtonian orbit')\n",
    "plt.show()"
   ]
  },
  {
   "cell_type": "markdown",
   "id": "a817d9ac",
   "metadata": {},
   "source": [
    "As it can be seen, the orbit is a ellipse, and we have arrived at this result using Lagrangian mechanics!"
   ]
  },
  {
   "cell_type": "markdown",
   "id": "dcb5646c",
   "metadata": {},
   "source": [
    "### Using Lagrangians to solve the double pendulum problem"
   ]
  },
  {
   "cell_type": "markdown",
   "id": "abb00654",
   "metadata": {},
   "source": [
    "We will now tackle a problem that would be very difficult to solve using Newton's laws, but much easier with Lagrangian mechanics. Here we have a system as follows:"
   ]
  },
  {
   "cell_type": "markdown",
   "id": "bb8b0fec",
   "metadata": {},
   "source": [
    "![Double pendulum](../images/double-pendulum.svg)"
   ]
  },
  {
   "cell_type": "markdown",
   "id": "cde5c1ed",
   "metadata": {},
   "source": [
    "Here, the notable difference is that we have a **system** as opposed to a single object, and we need to find the kinetic and potential energies of the entire system. To do this, we divide the kinetic and potential energies into two parts:"
   ]
  },
  {
   "cell_type": "markdown",
   "id": "4826ca5b",
   "metadata": {},
   "source": [
    "$$\n",
    "K = K_1 + K_2\n",
    "$$\n",
    "\n",
    "$$\n",
    "U = U_1 + U_2\n",
    "$$"
   ]
  },
  {
   "cell_type": "markdown",
   "id": "18417462",
   "metadata": {},
   "source": [
    "Where $K_1$ and $K_2$ are respectively the kinetic energies of the first pendulum mass and second pendulum mass, and likewise with $U_1$ and $U_2$ and their potential energies."
   ]
  },
  {
   "cell_type": "markdown",
   "id": "27706bbd",
   "metadata": {},
   "source": [
    "We will first derive the kinetic energies, because they are harder :( As we know, we first setup a coordinate system where the point $(0, 0)$ is centered on the point the double pendulum is attached to the ceiling. Then, we write the position functions of the first pendulum:"
   ]
  },
  {
   "cell_type": "markdown",
   "id": "a1de65e7",
   "metadata": {},
   "source": [
    "$$\n",
    "x_1(t) = \\ell_1 \\sin \\theta_1 (t)\n",
    "$$\n",
    "\n",
    "$$\n",
    "y_1(t) = -\\ell_1 \\cos \\theta_1 (t)\n",
    "$$"
   ]
  },
  {
   "cell_type": "markdown",
   "id": "9f85a46d",
   "metadata": {},
   "source": [
    "We figure these out from basic trigonometry and the fact that $y_1(t)$ is negative, as it is below the origin. We then take the derivatives to find the $x$ and $y$ components of the velocity:"
   ]
  },
  {
   "cell_type": "markdown",
   "id": "d907ba9b",
   "metadata": {},
   "source": [
    "$$\n",
    "\\frac{dx_1}{dt} = \\ell_1 \\cos \\theta_1 (t) \\frac{d\\theta_1}{dt}\n",
    "$$\n",
    "\n",
    "$$\n",
    "\\frac{dy_1}{dt} = \\ell_1 \\sin \\theta_1 (t) \\frac{d\\theta_1}{dt}\n",
    "$$"
   ]
  },
  {
   "cell_type": "markdown",
   "id": "1a6c113d",
   "metadata": {},
   "source": [
    "Using this, we can find $K_1$:"
   ]
  },
  {
   "cell_type": "markdown",
   "id": "19db8dc2",
   "metadata": {},
   "source": [
    "$$\n",
    "K_1 = \\frac{1}{2} m_1 \\left(\\dot x_1^2 + \\dot y_1^2\\right)\n",
    "$$"
   ]
  },
  {
   "cell_type": "markdown",
   "id": "2f0893c2",
   "metadata": {},
   "source": [
    "$$\n",
    "K_1 = \\frac{1}{2} m_1 \\left[ \\left(\\ell_1 \\cos \\theta_1 (t) \\frac{d\\theta_1}{dt} \\right)^2 + \n",
    "\\left(\\ell_1 \\sin \\theta_1 (t) \\frac{d\\theta_1}{dt}\\right)^2 \\right]\n",
    "$$"
   ]
  },
  {
   "cell_type": "markdown",
   "id": "ff81f23d",
   "metadata": {},
   "source": [
    "Using the trig identity $\\sin^2 \\theta + \\cos^2 \\theta = 1$, this is trivial to simplify into:"
   ]
  },
  {
   "cell_type": "markdown",
   "id": "da75773d",
   "metadata": {},
   "source": [
    "$$\n",
    "K_1 = \\frac{1}{2} m_1 \\ell_1^2 \\left(\\frac{d\\theta}{dt}\\right)^2\n",
    "$$"
   ]
  },
  {
   "cell_type": "markdown",
   "id": "1c68e6f7",
   "metadata": {},
   "source": [
    "Then, we write the position functions of the second pendulum:"
   ]
  },
  {
   "cell_type": "markdown",
   "id": "3e8be654",
   "metadata": {},
   "source": [
    "$$\n",
    "x_2 (t) = x_1(t) + \\ell_2 \\sin \\theta_2 (t)\n",
    "$$\n",
    "\n",
    "$$\n",
    "y_2 (t) = y_1(t) + (- \\ell_2 \\cos \\theta_2 (t))\n",
    "$$"
   ]
  },
  {
   "cell_type": "markdown",
   "id": "2a025e73",
   "metadata": {},
   "source": [
    "Here, we add the $x$ and $y$ displacement of the second pendulum with the $x$ and $y$ displacement of the first to find the total displacement from the origin, because remember, we're using the _same_ coordinate system for both pendulums. If we sub in the values of $x_1(t)$ and $y_1(t)$, we have:"
   ]
  },
  {
   "cell_type": "markdown",
   "id": "b5ae54b1",
   "metadata": {},
   "source": [
    "$$\n",
    "x_2 (t) = \\ell_1 \\sin \\theta_1 (t) + \\ell_2 \\sin \\theta_2 (t)\n",
    "$$\n",
    "\n",
    "$$\n",
    "y_2 (t) = - \\ell_1 \\cos \\theta_1 (t) - \\ell_2 \\cos \\theta_2 (t))\n",
    "$$"
   ]
  },
  {
   "cell_type": "markdown",
   "id": "374c96b0",
   "metadata": {},
   "source": [
    "We compute their derivatives:"
   ]
  },
  {
   "cell_type": "markdown",
   "id": "57b24f62",
   "metadata": {},
   "source": [
    "$$\n",
    "\\frac{dx_2}{dt} = \\ell_1 \\cos \\theta_1 (t) \\frac{d\\theta_1}{dt} + \\ell_2 \\cos \\theta_2(t) \\frac{d\\theta_2}{dt}\n",
    "$$\n",
    "\n",
    "$$\n",
    "\\frac{dy_2}{dt} = \\ell_1 \\sin \\theta_1(t) \\frac{d\\theta_1}{dt} + \\ell_2 \\sin \\theta_2(t) \\frac{d\\theta_2}{dt}\n",
    "$$"
   ]
  },
  {
   "cell_type": "markdown",
   "id": "c603bbd1",
   "metadata": {},
   "source": [
    "And then plug them into the kinetic energy formula to find:"
   ]
  },
  {
   "cell_type": "markdown",
   "id": "d21ca6d1",
   "metadata": {},
   "source": [
    "$$\n",
    "K_2 = \\frac{1}{2} m_2 \\left[\n",
    "\\left(\\ell_1 \\cos \\theta_1 (t) \\frac{d\\theta_1}{dt} + \\ell_2 \\cos \\theta_2(t) \\frac{d\\theta_2}{dt}\\right)^2 +\n",
    "\\left(\\ell_1 \\sin \\theta_1(t) \\frac{d\\theta_1}{dt} + \\ell_2 \\sin \\theta_2(t) \\frac{d\\theta_2}{dt}\\right)^2\n",
    "\\right]\n",
    "$$"
   ]
  },
  {
   "cell_type": "markdown",
   "id": "b3eaa9c6",
   "metadata": {},
   "source": [
    "Expanding that out, and using $\\sin^2 \\theta + \\cos^2 \\theta = 1$ to simplify, we have:"
   ]
  },
  {
   "cell_type": "markdown",
   "id": "dd75a89f",
   "metadata": {},
   "source": [
    "$$\n",
    "K_2 = \\frac{1}{2} m_2 \\left[\n",
    "\\ell_1^2 \\left(\\frac{d\\theta_1}{dt}\\right)^2 + 2\\ell_1 \\ell_2 \\frac{d\\theta_1}{dt} \\frac{d\\theta_2}{dt}\n",
    "(\\cos \\theta_1 \\cos \\theta_2 + \\sin \\theta_2 \\sin \\theta_2) + \\ell_2^2 \\left(\\frac{d\\theta_2}{dt}\\right)^2\n",
    "\\right]\n",
    "$$"
   ]
  },
  {
   "cell_type": "markdown",
   "id": "08847438",
   "metadata": {},
   "source": [
    "Here, we can use the identity $\\cos x \\cos y + \\sin x \\sin y = \\cos (x - y)$ to simplify to:"
   ]
  },
  {
   "cell_type": "markdown",
   "id": "a0624d4c",
   "metadata": {},
   "source": [
    "$$\n",
    "K_2 = \\frac{1}{2} m_2 \\left[\n",
    "\\ell_1^2 \\left(\\frac{d\\theta_1}{dt}\\right)^2 + 2\\ell_1 \\ell_2 \\frac{d\\theta_1}{dt} \\frac{d\\theta_2}{dt} \\cos (\\theta_1 - \\theta_2) + \\ell_2^2 \\left(\\frac{d\\theta_2}{dt}\\right)^2\n",
    "\\right]\n",
    "$$"
   ]
  },
  {
   "cell_type": "markdown",
   "id": "60c48ee0",
   "metadata": {},
   "source": [
    "Now, combining the two kinetic energies together, we end up with:"
   ]
  },
  {
   "cell_type": "markdown",
   "id": "1cf27484",
   "metadata": {},
   "source": [
    "$$\n",
    "K = \\frac{1}{2} m_1 \\ell_1^2 \\left(\\frac{d\\theta}{dt}\\right)^2 + \\frac{1}{2} m_2 \\left[\n",
    "\\ell_1^2 \\left(\\frac{d\\theta_1}{dt}\\right)^2 + 2\\ell_1 \\ell_2 \\frac{d\\theta_1}{dt} \\frac{d\\theta_2}{dt} \\cos (\\theta_1 - \\theta_2) + \\ell_2^2 \\left(\\frac{d\\theta_2}{dt}\\right)^2\n",
    "\\right]\n",
    "$$"
   ]
  },
  {
   "cell_type": "markdown",
   "id": "be266e3d",
   "metadata": {},
   "source": [
    "We use a similar approach for the potential energies - we add the potential energy of the first pendulum and the second to find the total system's potential energy:"
   ]
  },
  {
   "cell_type": "markdown",
   "id": "16d10072",
   "metadata": {},
   "source": [
    "$$\n",
    "U = U_1 + U_2\n",
    "$$"
   ]
  },
  {
   "cell_type": "markdown",
   "id": "43187116",
   "metadata": {},
   "source": [
    "$$\n",
    "U = m_1 g (-\\ell_1 \\cos \\theta_1 (t) ) + m_2 g (-\\ell_1 \\cos \\theta_1(t) - \\ell_2 \\cos \\theta_2(t))\n",
    "$$"
   ]
  },
  {
   "cell_type": "markdown",
   "id": "dbbc2d94",
   "metadata": {},
   "source": [
    "After factoring, we have:"
   ]
  },
  {
   "cell_type": "markdown",
   "id": "8c99e01e",
   "metadata": {},
   "source": [
    "$$\n",
    "U = -(m_1 + m_2) g \\ell_1 \\cos \\theta_1(t) - m_2 g \\ell_2 \\cos \\theta_2 (t)\n",
    "$$"
   ]
  },
  {
   "cell_type": "markdown",
   "id": "fcf3cfe9",
   "metadata": {},
   "source": [
    "Using $\\mathcal{L} = K - U$, we substitute into the two Euler-Lagrange equations (one for $\\theta_1$ and one for $\\theta_2$):"
   ]
  },
  {
   "cell_type": "markdown",
   "id": "f85737b7",
   "metadata": {},
   "source": [
    "$$\n",
    "\\frac{d}{dt} \\frac{\\partial \\mathcal{L}}{\\partial \\dot \\theta_1} - \\frac{\\partial \\mathcal{L}}{\\partial \\theta_2} = 0\n",
    "$$\n",
    "\n",
    "$$\n",
    "\\frac{d}{dt} \\frac{\\partial \\mathcal{L}}{\\partial \\dot \\theta_1} - \\frac{\\partial \\mathcal{L}}{\\partial \\theta_2} = 0\n",
    "$$"
   ]
  },
  {
   "cell_type": "markdown",
   "id": "0e2da808",
   "metadata": {},
   "source": [
    "With the Lagrangian:"
   ]
  },
  {
   "cell_type": "markdown",
   "id": "e557626d",
   "metadata": {},
   "source": [
    "$$\n",
    "\\mathcal{L} = \\frac{1}{2} m_1 \\ell_1^2 \\left(\\frac{d\\theta}{dt}\\right)^2 + \\frac{1}{2} m_2 \\left[\n",
    "\\ell_1^2 \\left(\\frac{d\\theta_1}{dt}\\right)^2 + 2\\ell_1 \\ell_2 \\frac{d\\theta_1}{dt} \\frac{d\\theta_2}{dt} \\cos (\\theta_1 - \\theta_2) + \\ell_2^2 \\left(\\frac{d\\theta_2}{dt}\\right)^2\n",
    "\\right]\n",
    "+ (m_1 + m_2) g \\ell_1 \\cos \\theta_1(t) + m_2 g \\ell_2 \\cos \\theta_2 (t)\n",
    "$$"
   ]
  },
  {
   "cell_type": "markdown",
   "id": "c7d68024",
   "metadata": {},
   "source": [
    "To find the equations of motion ([source](https://diego.assencio.com/?index=1500c66ae7ab27bb0106467c68feebc6)):"
   ]
  },
  {
   "cell_type": "markdown",
   "id": "27c59b57",
   "metadata": {},
   "source": [
    "$$\n",
    "(m_1 + m_2) l_1 \\ddot{\\theta}_1 + m_2 l_2 \\ddot{\\theta}_2 \\cos(\\theta_1 - \\theta_2) + m_2 l_2 \\dot{\\theta}_2^2\\sin(\\theta_1 - \\theta_2) + (m_1 + m_2) g \\sin\\theta_1 = 0\n",
    "$$\n",
    "\n",
    "$$\n",
    "l_2 \\ddot{\\theta}_2 + l_1 \\ddot{\\theta}_1 \\cos(\\theta_1 - \\theta_2)\n",
    "- l_1 \\dot{\\theta}_1^2 \\sin(\\theta_1 - \\theta_2)  + g \\sin\\theta_2 = 0\n",
    "$$"
   ]
  },
  {
   "cell_type": "markdown",
   "id": "a573b6c0",
   "metadata": {},
   "source": [
    "These equations are completely unsolvable analytically, but they can be solved numerically to yield the position of a double pendulum with time."
   ]
  },
  {
   "cell_type": "markdown",
   "id": "d50d131d",
   "metadata": {},
   "source": [
    "### Langrangian to Newtonian mechanics"
   ]
  },
  {
   "cell_type": "markdown",
   "id": "f98156f8",
   "metadata": {},
   "source": [
    "Let's see how we can recover Newton's 2nd law from the Euler-Lagrange equation. Remember that the equation (in the case of one-dimenional motion along the $x$ axis) is given by:"
   ]
  },
  {
   "cell_type": "markdown",
   "id": "357b86ca",
   "metadata": {},
   "source": [
    "$$\n",
    "\\frac{d}{dt}\\frac{\\partial \\mathcal{L}}{\\partial \\dot x} = \\frac{\\partial \\mathcal{L}}{\\partial x}\n",
    "$$"
   ]
  },
  {
   "cell_type": "markdown",
   "id": "249e7b13",
   "metadata": {},
   "source": [
    "And remember that the Lagrangian is given by:"
   ]
  },
  {
   "cell_type": "markdown",
   "id": "c7ab2bb3",
   "metadata": {},
   "source": [
    "$$\n",
    "\\mathcal{L} = \\frac{1}{2} m \\dot x^2 - U(x)\n",
    "$$"
   ]
  },
  {
   "cell_type": "markdown",
   "id": "dbd45a07",
   "metadata": {},
   "source": [
    "Applying the Euler-Lagrange equations to the general Lagrangian, we get:"
   ]
  },
  {
   "cell_type": "markdown",
   "id": "1ea552a1",
   "metadata": {},
   "source": [
    "$$\n",
    "m \\ddot x = -\\frac{dU}{dx}\n",
    "$$"
   ]
  },
  {
   "cell_type": "markdown",
   "id": "d75f4eeb",
   "metadata": {},
   "source": [
    "Recalling that $F = -\\frac{dU}{dx}$ and $\\ddot x = a$, we have recovered Newton's 2nd law!"
   ]
  },
  {
   "cell_type": "markdown",
   "id": "fb7e7f0d",
   "metadata": {},
   "source": [
    "$$\n",
    "F = ma\n",
    "$$"
   ]
  },
  {
   "cell_type": "markdown",
   "id": "df6f0c90",
   "metadata": {},
   "source": [
    "We can even use Lagrangian mechanics on simple problems and check that it matches with Newtonian mechanics. Let's do our freefall example from earlier. With $K = \\frac{1}{2} m \\dot y^2$ and $U = mgy$, we use the Euler-Lagrange equations to find:"
   ]
  },
  {
   "cell_type": "markdown",
   "id": "fdf0f44e",
   "metadata": {},
   "source": [
    "$$\n",
    "m \\frac{d^2 y}{dt^2} = - mg\n",
    "$$"
   ]
  },
  {
   "cell_type": "markdown",
   "id": "23b586c7",
   "metadata": {},
   "source": [
    "Which we can simplify to:"
   ]
  },
  {
   "cell_type": "markdown",
   "id": "ed297727",
   "metadata": {},
   "source": [
    "$$\n",
    "a_y = -g\n",
    "$$"
   ]
  },
  {
   "cell_type": "markdown",
   "id": "17a3ba5c",
   "metadata": {},
   "source": [
    "Which reproduces the Newtonian result!"
   ]
  }
 ],
 "metadata": {
  "kernelspec": {
   "display_name": "Python 3 (ipykernel)",
   "language": "python",
   "name": "python3"
  },
  "language_info": {
   "codemirror_mode": {
    "name": "ipython",
    "version": 3
   },
   "file_extension": ".py",
   "mimetype": "text/x-python",
   "name": "python",
   "nbconvert_exporter": "python",
   "pygments_lexer": "ipython3",
   "version": "3.11.4"
  }
 },
 "nbformat": 4,
 "nbformat_minor": 5
}
