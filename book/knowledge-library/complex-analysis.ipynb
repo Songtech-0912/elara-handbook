{
 "cells": [
  {
   "cell_type": "markdown",
   "id": "34a5b320",
   "metadata": {},
   "source": [
    "# Complex numbers"
   ]
  },
  {
   "cell_type": "markdown",
   "id": "0a775af4",
   "metadata": {},
   "source": [
    "> \"Life is complex sometimes\"\n",
    "> \n",
    "> **Unknown author**"
   ]
  },
  {
   "cell_type": "markdown",
   "id": "b76d4554",
   "metadata": {},
   "source": [
    "Typically, the spirit of the Elara handbook is to present all the ideas of a topic at once, without a lot of prior background knowledge. However, for quantum mechanics, it is _especially_ good to get a grasp of complex numbers, because the use of complex numbers often makes the mathematical formalism of quantum mechanics foreign and indecipherable. So dive in, enjoy, and let's see how an mathematical idea that was once said to exist \"only in our minds\" would turn out to be one of the most invaluable tools to solve real-world problems..."
   ]
  },
  {
   "cell_type": "markdown",
   "id": "3bed5cc8",
   "metadata": {},
   "source": [
    "## Imaginary and complex numbers"
   ]
  },
  {
   "cell_type": "markdown",
   "id": "378fc36c",
   "metadata": {},
   "source": [
    "Say we were struggling with a problem. In fact, a very peculiar problem. Suppose that problem was:"
   ]
  },
  {
   "cell_type": "markdown",
   "id": "72476aef",
   "metadata": {},
   "source": [
    "$$\n",
    "x^2 + 1 = 0\n",
    "$$"
   ]
  },
  {
   "cell_type": "markdown",
   "id": "ad25f64e",
   "metadata": {},
   "source": [
    "How could we solve this for $x$? Using the usual algebraic methods, we immediately hit a roadblock:"
   ]
  },
  {
   "cell_type": "markdown",
   "id": "e0a9e06f",
   "metadata": {},
   "source": [
    "$$\n",
    "x = \\sqrt{-1}\n",
    "$$"
   ]
  },
  {
   "cell_type": "markdown",
   "id": "97374b61",
   "metadata": {},
   "source": [
    "But surely that does not make sense, you say! You cannot take the square root of a negative number, certainly! Or can you...?"
   ]
  },
  {
   "cell_type": "markdown",
   "id": "6f3a6951",
   "metadata": {},
   "source": [
    "Indeed, the above equation does not make sense in terms of the numbers we are familiar with, called the real numbers, and denoted with $\\mathbb{R}$. However, we can define - or perhaps, to use a more artistical term, imagine - a set of numbers for which this equation _does_ make sense. We therefore define:"
   ]
  },
  {
   "cell_type": "markdown",
   "id": "36fe6db8",
   "metadata": {},
   "source": [
    "$$\n",
    "i = \\sqrt{-1}\n",
    "$$"
   ]
  },
  {
   "cell_type": "markdown",
   "id": "6e66ceaf",
   "metadata": {},
   "source": [
    "We can then create a system of numbers, which we term **imaginary numbers**, based on $i$: $2i$, $3i$, $\\pi i$, $1.52434i$, $\\frac{3}{4}i$. And we can go further! We can even create a system of numbers that contains both real numbers and imaginary numbers, such as $3 + 4i$, $5 + 6i$, or $9 - 2i$. We call these **complex numbers**. A complex number $z$ is defined by:"
   ]
  },
  {
   "cell_type": "markdown",
   "id": "95d4ab6f",
   "metadata": {},
   "source": [
    "$$\n",
    "z = a + bi\n",
    "$$"
   ]
  },
  {
   "cell_type": "markdown",
   "id": "29dba727",
   "metadata": {},
   "source": [
    "The real and imaginary parts of the complex number $z$ are:"
   ]
  },
  {
   "cell_type": "markdown",
   "id": "f379fbf2",
   "metadata": {},
   "source": [
    "$$\n",
    "\\operatorname{Re} (z) = a\n",
    "$$\n",
    "\n",
    "$$\n",
    "\\operatorname{Im} (z) = bi\n",
    "$$"
   ]
  },
  {
   "cell_type": "markdown",
   "id": "e53cbdbc",
   "metadata": {},
   "source": [
    "Complex numbers can be added, subtracted, multiplied and divided just like real numbers. Other than containing imaginary parts as well as real parts, they may well just be considered ordinary numbers."
   ]
  },
  {
   "cell_type": "markdown",
   "id": "f0de6a17",
   "metadata": {},
   "source": [
    "## The complex plane"
   ]
  },
  {
   "cell_type": "markdown",
   "id": "ca8cae10",
   "metadata": {},
   "source": [
    "But what makes complex numbers so...different? Perhaps one way of thinking about them is that they are two-dimensional numbers. Yes, you heard that right, not two dimensional _vectors_ - two dimensional _numbers_. We can draw out complex numbers by plotting their real part on the x-axis and imaginary part on the y-axis, to get the **complex plane**:"
   ]
  },
  {
   "cell_type": "markdown",
   "id": "51ec125d",
   "metadata": {},
   "source": [
    "```{image} ../images/raster/complex-plane.png\n",
    ":alt: Illustration of the complex plane\n",
    ":width: 400px\n",
    ":align: center\n",
    "```"
   ]
  },
  {
   "cell_type": "markdown",
   "id": "cf82c923",
   "metadata": {},
   "source": [
    "Here, notice that $r = \\sqrt{a^2 + b^2}$, and that thanks to trigonometry, $a = r\\cos \\theta$ and $b = r\\sin \\theta$. If we take the complex number formula, and substitute the identities, then we have:"
   ]
  },
  {
   "cell_type": "markdown",
   "id": "41ef1fac",
   "metadata": {},
   "source": [
    "$$\n",
    "z = r\\cos \\theta + i (r\\sin \\theta)\n",
    "$$"
   ]
  },
  {
   "cell_type": "markdown",
   "id": "dab15586",
   "metadata": {},
   "source": [
    "If $r = 1$, then:"
   ]
  },
  {
   "cell_type": "markdown",
   "id": "2ffcc003",
   "metadata": {},
   "source": [
    "$$\n",
    "z = \\cos \\theta + i \\sin \\theta\n",
    "$$"
   ]
  },
  {
   "cell_type": "markdown",
   "id": "4bec374e",
   "metadata": {},
   "source": [
    "This is called the **polar** representation of complex numbers."
   ]
  },
  {
   "cell_type": "markdown",
   "id": "2af7c2e1",
   "metadata": {},
   "source": [
    "## Euler's formula"
   ]
  },
  {
   "cell_type": "markdown",
   "id": "f84e26d5",
   "metadata": {},
   "source": [
    "We already know from the polar representation of complex numbers that any complex number $z = a + bi$ can be written as:"
   ]
  },
  {
   "cell_type": "markdown",
   "id": "2314dac1",
   "metadata": {},
   "source": [
    "$$\n",
    "z = \\cos(\\theta) + i \\sin(\\theta)\n",
    "$$"
   ]
  },
  {
   "cell_type": "markdown",
   "id": "ebf7fc1c",
   "metadata": {},
   "source": [
    "If we were to take the derivative of $z$ with respect to $\\theta$, we'd get:"
   ]
  },
  {
   "cell_type": "markdown",
   "id": "da66b39f",
   "metadata": {},
   "source": [
    "$$\n",
    "\\frac{dz}{d\\theta} = i \\cos \\theta -\\sin \\theta\n",
    "$$"
   ]
  },
  {
   "cell_type": "markdown",
   "id": "c0162f99",
   "metadata": {},
   "source": [
    "Now, this is interesting, because unlike many derivatives, we can actually write the right-hand side of this equation _in terms of_ $z$:"
   ]
  },
  {
   "cell_type": "markdown",
   "id": "8413699e",
   "metadata": {},
   "source": [
    "$$\n",
    "i \\cos \\theta - \\sin \\theta = i \\cdot (\\cos \\theta + i \\sin \\theta) \\Rightarrow \\frac{dz}{d\\theta} = iz\n",
    "$$"
   ]
  },
  {
   "cell_type": "markdown",
   "id": "a12d1b0c",
   "metadata": {},
   "source": [
    "We can solve this differential equation, like we did for other differential equations earlier in this book. First, separate the variables:"
   ]
  },
  {
   "cell_type": "markdown",
   "id": "1b36f3e9",
   "metadata": {},
   "source": [
    "$$\n",
    "dz = iz d\\theta\n",
    "$$"
   ]
  },
  {
   "cell_type": "markdown",
   "id": "89437a29",
   "metadata": {},
   "source": [
    "$$\n",
    "\\int \\frac{dz}{z} = \\int i d\\theta\n",
    "$$"
   ]
  },
  {
   "cell_type": "markdown",
   "id": "bf639a64",
   "metadata": {},
   "source": [
    "Then, integrate to get:"
   ]
  },
  {
   "cell_type": "markdown",
   "id": "9e6e2816",
   "metadata": {},
   "source": [
    "$$\n",
    "\\ln(z) = i \\theta + C\n",
    "$$"
   ]
  },
  {
   "cell_type": "markdown",
   "id": "88457c2f",
   "metadata": {},
   "source": [
    "We can take the exponential of both sides to get:"
   ]
  },
  {
   "cell_type": "markdown",
   "id": "1121ec85",
   "metadata": {},
   "source": [
    "$$\n",
    "z = e^{i \\theta + C}\n",
    "$$"
   ]
  },
  {
   "cell_type": "markdown",
   "id": "5ad3fb5b",
   "metadata": {},
   "source": [
    "Now we just need an initial condition, $z(0)$. But we know that: "
   ]
  },
  {
   "cell_type": "markdown",
   "id": "3bc1781a",
   "metadata": {},
   "source": [
    "$$\n",
    "z = \\cos(\\theta) + i \\sin(\\theta)\n",
    "$$"
   ]
  },
  {
   "cell_type": "markdown",
   "id": "b4857f82",
   "metadata": {},
   "source": [
    "So, $z(0)$ would be:"
   ]
  },
  {
   "cell_type": "markdown",
   "id": "188f1292",
   "metadata": {},
   "source": [
    "$$\n",
    "z(0) = \\cos(0) + i \\sin(0) = 1\n",
    "$$"
   ]
  },
  {
   "cell_type": "markdown",
   "id": "4b0f7488",
   "metadata": {},
   "source": [
    "Using our initial condition $z(0) = 1$, we can now solve the differential equation exactly:"
   ]
  },
  {
   "cell_type": "markdown",
   "id": "e84394a9",
   "metadata": {},
   "source": [
    "$$\n",
    "z = e^{i \\theta}\n",
    "$$"
   ]
  },
  {
   "cell_type": "markdown",
   "id": "de114508",
   "metadata": {},
   "source": [
    "And remember, since $z = \\cos(\\theta) + i \\sin(\\theta)$, we can substitute that in to get:"
   ]
  },
  {
   "cell_type": "markdown",
   "id": "0ea7e2d4",
   "metadata": {},
   "source": [
    "$$\n",
    "e^{i \\theta} = \\cos(\\theta) + i \\sin(\\theta)\n",
    "$$"
   ]
  },
  {
   "cell_type": "markdown",
   "id": "269b646c",
   "metadata": {},
   "source": [
    "This is **Euler's formula**. Note that when $\\theta = \\pi$, we have:"
   ]
  },
  {
   "cell_type": "markdown",
   "id": "e8b140d5",
   "metadata": {},
   "source": [
    "$$\n",
    "e^{i\\pi} = -1\n",
    "$$"
   ]
  },
  {
   "cell_type": "markdown",
   "id": "baa88959",
   "metadata": {},
   "source": [
    "Which we can simplify to:"
   ]
  },
  {
   "cell_type": "markdown",
   "id": "51fc20b8",
   "metadata": {},
   "source": [
    "$$\n",
    "e^{i\\pi} + 1 = 0\n",
    "$$"
   ]
  },
  {
   "cell_type": "markdown",
   "id": "13f016a5",
   "metadata": {},
   "source": [
    "This is **Euler's identity**, one of the most famous equations ever, showing that two previously completely unrelated ideas, those being trigonometry and exponentiation, are actually linked. You've got to appreciate Euler's skill as a mathematician after looking at this equation, and wonder if the true genius was Euler, not Einstein."
   ]
  },
  {
   "cell_type": "markdown",
   "id": "93833dff",
   "metadata": {},
   "source": [
    "## Complex conjugation"
   ]
  },
  {
   "cell_type": "markdown",
   "id": "7202c899",
   "metadata": {},
   "source": [
    "If we have an imaginary number $a + bi$, it turns out that if we multiply that by its **complex conjugate** $a - bi$, we get a real number:"
   ]
  },
  {
   "cell_type": "markdown",
   "id": "fe7ec2cb",
   "metadata": {},
   "source": [
    "$$\n",
    "(a + bi)(a - bi) = a^2 + b^2\n",
    "$$"
   ]
  },
  {
   "cell_type": "markdown",
   "id": "8d1bdeeb",
   "metadata": {},
   "source": [
    "This is because by definition, $i^2 = 1$, so $-b^2 i^2 = -b^2 (-1) = b^2$."
   ]
  },
  {
   "cell_type": "markdown",
   "id": "b4d9476b",
   "metadata": {},
   "source": [
    "## Complex waveforms"
   ]
  },
  {
   "cell_type": "markdown",
   "id": "afa5581a",
   "metadata": {},
   "source": [
    "Using Euler's formula, we can write waves in terms of a function of $e$ rather than using sines and cosines:"
   ]
  },
  {
   "cell_type": "markdown",
   "id": "1cfbc31a",
   "metadata": {},
   "source": [
    "$$\n",
    "\\psi(x, t) = Ae^{i \\theta(x, t)}\n",
    "$$"
   ]
  },
  {
   "cell_type": "markdown",
   "id": "fb26b3dc",
   "metadata": {},
   "source": [
    "Why do this? Exponentials are far, far easier to differentiate and integrate than sines and cosines, and so writing out waves in this form allows them to be more easily expressed in quantum mechanics, which involves hoards of derivatives and integrals."
   ]
  },
  {
   "cell_type": "markdown",
   "id": "51c44b88",
   "metadata": {},
   "source": [
    "Before we finish this short chapter and jump into quantum mechanics, there is one last fact about complex numbers that is trivial, but confuses a lot of people. That fact is that:"
   ]
  },
  {
   "cell_type": "markdown",
   "id": "ce0b5a1e",
   "metadata": {},
   "source": [
    "$$\n",
    "-i = \\frac{1}{i}\n",
    "$$"
   ]
  },
  {
   "cell_type": "markdown",
   "id": "002c2cfe",
   "metadata": {},
   "source": [
    "Remember this fact, and we will meet you again in quantum mechanics!"
   ]
  }
 ],
 "metadata": {
  "kernelspec": {
   "display_name": "Python 3 (ipykernel)",
   "language": "python",
   "name": "python3"
  },
  "language_info": {
   "codemirror_mode": {
    "name": "ipython",
    "version": 3
   },
   "file_extension": ".py",
   "mimetype": "text/x-python",
   "name": "python",
   "nbconvert_exporter": "python",
   "pygments_lexer": "ipython3",
   "version": "3.11.4"
  }
 },
 "nbformat": 4,
 "nbformat_minor": 5
}
