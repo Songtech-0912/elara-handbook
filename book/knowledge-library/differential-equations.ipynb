{
 "cells": [
  {
   "cell_type": "markdown",
   "id": "2b99b194",
   "metadata": {},
   "source": [
    "# Differential equations"
   ]
  },
  {
   "cell_type": "markdown",
   "id": "ba02c65b",
   "metadata": {},
   "source": [
    "> \"Once you learn the concept of a differential equation, you see [them] all over, no matter what you do...\"\n",
    ">\n",
    "> **Gian-Carlo Rota**"
   ]
  },
  {
   "cell_type": "markdown",
   "id": "3742fdae",
   "metadata": {},
   "source": [
    "Differential equations are simultaneously often regarded as some of the coolest and strangest objects in physics. On one hand, they're ubiquitous, and nearly every physics theory is expressed using them. On the other, they have a tendency to be considered unsolvable and difficult to understand. It is hoped that this chapter will bring all their positive qualities into the limelight, and make differential equations no longer scary or intimidating, but descriptions of nature unrivaled in their beauty."
   ]
  },
  {
   "cell_type": "markdown",
   "id": "f27b5a6b",
   "metadata": {},
   "source": [
    "## What is a differential equation?"
   ]
  },
  {
   "cell_type": "markdown",
   "id": "0b34e032",
   "metadata": {},
   "source": [
    "Differential equations are any equations that involve a function and its derivatives. For instance, we could have:"
   ]
  },
  {
   "cell_type": "markdown",
   "id": "7d715ff6",
   "metadata": {},
   "source": [
    "$$\n",
    "\\frac{dy}{dt} = ky\n",
    "$$"
   ]
  },
  {
   "cell_type": "markdown",
   "id": "e65d8595",
   "metadata": {},
   "source": [
    "The interpretation of this equation is that $y$ increases proportional to its derivative, so as $y$ increases, the rate of change of $y$ increases by a proportional amount."
   ]
  },
  {
   "cell_type": "markdown",
   "id": "b9cb1aa8",
   "metadata": {},
   "source": [
    "Differential equations can be of a single-variable function and its derivatives, or a multivariable function and its partial derivatives. For instance, the wave equation is given by:"
   ]
  },
  {
   "cell_type": "markdown",
   "id": "dee8d2da",
   "metadata": {},
   "source": [
    "$$\n",
    "\\frac{\\partial^2 u}{\\partial t^2} = c^2 \\frac{\\partial^2 u}{\\partial x^2}\n",
    "$$"
   ]
  },
  {
   "cell_type": "markdown",
   "id": "435bf940",
   "metadata": {},
   "source": [
    "Here, $u = u(x, t)$, and is the function describing the wave. The interpretation of the wave equation is that the rate of change of the rate of change of $u$ moving along the $x$ direction is proportional to the rate of change of the rate of change of $u$ as time passes."
   ]
  },
  {
   "cell_type": "markdown",
   "id": "b6cf907c",
   "metadata": {},
   "source": [
    "Differential equations that only involve single-variable functions are called **ordinary differential equations** (ODEs), while those that involve multivariable functions (and their partial derivatives) are called **partial differential equation** (PDEs)."
   ]
  },
  {
   "cell_type": "markdown",
   "id": "e02ae70d",
   "metadata": {},
   "source": [
    "## Solving differential equations"
   ]
  },
  {
   "cell_type": "markdown",
   "id": "5ec70738",
   "metadata": {},
   "source": [
    "When we are told to solve a differential equation, what we are doing is to figure out $y$ from the differential equation. How we can do this depends on the type of differential equation. For example, consider an ODE in the form:"
   ]
  },
  {
   "cell_type": "markdown",
   "id": "f2779f9b",
   "metadata": {},
   "source": [
    "$$\n",
    "\\frac{dy}{dt} = f(y) g(t)\n",
    "$$"
   ]
  },
  {
   "cell_type": "markdown",
   "id": "db6c032b",
   "metadata": {},
   "source": [
    "If we can put any ODE in this form, it is considered **separable**. What we can then do is to make sure each side of an equation is expressed only in terms of one variable:"
   ]
  },
  {
   "cell_type": "markdown",
   "id": "5359496c",
   "metadata": {},
   "source": [
    "$$\n",
    "\\frac{1}{f(y)} dy = g(t) dt\n",
    "$$"
   ]
  },
  {
   "cell_type": "markdown",
   "id": "4fe8a031",
   "metadata": {},
   "source": [
    "And finally, to integrate both sides to solve:"
   ]
  },
  {
   "cell_type": "markdown",
   "id": "e6652329",
   "metadata": {},
   "source": [
    "$$\n",
    "\\int \\frac{1}{f(y)} dy = \\int g(t) dt\n",
    "$$"
   ]
  },
  {
   "cell_type": "markdown",
   "id": "68e84d55",
   "metadata": {},
   "source": [
    "Partial differential equations are considered separable by a similar criteria: if you can express each side of them only in terms of one variable, then they are separable."
   ]
  },
  {
   "cell_type": "markdown",
   "id": "3ce321fd",
   "metadata": {},
   "source": [
    "But enough theory! Let's actually try solving two differential equations, one ODE and one PDE. The ODE we will be solving is the exponential growth equation - the reason for that name will become apparent very soon. It is given by:"
   ]
  },
  {
   "cell_type": "markdown",
   "id": "807c0b85",
   "metadata": {},
   "source": [
    "$$\n",
    "\\frac{dy}{dx} = ky\n",
    "$$"
   ]
  },
  {
   "cell_type": "markdown",
   "id": "71d9a942",
   "metadata": {},
   "source": [
    "Here, $k$ is just a constant. By multiplying $dx$ to both sides of the equation, we have:"
   ]
  },
  {
   "cell_type": "markdown",
   "id": "24f5522c",
   "metadata": {},
   "source": [
    "$$\n",
    "dy = ky dx\n",
    "$$"
   ]
  },
  {
   "cell_type": "markdown",
   "id": "22d57f69",
   "metadata": {},
   "source": [
    "And now, by dividing $y$ from both sides, we have:"
   ]
  },
  {
   "cell_type": "markdown",
   "id": "2814cb6d",
   "metadata": {},
   "source": [
    "$$\n",
    "\\frac{1}{y} dy = k dx\n",
    "$$"
   ]
  },
  {
   "cell_type": "markdown",
   "id": "41b68017",
   "metadata": {},
   "source": [
    "We can now integrate both sides to solve:"
   ]
  },
  {
   "cell_type": "markdown",
   "id": "8151e7f7",
   "metadata": {},
   "source": [
    "$$\n",
    "\\int \\frac{1}{y} dy = \\int k dx\n",
    "$$"
   ]
  },
  {
   "cell_type": "markdown",
   "id": "d4bd189a",
   "metadata": {},
   "source": [
    "Which results in:"
   ]
  },
  {
   "cell_type": "markdown",
   "id": "688214d7",
   "metadata": {},
   "source": [
    "$$\n",
    "\\ln(y) = kx + C\n",
    "$$"
   ]
  },
  {
   "cell_type": "markdown",
   "id": "e1c7a306",
   "metadata": {},
   "source": [
    "We raise both with $e^x$, to get:"
   ]
  },
  {
   "cell_type": "markdown",
   "id": "06a21c46",
   "metadata": {},
   "source": [
    "$$\n",
    "e^{\\ln(y)} = e^{kx + C}\n",
    "$$"
   ]
  },
  {
   "cell_type": "markdown",
   "id": "a1443b55",
   "metadata": {},
   "source": [
    "Which becomes:"
   ]
  },
  {
   "cell_type": "markdown",
   "id": "c20a70fe",
   "metadata": {},
   "source": [
    "$$\n",
    "y = e^{kx + C}\n",
    "$$"
   ]
  },
  {
   "cell_type": "markdown",
   "id": "00ef945e",
   "metadata": {},
   "source": [
    "Just one more step! Now that:"
   ]
  },
  {
   "cell_type": "markdown",
   "id": "e894d58f",
   "metadata": {},
   "source": [
    "$$\n",
    "e^{kx + C} = e^C e^{kx}\n",
    "$$"
   ]
  },
  {
   "cell_type": "markdown",
   "id": "60ecff32",
   "metadata": {},
   "source": [
    "If we define a new constant $C_2 = e^C$, then:"
   ]
  },
  {
   "cell_type": "markdown",
   "id": "e29cc5d0",
   "metadata": {},
   "source": [
    "$$\n",
    "y = C_2 e^{kx}\n",
    "$$"
   ]
  },
  {
   "cell_type": "markdown",
   "id": "09f361dd",
   "metadata": {},
   "source": [
    "This is called the **general solution** to the exponential growth equation, because $C_2$ can be any number, and so this general solution encodes all possible solutions each with their own value of $C_2$. To actually solve it for a value, we need an **initial value**. For instance, we may be told that $y(0) = 1$. If we plug that in:"
   ]
  },
  {
   "cell_type": "markdown",
   "id": "be56aa8d",
   "metadata": {},
   "source": [
    "$$\n",
    "1 = C_2 e^{k(0)}\n",
    "$$"
   ]
  },
  {
   "cell_type": "markdown",
   "id": "7fbc239d",
   "metadata": {},
   "source": [
    "$$\n",
    "C_2 = 1\n",
    "$$"
   ]
  },
  {
   "cell_type": "markdown",
   "id": "152e98ed",
   "metadata": {},
   "source": [
    "So our unique solution given our initial value is now:"
   ]
  },
  {
   "cell_type": "markdown",
   "id": "d85220ec",
   "metadata": {},
   "source": [
    "$$\n",
    "y = e^{kx}\n",
    "$$"
   ]
  },
  {
   "cell_type": "markdown",
   "id": "ac75aeb6",
   "metadata": {},
   "source": [
    "Note that $C_2$ was the same number as $y(0)$. Therefore, we have a new interpretation of $C_2$ - note that $C_2$ is the **initial value** of a function, so $C_2 = y_0$, and we can rewrite the general solution as:"
   ]
  },
  {
   "cell_type": "markdown",
   "id": "10457a92",
   "metadata": {},
   "source": [
    "$$\n",
    "y = y_0 e^{kx}\n",
    "$$"
   ]
  },
  {
   "cell_type": "markdown",
   "id": "65e64dda",
   "metadata": {},
   "source": [
    "The PDE we will be solving is the 1D **heat equation**, given by:"
   ]
  },
  {
   "cell_type": "markdown",
   "id": "e9afa3e9",
   "metadata": {},
   "source": [
    "$$\n",
    "\\frac{\\partial u}{\\partial t} = \\alpha^2 \\frac{\\partial^2 u}{\\partial x^2}\n",
    "$$"
   ]
  },
  {
   "cell_type": "markdown",
   "id": "8564ed09",
   "metadata": {},
   "source": [
    "This equation models the temperature function $u(x, t)$ of a long, thin rod, where the value of $u$ at a given position $x$ and a given time $t$ is the temperature. Note that $\\alpha$ is just a constant. Third nice fact about the equation: it's separable! To separate, we first write $u(x, t)$ as a product of two functions:"
   ]
  },
  {
   "cell_type": "markdown",
   "id": "bc9f2974",
   "metadata": {},
   "source": [
    "$$\n",
    "u(x, t) = f(x) g(t)\n",
    "$$"
   ]
  },
  {
   "cell_type": "markdown",
   "id": "39ea17b2",
   "metadata": {},
   "source": [
    "Therefore, using this definition, we can compute the partial derivatives of $u$:"
   ]
  },
  {
   "cell_type": "markdown",
   "id": "e0805395",
   "metadata": {},
   "source": [
    "$$\n",
    "\\frac{\\partial u}{\\partial t} = f(x) g'(t) \n",
    "$$"
   ]
  },
  {
   "cell_type": "markdown",
   "id": "8c27349b",
   "metadata": {},
   "source": [
    "$$\n",
    "\\frac{\\partial^2 u}{\\partial x^2} = f''(x) g(t)\n",
    "$$"
   ]
  },
  {
   "cell_type": "markdown",
   "id": "267630b5",
   "metadata": {},
   "source": [
    "So we now have:"
   ]
  },
  {
   "cell_type": "markdown",
   "id": "18259f43",
   "metadata": {},
   "source": [
    "$$\n",
    "f g' = \\alpha^2 f'' g\n",
    "$$"
   ]
  },
  {
   "cell_type": "markdown",
   "id": "6913779a",
   "metadata": {},
   "source": [
    "If we rearrange this equation, we get:"
   ]
  },
  {
   "cell_type": "markdown",
   "id": "46a31afe",
   "metadata": {},
   "source": [
    "$$\n",
    "\\frac{g'}{g \\alpha^2} = \\frac{f''}{f}\n",
    "$$"
   ]
  },
  {
   "cell_type": "markdown",
   "id": "98c09ce0",
   "metadata": {},
   "source": [
    "Now, note that the left hand side has derivatives and functions dependent on $t$, but the right hand side has derivatives and functions dependent on $f$. If derivatives with respect to different variables are constant, then the two sides of the equation must be equal to a constant, which we'll call $\\lambda$:"
   ]
  },
  {
   "cell_type": "markdown",
   "id": "61175c37",
   "metadata": {},
   "source": [
    "$$\n",
    "\\frac{g'}{g \\alpha^2} = \\frac{f''}{f} = \\lambda\n",
    "$$"
   ]
  },
  {
   "cell_type": "markdown",
   "id": "2966a062",
   "metadata": {},
   "source": [
    "So, we have two ODEs instead of our original PDE to solve:"
   ]
  },
  {
   "cell_type": "markdown",
   "id": "c50ea69b",
   "metadata": {},
   "source": [
    "$$\n",
    "g' = \\lambda \\alpha^2 g \n",
    "$$ \n",
    "\n",
    "$$\n",
    "f'' = \\lambda f\n",
    "$$"
   ]
  },
  {
   "cell_type": "markdown",
   "id": "16b643c4",
   "metadata": {},
   "source": [
    "The first equation is separable, and, after going through the steps to manually solve the differential equation, the result is:"
   ]
  },
  {
   "cell_type": "markdown",
   "id": "ef345c8a",
   "metadata": {},
   "source": [
    "$$\n",
    "g(t) = C_1 e^{\\lambda a^2 t}\n",
    "$$"
   ]
  },
  {
   "cell_type": "markdown",
   "id": "8fae18b0",
   "metadata": {},
   "source": [
    "The second equation requires a little bit more work. Which functions are proportional to their second derivative? On inspection, the function $e^x$ would work:"
   ]
  },
  {
   "cell_type": "markdown",
   "id": "fd8c6b7d",
   "metadata": {},
   "source": [
    "$$\n",
    "\\frac{d^2}{dx^2} e^x = e^x\n",
    "$$"
   ]
  },
  {
   "cell_type": "markdown",
   "id": "cec4218f",
   "metadata": {},
   "source": [
    "However, we want the second derivative to not be equal to the function, but **proportional** to it. Thus, perhaps a good guess would be $e^{\\lambda x}$. But note that:"
   ]
  },
  {
   "cell_type": "markdown",
   "id": "b687d507",
   "metadata": {},
   "source": [
    "$$\n",
    "\\frac{d^2}{dx^2} e^{\\lambda x} = \\lambda^2 e^{\\lambda x}\n",
    "$$"
   ]
  },
  {
   "cell_type": "markdown",
   "id": "224883d3",
   "metadata": {},
   "source": [
    "So to make the proportionality constant agree with our differential equation, we want to square root $\\lambda$, instead, so:"
   ]
  },
  {
   "cell_type": "markdown",
   "id": "1f2c81b9",
   "metadata": {},
   "source": [
    "$$\n",
    "\\frac{d^2}{dx^2} e^{\\sqrt{\\lambda}x} = \\lambda e^{\\sqrt{\\lambda}x}\n",
    "$$"
   ]
  },
  {
   "cell_type": "markdown",
   "id": "8b9655ee",
   "metadata": {},
   "source": [
    "So we have solved our second differential equation:"
   ]
  },
  {
   "cell_type": "markdown",
   "id": "cde9a05c",
   "metadata": {},
   "source": [
    "$$\n",
    "f(x) = e^{\\sqrt{\\lambda}x}\n",
    "$$"
   ]
  },
  {
   "cell_type": "markdown",
   "id": "4532dc82",
   "metadata": {},
   "source": [
    "Now, we simply need to combine the two solutions together:"
   ]
  },
  {
   "cell_type": "markdown",
   "id": "94d84e74",
   "metadata": {},
   "source": [
    "$$\n",
    "u(x, t) = f(x) g(t) = C_1 e^{\\sqrt{\\lambda}x}  e^{\\lambda \\alpha^2 t}\n",
    "$$"
   ]
  },
  {
   "cell_type": "markdown",
   "id": "b53f3020",
   "metadata": {},
   "source": [
    "Using the rules of exponents, we can rewrite this as:"
   ]
  },
  {
   "cell_type": "markdown",
   "id": "584aba82",
   "metadata": {},
   "source": [
    "$$\n",
    "u(x, t) = C_1 e^{\\sqrt{\\lambda} x + \\lambda \\alpha^2 t}\n",
    "$$"
   ]
  },
  {
   "cell_type": "markdown",
   "id": "6b9d17ac",
   "metadata": {},
   "source": [
    "## Laplace and Fourier transforms"
   ]
  },
  {
   "cell_type": "markdown",
   "id": "7897c99c",
   "metadata": {},
   "source": [
    "## Numerical methods and approximations"
   ]
  },
  {
   "cell_type": "markdown",
   "id": "ffe11124",
   "metadata": {},
   "source": [
    "While many differential equations can be solved exactly, not all differential equations are so straightforward to solve. Instead, most differential equations are typically not solved directly."
   ]
  },
  {
   "cell_type": "markdown",
   "id": "df7b5783",
   "metadata": {},
   "source": [
    "There are three common alternatives if a differential equation is resistant to separation of variables or the Laplace and Fourier transforms:\n",
    "\n",
    "- \"Guess and check\"\n",
    "- Taylor series approximation\n",
    "- Numerical solving (often using computers)"
   ]
  },
  {
   "cell_type": "markdown",
   "id": "3e111d08",
   "metadata": {},
   "source": [
    "The \"guess and check\" approach, also known as the \"method of inspired guessing\", is literally that - given knowledge of functions and their derivatives, guess an solution to the differential equation. For instance, suppose we had the differential equation:"
   ]
  },
  {
   "cell_type": "markdown",
   "id": "b2b1b799",
   "metadata": {},
   "source": [
    "$$\n",
    "\\frac{d^2 x}{dt^2} = 0\n",
    "$$"
   ]
  },
  {
   "cell_type": "markdown",
   "id": "a9bf407c",
   "metadata": {},
   "source": [
    "From basic analysis of this differential equation, we know that the original function must be of a degree less than 2, because otherwise its second derivative wouldn't vanish to zero. Thus, we can guess that it is some type of linear function. And indeed, if we take the second derivative of a linear function, it does yield zero. So the solution is:"
   ]
  },
  {
   "cell_type": "markdown",
   "id": "55ec310e",
   "metadata": {},
   "source": [
    "$$\n",
    "x(t) = at + b\n",
    "$$"
   ]
  },
  {
   "cell_type": "markdown",
   "id": "040d634a",
   "metadata": {},
   "source": [
    "We can also use a Taylor series to approximate solutions to a differential equation. For instance, we could use it to approximate $r(t)$ from Newton's gravitational force equation:"
   ]
  },
  {
   "cell_type": "markdown",
   "id": "35037101",
   "metadata": {},
   "source": [
    "$$\n",
    "\\frac{d^2 r}{dt^2} = -\\frac{GM}{r^2}\n",
    "$$"
   ]
  },
  {
   "cell_type": "markdown",
   "id": "329a7b0b",
   "metadata": {},
   "source": [
    "We aim to solve this with a 4th-order Taylor series for the Earth and the Sun. We have the initial conditions $r(0) = r_0$ and $r'(0) = v_0$, where $r_0$ is the mean distance from the Earth to the Sun (1 AU), and $r'(0)$ is equal to $\\frac{2\\pi r_0}{T}$, where $T$ is the Earth's period. A 4th-order Taylor polynomial is given by:"
   ]
  },
  {
   "cell_type": "markdown",
   "id": "b7a631a0",
   "metadata": {},
   "source": [
    "$$\n",
    "r(t) = r(0) + r'(0) t + \\frac{r''(0)}{2} t^2 + \\frac{r'''(0)}{6} t^3\n",
    "$$"
   ]
  },
  {
   "cell_type": "markdown",
   "id": "25af3286",
   "metadata": {},
   "source": [
    "We know that $r(0) = r_0$, and $r'(0) = v_0$. We also know that $r''(0) - \\frac{GM}{r^2} = -\\frac{GM}{r_0^2}$. Finally, $r''' = \\frac{d}{dt} r''$, such that:"
   ]
  },
  {
   "cell_type": "markdown",
   "id": "6b8dd2da",
   "metadata": {},
   "source": [
    "$$\n",
    "r''' = \\frac{d}{dt} \\left( -\\frac{GM}{r^2}\\right) = \\frac{2GM}{r^3} \\frac{dr}{dt}\n",
    "$$"
   ]
  },
  {
   "cell_type": "markdown",
   "id": "ce4cb0b4",
   "metadata": {},
   "source": [
    "Thus, $r'''(0) = \\frac{2GM}{r_0^3} v_0$, so the final Taylor polynomial is:"
   ]
  },
  {
   "cell_type": "markdown",
   "id": "f9476d78",
   "metadata": {},
   "source": [
    "$$\n",
    "r(t) = r_0 + v_0 t - \\frac{GM}{2r_0^2} t^2 + \\frac{2 v_0 GM}{r_0^3} t^3\n",
    "$$"
   ]
  },
  {
   "cell_type": "markdown",
   "id": "f19c941b",
   "metadata": {},
   "source": [
    "This is 4th-order Taylor expansion for the solution $r(t)$ of the differential equation, and will successfully approximate the solution, so long as $t$ is close to zero."
   ]
  },
  {
   "cell_type": "markdown",
   "id": "5f2e7a94",
   "metadata": {},
   "source": [
    "The final method of solving differential equations that cannot be easily solved using any other means is by using **numerical methods**. Numerical methods take the initial conditions of a differential equation and calculate a tiny change $dy$ in a function caused by a small step along the function's input $dx$. Then, they add that little change $dy$ to the existing value of $y$. By doing this process many, many times, over and over, an entire solution to a differential equation can be approximated. "
   ]
  },
  {
   "cell_type": "markdown",
   "id": "88f4fbbf",
   "metadata": {},
   "source": [
    "To find the formula for one type of numerical method, the Euler method, consider the definition of the derivative, just with the limit removed:"
   ]
  },
  {
   "cell_type": "markdown",
   "id": "198b7bb3",
   "metadata": {},
   "source": [
    "$$\n",
    "f'(x) = \\frac{f(x + h) - f(x)}{h}\n",
    "$$"
   ]
  },
  {
   "cell_type": "markdown",
   "id": "14b0cee3",
   "metadata": {},
   "source": [
    "Let's solve for $f(x + h)$ in this equation:"
   ]
  },
  {
   "cell_type": "markdown",
   "id": "d0509e16",
   "metadata": {},
   "source": [
    "$$\n",
    "f(x + h) = hf'(x) + f(x)\n",
    "$$"
   ]
  },
  {
   "cell_type": "markdown",
   "id": "6639efa0",
   "metadata": {},
   "source": [
    "This means that given a current value of a function $f$, the next value of $f$ is given by:"
   ]
  },
  {
   "cell_type": "markdown",
   "id": "ef86001e",
   "metadata": {},
   "source": [
    "$$\n",
    "f_{n + 1} = hf'(x) + f_n\n",
    "$$"
   ]
  },
  {
   "cell_type": "markdown",
   "id": "9f7909ae",
   "metadata": {},
   "source": [
    "This method is tedious to do by hand, but computers can do it very quickly. More accurate types of numerical methods, including the very popular Runge-Kutta methods, are similar in nature, only they break each step into smaller steps for more precision."
   ]
  }
 ],
 "metadata": {
  "kernelspec": {
   "display_name": "Python 3 (ipykernel)",
   "language": "python",
   "name": "python3"
  },
  "language_info": {
   "codemirror_mode": {
    "name": "ipython",
    "version": 3
   },
   "file_extension": ".py",
   "mimetype": "text/x-python",
   "name": "python",
   "nbconvert_exporter": "python",
   "pygments_lexer": "ipython3",
   "version": "3.11.4"
  }
 },
 "nbformat": 4,
 "nbformat_minor": 5
}
