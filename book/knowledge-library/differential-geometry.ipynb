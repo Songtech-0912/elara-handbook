{
 "cells": [
  {
   "cell_type": "markdown",
   "id": "69eda971",
   "metadata": {},
   "source": [
    "# Tensor Calculus"
   ]
  },
  {
   "cell_type": "markdown",
   "id": "0e0a09a9",
   "metadata": {},
   "source": [
    "General relativity is written in the language of tensors and differential geometry, both known for their difficulty. This is hopefully a gentler guide to both topics, one that preserves the essense of their mathematical beauty without baffling the mind."
   ]
  },
  {
   "cell_type": "code",
   "execution_count": 1,
   "id": "bb5b593d",
   "metadata": {},
   "outputs": [],
   "source": [
    "import sympy as sp\n",
    "from sympy.plotting.plot import *\n",
    "import matplotlib.pyplot as plt\n",
    "import numpy as np\n",
    "sp.init_printing()"
   ]
  },
  {
   "cell_type": "markdown",
   "id": "5f0a78d7",
   "metadata": {},
   "source": [
    "## Invariants"
   ]
  },
  {
   "cell_type": "markdown",
   "id": "9afb00ec",
   "metadata": {},
   "source": [
    "The whole idea behind tensors is that we want to create mathematical objects that are the same in every coordinate system - we call that **invariant**. Why is this? The reason is because in the universe, objects _are_ invariant. Intuitively, if you ask a friend to push you, whether you measure the force of your friend's push in cylindrical or spherical or cartesian coordinates, you're going to feel the same force. If you have, say, a magnetic force, that force is going to still exist and be the same physical quantity whichever coordinate system we use. The same goes for any other physical quantity, such as momentum, velocity, energy, etc. It makes sense that just using a different coordinate system to measure, say, a racecar, wouldn't cause that racecar to be 20% faster or 15% slower - instead, the speed of the racecar would be the same. Mathematical objects that have the same _physical_ quantity between differing coordinate systems are called **tensors**. Some tensors are scalars such as temperature; others are vectors such as position; still others are matrices; the commonality is that they correspond to one measurable physical object."
   ]
  },
  {
   "cell_type": "markdown",
   "id": "470f12a0",
   "metadata": {},
   "source": [
    "However, because we use coordinate systems to measure physical quantities, the _components_ of a physical quantity may be dependent on the coordinate system we use, even though the physical quantity remains the same. For example, consider a vector $\\vec a$. This vector would have the following components in Cartesian coordinates:"
   ]
  },
  {
   "cell_type": "markdown",
   "id": "2745d11c",
   "metadata": {},
   "source": [
    "$$\n",
    "\\begin{bmatrix}\n",
    "1 \\\\\n",
    "\\sqrt{3}\n",
    "\\end{bmatrix}\n",
    "$$"
   ]
  },
  {
   "cell_type": "markdown",
   "id": "c8eeecb8",
   "metadata": {},
   "source": [
    "And the following components in polar coordinates:"
   ]
  },
  {
   "cell_type": "markdown",
   "id": "e6c2adad",
   "metadata": {},
   "source": [
    "$$\n",
    "\\begin{bmatrix}\n",
    "2 \\\\\n",
    "\\frac{\\pi}{3}\n",
    "\\end{bmatrix}\n",
    "$$"
   ]
  },
  {
   "cell_type": "markdown",
   "id": "2aae933f",
   "metadata": {},
   "source": [
    "These represent the exact same vector, but the _components_ are different. This is the motivation to find common transformation laws that help transform the the components of the same physical quantity - the same tensor -  between differing coordinate systems. Thus, we can express the same physical object, say force, in one coordinate system or another, but the laws of physics that describe that physical object would be the **same** in any coordinate system."
   ]
  },
  {
   "cell_type": "markdown",
   "id": "26c7f62e",
   "metadata": {},
   "source": [
    "## Tensors and tensor notation"
   ]
  },
  {
   "cell_type": "markdown",
   "id": "97640734",
   "metadata": {},
   "source": [
    "A 3D vector in Cartesian coordinates can be written in terms of the basis vectors $(e_x, e_y, e_z)$:"
   ]
  },
  {
   "cell_type": "markdown",
   "id": "99f294e8",
   "metadata": {},
   "source": [
    "$$\n",
    "\\vec V = a_x e_x + a_y e_y + a_z e_z\n",
    "$$"
   ]
  },
  {
   "cell_type": "markdown",
   "id": "4b73e1e7",
   "metadata": {},
   "source": [
    "Thus, we can write the sum more compactly as follows:"
   ]
  },
  {
   "cell_type": "markdown",
   "id": "755ddf38",
   "metadata": {},
   "source": [
    "$$\n",
    "\\vec V_i = \\sum_{i = 0}^3 a_i e_i\n",
    "$$"
   ]
  },
  {
   "cell_type": "markdown",
   "id": "633cba47",
   "metadata": {},
   "source": [
    "In Einstein summation notation, the summation is implied, so we can more simply write our vector as:"
   ]
  },
  {
   "cell_type": "markdown",
   "id": "342373ae",
   "metadata": {},
   "source": [
    "$$\n",
    "\\vec V_i = a_i e_i\n",
    "$$"
   ]
  },
  {
   "cell_type": "markdown",
   "id": "82974fe4",
   "metadata": {},
   "source": [
    "When writing vectors as tensors, it's customary to put the indices on top (as superscripts) instead of on the bottom (subscripts). Note that these are **not** raising to a power. So we now have:"
   ]
  },
  {
   "cell_type": "markdown",
   "id": "67a61c63",
   "metadata": {},
   "source": [
    "$$\n",
    "\\vec V \\Rightarrow V^i\n",
    "$$"
   ]
  },
  {
   "cell_type": "markdown",
   "id": "83945eb0",
   "metadata": {},
   "source": [
    "Given two vectors $\\vec A$ and $\\vec J$, we can now write the inner product more succintly as:"
   ]
  },
  {
   "cell_type": "markdown",
   "id": "09d113fd",
   "metadata": {},
   "source": [
    "$$\n",
    "\\vec A \\cdot \\vec J = A^i J^i\n",
    "$$"
   ]
  },
  {
   "cell_type": "markdown",
   "id": "992617e4",
   "metadata": {},
   "source": [
    "And we can define other vector field operations, such as the gradient, using the same notation:"
   ]
  },
  {
   "cell_type": "markdown",
   "id": "a05e4216",
   "metadata": {},
   "source": [
    "$$\n",
    "\\nabla f = \\frac{\\partial f}{\\partial x^i}\n",
    "$$"
   ]
  },
  {
   "cell_type": "markdown",
   "id": "66493ad6",
   "metadata": {},
   "source": [
    "```{note}\n",
    "**Remember:** When writing tensors, the letters we use for the summed-over index are arbritary. We use $i$ because that's how we write summation most often, but we could use any letter we want. Later one, we'll use greek letters when denoting tensors in spacetime, but that's just a convention, not an absolute rule.\n",
    "```"
   ]
  },
  {
   "cell_type": "markdown",
   "id": "153ccaea",
   "metadata": {},
   "source": [
    "Contravariant tensors, usually just called vectors, are most generally written with Einstein summation convention. We denote their components with $V_i$ and their basis with $e_i$, so:"
   ]
  },
  {
   "cell_type": "markdown",
   "id": "8ba23410",
   "metadata": {},
   "source": [
    "$$\n",
    "\\vec V = V^i e_i\n",
    "$$"
   ]
  },
  {
   "cell_type": "markdown",
   "id": "aa5a543e",
   "metadata": {},
   "source": [
    "Covariant tensors, usually just called covectors, are also written using the convention. They are marked by a tilde over the letter, and are denoted (in terms of their basis $e^i$) as:"
   ]
  },
  {
   "cell_type": "markdown",
   "id": "284a5f71",
   "metadata": {},
   "source": [
    "$$\n",
    "\\tilde V = V_i e^i\n",
    "$$"
   ]
  },
  {
   "cell_type": "markdown",
   "id": "1128c235",
   "metadata": {},
   "source": [
    "Covectors in the 2D and 3D case can be thought of as row vectors that are multiplied by column vectors to give the dot product:"
   ]
  },
  {
   "cell_type": "markdown",
   "id": "70793f1f",
   "metadata": {},
   "source": [
    "$$\n",
    "\\begin{bmatrix}\n",
    "a & b & c\n",
    "\\end{bmatrix}\n",
    "\\cdot \n",
    "\\begin{bmatrix}\n",
    "d \\\\\n",
    "e \\\\\n",
    "f\n",
    "\\end{bmatrix}\n",
    "$$"
   ]
  },
  {
   "cell_type": "markdown",
   "id": "01a63958",
   "metadata": {},
   "source": [
    "```{admonition} Note on the generalization\n",
    "In the more general $N$ dimensional case, covectors are what you multiply by a vector to obtain a scalar using the dot product. They don't have to be row vectors.\n",
    "```"
   ]
  },
  {
   "cell_type": "markdown",
   "id": "cbf33170",
   "metadata": {},
   "source": [
    "Tensors that are not scalars, covectors, or vectors are formed by multiplying one or more vectors with covectors using the rules of the tensor product (which we'll see next) and tensor algebra."
   ]
  },
  {
   "cell_type": "markdown",
   "id": "e5a0f1e6",
   "metadata": {},
   "source": [
    "### Rules of Tensor Algebra"
   ]
  },
  {
   "cell_type": "markdown",
   "id": "c22feecf",
   "metadata": {},
   "source": [
    "Scalar multiplication rule:"
   ]
  },
  {
   "cell_type": "markdown",
   "id": "8ecedc64",
   "metadata": {},
   "source": [
    "$$\n",
    "T_{\\alpha \\beta} = k X_{\\alpha \\beta}\n",
    "$$"
   ]
  },
  {
   "cell_type": "markdown",
   "id": "18564d2e",
   "metadata": {},
   "source": [
    "Addition/subtraction rule:"
   ]
  },
  {
   "cell_type": "markdown",
   "id": "34fe71d4",
   "metadata": {},
   "source": [
    "$$\n",
    "T^\\alpha_{\\: \\: \\beta} = A^\\alpha_{\\: \\: \\beta} \\pm B^\\alpha_{\\: \\: \\beta}\n",
    "$$"
   ]
  },
  {
   "cell_type": "markdown",
   "id": "1e54a04e",
   "metadata": {},
   "source": [
    "Multiplication rule (which raises the rank of a tensor) - also called **tensor product**:"
   ]
  },
  {
   "cell_type": "markdown",
   "id": "75a8da85",
   "metadata": {},
   "source": [
    "$$\n",
    "T^{\\alpha \\beta} = A^\\alpha B^\\beta\n",
    "$$"
   ]
  },
  {
   "cell_type": "markdown",
   "id": "a6aecb19",
   "metadata": {},
   "source": [
    "$$\n",
    "T^{\\alpha \\beta \\gamma}_{\\: \\lambda} = (A^\\alpha B^\\beta) \\: C^\\gamma_{\\: \\lambda}\n",
    "$$"
   ]
  },
  {
   "cell_type": "markdown",
   "id": "68e77fb5",
   "metadata": {},
   "source": [
    "Contraction rule (which lowers the rank of a tensor) by multiplying with another tensor with an identical index in the opposite position:"
   ]
  },
  {
   "cell_type": "markdown",
   "id": "2fab609e",
   "metadata": {},
   "source": [
    "$$\n",
    "T_{\\lambda} = A^\\alpha_{\\: \\lambda} B_\\alpha\n",
    "$$"
   ]
  },
  {
   "cell_type": "markdown",
   "id": "f3f5908f",
   "metadata": {},
   "source": [
    "$$\n",
    "T_{\\lambda} = A_{\\alpha \\lambda} B^\\alpha\n",
    "$$"
   ]
  },
  {
   "cell_type": "markdown",
   "id": "af51c3b9",
   "metadata": {},
   "source": [
    "The other tensor to be multiplied by is often going to be the _metric tensor_ - more on that later."
   ]
  },
  {
   "cell_type": "markdown",
   "id": "7ea88a0c",
   "metadata": {},
   "source": [
    "The contraction rule also applies when a tensor has identical upper and lower indices:"
   ]
  },
  {
   "cell_type": "markdown",
   "id": "a46b253f",
   "metadata": {},
   "source": [
    "$$\n",
    "T^\\gamma = T^{\\alpha \\gamma}_{\\: \\: \\: \\alpha}\n",
    "$$"
   ]
  },
  {
   "cell_type": "markdown",
   "id": "4a9da734",
   "metadata": {},
   "source": [
    "Tensors can also obey several crucial symmetries. A symmetric tensor is one in the form:"
   ]
  },
  {
   "cell_type": "markdown",
   "id": "f0acf730",
   "metadata": {},
   "source": [
    "$$\n",
    "T_{\\alpha \\beta} = T_{\\beta \\alpha}\n",
    "$$"
   ]
  },
  {
   "cell_type": "markdown",
   "id": "36a562fb",
   "metadata": {},
   "source": [
    "Whereas an antisymmetric tensor is in the form:"
   ]
  },
  {
   "cell_type": "markdown",
   "id": "ed951667",
   "metadata": {},
   "source": [
    "$$\n",
    "T_{\\alpha \\beta} = - T_{\\beta \\alpha}\n",
    "$$"
   ]
  },
  {
   "cell_type": "markdown",
   "id": "7819ce9e",
   "metadata": {},
   "source": [
    "The double contraction of a symmetric tensor $S^{\\alpha \\beta}$ and antisymmetric tensor $A_{\\alpha \\beta}$ is zero:"
   ]
  },
  {
   "cell_type": "markdown",
   "id": "917be76c",
   "metadata": {},
   "source": [
    "$$\n",
    "A_{\\alpha \\beta} S^{\\alpha \\beta} = 0\n",
    "$$"
   ]
  },
  {
   "cell_type": "markdown",
   "id": "c65a3241",
   "metadata": {},
   "source": [
    "Basis vectors and basis covectors obey the relation:"
   ]
  },
  {
   "cell_type": "markdown",
   "id": "f28919ef",
   "metadata": {},
   "source": [
    "$$\n",
    "e^i e_j = \\delta^i{}_j\n",
    "$$"
   ]
  },
  {
   "cell_type": "markdown",
   "id": "28a9260a",
   "metadata": {},
   "source": [
    "Where ${\\delta^i}_j$ (called the Kronecker delta) is defined as:"
   ]
  },
  {
   "cell_type": "markdown",
   "id": "1fc7a124",
   "metadata": {},
   "source": [
    "$$\n",
    "{\\delta_i}_j = \n",
    "\\begin{cases}\n",
    "1 \\text{ if } i = j \\\\\n",
    "0 \\text{ if } i \\neq j\n",
    "\\end{cases}\n",
    "$$"
   ]
  },
  {
   "cell_type": "markdown",
   "id": "221c612e",
   "metadata": {},
   "source": [
    "For example, the 3D version of the Kronecker delta is given by:"
   ]
  },
  {
   "cell_type": "markdown",
   "id": "86cb1998",
   "metadata": {},
   "source": [
    "$$\n",
    "\\delta_{ij} = \n",
    "\\begin{pmatrix}\n",
    "1 & 0 & 0 \\\\\n",
    "0 & 1 & 0 \\\\\n",
    "0 & 0 & 1\n",
    "\\end{pmatrix}\n",
    "$$"
   ]
  },
  {
   "cell_type": "markdown",
   "id": "4fd82925",
   "metadata": {},
   "source": [
    "You might recognize this as the **identity matrix**, and the special property of the identity matrix is that it returns the original vector when multiplied by any vector."
   ]
  },
  {
   "cell_type": "markdown",
   "id": "e251ecc5",
   "metadata": {},
   "source": [
    "If we take two basis vectors in Cartesian space and take their dot product, the result is Kronecker delta:"
   ]
  },
  {
   "cell_type": "markdown",
   "id": "1e8b492f",
   "metadata": {},
   "source": [
    "$$\n",
    "e_i \\cdot e_j = \\delta_{ij}\n",
    "$$"
   ]
  },
  {
   "cell_type": "markdown",
   "id": "de7ceaa8",
   "metadata": {},
   "source": [
    "The Kronecker delta is the Cartesian form of the more general **metric tensor**, which is when we take the dot product of two non-Cartesian basis vectors:"
   ]
  },
  {
   "cell_type": "markdown",
   "id": "96a401b2",
   "metadata": {},
   "source": [
    "$$\n",
    "e_\\mu \\cdot e_\\nu = g_{\\mu \\nu}\n",
    "$$"
   ]
  },
  {
   "cell_type": "markdown",
   "id": "2575fe56",
   "metadata": {},
   "source": [
    "Given a covector $\\tilde A$ and a vector $\\vec B$, we find that we end up with a scalar using tensor notation :"
   ]
  },
  {
   "cell_type": "markdown",
   "id": "8f28d99a",
   "metadata": {},
   "source": [
    "$$\n",
    "\\tilde A \\vec B = A_i B^j e^i e_j = A_i B^j \\delta^i{}_j = S\n",
    "$$"
   ]
  },
  {
   "cell_type": "markdown",
   "id": "f210eba2",
   "metadata": {},
   "source": [
    "Let's examine this equation in detail to familiarize ourselves with tensor algebra. First, we wrote out our vector and covector in terms of their components and basis:"
   ]
  },
  {
   "cell_type": "markdown",
   "id": "9c0e12c9",
   "metadata": {},
   "source": [
    "$$\n",
    "\\tilde A \\Rightarrow A_i e^i\n",
    "$$\n",
    "\n",
    "$$\n",
    "\\vec B \\Rightarrow B^j e_j\n",
    "$$"
   ]
  },
  {
   "cell_type": "markdown",
   "id": "9f5be785",
   "metadata": {},
   "source": [
    "We then used the Kronecker delta to rewrite the dot product of the basis vectors as the Kronecker delta:"
   ]
  },
  {
   "cell_type": "markdown",
   "id": "029ab380",
   "metadata": {},
   "source": [
    "$$\n",
    "e^i e_j = \\delta^i{}_j\n",
    "$$"
   ]
  },
  {
   "cell_type": "markdown",
   "id": "465ace09",
   "metadata": {},
   "source": [
    "Now, we used the Kronecker delta to relabel the indices of the components of our vector and covector:"
   ]
  },
  {
   "cell_type": "markdown",
   "id": "4a3e37f9",
   "metadata": {},
   "source": [
    "$$\n",
    "A_i B^j {\\delta^i}_j = {A^i}_i {B^j}_j\n",
    "$$"
   ]
  },
  {
   "cell_type": "markdown",
   "id": "d3e6ca55",
   "metadata": {},
   "source": [
    "Finally, we used tensor contraction due to the same index on the upper and lower indices to contract the components to scalars:"
   ]
  },
  {
   "cell_type": "markdown",
   "id": "cbe70f75",
   "metadata": {},
   "source": [
    "$$\n",
    "{A^i}_i {B^j}_j = AB \\Rightarrow S\n",
    "$$"
   ]
  },
  {
   "cell_type": "markdown",
   "id": "6ba087ce",
   "metadata": {},
   "source": [
    "We can also write the cross product using tensors. To do this, we introduce the **Levi-Civita symbol**:"
   ]
  },
  {
   "cell_type": "markdown",
   "id": "34240c03",
   "metadata": {},
   "source": [
    "$$\n",
    "\\epsilon_{ijk} = \n",
    "\\begin{cases}\n",
    "1 \\text{ if cyclic permutation} \\\\\n",
    "-1 \\text{ if anticyclic permutation} \\\\\n",
    "0 \\text{ if indices repeat}\n",
    "\\end{cases}\n",
    "$$"
   ]
  },
  {
   "cell_type": "markdown",
   "id": "1a00da69",
   "metadata": {},
   "source": [
    "A cyclic permutation is if the indices go in order from left to right, such as 123, 231, or 312. An anticyclic permutation is if the indices go in order from right to left, such as 321, 213, or 132. Indices repeat in any case like 122 or 233:"
   ]
  },
  {
   "cell_type": "markdown",
   "id": "bb7a3e55",
   "metadata": {},
   "source": [
    "![Levi-civita symbol explained](../images/levi-civita.svg)"
   ]
  },
  {
   "cell_type": "markdown",
   "id": "8942e6e8",
   "metadata": {},
   "source": [
    "With this defined, we can express the cross product as:"
   ]
  },
  {
   "cell_type": "markdown",
   "id": "8dd7491d",
   "metadata": {},
   "source": [
    "$$\n",
    "\\vec A \\times \\vec B = \\epsilon_{ijk} A^j B^k\n",
    "$$"
   ]
  },
  {
   "cell_type": "markdown",
   "id": "86145e6d",
   "metadata": {},
   "source": [
    "Or if we insist on producing a vector rather than a covector, though the result is identical:"
   ]
  },
  {
   "cell_type": "markdown",
   "id": "bb77c399",
   "metadata": {},
   "source": [
    "$$\n",
    "\\vec A \\times \\vec B = {\\epsilon^i}_{jk} A^j B^k\n",
    "$$"
   ]
  },
  {
   "cell_type": "markdown",
   "id": "514ea4a0",
   "metadata": {},
   "source": [
    "## Coordinate transformations"
   ]
  },
  {
   "cell_type": "markdown",
   "id": "4a459591",
   "metadata": {},
   "source": [
    "To understand tensor transformations, let's consider the case of transforming a vector $\\vec V$ between $(x, y)$ and $(r, \\theta)$ coordinates.\n",
    "\n",
    "The crux of the problem is that we have two definitions of $\\vec V$:"
   ]
  },
  {
   "cell_type": "markdown",
   "id": "fc4267a7",
   "metadata": {},
   "source": [
    "$$\n",
    "\\vec V = v^x e_x + v^y e_y\n",
    "$$\n",
    "\n",
    "$$\n",
    "\\vec V = v^r e_r + v^\\theta e_\\theta\n",
    "$$"
   ]
  },
  {
   "cell_type": "markdown",
   "id": "948c43da",
   "metadata": {},
   "source": [
    "What we need is a reliable way to express $e_x$ in terms of $r$, and $e_y$ in terms of $\\theta$."
   ]
  },
  {
   "cell_type": "markdown",
   "id": "3a051274",
   "metadata": {},
   "source": [
    "At first glance, there is not much we can do. However, we know that the components of a vector are **linearly independent** - that is, do not affect each other. This means we can say that:"
   ]
  },
  {
   "cell_type": "markdown",
   "id": "e7221282",
   "metadata": {},
   "source": [
    "$$\n",
    "v^x e_x = v^r e_r\n",
    "$$\n",
    "\n",
    "$$\n",
    "v^y e_y = v^\\theta e_\\theta\n",
    "$$"
   ]
  },
  {
   "cell_type": "markdown",
   "id": "dfa6dda0",
   "metadata": {},
   "source": [
    "Let's focus on the first equation first. We can replace $v^x$ with just a function $x$, as $v^x$ is really just a displacement in the $x$ direction. We can similarly replace $v^r$ with a function $r$, as $v^r$ is just a displacement in the $r$ direction:"
   ]
  },
  {
   "cell_type": "markdown",
   "id": "7c4e37c6",
   "metadata": {},
   "source": [
    "$$\n",
    "x e_x = r e_r\n",
    "$$"
   ]
  },
  {
   "cell_type": "markdown",
   "id": "337813ef",
   "metadata": {},
   "source": [
    "Given that this first equation holds true, then the same should be true in terms of the differentials of the components:"
   ]
  },
  {
   "cell_type": "markdown",
   "id": "8651be3e",
   "metadata": {},
   "source": [
    "$$\n",
    "dx e_x = dr e_r\n",
    "$$"
   ]
  },
  {
   "cell_type": "markdown",
   "id": "b6fd9a1d",
   "metadata": {},
   "source": [
    "Now, if we divide by $dx$ on both sides of the equation, we have:"
   ]
  },
  {
   "cell_type": "markdown",
   "id": "848070d7",
   "metadata": {},
   "source": [
    "$$\n",
    "e_x = \\frac{dr}{dx} e_r\n",
    "$$"
   ]
  },
  {
   "cell_type": "markdown",
   "id": "28daea51",
   "metadata": {},
   "source": [
    "Using the same process for the second equation, we get a similar result for $e_y$:"
   ]
  },
  {
   "cell_type": "markdown",
   "id": "325d5552",
   "metadata": {},
   "source": [
    "$$\n",
    "e_y = \\frac{d\\theta}{dy} e_\\theta\n",
    "$$"
   ]
  },
  {
   "cell_type": "markdown",
   "id": "cdc34e09",
   "metadata": {},
   "source": [
    "Now, plugging in this to our original expression for our vector:"
   ]
  },
  {
   "cell_type": "markdown",
   "id": "c4b5de4d",
   "metadata": {},
   "source": [
    "$$\n",
    "\\vec V = v^x e_x + v^y e_y\n",
    "$$"
   ]
  },
  {
   "cell_type": "markdown",
   "id": "baf6157b",
   "metadata": {},
   "source": [
    "We have:"
   ]
  },
  {
   "cell_type": "markdown",
   "id": "bd67bf6e",
   "metadata": {},
   "source": [
    "$$\n",
    "\\vec V = v^x \\frac{dr}{dx} e_r + v^y \\frac{d\\theta}{dy} e_\\theta\n",
    "$$"
   ]
  },
  {
   "cell_type": "markdown",
   "id": "a2cddf24",
   "metadata": {},
   "source": [
    "But we also know that:"
   ]
  },
  {
   "cell_type": "markdown",
   "id": "580016ec",
   "metadata": {},
   "source": [
    "$$\n",
    "\\vec V = v^r e_r + v^\\theta e_\\theta\n",
    "$$"
   ]
  },
  {
   "cell_type": "markdown",
   "id": "8d9100a1",
   "metadata": {},
   "source": [
    "Equating this equation and the previous, we have:"
   ]
  },
  {
   "cell_type": "markdown",
   "id": "36dd7d75",
   "metadata": {},
   "source": [
    "$$\n",
    "v^r e_r + v^\\theta e_\\theta = v^x \\frac{dr}{dx} e_r + v^y \\frac{d\\theta}{dy} e_\\theta\n",
    "$$"
   ]
  },
  {
   "cell_type": "markdown",
   "id": "31f6dcd4",
   "metadata": {},
   "source": [
    "Using index notation, we can write this (with $i' = r, \\theta$ and $i = x, y$):"
   ]
  },
  {
   "cell_type": "markdown",
   "id": "ae2c485e",
   "metadata": {},
   "source": [
    "$$\n",
    "v^{i'} e_{i'} = v^i \\frac{dx^{i'}}{dx^i} e_{i'}\n",
    "$$"
   ]
  },
  {
   "cell_type": "markdown",
   "id": "3ebb1b78",
   "metadata": {},
   "source": [
    "```{note} About notation\n",
    "Remember the summation is implied, which is how we were able to shrink the two terms on the left hand side and the right hand side to just one term on either side.\n",
    "```"
   ]
  },
  {
   "cell_type": "markdown",
   "id": "cc2979ba",
   "metadata": {},
   "source": [
    "We notice that the $e_{i'}$ term appears on both sides of the equation, so we can cancel them out to have:"
   ]
  },
  {
   "cell_type": "markdown",
   "id": "70cd2b46",
   "metadata": {},
   "source": [
    "$$\n",
    "v^{i'} = v^i \\frac{dx^{i'}}{dx^i}\n",
    "$$"
   ]
  },
  {
   "cell_type": "markdown",
   "id": "4709b8ef",
   "metadata": {},
   "source": [
    "Finally, note that technically, $x^{i'}$ is a multivariable function, so:"
   ]
  },
  {
   "cell_type": "markdown",
   "id": "58cba340",
   "metadata": {},
   "source": [
    "$$\n",
    "v^{i'} = v^i \\frac{\\partial x^{i'}}{\\partial x^i}\n",
    "$$"
   ]
  },
  {
   "cell_type": "markdown",
   "id": "eeda355b",
   "metadata": {},
   "source": [
    "We have derived the vector transformation law. A similar derivation, just with oppositely-placed indices, is true for covectors."
   ]
  },
  {
   "cell_type": "markdown",
   "id": "7aed3c58",
   "metadata": {},
   "source": [
    "## Tensor transformation law"
   ]
  },
  {
   "cell_type": "markdown",
   "id": "cf68dfd7",
   "metadata": {},
   "source": [
    "What's most interesting about tensors is how they are defined, because they are defined in terms of _how they transform_. For instance, let's go through the formal definitions of contravariant and covariant tensors. They are defined like so:"
   ]
  },
  {
   "cell_type": "markdown",
   "id": "7377e636",
   "metadata": {},
   "source": [
    "Vectors (contravariant tensors) transform by the following transformation law from coordinate system $x^i$ to $x^{i'}$:"
   ]
  },
  {
   "cell_type": "markdown",
   "id": "2285933e",
   "metadata": {},
   "source": [
    "$$\n",
    "V^{i'} = \\frac{\\partial x^{i'}}{\\partial x^i} V^i\n",
    "$$"
   ]
  },
  {
   "cell_type": "markdown",
   "id": "ac6ab44e",
   "metadata": {},
   "source": [
    "While this definition is already workable, mathematicians more abstractly define contravariant tensors in a slightly different fashion: as the tangent vector to a parametrized curve in spacetime. The parameter used is most commonly $\\tau$, the proper time. So:"
   ]
  },
  {
   "cell_type": "markdown",
   "id": "d55bbbb8",
   "metadata": {},
   "source": [
    "$$\n",
    "V^i = \\frac{dx^i}{d\\tau} =\n",
    "\\left(\\frac{dx^0}{d\\tau} + \\frac{dx^1}{d\\tau} + \\frac{dx^2}{d\\tau} + \\frac{dx^3}{d\\tau}\\right)\n",
    "$$"
   ]
  },
  {
   "cell_type": "markdown",
   "id": "aa887ab2",
   "metadata": {},
   "source": [
    "```{note}\n",
    "**Remember:** We are using the convention $(x^0, x^1, x^2, x^3) = (t, x, y, z)$\n",
    "```"
   ]
  },
  {
   "cell_type": "markdown",
   "id": "938acdcd",
   "metadata": {},
   "source": [
    "Covectors (covariant tensors) transform instead by the following transformation law:"
   ]
  },
  {
   "cell_type": "markdown",
   "id": "27a7179f",
   "metadata": {},
   "source": [
    "$$\n",
    "V_{i'} = \\frac{\\partial x^i}{\\partial x^{i'}} V_i\n",
    "$$"
   ]
  },
  {
   "cell_type": "markdown",
   "id": "b2e258fa",
   "metadata": {},
   "source": [
    "Again, we can also define covariant tensors with an alternate method. Consider a function $f(x^i)$, where again $x^i = (x^0, x^1, x^2, x^3) = (t, x, y, z)$. Its gradient would be given by:"
   ]
  },
  {
   "cell_type": "markdown",
   "id": "88da0022",
   "metadata": {},
   "source": [
    "$$\n",
    "V_i = \\frac{\\partial f}{\\partial x^i}\n",
    "= \\left(\\frac{\\partial f}{\\partial x^0}, \n",
    "\\frac{\\partial f}{\\partial x^1}, \n",
    "\\frac{\\partial f}{\\partial x^2}, \n",
    "\\frac{\\partial f}{\\partial x^3}\\right)\n",
    "$$"
   ]
  },
  {
   "cell_type": "markdown",
   "id": "7103f3c4",
   "metadata": {},
   "source": [
    "The components of the gradient, given by $\\frac{\\partial f}{\\partial x^i}$, are the components of a covariant tensor."
   ]
  },
  {
   "cell_type": "markdown",
   "id": "5c4093f5",
   "metadata": {},
   "source": [
    "So now, having seen how covariant tensors and contravariant tensors transform, we can more generally describe what a tensor is:"
   ]
  },
  {
   "cell_type": "markdown",
   "id": "384f372b",
   "metadata": {},
   "source": [
    "```{note}\n",
    "**Definition of a tensor:** A mathematical object represented by a collection of components that transform according to certain transformation laws.\n",
    "```"
   ]
  },
  {
   "cell_type": "markdown",
   "id": "b75f04fe",
   "metadata": {},
   "source": [
    "The **type** $(m, n)$ of a tensor is given by how many upper indices ($m$) it has, and how many lower indices ($n$) it has. The total number of upper and lower indices is its **rank**."
   ]
  },
  {
   "cell_type": "markdown",
   "id": "4be77c2d",
   "metadata": {},
   "source": [
    "Now, let's look through several typical tensors:"
   ]
  },
  {
   "cell_type": "markdown",
   "id": "1283f5b4",
   "metadata": {},
   "source": [
    "First, we have scalars, which are $(0, 0)$ or rank-0 tensors."
   ]
  },
  {
   "cell_type": "markdown",
   "id": "7fcf301f",
   "metadata": {},
   "source": [
    "$$\n",
    "S\n",
    "$$"
   ]
  },
  {
   "cell_type": "markdown",
   "id": "017d8e3a",
   "metadata": {},
   "source": [
    "Then, we have vectors and covectors, both rank-1, which are respectively $(1, 0)$ and $(0, 1)$ tensors. We usually write vectors like this:"
   ]
  },
  {
   "cell_type": "markdown",
   "id": "e89112a7",
   "metadata": {},
   "source": [
    "$$\n",
    "V^i =\n",
    "\\begin{bmatrix}\n",
    "a \\\\\n",
    "b \\\\\n",
    "c \\\\\n",
    "d\n",
    "\\end{bmatrix}\n",
    "$$"
   ]
  },
  {
   "cell_type": "markdown",
   "id": "f884452b",
   "metadata": {},
   "source": [
    "And we usually write covectors like this:"
   ]
  },
  {
   "cell_type": "markdown",
   "id": "502fabbb",
   "metadata": {},
   "source": [
    "$$\n",
    "V_i =\n",
    "\\begin{bmatrix}\n",
    "a & b & c & d\n",
    "\\end{bmatrix}\n",
    "$$"
   ]
  },
  {
   "cell_type": "markdown",
   "id": "af456a83",
   "metadata": {},
   "source": [
    "Multiplying a vector and a covector is taking their **tensor product**, which gives a rank-2 tensor, also called a matrix:"
   ]
  },
  {
   "cell_type": "markdown",
   "id": "85120bca",
   "metadata": {},
   "source": [
    "$$\n",
    "V^\\alpha V_\\beta = {T^\\alpha}_\\beta\n",
    "$$"
   ]
  },
  {
   "cell_type": "markdown",
   "id": "8dd1bc86",
   "metadata": {},
   "source": [
    "$$\n",
    "{T^\\alpha}_\\beta =\n",
    "\\begin{pmatrix}\n",
    "T_{00} & T_{01} & T_{02} & T_{03} \\\\\n",
    "T_{10} & T_{11} & T_{12} & T_{13} \\\\\n",
    "T_{20} & T_{21} & T_{22} & T_{23} \\\\\n",
    "T_{30} & T_{31} & T_{32} & T_{33} \\\\\n",
    "\\end{pmatrix}\n",
    "$$"
   ]
  },
  {
   "cell_type": "markdown",
   "id": "b6a40429",
   "metadata": {},
   "source": [
    "The tensor product is the primary way we construct new tensors in tensor calculus (which we'll use in differential geometry). Any two tensors can be multiplied through the tensor product, so we can use the tensor product to construct any tensor. Most importantly, because the tensor transformation rule is preserved every time we take the tensor product, we can now use it to define _any_ tensor. This is the most general **definition of a tensor**:"
   ]
  },
  {
   "cell_type": "markdown",
   "id": "f1c518b1",
   "metadata": {},
   "source": [
    "$$\n",
    "\\large T^{\\mu_1' \\mu_2' \\dots \\mu_m'}_{\\: \\: \\nu_1' \\nu_2' \\dots \\nu_n'}\n",
    "\\small =\n",
    "\\frac{\\partial x^{\\mu_1'}}{\\partial x^{\\mu_1}} \\frac{\\partial x^{\\mu_2'}}{\\partial x^{\\mu_2}}\n",
    "\\dots\n",
    "\\frac{\\partial x^{\\mu_m'}}{\\partial x^{\\mu_m'}}\n",
    "\\frac{\\partial x^{\\nu_1}}{\\partial x^{\\nu_1'}} \\frac{\\partial x^{\\nu_2}}{\\partial x^{\\nu_2'}}\n",
    "\\dots\n",
    "\\frac{\\partial x^{\\nu_n}}{\\partial x^{\\nu_n'}}\n",
    "\\large T^{\\mu_1 \\mu_2 \\dots \\mu_m}_{\\: \\: \\nu_1 \\nu_2 \\dots \\nu_n}\n",
    "$$"
   ]
  },
  {
   "cell_type": "markdown",
   "id": "f5f05030",
   "metadata": {},
   "source": [
    "This horribly long and scary-looking equation is what gives tensors their reputation for frying minds, but, reassuringly, you almost never need to use this definition in practice. However, the definition is really just a formalized version of a simple idea: a tensor is a combination of vector and covector transformations that preserve the tensor transformation law. We therefore arrive at the common but unhelpful observation that:\n",
    "\n",
    "> \"A tensor is anything that transforms like a tensor.\""
   ]
  },
  {
   "cell_type": "markdown",
   "id": "f8ebfeee",
   "metadata": {},
   "source": [
    "### Practical application: Newton's laws in Tensor Calculus"
   ]
  },
  {
   "cell_type": "markdown",
   "id": "55502e6c",
   "metadata": {},
   "source": [
    "To rewrite Newton's laws of motion in tensor calculus is not difficult. For example, we can take $\\vec F = m \\vec a$ and rewrite with tensors as:"
   ]
  },
  {
   "cell_type": "markdown",
   "id": "df2ed409",
   "metadata": {},
   "source": [
    "$$\n",
    "F^i = m a^i\n",
    "$$"
   ]
  },
  {
   "cell_type": "markdown",
   "id": "d88e7e75",
   "metadata": {},
   "source": [
    "We can rewrite $a^i$ as:"
   ]
  },
  {
   "cell_type": "markdown",
   "id": "688ab656",
   "metadata": {},
   "source": [
    "$$\n",
    "a^i = \\frac{d^2 x^i}{dt^2}\n",
    "$$"
   ]
  },
  {
   "cell_type": "markdown",
   "id": "f085e038",
   "metadata": {},
   "source": [
    "Allowing us to write Newton's second law as:"
   ]
  },
  {
   "cell_type": "markdown",
   "id": "8ea8de2d",
   "metadata": {},
   "source": [
    "$$\n",
    "F^i = m \\frac{d^2 x^i}{dt^2}\n",
    "$$"
   ]
  },
  {
   "cell_type": "markdown",
   "id": "3934f829",
   "metadata": {},
   "source": [
    "In practice, however, this is only true in Cartesian coordinates. To generalize to any set of curvilinear coordinates, the actual correct formula is:"
   ]
  },
  {
   "cell_type": "markdown",
   "id": "6d084218",
   "metadata": {},
   "source": [
    "$$\n",
    "F^i = m \\left(\\frac{d^2 x^i}{dt^2} + \\Gamma^i_{\\mu \\nu} \\frac{dx^\\mu}{dt} \\frac{dx^\\nu}{dt} \\right)\n",
    "$$"
   ]
  },
  {
   "cell_type": "markdown",
   "id": "8ac5b413",
   "metadata": {},
   "source": [
    "Where $\\Gamma^i_{\\mu \\nu}$ is a quantity that depends on the metric $g_{\\mu \\nu}$ of the space (more about this next chapter)."
   ]
  },
  {
   "cell_type": "markdown",
   "id": "fbc2b6af",
   "metadata": {},
   "source": [
    "Our new form of Newton's (2nd) law is now valid in all coordinate systems. Obviously, though, no one writes Newton's laws in this way; this is just a demonstration. Instead, let's look at a more practical example."
   ]
  },
  {
   "cell_type": "markdown",
   "id": "ca9135f2",
   "metadata": {},
   "source": [
    "### Practical application 2: Maxwell's equations in tensor calculus"
   ]
  },
  {
   "cell_type": "markdown",
   "id": "e097869c",
   "metadata": {},
   "source": [
    "When using tensor calculus to express Maxwell's equations, the advantages of tensors becomes much more clear. But first, let's take a look at Maxwell's typical laws (these are expressed in SI units):"
   ]
  },
  {
   "cell_type": "markdown",
   "id": "24e465a3",
   "metadata": {},
   "source": [
    "$$\n",
    "\\nabla \\cdot \\vec E = \\frac{\\rho}{\\epsilon_0}\n",
    "$$\n",
    "\n",
    "$$\n",
    "\\nabla \\times \\vec E = -\\frac{\\partial \\vec B}{\\partial t}\n",
    "$$\n",
    "\n",
    "$$\n",
    "\\nabla \\cdot \\vec B = 0\n",
    "$$\n",
    "\n",
    "$$\n",
    "\\nabla \\times \\vec B = \\mu_0 \\vec J + \\mu_0 \\epsilon_0 \\frac{\\partial \\vec E}{\\partial t}\n",
    "$$"
   ]
  },
  {
   "cell_type": "markdown",
   "id": "ac6b9a7e",
   "metadata": {},
   "source": [
    "We can define a quantity $\\vec A$ called the vector potential, where:"
   ]
  },
  {
   "cell_type": "markdown",
   "id": "e919ca02",
   "metadata": {},
   "source": [
    "$$\n",
    "\\vec B = \\nabla \\times \\vec A\n",
    "$$"
   ]
  },
  {
   "cell_type": "markdown",
   "id": "9ee33c49",
   "metadata": {},
   "source": [
    "And a quantity called $\\phi$ called the scalar potential, where:"
   ]
  },
  {
   "cell_type": "markdown",
   "id": "8fa45453",
   "metadata": {},
   "source": [
    "$$\n",
    "\\vec E = - \\nabla \\phi - \\frac{\\partial \\vec A}{\\partial t}\n",
    "$$"
   ]
  },
  {
   "cell_type": "markdown",
   "id": "402af33a",
   "metadata": {},
   "source": [
    "This allows us to simplify Maxwell's 4 equations to just 2:"
   ]
  },
  {
   "cell_type": "markdown",
   "id": "79665b4e",
   "metadata": {},
   "source": [
    "$$\n",
    "A^\\mu = \\left(\\frac{1}{c} \\phi, \\vec A\\right)\n",
    "$$\n",
    "\n",
    "$$\n",
    "J^\\mu = (c\\rho, \\vec J)\n",
    "$$"
   ]
  },
  {
   "cell_type": "markdown",
   "id": "c4deb165",
   "metadata": {},
   "source": [
    "We can then define an electromagnetic tensor $F_{ij}$ like this:"
   ]
  },
  {
   "cell_type": "markdown",
   "id": "b46f87e2",
   "metadata": {},
   "source": [
    "$$\n",
    "F_{ij} = \\frac{\\partial A_j}{\\partial x^i} - \\frac{\\partial A_i}{\\partial x^j}\n",
    "$$"
   ]
  },
  {
   "cell_type": "markdown",
   "id": "5600f2ea",
   "metadata": {},
   "source": [
    "Now, using the electromagnetic field tensor, we can rewrite Maxwell's equation using just 2 tensor equations, which, like any tensor equation, is coordinate-independent:"
   ]
  },
  {
   "cell_type": "markdown",
   "id": "46abcdaa",
   "metadata": {},
   "source": [
    "$$\n",
    "\\partial_{m} F_{i k}+\\partial_{k} F_{m i}+\\partial_{i} F_{k m}=0\n",
    "$$\n",
    "\n",
    "$$\n",
    "\\partial_{i} F^{i k}=\\mu_{0} J^k\n",
    "$$"
   ]
  },
  {
   "cell_type": "markdown",
   "id": "a91cf742",
   "metadata": {},
   "source": [
    "[Derivation source](https://profoundphysics.com/are-maxwell-equations-relativistic/)"
   ]
  },
  {
   "cell_type": "markdown",
   "id": "5ddd2aff",
   "metadata": {},
   "source": [
    "## Differential geometry in GR"
   ]
  },
  {
   "cell_type": "markdown",
   "id": "2020e45a",
   "metadata": {},
   "source": [
    "Studying differential geometry as it applies to General Relativity starts with the basic Pythagorean theorem. The distance between any 2 points in a 2D space can be found with the theorem:"
   ]
  },
  {
   "cell_type": "markdown",
   "id": "987bfb86",
   "metadata": {},
   "source": [
    "![Differentials](https://homework.study.com/cimages/multimages/16/drawing242540949694109156314.jpg)"
   ]
  },
  {
   "cell_type": "markdown",
   "id": "c7293a6d",
   "metadata": {},
   "source": [
    "Thus, we can say that:"
   ]
  },
  {
   "cell_type": "markdown",
   "id": "30bd0d15",
   "metadata": {},
   "source": [
    "$$\n",
    "ds^2 = dx^2 + dy^2\n",
    "$$"
   ]
  },
  {
   "cell_type": "markdown",
   "id": "8977f43d",
   "metadata": {},
   "source": [
    "We call this the **line element** of the space, which tells us how distances between two points are measured."
   ]
  },
  {
   "cell_type": "markdown",
   "id": "ad14f6e1",
   "metadata": {},
   "source": [
    "The line element of 3D space is very similar to the 2D case - just add an additional coordinate:"
   ]
  },
  {
   "cell_type": "markdown",
   "id": "3a197ac4",
   "metadata": {},
   "source": [
    "$$\n",
    "ds^2 = dx^2 + dy^2 + dz^2\n",
    "$$"
   ]
  },
  {
   "cell_type": "markdown",
   "id": "a4ef940e",
   "metadata": {},
   "source": [
    "However, in 4D spacetime, things are a bit different. In flat spacetime, also called Minkowski spacetime, the line element is given by:"
   ]
  },
  {
   "cell_type": "markdown",
   "id": "434167ee",
   "metadata": {},
   "source": [
    "$$\n",
    "ds^2 = -c^2 dt^2 + dx^2 + dy^2 + dz^2\n",
    "$$"
   ]
  },
  {
   "cell_type": "markdown",
   "id": "9b70851a",
   "metadata": {},
   "source": [
    "This is equal to the inner product of the infinitesimal displacement vectors of Euclidean space multiplied by a matrix:"
   ]
  },
  {
   "cell_type": "markdown",
   "id": "5f93b268",
   "metadata": {},
   "source": [
    "$$\n",
    "ds^2 =\n",
    "\\begin{bmatrix}\n",
    "cdt & dx & dy & dz\n",
    "\\end{bmatrix}\n",
    "\\begin{bmatrix}\n",
    "cdt \\\\ dx \\\\ dy \\\\ dz\n",
    "\\end{bmatrix}\n",
    "\\begin{pmatrix}\n",
    "-1 & 0 & 0 & 0 \\\\\n",
    "0 & 1 & 0 & 0 \\\\\n",
    "0 & 0 & 1 & 0 \\\\\n",
    "0 & 0 & 0 & 1\n",
    "\\end{pmatrix}\n",
    "$$"
   ]
  },
  {
   "cell_type": "markdown",
   "id": "9f144325",
   "metadata": {},
   "source": [
    "This matrix is called the **metric tensor** - we've seen this before, it generalizes the dot product to spaces where the basis vectors aren't constant. Why the need for a metric tensor? Imagine we had two vectors, $x^\\mu$ and $x^\\nu$. Their product would be given by:"
   ]
  },
  {
   "cell_type": "markdown",
   "id": "f0d22292",
   "metadata": {},
   "source": [
    "$$\n",
    "x^\\mu \\cdot x^\\nu = x^\\mu e_\\mu x^\\nu e_\\nu = g_{\\mu \\nu} x^\\mu x^\\nu\n",
    "$$"
   ]
  },
  {
   "cell_type": "markdown",
   "id": "29859e7d",
   "metadata": {},
   "source": [
    "This is why we need a metric tensor. Note that, as we saw before, the metric tensor is a rank-2 tensor, as it is the tensor product of two rank-1 vectors (which are contravariant tensors)."
   ]
  },
  {
   "cell_type": "markdown",
   "id": "b0febe77",
   "metadata": {},
   "source": [
    "Also note that we often use the metric tensor for raising or lowering indices via tensor contraction. Thus:"
   ]
  },
  {
   "cell_type": "markdown",
   "id": "b07a982d",
   "metadata": {},
   "source": [
    "$$\n",
    "T_\\beta = g_{\\alpha \\beta} T^\\alpha\n",
    "$$\n",
    "\n",
    "$$\n",
    "T^\\beta = g^{\\alpha \\beta} T_\\alpha\n",
    "$$"
   ]
  },
  {
   "cell_type": "markdown",
   "id": "e48fcc03",
   "metadata": {},
   "source": [
    "And if we multiply the metric tensor by its inverse, we get the identity matrix, equal to the Kronecker delta, which yields a scalar:"
   ]
  },
  {
   "cell_type": "markdown",
   "id": "6513697f",
   "metadata": {},
   "source": [
    "$$\n",
    "g^{\\alpha \\beta} g_{\\beta \\mu} = \\delta^\\alpha_{\\: \\mu}\n",
    "$$"
   ]
  },
  {
   "cell_type": "markdown",
   "id": "b8b480f2",
   "metadata": {},
   "source": [
    "Finally, we can convert line elements between different coordinate systems. A more tensor-based system for doing so will be given the next chapter, but as just an example, let's attempt to convert the 3D line element to spherical coordinates."
   ]
  },
  {
   "cell_type": "markdown",
   "id": "4fb930d7",
   "metadata": {},
   "source": [
    "In spherical coordinates, $(r, \\theta, \\phi)$, we recall that spherical coordinates are defined in terms of cartesian coordinates as follows:"
   ]
  },
  {
   "cell_type": "markdown",
   "id": "870f1a62",
   "metadata": {},
   "source": [
    "$$\n",
    "x = r \\sin \\theta \\cos \\phi \\\\\n",
    "y = r \\sin \\theta \\sin \\phi \\\\\n",
    "z = r \\cos \\theta\n",
    "$$"
   ]
  },
  {
   "cell_type": "markdown",
   "id": "09d5a3c9",
   "metadata": {},
   "source": [
    "Thus, after evaluating the differentials using the total differential rule, we find that:"
   ]
  },
  {
   "cell_type": "markdown",
   "id": "a28114a2",
   "metadata": {},
   "source": [
    "$$\n",
    "dx\n",
    "= \\frac{\\partial x}{\\partial r} dr + \\frac{\\partial x}{\\partial \\theta} d\\theta + \\frac{\\partial x}{\\partial \\phi} d \\phi \\\\\n",
    "= \\sin \\theta \\cos \\phi dr + r \\cos \\theta \\cos \\phi d\\theta - r \\sin \\phi \\sin \\theta d\\phi\n",
    "$$"
   ]
  },
  {
   "cell_type": "markdown",
   "id": "b4a85574",
   "metadata": {},
   "source": [
    "$$\n",
    "dy = \\frac{\\partial y}{\\partial r} dr + \\frac{\\partial y}{\\partial \\theta} d\\theta + \\frac{\\partial y}{\\partial \\phi} d \\phi \\\\\n",
    "= \\sin \\phi \\sin \\theta dr + r \\sin \\theta \\cos \\theta d\\theta + r \\sin \\theta \\cos \\phi d\\phi\n",
    "$$"
   ]
  },
  {
   "cell_type": "markdown",
   "id": "c6b76895",
   "metadata": {},
   "source": [
    "$$\n",
    "dz = \\frac{\\partial z}{\\partial r} dr + \\frac{\\partial z}{\\partial \\theta} d\\theta \\\\\n",
    "= \\cos \\theta dr - r \\sin \\theta d \\theta\n",
    "$$"
   ]
  },
  {
   "cell_type": "markdown",
   "id": "e6e3cad7",
   "metadata": {},
   "source": [
    "After an ungodly long process of adding in our evaluated values for the squares of the three differentials $dx$, $dy$, and $dz$, we finally get the line element in spherical coordinates:"
   ]
  },
  {
   "cell_type": "markdown",
   "id": "d91021bc",
   "metadata": {},
   "source": [
    "$$\n",
    "dl^2 = dr^2 + r^2 d \\theta^2 + r^2 \\sin^2 \\theta d \\phi^2\n",
    "$$"
   ]
  },
  {
   "cell_type": "markdown",
   "id": "35a7d181",
   "metadata": {},
   "source": [
    "Therefore, our metric tensor becomes:"
   ]
  },
  {
   "cell_type": "markdown",
   "id": "900adc3e",
   "metadata": {},
   "source": [
    "$$\n",
    "g_{\\alpha \\beta} =\n",
    "\\begin{pmatrix}\n",
    "1 & 0 & 0 \\\\\n",
    "0 & r^2 & 0 \\\\\n",
    "0 & 0 & r^2 \\sin^2(\\theta) \\\\\n",
    "\\end{pmatrix}\n",
    "$$"
   ]
  },
  {
   "cell_type": "markdown",
   "id": "15d49358",
   "metadata": {},
   "source": [
    "Which still satisfies:"
   ]
  },
  {
   "cell_type": "markdown",
   "id": "5b9f1eef",
   "metadata": {},
   "source": [
    "$$\n",
    "dl^2 =\n",
    "\\begin{bmatrix}\n",
    "dr & d\\theta & d\\phi\n",
    "\\end{bmatrix}\n",
    "\\begin{bmatrix}\n",
    "dr \\\\ d\\theta \\\\ d\\phi\n",
    "\\end{bmatrix}\n",
    "\\begin{pmatrix}\n",
    "1 & 0 & 0 \\\\\n",
    "0 & r^2 & 0 \\\\\n",
    "0 & 0 & r^2 \\sin^2(\\theta) \\\\\n",
    "\\end{pmatrix}\n",
    "$$"
   ]
  },
  {
   "cell_type": "markdown",
   "id": "cf3bf29c",
   "metadata": {},
   "source": [
    "After doing all of these calculations with tensors, why do we need to use them at all? It's because **tensor equations take the same form in any coordinate system**. This important fact will be crucial in working on a theory of general relativity."
   ]
  }
 ],
 "metadata": {
  "kernelspec": {
   "display_name": "Python 3 (ipykernel)",
   "language": "python",
   "name": "python3"
  },
  "language_info": {
   "codemirror_mode": {
    "name": "ipython",
    "version": 3
   },
   "file_extension": ".py",
   "mimetype": "text/x-python",
   "name": "python",
   "nbconvert_exporter": "python",
   "pygments_lexer": "ipython3",
   "version": "3.11.4"
  }
 },
 "nbformat": 4,
 "nbformat_minor": 5
}
