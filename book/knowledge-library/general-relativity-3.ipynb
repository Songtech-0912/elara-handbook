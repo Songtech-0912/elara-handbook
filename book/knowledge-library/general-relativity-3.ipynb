{
 "cells": [
  {
   "cell_type": "markdown",
   "id": "c3351964",
   "metadata": {},
   "source": [
    "# General Relativity, Part 3"
   ]
  },
  {
   "cell_type": "markdown",
   "id": "c70d6a74",
   "metadata": {},
   "source": [
    "After having explored geodesics, the metric tensor, and the curvature tensors, we are ready to tackle the formidable task of finally deriving Einstein's equations!"
   ]
  },
  {
   "cell_type": "markdown",
   "id": "6c98a256",
   "metadata": {},
   "source": [
    "## Deriving the Einstein Field Equations"
   ]
  },
  {
   "cell_type": "markdown",
   "id": "1fea6c61",
   "metadata": {},
   "source": [
    "As with before, we can use the Euler-Lagrange equations and the principle of least action to obtain the Einstein Field Equations."
   ]
  },
  {
   "cell_type": "markdown",
   "id": "d2030170",
   "metadata": {},
   "source": [
    "The action for General Relativity in empty spacetime can be generalized as:"
   ]
  },
  {
   "cell_type": "markdown",
   "id": "05ec1509",
   "metadata": {},
   "source": [
    "$$\n",
    "S =  \\kappa \\int R \\sqrt{-g} ~d^4 x\n",
    "$$"
   ]
  },
  {
   "cell_type": "markdown",
   "id": "c678e3a7",
   "metadata": {},
   "source": [
    "Here, $g = \\det(g_{\\mu \\nu})$, $d^4x = dt\\, dx\\, \\, dy\\, dz$ and $\\kappa$ is simply a proportionality constant. Note that while it describes a vacuum, that spacetime can still be curved. For example, you could say that the spacetime _outside_ of a black hole is a vacuum (because there is no matter), but the spacetime would still be curved (because the black hole warps its surrounding spacetime, even if we only include the spacetime around a black hole and not the black hole itself)."
   ]
  },
  {
   "cell_type": "markdown",
   "id": "e604aba0",
   "metadata": {},
   "source": [
    "The action can be derived from one of two ways. It can be shown to be correct through dimensional analysis - the units on the left and right side of the equation match up. However, there is also a more intuitive way to illustrate this."
   ]
  },
  {
   "cell_type": "markdown",
   "id": "3e56e7c5",
   "metadata": {},
   "source": [
    "The action must be composed of scalar-valued functions (or scalars), as it is an integral over all spacetime, and multidimensional integrals can only take scalar-valued functions or scalars to integrate over (see for yourself that this must be true). But it must also include information about the curvature of spacetime and spacetime itself. As we know, all the information about the curvature of spacetime is captured in the Riemann tensor. But the Riemann tensor is not a scalar-valued function - it is instead a (rank-4) tensor-valued function. So we have to find a way to get a scalar from the Riemann tensor. We already know of a scalar that can be formed from the Riemann tensor - the Ricci scalar. We want to add an additional proportionality constant in front, which is also a scalar, because we'd expect to see constants in our final field equations as well. We can always set the constant $\\kappa = 1$ if we find it's not necessary later. Since both the curvature of spacetime and the matter and energy present within spacetime should act on the metric, we add them together. Finally, since spacetime is often curved, we need a factor of $\\sqrt{-g}$ to make sure the volume element $d^4 x$ is the same size no matter what coordinates or what spacetime we use. So from there, we obtain the action."
   ]
  },
  {
   "cell_type": "markdown",
   "id": "dc8212ed",
   "metadata": {},
   "source": [
    "From our action, we know that the Lagrangian is:"
   ]
  },
  {
   "cell_type": "markdown",
   "id": "3ba43c1d",
   "metadata": {},
   "source": [
    "$$\n",
    "\\mathscr{L} = \\kappa R \\sqrt{-g}\n",
    "$$"
   ]
  },
  {
   "cell_type": "markdown",
   "id": "10e37e66",
   "metadata": {},
   "source": [
    "We will use the Euler-Lagrange field equations, a slight variation of the original Euler-Lagrange equations we derived:"
   ]
  },
  {
   "cell_type": "markdown",
   "id": "e3cd5dc1",
   "metadata": {},
   "source": [
    "$$\n",
    "\\frac{\\partial \\mathscr{L}}{\\partial \\varphi} - \\frac{\\partial}{\\partial x^\\beta} \\left( \\frac{\\partial \\mathscr{L}}{\\partial (\\partial_\\beta \\varphi)}\\right) = 0\n",
    "$$"
   ]
  },
  {
   "cell_type": "markdown",
   "id": "aae190c6",
   "metadata": {},
   "source": [
    "Here, $\\varphi$ is the field, and in our case, the field is the metric tensor field $g_{\\mu \\nu} (x^\\beta)$, thus $\\varphi = g_{\\mu \\nu}$, so if we substitute, we have:"
   ]
  },
  {
   "cell_type": "markdown",
   "id": "168d65cf",
   "metadata": {},
   "source": [
    "$$\n",
    "\\frac{\\partial \\mathscr{L}}{\\partial g_{\\mu \\nu}} - \\frac{\\partial}{\\partial x^\\beta} \\left( \\frac{\\partial \\mathscr{L}}{\\partial (\\partial_\\beta g_{\\mu \\nu})}\\right) = 0\n",
    "$$"
   ]
  },
  {
   "cell_type": "markdown",
   "id": "4aa7a952",
   "metadata": {},
   "source": [
    "Note that we use the curly L for the Lagrangian because it is not technically the Lagrangian per se, but the field equivalent of the Lagrangian, known as the **Lagrangian density**. But we'll just call it the Lagrangian here. The distinction between the Lagrangian density and the Lagrangian isn't important here; the practical difference here is that the Lagrangian uses the typical Euler-Lagrange equation, while the Lagrangian density uses the Euler-Lagrange _field_ equation."
   ]
  },
  {
   "cell_type": "markdown",
   "id": "bc1cbc3e",
   "metadata": {},
   "source": [
    "We notice in the Euler-Lagrange field equations that the second term contains the partial derivative with respect to the derivatives of the metric. But note that in our Lagrangian, there are no terms that take the derivative of the metric as input. So the second term vanishes, and we are left with a comparatively easier equation:"
   ]
  },
  {
   "cell_type": "markdown",
   "id": "686f3755",
   "metadata": {},
   "source": [
    "$$\n",
    "\\frac{\\partial \\mathscr{L}}{\\partial g_{\\mu \\nu}} = 0\n",
    "$$"
   ]
  },
  {
   "cell_type": "markdown",
   "id": "a947d353",
   "metadata": {},
   "source": [
    "Before we take this derivative, let us first rewrite our Lagrangian as:"
   ]
  },
  {
   "cell_type": "markdown",
   "id": "440137ce",
   "metadata": {},
   "source": [
    "$$\n",
    "\\mathscr{L} = \\kappa g^{\\mu \\nu} R_{\\mu \\nu} \\sqrt{-g}\n",
    "$$"
   ]
  },
  {
   "cell_type": "markdown",
   "id": "dcf75ab7",
   "metadata": {},
   "source": [
    "Now, we can finally take the derivative with respect to the metric:"
   ]
  },
  {
   "cell_type": "markdown",
   "id": "297abfbc",
   "metadata": {},
   "source": [
    "$$\n",
    "\\frac{\\partial \\mathscr{L}}{\\partial g_{\\mu \\nu}} = \\kappa \\frac{\\partial}{\\partial g_{\\mu \\nu}} \\left(g^{\\mu \\nu} R_{\\mu \\nu} \\sqrt{-g}\\right) = 0\n",
    "$$"
   ]
  },
  {
   "cell_type": "markdown",
   "id": "6ea4d1e4",
   "metadata": {},
   "source": [
    "We immediately run into a hurdle! The Lagrangian has three multiplied functions, the inverse metric, the Ricci tensor, and the square root of the determinant of the metric. How do we differentiate a triple product? We can use the triple product rule:"
   ]
  },
  {
   "cell_type": "markdown",
   "id": "81f9f216",
   "metadata": {},
   "source": [
    "$$\n",
    "(f \\cdot g \\cdot h)' = f'gh + fg'h + fgh'\n",
    "$$"
   ]
  },
  {
   "cell_type": "markdown",
   "id": "b60d00d5",
   "metadata": {},
   "source": [
    "Another problem! How do we differentiate the inverse metric with respect to the metric? The answer comes from a matrix calculus identity, which, translated to tensor notation, is this:"
   ]
  },
  {
   "cell_type": "markdown",
   "id": "264241e0",
   "metadata": {},
   "source": [
    "$$\n",
    "\\frac{\\partial g^{\\mu \\nu}}{\\partial g_{\\mu \\nu}} = -g^{\\mu \\nu} g^{\\mu \\nu}\n",
    "$$"
   ]
  },
  {
   "cell_type": "markdown",
   "id": "187d42c8",
   "metadata": {},
   "source": [
    "Final problem! How do we differentiate the determinant of the metric with respect to the metric? This answer also comes from a matrix calculus identity, which is this:"
   ]
  },
  {
   "cell_type": "markdown",
   "id": "e37ce21a",
   "metadata": {},
   "source": [
    "$$\n",
    "\\frac{\\partial \\det(g_{\\mu \\nu})}{\\partial g_{\\mu \\nu}} = \\frac{\\partial g}{\\partial g_{\\mu \\nu}} = g g^{\\mu \\nu}\n",
    "$$"
   ]
  },
  {
   "cell_type": "markdown",
   "id": "f428fdab",
   "metadata": {},
   "source": [
    "With all this in mind, we can finally compute the derivatives. The first term of the derivative is just the derivative of the inverse metric, multiplied by the other two terms in the triple product. The derivative of the Ricci tensor with respect to the metric is zero (it doesn't depend on the metric), so the second term of the derivative of the triple product is zero. In the third term, we need to use the chain rule to differentiate the square root. The final result is this:"
   ]
  },
  {
   "cell_type": "markdown",
   "id": "4eb3eba0",
   "metadata": {},
   "source": [
    "$$\n",
    "-\\kappa R_{\\mu \\nu} g^{\\mu \\nu} g^{\\mu \\nu} - \\kappa \\frac{1}{2\\sqrt{-g}}g g^{\\mu \\nu} g^{\\mu \\nu} R_{\\mu \\nu} = 0\n",
    "$$"
   ]
  },
  {
   "cell_type": "markdown",
   "id": "bbbe0586",
   "metadata": {},
   "source": [
    "We can clean this up a bit. First, we can multiply both sides by $-1$, to get:"
   ]
  },
  {
   "cell_type": "markdown",
   "id": "57ecaa56",
   "metadata": {},
   "source": [
    "$$\n",
    "\\kappa R_{\\mu \\nu} g^{\\mu \\nu} g^{\\mu \\nu} + \\kappa \\frac{1}{2\\sqrt{-g}}g g^{\\mu \\nu} g^{\\mu \\nu} R_{\\mu \\nu} = 0\n",
    "$$"
   ]
  },
  {
   "cell_type": "markdown",
   "id": "9772ebd5",
   "metadata": {},
   "source": [
    "Then, we can multiply both sides of the equation by $\\frac{1}{\\sqrt{-g}}$, which results in:"
   ]
  },
  {
   "cell_type": "markdown",
   "id": "f31850a5",
   "metadata": {},
   "source": [
    "$$\n",
    "\\kappa R_{\\mu \\nu} g^{\\mu \\nu} g^{\\mu \\nu} - \\kappa \\frac{1}{2} g^{\\mu \\nu} g^{\\mu \\nu} R_{\\mu \\nu} = 0 \n",
    "$$"
   ]
  },
  {
   "cell_type": "markdown",
   "id": "1e5748f7",
   "metadata": {},
   "source": [
    "We remember that $R = g^{\\mu \\nu} R_{\\mu \\nu}$, so we can substitute it in:"
   ]
  },
  {
   "cell_type": "markdown",
   "id": "d4bdb6a4",
   "metadata": {},
   "source": [
    "$$\n",
    "\\kappa R_{\\mu \\nu} g^{\\mu \\nu} g^{\\mu \\nu} - \\kappa \\frac{1}{2} g^{\\mu \\nu} R = 0\n",
    "$$"
   ]
  },
  {
   "cell_type": "markdown",
   "id": "e26f75fe",
   "metadata": {},
   "source": [
    "We want to get rid of the double $g^{\\mu \\nu}$ terms, so we can multiply both sides of the equation by $g_{\\mu \\nu} g_{\\mu \\nu}$, to get:"
   ]
  },
  {
   "cell_type": "markdown",
   "id": "dafc81d7",
   "metadata": {},
   "source": [
    "$$\n",
    "\\kappa R_{\\mu \\nu} g^{\\mu \\nu} g^{\\mu \\nu} g_{\\mu \\nu} g_{\\mu \\nu} - \\kappa \\frac{1}{2} g^{\\mu \\nu} g_{\\mu \\nu} g_{\\mu \\nu} R = 0\n",
    "$$"
   ]
  },
  {
   "cell_type": "markdown",
   "id": "2921a7ef",
   "metadata": {},
   "source": [
    "The inverse metric contracts with the metric:"
   ]
  },
  {
   "cell_type": "markdown",
   "id": "20b539b9",
   "metadata": {},
   "source": [
    "$$\n",
    "g^{\\mu \\nu} g^{\\mu \\nu} g_{\\mu \\nu} g_{\\mu \\nu} = g^{\\mu \\nu} g_{\\mu \\nu} = \\delta_\\mu^\\mu = \\sum_{i = 0}^3 1 = 4\n",
    "$$"
   ]
  },
  {
   "cell_type": "markdown",
   "id": "a09b603c",
   "metadata": {},
   "source": [
    "So this entire expression becomes:"
   ]
  },
  {
   "cell_type": "markdown",
   "id": "3edbeaed",
   "metadata": {},
   "source": [
    "$$\n",
    "\\kappa 4R_{\\mu \\nu} - \\kappa 2 R g_{\\mu \\nu} = 0\n",
    "$$"
   ]
  },
  {
   "cell_type": "markdown",
   "id": "6efce35f",
   "metadata": {},
   "source": [
    "But we can divide by 4 right after as the right-hand side is zero, to yield:"
   ]
  },
  {
   "cell_type": "markdown",
   "id": "d5169e2c",
   "metadata": {},
   "source": [
    "$$\n",
    "\\kappa R_{\\mu \\nu} - \\kappa \\frac{1}{2} R g_{\\mu \\nu} = 0\n",
    "$$"
   ]
  },
  {
   "cell_type": "markdown",
   "id": "52d047e1",
   "metadata": {},
   "source": [
    "We can factor out the constant:"
   ]
  },
  {
   "cell_type": "markdown",
   "id": "642e5e20",
   "metadata": {},
   "source": [
    "$$\n",
    "\\kappa \\left(R_{\\mu \\nu} - \\frac{1}{2} R g_{\\mu \\nu}\\right) = 0\n",
    "$$"
   ]
  },
  {
   "cell_type": "markdown",
   "id": "36b10f3e",
   "metadata": {},
   "source": [
    "The term inside the parentheses is called the **Einstein tensor** and describes the curvature and characteristics of spacetime:"
   ]
  },
  {
   "cell_type": "markdown",
   "id": "d1ce61ea",
   "metadata": {},
   "source": [
    "$$\n",
    "G_{\\mu \\nu} = R_{\\mu \\nu} - \\frac{1}{2} R g_{\\mu \\nu}\n",
    "$$"
   ]
  },
  {
   "cell_type": "markdown",
   "id": "35436f87",
   "metadata": {},
   "source": [
    "In vacuum, the equation we just derived is the Einstein Field Equation:"
   ]
  },
  {
   "cell_type": "markdown",
   "id": "f60490d5",
   "metadata": {},
   "source": [
    "$$\n",
    "G_{\\mu \\nu} = 0\n",
    "$$"
   ]
  },
  {
   "cell_type": "markdown",
   "id": "eccc1ba6",
   "metadata": {},
   "source": [
    "Now, there is matter and energy within space, then we use a modified action, where $\\mathcal{M}$ is the contribution to the action of the gravitating matter and energy:"
   ]
  },
  {
   "cell_type": "markdown",
   "id": "c50faa92",
   "metadata": {},
   "source": [
    "$$\n",
    "S = \\int (\\kappa R -\\mathcal{M} )\\sqrt{-g}~d^4x\n",
    "$$"
   ]
  },
  {
   "cell_type": "markdown",
   "id": "8ba55366",
   "metadata": {},
   "source": [
    "So the Lagrangian is:"
   ]
  },
  {
   "cell_type": "markdown",
   "id": "671f50fb",
   "metadata": {},
   "source": [
    "$$\n",
    "\\mathscr{L} =  (\\kappa R -\\mathcal{M} )\\sqrt{-g}\n",
    "$$"
   ]
  },
  {
   "cell_type": "markdown",
   "id": "50373515",
   "metadata": {},
   "source": [
    "Using the Euler-Lagrange field equations, this becomes:"
   ]
  },
  {
   "cell_type": "markdown",
   "id": "7bfa8532",
   "metadata": {},
   "source": [
    "$$\n",
    "-\\kappa R_{\\mu \\nu} g^{\\mu \\nu} g^{\\mu \\nu} \\sqrt{-g} - \\kappa \\frac{1}{2\\sqrt{-g}}g g^{\\mu \\nu} g^{\\mu \\nu} R_{\\mu \\nu} - \\frac{\\partial \\mathcal{M}}{\\partial g_{\\mu \\nu}} \\sqrt{-g} + \\frac{1}{2 \\sqrt{-g}} gg^{\\mu \\nu} \\mathcal{M} = 0\n",
    "$$"
   ]
  },
  {
   "cell_type": "markdown",
   "id": "53f2133b",
   "metadata": {},
   "source": [
    "First, we multiply by $-1$:"
   ]
  },
  {
   "cell_type": "markdown",
   "id": "179dffcb",
   "metadata": {},
   "source": [
    "$$\n",
    "\\kappa R_{\\mu \\nu} g^{\\mu \\nu} g^{\\mu \\nu} \\sqrt{-g} + \\kappa \\frac{1}{2\\sqrt{-g}}g g^{\\mu \\nu} g^{\\mu \\nu} R_{\\mu \\nu} + \\frac{\\partial \\mathcal{M}}{\\partial g_{\\mu \\nu}} \\sqrt{-g} - \\frac{1}{2 \\sqrt{-g}} gg^{\\mu \\nu} \\mathcal{M} = 0\n",
    "$$"
   ]
  },
  {
   "cell_type": "markdown",
   "id": "1652b928",
   "metadata": {},
   "source": [
    "Then we multiply by $\\frac{1}{\\sqrt{-g}}$:"
   ]
  },
  {
   "cell_type": "markdown",
   "id": "50afcd7e",
   "metadata": {},
   "source": [
    "$$\n",
    "\\kappa R_{\\mu \\nu} g^{\\mu \\nu} g^{\\mu \\nu}  - \\kappa \\frac{1}{2} g^{\\mu \\nu} g^{\\mu \\nu} R_{\\mu \\nu} + \\frac{\\partial \\mathcal{M}}{\\partial g_{\\mu \\nu}} \\sqrt{-g} + \\frac{1}{2} g^{\\mu \\nu} \\mathcal{M} = 0\n",
    "$$"
   ]
  },
  {
   "cell_type": "markdown",
   "id": "2041f469",
   "metadata": {},
   "source": [
    "We use the definition $R = g^{\\mu \\nu} R_{\\mu \\nu}$:"
   ]
  },
  {
   "cell_type": "markdown",
   "id": "d315f895",
   "metadata": {},
   "source": [
    "$$\n",
    "\\kappa R_{\\mu \\nu} g^{\\mu \\nu} g^{\\mu \\nu}  - \\kappa \\frac{1}{2} g^{\\mu \\nu} R + \\frac{\\partial \\mathcal{M}}{\\partial g_{\\mu \\nu}} \\sqrt{-g} + \\frac{1}{2} g^{\\mu \\nu} \\mathcal{M} = 0\n",
    "$$"
   ]
  },
  {
   "cell_type": "markdown",
   "id": "10d01cd5",
   "metadata": {},
   "source": [
    "And by contraction with $g_{\\mu \\nu} g_{\\mu \\nu}$ we have:"
   ]
  },
  {
   "cell_type": "markdown",
   "id": "96716d94",
   "metadata": {},
   "source": [
    "$$\n",
    "\\kappa R_{\\mu \\nu}   - \\kappa \\frac{1}{2} g_{\\mu \\nu} R + \\frac{\\partial \\mathcal{M}}{\\partial g_{\\mu \\nu}} g_{\\mu \\nu} g_{\\mu \\nu} \\sqrt{-g} + \\frac{1}{2} g_{\\mu \\nu} \\mathcal{M} = 0\n",
    "$$"
   ]
  },
  {
   "cell_type": "markdown",
   "id": "10b1bb9a",
   "metadata": {},
   "source": [
    "We can move the second and third terms, which depend on $\\mathcal{M}$ to the right of the equation:"
   ]
  },
  {
   "cell_type": "markdown",
   "id": "a2353e12",
   "metadata": {},
   "source": [
    "$$\n",
    "\\kappa R_{\\mu \\nu}   - \\kappa \\frac{1}{2} g_{\\mu \\nu} R = -\\frac{\\partial \\mathcal{M}}{\\partial g_{\\mu \\nu}} g_{\\mu \\nu} g_{\\mu \\nu} \\sqrt{-g} - \\frac{1}{2} g_{\\mu \\nu} \\mathcal{M}\n",
    "$$"
   ]
  },
  {
   "cell_type": "markdown",
   "id": "ee310fbc",
   "metadata": {},
   "source": [
    "And factor the left-hand side of the equation:"
   ]
  },
  {
   "cell_type": "markdown",
   "id": "116c1fb7",
   "metadata": {},
   "source": [
    "$$\n",
    "\\kappa \\left(R_{\\mu \\nu} - \\frac{1}{2} g_{\\mu \\nu} R\\right) = -\\frac{\\partial \\mathcal{M}}{\\partial g_{\\mu \\nu}} g_{\\mu \\nu} g_{\\mu \\nu} \\sqrt{-g} - \\frac{1}{2} g_{\\mu \\nu} \\mathcal{M}\n",
    "$$"
   ]
  },
  {
   "cell_type": "markdown",
   "id": "6f43f1fb",
   "metadata": {},
   "source": [
    "We recognize our familiar friend, the Einstein tensor, on the left. If we define a tensor $T_{\\mu \\nu}$ to equal the right-hand side:"
   ]
  },
  {
   "cell_type": "markdown",
   "id": "acee5c51",
   "metadata": {},
   "source": [
    "$$\n",
    "T_{\\mu \\nu} = -\\frac{\\partial \\mathcal{M}}{\\partial g_{\\mu \\nu}} g_{\\mu \\nu} g_{\\mu \\nu} \\sqrt{-g} - \\frac{1}{2} g_{\\mu \\nu} \\mathcal{M}\n",
    "$$"
   ]
  },
  {
   "cell_type": "markdown",
   "id": "d368662b",
   "metadata": {},
   "source": [
    "Then we have the complete field equations:"
   ]
  },
  {
   "cell_type": "markdown",
   "id": "e7e5a6a7",
   "metadata": {},
   "source": [
    "$$\n",
    "G_{\\mu \\nu} = \\frac{1}{\\kappa} T_{\\mu \\nu}\n",
    "$$"
   ]
  },
  {
   "cell_type": "markdown",
   "id": "a79d799e",
   "metadata": {},
   "source": [
    "The tensor $T_{\\mu \\nu}$ on the right is called the **stress-energy tensor**. There is no one \"general formula\" for the stress-energy tensor; we can define different expressions for the stress-energy tensor depending on what matter, energy, momentum, and stresses are present within the region of spacetime being analyzed, with the only real rule being that the resulting expression follow tensor algebra conventions (e.g. same number of free indices on both sides of the equation). One of the simplest expressions for a stress-energy tensor is:"
   ]
  },
  {
   "cell_type": "markdown",
   "id": "c1349af3",
   "metadata": {},
   "source": [
    "$$\n",
    "T_{\\mu \\nu} = \\rho U_\\mu U_\\nu\n",
    "$$"
   ]
  },
  {
   "cell_type": "markdown",
   "id": "e7a483d3",
   "metadata": {},
   "source": [
    "Here, $U_\\mu$ and $U_\\nu$ are four-velocities, as shown before in special relativity, and $\\rho$ is the density of the gravitating matter-energy."
   ]
  },
  {
   "cell_type": "markdown",
   "id": "072dcdb9",
   "metadata": {},
   "source": [
    "But back to the equation:"
   ]
  },
  {
   "cell_type": "markdown",
   "id": "21ebf8ef",
   "metadata": {},
   "source": [
    "$$\n",
    "G_{\\mu \\nu} = \\frac{1}{\\kappa} T_{\\mu \\nu}\n",
    "$$"
   ]
  },
  {
   "cell_type": "markdown",
   "id": "47d1f094",
   "metadata": {},
   "source": [
    "What is the constant $\\kappa$? We will need to use the Newtonian limit of relativity to answer that question. When gravity is weak, and objects are moving much slower than the speed of light, we expect that we can recover Poisson's equation from the field equation. We will cover that in the following derivation."
   ]
  },
  {
   "cell_type": "markdown",
   "id": "dddfcf33",
   "metadata": {},
   "source": [
    "Given that four-velocity is defined as $U_\\mu = (\\gamma c, \\gamma v)$, and we defined objects to be moving much slower than the speed of light, the 0th component of four-velocity, so slow that their speeds are effectively zero compared to the speed of light, we can effectively say that $\\gamma \\approx 1$ and $U_\\mu \\approx (c, 0, 0, 0)$. Therefore, the component $T_{00}$ of the stress-energy tensor is just $\\rho c^2$, and all other components of the stress-energy tensor are zero."
   ]
  },
  {
   "cell_type": "markdown",
   "id": "473a4885",
   "metadata": {},
   "source": [
    "Given a static metric, that is, one that doesn't change much in time, we can also say that $\\partial_0 g_{\\mu \\nu} = 0$. And because we expect spacetime to be very close to Minkowski spacetime, we will set:"
   ]
  },
  {
   "cell_type": "markdown",
   "id": "6237c139",
   "metadata": {},
   "source": [
    "$$\n",
    "g_{\\mu \\nu} = \\eta_{\\mu \\nu} + h_{\\mu \\nu}\n",
    "$$"
   ]
  },
  {
   "cell_type": "markdown",
   "id": "d756f650",
   "metadata": {},
   "source": [
    "Where $h_{\\mu \\nu}$ is a tiny bit of metric that accounts for Newtonian gravity. Also, given our low velocity assumtions, we already mentioned that:"
   ]
  },
  {
   "cell_type": "markdown",
   "id": "5b645dfa",
   "metadata": {},
   "source": [
    "$$\n",
    "U^{\\mu} = \\left(\\frac{dt}{d\\tau}, \\frac{dx}{d\\tau}, \\frac{dy}{d\\tau}, \\frac{dz}{d\\tau}\\right) \\approx (c, 0, 0, 0)\n",
    "$$"
   ]
  },
  {
   "cell_type": "markdown",
   "id": "af8fed92",
   "metadata": {},
   "source": [
    "We consider the geodesic equations:"
   ]
  },
  {
   "cell_type": "markdown",
   "id": "36915720",
   "metadata": {},
   "source": [
    "$$\n",
    "\\frac{d^2 x^\\mu}{d\\tau^2}  + \\Gamma^\\mu_{\\gamma \\sigma} \\frac{dx^\\gamma}{d\\tau} \\frac{dx^\\sigma}{d\\tau} = 0\n",
    "$$"
   ]
  },
  {
   "cell_type": "markdown",
   "id": "faeb7c5d",
   "metadata": {},
   "source": [
    "We can simplify given that given that only the $\\frac{dt}{d\\tau}$ component matters, because all the other velocities are zero:"
   ]
  },
  {
   "cell_type": "markdown",
   "id": "bba05a5f",
   "metadata": {},
   "source": [
    "$$\n",
    "\\frac{d^2 x^\\mu}{d\\tau^2}  + \\Gamma^\\mu_{00} \\frac{dt}{d\\tau} \\frac{dt}{d\\tau} = 0\n",
    "$$"
   ]
  },
  {
   "cell_type": "markdown",
   "id": "8f80109d",
   "metadata": {},
   "source": [
    "We can rewrite this as:"
   ]
  },
  {
   "cell_type": "markdown",
   "id": "a0d92d44",
   "metadata": {},
   "source": [
    "$$\n",
    "\\frac{d^2 x^\\mu}{d\\tau^2}  = -\\Gamma^\\mu_{00} \\frac{dt}{d\\tau} \\frac{dt}{d\\tau}\n",
    "$$"
   ]
  },
  {
   "cell_type": "markdown",
   "id": "a25a9f39",
   "metadata": {},
   "source": [
    "And recalling $\\frac{dt}{d\\tau} \\approx c$, we have:"
   ]
  },
  {
   "cell_type": "markdown",
   "id": "904d69fe",
   "metadata": {},
   "source": [
    "$$\n",
    "\\frac{d^2 x^\\mu}{d\\tau^2}  = -\\Gamma^\\mu_{00} c^2\n",
    "$$"
   ]
  },
  {
   "cell_type": "markdown",
   "id": "05c81922",
   "metadata": {},
   "source": [
    "Now, we can compare this to Newton's equation for gravity:"
   ]
  },
  {
   "cell_type": "markdown",
   "id": "034aad57",
   "metadata": {},
   "source": [
    "$$\n",
    "\\frac{d^2 r}{dt^2} = -\\nabla  \\phi\n",
    "$$"
   ]
  },
  {
   "cell_type": "markdown",
   "id": "cf30effa",
   "metadata": {},
   "source": [
    "Therefore:"
   ]
  },
  {
   "cell_type": "markdown",
   "id": "cd8d545e",
   "metadata": {},
   "source": [
    "$$\n",
    "\\Gamma^\\mu_{00} c^2 = \\nabla \\phi\n",
    "$$\n",
    "\n",
    "$$\n",
    "\\Gamma^\\mu_{00} = \\frac{1}{c^2} \\nabla \\phi\n",
    "$$"
   ]
  },
  {
   "cell_type": "markdown",
   "id": "4ae9a799",
   "metadata": {},
   "source": [
    "Now, given that:"
   ]
  },
  {
   "cell_type": "markdown",
   "id": "34c1ffae",
   "metadata": {},
   "source": [
    "$$\n",
    "\\Gamma^i_{k l} = \\frac{1}{2} g^{im} (\\partial_l g_{mk} + \\partial_k g_{ml} - \\partial_m g_{kl})\n",
    "$$"
   ]
  },
  {
   "cell_type": "markdown",
   "id": "dee3594a",
   "metadata": {},
   "source": [
    "If we substitute $i \\to \\mu, k \\to t, l \\to t$, we have:"
   ]
  },
  {
   "cell_type": "markdown",
   "id": "dd2e75c9",
   "metadata": {},
   "source": [
    "$$\n",
    "\\Gamma^\\mu_{00} = \\frac{1}{2} g^{\\mu m} (\\partial_t g_{mt} + \\partial_t g_{mt} - \\partial_m g_{00})\n",
    "$$"
   ]
  },
  {
   "cell_type": "markdown",
   "id": "43209854",
   "metadata": {},
   "source": [
    "But recall that $\\partial_t g_{\\mu \\nu} = 0$ given our static metric assumption, so:"
   ]
  },
  {
   "cell_type": "markdown",
   "id": "0c568d1a",
   "metadata": {},
   "source": [
    "$$\n",
    "\\Gamma^\\mu_{00} = -\\frac{1}{2} g^{\\mu m} \\partial_m g_{00}\n",
    "$$"
   ]
  },
  {
   "cell_type": "markdown",
   "id": "2291dd99",
   "metadata": {},
   "source": [
    "Since $g^{\\mu \\nu} = \\eta^{\\mu \\nu} - h^{\\mu \\nu}$, we have:"
   ]
  },
  {
   "cell_type": "markdown",
   "id": "4de391f8",
   "metadata": {},
   "source": [
    "$$\n",
    "\\Gamma^\\mu_{00} = -\\frac{1}{2} (\\eta^{\\mu m} - h^{\\mu m} )(\\partial_m \\eta_{00} - \\partial_m h_{00})\n",
    "$$"
   ]
  },
  {
   "cell_type": "markdown",
   "id": "5548d3b1",
   "metadata": {},
   "source": [
    "We can simplify this by noting that because $\\eta_{00} = -1$, its derivative is zero, so:"
   ]
  },
  {
   "cell_type": "markdown",
   "id": "0bcffe2f",
   "metadata": {},
   "source": [
    "$$\n",
    "\\Gamma^\\mu_{00} = -\\frac{1}{2} (\\eta^{\\mu m} - h^{\\mu m} ) \\partial_m h_{00}\n",
    "$$"
   ]
  },
  {
   "cell_type": "markdown",
   "id": "18ab2e1e",
   "metadata": {},
   "source": [
    "If we expand this out, we would get:"
   ]
  },
  {
   "cell_type": "markdown",
   "id": "8dc9db56",
   "metadata": {},
   "source": [
    "$$\n",
    "\\Gamma^\\mu_{00} = -\\frac{1}{2} \\eta^{\\mu m} \\partial_m h_{00} + h^{\\mu m} \\partial_m h_{00}\n",
    "$$"
   ]
  },
  {
   "cell_type": "markdown",
   "id": "41bad572",
   "metadata": {},
   "source": [
    "But the second term is very tiny, so we can effectively say it is zero, and given $\\eta^{\\mu m} = -1$, we get:"
   ]
  },
  {
   "cell_type": "markdown",
   "id": "9580e124",
   "metadata": {},
   "source": [
    "$$\n",
    "\\Gamma^\\mu_{00} = \\frac{1}{2} \\partial_m h_{00}\n",
    "$$"
   ]
  },
  {
   "cell_type": "markdown",
   "id": "0eb1b53b",
   "metadata": {},
   "source": [
    "```{note}\n",
    "How did we know that $\\eta_{\\mu m} = -1$? This is because $\\eta_{\\mu m}$ is the first column of the Minkowski metric (as $m$ is a dummy index, so you can think of it as $\\eta_{0 m} \\dots \\eta_{3 m}$), and the only non-zero term in its first column is $\\eta_{00}$.\n",
    "```"
   ]
  },
  {
   "cell_type": "markdown",
   "id": "f43888a3",
   "metadata": {},
   "source": [
    "The partial derivative with respect to an arbitrary coordinate is just the gradient:"
   ]
  },
  {
   "cell_type": "markdown",
   "id": "563fdbcf",
   "metadata": {},
   "source": [
    "$$\n",
    "\\Gamma^\\mu_{00} = \\frac{1}{2} \\nabla h_{00}\n",
    "$$"
   ]
  },
  {
   "cell_type": "markdown",
   "id": "68a8b0a1",
   "metadata": {},
   "source": [
    "We already know what $\\Gamma^\\mu_{00}$ is though, so:"
   ]
  },
  {
   "cell_type": "markdown",
   "id": "ced8c747",
   "metadata": {},
   "source": [
    "$$\n",
    "\\frac{1}{c^2} \\nabla \\phi = \\frac{1}{2} \\nabla h_{00}\n",
    "$$"
   ]
  },
  {
   "cell_type": "markdown",
   "id": "24a03e5d",
   "metadata": {},
   "source": [
    "So we find that $h_{00} = \\frac{2\\phi}{c^2}$, and therefore $g_{00} = - 1 - \\frac{2\\phi}{c^2}$."
   ]
  },
  {
   "cell_type": "markdown",
   "id": "2b42cd0b",
   "metadata": {},
   "source": [
    "Now, we have everything we need to compute the Einstein tensor. Using the definition of the Ricci tensor, we have:"
   ]
  },
  {
   "cell_type": "markdown",
   "id": "62cdc5de",
   "metadata": {},
   "source": [
    "$$\n",
    "R_{ij} = \\partial_k \\Gamma^k_{ij} - \\partial_j \\Gamma^k_{ik} + \\Gamma^k_{ij} \\Gamma^m_{km} - \\Gamma^k_{im} \\Gamma^m_{jk}\n",
    "$$"
   ]
  },
  {
   "cell_type": "markdown",
   "id": "10ab3c65",
   "metadata": {},
   "source": [
    "Given our knowledge of $\\Gamma^\\mu_{00}$, and with substitutions $k \\to \\mu, i \\to t, j \\to t$, we have:"
   ]
  },
  {
   "cell_type": "markdown",
   "id": "0f118ca7",
   "metadata": {},
   "source": [
    "$$\n",
    "R_{00} = \\partial_\\mu \\Gamma^\\mu_{00} - \\partial_t \\Gamma^\\mu_{t\\mu} + \\Gamma^\\mu_{00} \\Gamma^m_{\\mu m} - \\Gamma^\\mu_{tm} \\Gamma^m_{t\\mu}\n",
    "$$"
   ]
  },
  {
   "cell_type": "markdown",
   "id": "ab14a0de",
   "metadata": {},
   "source": [
    "But recall that the time derivative of the metric must be zero, so the second term cancels out. And recall that all the Christoffel symbols that are not $\\Gamma^\\mu_{00}$ are zero. If we expand out the dummy summation indices, we find that they all go to zero. Therefore, we just have:"
   ]
  },
  {
   "cell_type": "markdown",
   "id": "4726dd6f",
   "metadata": {},
   "source": [
    "$$\n",
    "R_{00} = \\partial_\\mu \\Gamma^\\mu_{00}\n",
    "$$"
   ]
  },
  {
   "cell_type": "markdown",
   "id": "d7febda6",
   "metadata": {},
   "source": [
    "Which becomes:"
   ]
  },
  {
   "cell_type": "markdown",
   "id": "635592c3",
   "metadata": {},
   "source": [
    "$$\n",
    "R_{00} = \\frac{1}{c^2} \\nabla^2 \\phi\n",
    "$$"
   ]
  },
  {
   "cell_type": "markdown",
   "id": "cd635b2f",
   "metadata": {},
   "source": [
    "Recall the definition of the Einstein tensor:"
   ]
  },
  {
   "cell_type": "markdown",
   "id": "4740c2cf",
   "metadata": {},
   "source": [
    "$$\n",
    "G_{\\mu \\nu} = R_{\\mu \\nu} - \\frac{1}{2} g_{\\mu \\nu} g^{\\mu \\nu} R_{\\mu \\nu}\n",
    "$$"
   ]
  },
  {
   "cell_type": "markdown",
   "id": "c9ba8acf",
   "metadata": {},
   "source": [
    "If we substitute, we have:"
   ]
  },
  {
   "cell_type": "markdown",
   "id": "2a3d197f",
   "metadata": {},
   "source": [
    "$$\n",
    "G_{00} = R_{00} - \\left[\\left(- 1 - \\frac{2\\phi}{c^2}\\right) R_{00}\\right] = \\frac{1}{c^2} \\nabla^2 \\phi + \\frac{1}{c^2} \\nabla^2 \\phi + \\frac{2\\phi}{c^4} \\nabla^2 \\phi\n",
    "$$"
   ]
  },
  {
   "cell_type": "markdown",
   "id": "2faab785",
   "metadata": {},
   "source": [
    "Now, since $c^4$ is a massive number, $\\frac{2\\phi}{c^4} \\approx 0$, so:"
   ]
  },
  {
   "cell_type": "markdown",
   "id": "a88d007e",
   "metadata": {},
   "source": [
    "$$\n",
    "G_{00} = \\frac{2}{c^2} \\nabla^2 \\phi\n",
    "$$"
   ]
  },
  {
   "cell_type": "markdown",
   "id": "72733ca2",
   "metadata": {},
   "source": [
    "Using the Einstein field equations:"
   ]
  },
  {
   "cell_type": "markdown",
   "id": "e8f8d3e6",
   "metadata": {},
   "source": [
    "$$\n",
    "G_{\\mu \\nu} = \\frac{1}{\\kappa} T_{\\mu \\nu}\n",
    "$$"
   ]
  },
  {
   "cell_type": "markdown",
   "id": "ccc2ef2c",
   "metadata": {},
   "source": [
    "We can substitute in our values for the Einstein and stress-energy tensors:"
   ]
  },
  {
   "cell_type": "markdown",
   "id": "defaa2e3",
   "metadata": {},
   "source": [
    "$$\n",
    "\\frac{2}{c^2} \\nabla^2 \\phi = \\frac{1}{\\kappa} \\rho c^2\n",
    "$$\n",
    "$$\n",
    "\\nabla^2 \\phi = \\frac{1}{2\\kappa} \\rho c^4\n",
    "$$"
   ]
  },
  {
   "cell_type": "markdown",
   "id": "2aace6d5",
   "metadata": {},
   "source": [
    "Compare this with Poisson's equation:"
   ]
  },
  {
   "cell_type": "markdown",
   "id": "9eab8b56",
   "metadata": {},
   "source": [
    "$$\n",
    "\\nabla^2 \\phi = 4\\pi G\\rho\n",
    "$$"
   ]
  },
  {
   "cell_type": "markdown",
   "id": "526663c8",
   "metadata": {},
   "source": [
    "This means that:"
   ]
  },
  {
   "cell_type": "markdown",
   "id": "30a9f143",
   "metadata": {},
   "source": [
    "$$\n",
    "\\frac{1}{2\\kappa} \\rho c^4 = 4\\pi G\\rho\n",
    "$$\n",
    "\n",
    "$$\n",
    "\\kappa = \\frac{c^4}{8\\pi G}\n",
    "$$"
   ]
  },
  {
   "cell_type": "markdown",
   "id": "3a4a5dfe",
   "metadata": {},
   "source": [
    "Remember the field equations:"
   ]
  },
  {
   "cell_type": "markdown",
   "id": "3e5f94d2",
   "metadata": {},
   "source": [
    "$$\n",
    "G_{\\mu \\nu} = \\frac{1}{\\kappa} T_{\\mu \\nu}\n",
    "$$"
   ]
  },
  {
   "cell_type": "markdown",
   "id": "18a7bcc8",
   "metadata": {},
   "source": [
    "Now knowing the value of $\\kappa$, we need only substitute to get:"
   ]
  },
  {
   "cell_type": "markdown",
   "id": "a071d3b9",
   "metadata": {},
   "source": [
    "$$\n",
    "G_{\\mu \\nu} = \\frac{8\\pi G}{c^4} T_{\\mu \\nu}\n",
    "$$"
   ]
  },
  {
   "cell_type": "markdown",
   "id": "54b975f3",
   "metadata": {},
   "source": [
    "This elegant equation is the apotheosis of general relativity, and it rightfully deserves its place as one of the most famous equations in all of physics."
   ]
  },
  {
   "cell_type": "markdown",
   "id": "a3ad4215",
   "metadata": {},
   "source": [
    "Note that sometimes, there is an alternate form of the Einstein Field Equations that is easier to solve. To do this, we expand out the full equations:"
   ]
  },
  {
   "cell_type": "markdown",
   "id": "97aa26c5",
   "metadata": {},
   "source": [
    "$$\n",
    "R_{\\mu \\nu} - \\frac{1}{2} Rg_{\\mu \\nu} = \\frac{8\\pi G}{c^4} T_{\\mu \\nu}\n",
    "$$"
   ]
  },
  {
   "cell_type": "markdown",
   "id": "16b11457",
   "metadata": {},
   "source": [
    "We now multiply both sides by $g^{\\mu \\nu}$:"
   ]
  },
  {
   "cell_type": "markdown",
   "id": "2a1b64fe",
   "metadata": {},
   "source": [
    "$$\n",
    "g^{\\mu \\nu} R_{\\mu \\nu} - \\frac{1}{2} R g_{\\mu \\nu} g^{\\mu \\nu} = \\frac{8\\pi G}{c^4} T_{\\mu \\nu} g^{\\mu \\nu}\n",
    "$$"
   ]
  },
  {
   "cell_type": "markdown",
   "id": "398230fc",
   "metadata": {},
   "source": [
    "Using the fact that $g_{\\mu \\nu} = g^{\\mu \\nu} = 4$ and $T_{\\mu \\nu} g^{\\mu \\nu} = T$, this becomes:"
   ]
  },
  {
   "cell_type": "markdown",
   "id": "07a57138",
   "metadata": {},
   "source": [
    "$$\n",
    "R - \\frac{1}{2} (4R) = \\frac{8\\pi G}{c^4} T \\Rightarrow -R = \\frac{8\\pi G}{c^4} T\n",
    "$$"
   ]
  },
  {
   "cell_type": "markdown",
   "id": "b715032a",
   "metadata": {},
   "source": [
    "So, substituting back into the original EFEs:"
   ]
  },
  {
   "cell_type": "markdown",
   "id": "18733f3a",
   "metadata": {},
   "source": [
    "$$\n",
    "R_{\\mu \\nu} +\\frac{1}{2} \\frac{8\\pi G}{c^4} T g_{\\mu \\nu} = \\frac{8\\pi G}{c^4} T_{\\mu \\nu}\n",
    "$$\n",
    "\n",
    "$$\n",
    "R_{\\mu \\nu} = \\frac{8\\pi G}{c^4} \\left(T_{\\mu \\nu} - \\frac{1}{2} g_{\\mu \\nu} T \\right)\n",
    "$$"
   ]
  },
  {
   "cell_type": "markdown",
   "id": "97d94a72",
   "metadata": {},
   "source": [
    "This makes the field equations simpler for vacuum solutions, where $T_{\\mu \\nu} = T = 0$. Thus, the equations just become:"
   ]
  },
  {
   "cell_type": "markdown",
   "id": "19793be8",
   "metadata": {},
   "source": [
    "$$\n",
    "R_{\\mu \\nu} = 0\n",
    "$$"
   ]
  },
  {
   "cell_type": "markdown",
   "id": "9d56625e",
   "metadata": {},
   "source": [
    "which is still incredibly hard to solve, but more manageable than the typical case."
   ]
  },
  {
   "cell_type": "markdown",
   "id": "23582a10",
   "metadata": {},
   "source": [
    "Finally, there is one more important fact about the field equations: taking the covariant derivatives of both sides is equal to zero. This means that:"
   ]
  },
  {
   "cell_type": "markdown",
   "id": "398d5c0d",
   "metadata": {},
   "source": [
    "$$\n",
    "\\nabla_\\mu T_{\\mu \\nu} = 0\n",
    "$$"
   ]
  },
  {
   "cell_type": "markdown",
   "id": "8a73b11a",
   "metadata": {},
   "source": [
    "This expression may look familiar if we recall that the covariant derivative with a repeated index is just the divergence of a field. What this is saying is that the total change in matter-energy flux in all of spacetime is zero - essentially, the conservation of energy."
   ]
  },
  {
   "cell_type": "markdown",
   "id": "e47a24c8",
   "metadata": {},
   "source": [
    "## A recap with intuition"
   ]
  },
  {
   "cell_type": "markdown",
   "id": "384523eb",
   "metadata": {},
   "source": [
    "After doing so much math, it is helpful to reconnect with what the math is actually _saying_. That is, we want to regain our physical intuition for what the math describes."
   ]
  },
  {
   "cell_type": "markdown",
   "id": "784c96f2",
   "metadata": {},
   "source": [
    "Gravity is a fictitious force, caused by the curvature of spacetime. When spacetime isn't curved, particles undergo no acceleration, and thus feel no gravitational force. But when spacetime is curved, which happens whenever masses are present in spacetime, particles undergo a definite acceleration. Due to the equivalence principle, the effect of gravity is indistinguishable from the effect of an acceleration, so therefore particles that are being accelerated feel like a force is acting on them."
   ]
  },
  {
   "cell_type": "markdown",
   "id": "d0d0ef0d",
   "metadata": {},
   "source": [
    "The gravitational field is an object that extends through all space that gives each point a vector proportional to the gravitational force. Masses create and vary the gravitational field, and in turn the field exerts a force on masses within the field."
   ]
  },
  {
   "cell_type": "markdown",
   "id": "aa18f7e0",
   "metadata": {},
   "source": [
    "The gravitational potential is a function whose slope is equal to the gravitational field. It can be thought of as a landscape that masses are placed in. Where that landscape is very steep, the gravitational force is very strong; where that landscape is very flat, the gravitational force is very weak."
   ]
  },
  {
   "cell_type": "markdown",
   "id": "5b039850",
   "metadata": {},
   "source": [
    "The metric tensor is a mathematical description of a spacetime. The classical analogue of it is the gravitational potential. Just as the gravitational potential influences the force of gravity, the metric tensor influences the curvature of spacetime, which particles experience as gravity."
   ]
  },
  {
   "cell_type": "markdown",
   "id": "244ab1e0",
   "metadata": {},
   "source": [
    "We can measure distances in typical Euclidean space using a fixed grid, where the increments between the grid line are measured by constant basis vectors. In curved spacetime, basis vectors are no longer constant. The Christoffel symbols are a precise measure of how basis vectors changes in spacetime, or essentially, how the Euclidean constant grid gets distorted in spacetime. It is roughly analogous to the gravitational field. Just as a gravitational field disappears in empty space far away from any masses, the Christoffel symbols vanish too."
   ]
  },
  {
   "cell_type": "markdown",
   "id": "b84d1cda",
   "metadata": {},
   "source": [
    "The Riemann tensor describes how the curvature of spacetime changes a vector as you move it in different directions in spacetime. The Ricci tensor describes how a volume in spacetime located at a given point in spacetime becomes contracted due to the curvature of spacetime. The Einstein tensor is the _average_ value of this contraction of volume across all of the region of spacetime being studied."
   ]
  },
  {
   "cell_type": "markdown",
   "id": "a8fbd10b",
   "metadata": {},
   "source": [
    "The stress-energy tensor describes the matter-energy fluxes within a region of spacetime. The classical analogue would be matter density. Finally, just as matter is the source for gravity in Newtonian mechanics, matter is the source of spacetime curvature in General Relativity, and spacetime curvature is what we feel as gravity. John Archibald Wheeler famously summarized all of these ideas with the succint observation:\n",
    "\n",
    "> \"Spacetime tells matter how to move; matter tells spacetime how to curve\""
   ]
  }
 ],
 "metadata": {
  "kernelspec": {
   "display_name": "Python 3 (ipykernel)",
   "language": "python",
   "name": "python3"
  },
  "language_info": {
   "codemirror_mode": {
    "name": "ipython",
    "version": 3
   },
   "file_extension": ".py",
   "mimetype": "text/x-python",
   "name": "python",
   "nbconvert_exporter": "python",
   "pygments_lexer": "ipython3",
   "version": "3.11.4"
  }
 },
 "nbformat": 4,
 "nbformat_minor": 5
}
