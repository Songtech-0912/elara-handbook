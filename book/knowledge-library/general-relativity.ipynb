{
 "cells": [
  {
   "cell_type": "markdown",
   "id": "c3351964",
   "metadata": {},
   "source": [
    "# General Relativity"
   ]
  },
  {
   "cell_type": "markdown",
   "id": "237af098",
   "metadata": {},
   "source": [
    "**General relativity** is a theory of how gravity works. In General Relativity, gravity is not a force, but rather an effect caused by curved spacetime. This conclusion is based on two fundamental principles:\n",
    "\n",
    "- The **Equivalence Principle**, which says that gravity is indistinguishable from the effect of an accelerating reference frame\n",
    "- The **Principle of Covariance**, which says that all laws of physics should be in the same form in all reference frames\n",
    "\n",
    "The culminating breakthrough of General Relativity is summarized succinctly by the Einstein Field Equations:"
   ]
  },
  {
   "cell_type": "markdown",
   "id": "bde84eba",
   "metadata": {},
   "source": [
    "$$\n",
    "G_{\\alpha \\beta} = \\frac{8\\pi G}{c^4} T_{\\alpha \\beta}\n",
    "$$"
   ]
  },
  {
   "cell_type": "markdown",
   "id": "21b37580",
   "metadata": {},
   "source": [
    "This deceptively simple tensor equation relates the curvature of spacetime to the distribution of matter and energy within it, giving rise to John Archibald Wheeler's famous summary of General Relativity:\n",
    "\n",
    "> \"Spacetime tells matter how to move; matter tells spacetime how to curve\""
   ]
  },
  {
   "cell_type": "markdown",
   "id": "1c0a4e39",
   "metadata": {},
   "source": [
    "## The Equivalence Principle"
   ]
  },
  {
   "cell_type": "markdown",
   "id": "95ed7837",
   "metadata": {},
   "source": [
    "Consider an observer inside a closed room. This room is accelerating upwards at a constant rate of $9.81\\mathrm{\\ m/s^2}$. The observer holds a 1-kilogram ball. What would happen if the observer would drop a ball?"
   ]
  },
  {
   "cell_type": "markdown",
   "id": "6ee2083c",
   "metadata": {},
   "source": [
    "Well, we know that the room is under constant upwards acceleration, so when the observer releases the ball, the floor of the room will travel upwards towards it at $9.81\\mathrm{\\ m/s^2}$. However, to the observer, who is moving upwards *along with* the floor, it would look like everything is stationary, and the *ball* is the object that is falling down."
   ]
  },
  {
   "cell_type": "markdown",
   "id": "e308fe8a",
   "metadata": {},
   "source": [
    "If we use Newton's second law of motion, we find that the force experienced by the ball would be given by:"
   ]
  },
  {
   "cell_type": "markdown",
   "id": "b95b5c32",
   "metadata": {},
   "source": [
    "$$\n",
    "\\vec F_b = m \\vec a\n",
    "$$"
   ]
  },
  {
   "cell_type": "markdown",
   "id": "de8e27be",
   "metadata": {},
   "source": [
    "Thus, the force would be:"
   ]
  },
  {
   "cell_type": "markdown",
   "id": "a88ffe2c",
   "metadata": {},
   "source": [
    "$$\n",
    "\\vec F_b = -9.81 N\n",
    "$$"
   ]
  },
  {
   "cell_type": "markdown",
   "id": "039903e4",
   "metadata": {},
   "source": [
    "Now, consider another observer, inside another closed room. This room is placed on the surface of the Earth. The observer inside this second room drops another 1-kilogram ball. What would happen next?"
   ]
  },
  {
   "cell_type": "markdown",
   "id": "3d4e21c4",
   "metadata": {},
   "source": [
    "Well, the ball will experience the force of Earth's gravity, causing it to fall downwards as well. If we use Newton's law of universal gravitation, we find that the force experienced by the ball would be given by:"
   ]
  },
  {
   "cell_type": "markdown",
   "id": "ccbcb409",
   "metadata": {},
   "source": [
    "$$\n",
    "\\vec F_b = -G\\frac{M_1 M_2}{r^2}\n",
    "$$"
   ]
  },
  {
   "cell_type": "markdown",
   "id": "fd6e8462",
   "metadata": {},
   "source": [
    "We can rearrange this equation to the form:"
   ]
  },
  {
   "cell_type": "markdown",
   "id": "6dbecc64",
   "metadata": {},
   "source": [
    "$$\n",
    "\\vec F_b = \\left(\\frac{-GM_\\oplus}{(r_\\oplus)^2}\\right) M_2\n",
    "$$"
   ]
  },
  {
   "cell_type": "markdown",
   "id": "841c6b20",
   "metadata": {},
   "source": [
    "Using our closest measurements of the mass of the Earth and its radius, we arrive at the result:"
   ]
  },
  {
   "cell_type": "markdown",
   "id": "5139df9b",
   "metadata": {},
   "source": [
    "$$\n",
    "\\vec F_b = -9.81 N\n",
    "$$"
   ]
  },
  {
   "cell_type": "markdown",
   "id": "97a2e118",
   "metadata": {},
   "source": [
    "Notice that this is the **same result** as our closed room moving upwards through space at $9.81\\mathrm{\\ m/s^2}$. The effect of gravity and of an accelerated reference frame is the same. But this is just a coincidence, right? Or is it...?"
   ]
  },
  {
   "cell_type": "markdown",
   "id": "21322bdd",
   "metadata": {},
   "source": [
    "Imagine you were in either the closed room in space or the closed room on Earth, but you weren't told which one. Is there any way you could tell which room it was? No, it would be impossible to perform an experiment to tell the closed room in space from the closed room on Earth."
   ]
  },
  {
   "cell_type": "markdown",
   "id": "f2489aa4",
   "metadata": {},
   "source": [
    "So, gravity is **indistinguishable** from accelerated reference frames. This is the **equivalence principle**."
   ]
  },
  {
   "cell_type": "markdown",
   "id": "599de337",
   "metadata": {},
   "source": [
    "## The Spacetime Metric"
   ]
  },
  {
   "cell_type": "markdown",
   "id": "5d2f6b01",
   "metadata": {},
   "source": [
    "To understand General Relativity, we must first be familiar with the idea of **events**."
   ]
  },
  {
   "cell_type": "markdown",
   "id": "e6f055c7",
   "metadata": {},
   "source": [
    "An event is _anything that happens_. This could be, “a spaceship flew through my window”. Yes, that is an event."
   ]
  },
  {
   "cell_type": "markdown",
   "id": "93381775",
   "metadata": {},
   "source": [
    "We can describe the event by finding the position and time it occured, *relative* to a chosen reference frame:\n",
    "\n",
    "- E.g. “a spaceship flew through my window at 5 meters left and 6 meters in front of my head, at 2 meters above sea level, at 2:30 pm, on January 15th, 2021”\n",
    "- We have a x-coordinate (5 meters left of my head), a y-coordinate (6 meters in front of my head), a z-coordinate (2 meters above sea level), and a time coordinate (2:30 pm 1/15/21)\n",
    "\n",
    "To describe the distance between two events, we would need to find the time *and* space separating the two events. If we were purely finding the distance , we could use the Pythagorean formula:"
   ]
  },
  {
   "cell_type": "markdown",
   "id": "379c39d7",
   "metadata": {},
   "source": [
    "$$\n",
    "d^2 = x^2 + y^2 + z^2\n",
    "$$"
   ]
  },
  {
   "cell_type": "markdown",
   "id": "b75c2fae",
   "metadata": {},
   "source": [
    "But there is another way to find this distance - taking the dot product of two vectors $(x, y, z)$, each representing the position of one event. So we could then write the distance as:"
   ]
  },
  {
   "cell_type": "markdown",
   "id": "286ec2f5",
   "metadata": {},
   "source": [
    "$$\n",
    "d^2 = \\begin{bmatrix}x & y & z\\end{bmatrix} \\cdot \\begin{bmatrix}x \\\\ y \\\\ z\\end{bmatrix} = x^2 + y^2 + z^2\n",
    "$$"
   ]
  },
  {
   "cell_type": "markdown",
   "id": "1ace70c5",
   "metadata": {},
   "source": [
    "In non-Euclidean spaces, however, the dot product of two vectors is _not necessarily_ the distance. So, it would be more accurate to say that the general distance is the dot product *multiplied* by some matrix; that is:"
   ]
  },
  {
   "cell_type": "markdown",
   "id": "c2d81acb",
   "metadata": {},
   "source": [
    "$$\n",
    "d^2 = \\begin{bmatrix}x & y & z\\end{bmatrix} \\begin{bmatrix}x \\\\ y \\\\ z\\end{bmatrix} \\begin{pmatrix}a & b & c \\\\ d & e & f \\\\ g & h & i\\end{pmatrix}\n",
    "$$"
   ]
  },
  {
   "cell_type": "markdown",
   "id": "f991860a",
   "metadata": {},
   "source": [
    "In Euclidean space, this matrix is a $3 \\times 3$ matrix that doesn't do anything - it is the identity matrix. So the distance would look like this:"
   ]
  },
  {
   "cell_type": "markdown",
   "id": "fbf6fcb1",
   "metadata": {},
   "source": [
    "$$\n",
    "d^2 = \\begin{bmatrix}x & y & z\\end{bmatrix} \\begin{bmatrix}x \\\\ y \\\\ z\\end{bmatrix} \\begin{pmatrix}1 & 0 & 0 \\\\ 0 & 1 & 0 \\\\ 0 & 0 & 1\\end{pmatrix}\n",
    "$$"
   ]
  },
  {
   "cell_type": "markdown",
   "id": "30c2f928",
   "metadata": {},
   "source": [
    "We call this matrix $\\delta_{\\alpha \\beta}$, or the Euclidean metric, with $\\alpha$ representing its rows and $\\beta$ representing its columns respectively:"
   ]
  },
  {
   "cell_type": "markdown",
   "id": "e1dcd90b",
   "metadata": {},
   "source": [
    "$$\n",
    "\\delta_{\\alpha \\beta} = \\begin{pmatrix}1 & 0 & 0 \\\\ 0 & 1 & 0 \\\\ 0 & 0 & 1\\end{pmatrix} = \\begin{pmatrix} \\delta_{11} & \\delta_{12} & \\delta_{13} \\\\ \\delta_{21} & \\delta_{22} & \\delta_{23} \\\\ \\delta_{31} & \\delta_{32} & \\delta_{33} \\end{pmatrix}\n",
    "$$"
   ]
  },
  {
   "cell_type": "markdown",
   "id": "bf08de52",
   "metadata": {},
   "source": [
    "You might wonder why we like to multiply matrices to random vectors - it does seem pretty useless at the moment. However, this matrix becomes much more relevant once we add a time coordinate to the two vectors, which adds a 4th dimension. Now, our 4D vectors (4-vectors) encode both the position *and* time of each event.\n",
    "\n",
    "What units do we use to measure intervals of time, though? Well, we know that distance can be generally given by the product of velocity and time:"
   ]
  },
  {
   "cell_type": "markdown",
   "id": "0ad82b7e",
   "metadata": {},
   "source": [
    "$$\n",
    "v = \\frac{x}{t}\n",
    "$$"
   ]
  },
  {
   "cell_type": "markdown",
   "id": "04f0e325",
   "metadata": {},
   "source": [
    "And a distance in time is no different. By rearranging the equation, we find that $x = vt$. We know that $c$, the speed of light, is constant for all observers, so by using $c$ as our reference speed, we get $d = ct$. This means our units for distances in time and space are the same! Having the same units saves us a lot of headaches in physics.\n",
    "\n",
    "So now, we can fully describe both the space and time of an event with a 4-vector $(ct, x, y, z)$. Taking the dot product of two 4-vectors gives us the distance in *spacetime*, just like the dot product of two vectors gives us the distance in Euclidean space. This is called the spacetime interval, and can be written as follows:"
   ]
  },
  {
   "cell_type": "markdown",
   "id": "4c0ae441",
   "metadata": {},
   "source": [
    "$$\n",
    "d^2 = \\begin{bmatrix}ct & x & y & z\\end{bmatrix} \\begin{bmatrix}ct \\\\ x \\\\ y \\\\ z\\end{bmatrix} \\begin{pmatrix}-1 & 0 & 0 &0 \\\\ 0 & 1 & 0 & 0 \\\\ 0 & 0 & 1 & 0\\\\ 0 & 0 & 0 & 1\\end{pmatrix}\n",
    "$$"
   ]
  },
  {
   "cell_type": "markdown",
   "id": "148324ae",
   "metadata": {},
   "source": [
    "The matrix is now the metric of 4D flat spacetime, and we denote it with $\\eta_{\\alpha \\beta}$, where again $\\alpha$ and $\\beta$ represent the $(\\alpha, \\beta)$-th entry of the matrix:"
   ]
  },
  {
   "cell_type": "markdown",
   "id": "3288a6be",
   "metadata": {},
   "source": [
    "$$\n",
    "\\eta_{\\alpha\\beta} = \\begin{pmatrix}-1 & 0 & 0 &0 \\\\ 0 & 1 & 0 & 0 \\\\ 0 & 0 & 1 & 0\\\\ 0 & 0 & 0 & 1\\end{pmatrix} = \\begin{pmatrix}\\eta_{{00}}& \\eta_{{01}}& \\eta_{{02}}& \\eta_{{03}}\\\\\\eta_{{10}}& \\eta_{{11}}& \\eta_{{12}}& \\eta_{{13}}\\\\\\eta_{{20}}& \\eta_{{21}}& \\eta_{{22}}& \\eta_{{23}}\\\\\\eta_{{30}}& \\eta_{{31}}& \\eta_{{32}}& \\eta_{{33}}\\\\\\end{pmatrix}\n",
    "$$"
   ]
  },
  {
   "cell_type": "markdown",
   "id": "89255791",
   "metadata": {},
   "source": [
    "> **A note about really confusing metric notation:** In General Relativity, it is customary to count time as the 0th dimension rather than the 4th dimension. This is why $\\alpha$ and $\\beta$ range from 0 to 3 instead of 1 to 4 (as you ordinarily might expect)"
   ]
  },
  {
   "cell_type": "markdown",
   "id": "50c936bb",
   "metadata": {},
   "source": [
    "However, notice something unusual about the matrix now: it is no longer the identity matrix. Instead, $\\eta_{00} = -1$ (see second appendix for why). So, the metric tensor has a _signature_ now - that of $(- + + +)$ along its diagonals. Note that sometimes, physicists will confusingly use a metric signature of $(+---)$, which returns the same distance in spacetime. These two metric signatures are _functionally equivalent_ because the metric tensor is symmetric; the only difference is your personal preference. I will stick with $(- + + +)$ for consistency here.\n",
    "\n",
    "Okay, enough with my rant about signatures. Remember that we wrote a distance in spacetime - a _spacetime interval_ - using the dot product of two vectors, like this:"
   ]
  },
  {
   "cell_type": "markdown",
   "id": "291734cc",
   "metadata": {},
   "source": [
    "$$\n",
    "d^2 = \\begin{bmatrix}ct & x & y & z\\end{bmatrix} \\begin{bmatrix}ct \\\\ x \\\\ y \\\\ z\\end{bmatrix} \\begin{pmatrix}-1 & 0 & 0 &0 \\\\ 0 & 1 & 0 & 0 \\\\ 0 & 0 & 1 & 0\\\\ 0 & 0 & 0 & 1\\end{pmatrix}\n",
    "$$"
   ]
  },
  {
   "cell_type": "markdown",
   "id": "e4223c38",
   "metadata": {},
   "source": [
    "We can now simplify this into:"
   ]
  },
  {
   "cell_type": "markdown",
   "id": "48aae503",
   "metadata": {},
   "source": [
    "$$\n",
    "d^2 = \\begin{bmatrix}ct & x & y & z\\end{bmatrix} \\begin{bmatrix}ct \\\\ x \\\\ y \\\\ z\\end{bmatrix} \\eta_{\\alpha \\beta}\n",
    "$$"
   ]
  },
  {
   "cell_type": "markdown",
   "id": "870e9464",
   "metadata": {},
   "source": [
    "Now, Einstein still thought this simplified form was a bit too annoying to look at. You see, he had studied under Hermann Minkowski, a professor that had a tendency to make him mad, so he decided to...depart from standard convention. He developed an alternative system of notation called (unsurprisingly) Einstein notation, which I'll explain here because everything will make more sense once you know it.\n",
    "\n",
    "Take a look at one of our two (identical) vectors. Let's call it $w$:"
   ]
  },
  {
   "cell_type": "markdown",
   "id": "df8821af",
   "metadata": {},
   "source": [
    "$$\n",
    "\\vec w = \\begin{bmatrix}ct \\\\ x \\\\ y \\\\ z\\end{bmatrix}\n",
    "$$"
   ]
  },
  {
   "cell_type": "markdown",
   "id": "ab456dd2",
   "metadata": {},
   "source": [
    "Instead of writing out each component of the vector (which might change depending on what coordinate system you use), we can more generally write the vector with _index notation_, like this:"
   ]
  },
  {
   "cell_type": "markdown",
   "id": "2adf7c70",
   "metadata": {},
   "source": [
    "$$\n",
    "\\vec w = \\begin{bmatrix}ct \\\\ x \\\\ y \\\\ z\\end{bmatrix} = \\begin{bmatrix}w^0 \\\\ w^1 \\\\ w^2 \\\\ w^3\\end{bmatrix}\n",
    "$$"
   ]
  },
  {
   "cell_type": "markdown",
   "id": "7a852986",
   "metadata": {},
   "source": [
    "So now, we can decompose our vector $w$ into this:"
   ]
  },
  {
   "cell_type": "markdown",
   "id": "97725376",
   "metadata": {},
   "source": [
    "$$\n",
    "\\vec w = w^0 + w^1 + w^2 + w^3\n",
    "$$"
   ]
  },
  {
   "cell_type": "markdown",
   "id": "5cee6c6d",
   "metadata": {},
   "source": [
    "$$\n",
    "\\vec w = \\sum_{i = 0}^3 w^i\n",
    "$$"
   ]
  },
  {
   "cell_type": "markdown",
   "id": "d329c66c",
   "metadata": {},
   "source": [
    "More generally, if our vector $w$ had $n$ components, then we would write it as:\n",
    "\n",
    "$$\n",
    "\\vec w = \\sum_i^n w^i\n",
    "$$"
   ]
  },
  {
   "cell_type": "markdown",
   "id": "9d6bb7e0",
   "metadata": {},
   "source": [
    "Einstein just decided that summation signs were too annoying to write, so he got rid of them and replace them with indices! So whenever you see a vector $w^i$, remember to think:"
   ]
  },
  {
   "cell_type": "markdown",
   "id": "1caea054",
   "metadata": {},
   "source": [
    "$$\n",
    "w^i = \\sum_i^n w^i\n",
    "$$"
   ]
  },
  {
   "cell_type": "markdown",
   "id": "dc56269a",
   "metadata": {},
   "source": [
    "> **A note about notation (again):** Using $i$ here is arbritrary, you can use any letter you want for Einstein's index notation."
   ]
  },
  {
   "cell_type": "markdown",
   "id": "0c6e91de",
   "metadata": {},
   "source": [
    "So let's write our spacetime metric using Einstein notation:"
   ]
  },
  {
   "cell_type": "markdown",
   "id": "0c267380",
   "metadata": {},
   "source": [
    "$$\n",
    "d^2 = \\eta_{\\alpha \\beta} x^\\alpha x^\\beta\n",
    "$$"
   ]
  },
  {
   "cell_type": "markdown",
   "id": "d68eef81",
   "metadata": {},
   "source": [
    "In General Relativity, however, we have a final few changes to make. Since how distances are measured can change continuously - distances of space and time are relative, after all - we instead need to define the spacetime metric in terms of quantities that change, such as derivatives. So, replacing $d$ with $s$ to represent the invariant interval between two events, we can rewrite the spacetime metric again, arriving at:"
   ]
  },
  {
   "cell_type": "markdown",
   "id": "ecb9ab68",
   "metadata": {},
   "source": [
    "$$\n",
    "ds^2 = \\eta_{\\alpha \\beta} dx^\\alpha dx^\\beta = \\begin{bmatrix}cdt & dx & dy & dz\\end{bmatrix} \\begin{bmatrix}cdt \\\\ dx \\\\ dy \\\\ dz\\end{bmatrix} \\begin{pmatrix}-1 & 0 & 0 &0 \\\\ 0 & 1 & 0 & 0 \\\\ 0 & 0 & 1 & 0\\\\ 0 & 0 & 0 & 1\\end{pmatrix}\n",
    "$$"
   ]
  },
  {
   "cell_type": "markdown",
   "id": "ffe09209",
   "metadata": {},
   "source": [
    "Additionally, since the components of metric tensors can vary as spacetime is curved and distances change, we shouldn't expect that the metric of spacetime will always be $\\eta_{\\alpha \\beta}$; in fact, that would only be true for flat (uncurved) spacetime. So, we replace $\\eta_{\\alpha \\beta}$ with the more general form of the metric tensor $g_{\\alpha \\beta}$, which applies to all spacetime metrics. We finally arrive at the general metric tensor:"
   ]
  },
  {
   "cell_type": "markdown",
   "id": "40b1c932",
   "metadata": {},
   "source": [
    "$$\n",
    "ds^2 = g_{\\alpha \\beta} dx^\\alpha dx^\\beta\n",
    "$$"
   ]
  },
  {
   "cell_type": "markdown",
   "id": "778716c4",
   "metadata": {},
   "source": [
    "This is the most common form of the spacetime metric you will see, and it is the form we will use going forward."
   ]
  },
  {
   "cell_type": "markdown",
   "id": "f5f39436",
   "metadata": {},
   "source": [
    "### Spacelike, Timelike, and Lightlike Intervals"
   ]
  },
  {
   "cell_type": "markdown",
   "id": "a82af296",
   "metadata": {},
   "source": [
    "When finding the spacetime interval between two events, we can describe the interval using one of three terms:\n",
    "\n",
    "* If the spacetime interval is **positive**, it is spacelike: the two events are separated by space\n",
    "* If the spacetime interval is **negative**, it is timelike: the two events are separated by time\n",
    "* If the spacetime interval is **zero**, it is lightlike: a beam of light could travel directly from one event to the other"
   ]
  },
  {
   "cell_type": "markdown",
   "id": "cb9c8368",
   "metadata": {},
   "source": [
    "## The Geodesic Equation"
   ]
  },
  {
   "cell_type": "markdown",
   "id": "3d48f243",
   "metadata": {},
   "source": [
    "We know from Newton's first law of motion that an object in motion stays in motion at constant speed - that is, it undergoes no acceleration. In other terms:"
   ]
  },
  {
   "cell_type": "markdown",
   "id": "0acc85b7",
   "metadata": {},
   "source": [
    "$$\n",
    "\\frac{d^2x^\\alpha}{d\\tau^2} = 0\n",
    "$$"
   ]
  },
  {
   "cell_type": "markdown",
   "id": "d5bbe888",
   "metadata": {},
   "source": [
    "Where:"
   ]
  },
  {
   "cell_type": "markdown",
   "id": "447b52cb",
   "metadata": {},
   "source": [
    "$$\n",
    "x^\\alpha = x^1, x^2, x^3 ... \\: x^n = x, y, z \\: ... \\: n\n",
    "$$"
   ]
  },
  {
   "cell_type": "markdown",
   "id": "eb33dbcb",
   "metadata": {},
   "source": [
    "This is why, for instance, a ball rolling along an infinitely long hallway will keep going in a path in the same direction - its velocity vector, and thus its directions, stays constant. In nice Euclidean space, we call this path a \"straight line\" - the effect of going ahead in the same direction forever.\n",
    "\n",
    "As we know, in Euclidean space, a straight line is the shortest path between two points, which we call a _geodesic_. We might be tempted to phrase Newton's first law to say that \"a particle in motion will travel along a straight line\". However, in non-Euclidean geometries, a geodesic is not necessarily a straight line. So, we must generalize Newton's first law with modifications: **a particle in motion will move along a geodesic**.\n",
    "\n",
    "Now, let's formulate this law mathematically. Let us imagine two points, $A$ and $B$, where a geodesic is the shortest path between them. Remember that the spacetime metric is given by:"
   ]
  },
  {
   "cell_type": "markdown",
   "id": "79ed345b",
   "metadata": {},
   "source": [
    "$$\n",
    "ds^2 = g_{\\alpha \\beta} dx^\\alpha dx^\\beta\n",
    "$$"
   ]
  },
  {
   "cell_type": "markdown",
   "id": "9e6fec85",
   "metadata": {},
   "source": [
    "To make everything simpler, imagine that our test particle is a photon moving between $A$ and $B$. The distance between the two points (more correctly, the invariant interval between the points) is therefore a lightlike interval given by:"
   ]
  },
  {
   "cell_type": "markdown",
   "id": "e265b485",
   "metadata": {},
   "source": [
    "$$\n",
    "ds^2 = -c^2 d\\tau^2\n",
    "$$"
   ]
  },
  {
   "cell_type": "markdown",
   "id": "196ac70a",
   "metadata": {},
   "source": [
    "> **Introducing geometrized units:** In General Relativity, we often set $c = 1$ and $G = 1$ to make equations slightly easier to write. This is why you will see $c$ and $G$ occasionally \"disappear\" from equations. From this point on, we will use geometrized units whenever appropriate."
   ]
  },
  {
   "cell_type": "markdown",
   "id": "22822ca7",
   "metadata": {},
   "source": [
    "We may simplify the previous equation to:"
   ]
  },
  {
   "cell_type": "markdown",
   "id": "390b7783",
   "metadata": {},
   "source": [
    "$$\n",
    "ds^2 = -d\\tau^2\n",
    "$$"
   ]
  },
  {
   "cell_type": "markdown",
   "id": "0f9783da",
   "metadata": {},
   "source": [
    "Integrating over the interval with respect to proper time gives us:"
   ]
  },
  {
   "cell_type": "markdown",
   "id": "a8fbc0e7",
   "metadata": {},
   "source": [
    "$$\n",
    "\\tau = \\int_A^B \\sqrt{-ds^2} = \\int_A^B \\sqrt{g_{\\alpha \\beta} dx^\\alpha dx^\\beta}\n",
    "$$"
   ]
  },
  {
   "cell_type": "markdown",
   "id": "dae43b32",
   "metadata": {},
   "source": [
    "To actually solve this integral, we can rewrite the path of our particle as a parametric function $x^\\alpha =\\alpha\\mu(\\sigma)$, where $\\sigma=0$ at point $A$ and $\\sigma = 1$ at point B. Using this we can write:"
   ]
  },
  {
   "cell_type": "markdown",
   "id": "3bc81d6f",
   "metadata": {},
   "source": [
    "$$\n",
    "\\tau = \\int_0^1 \\left(-g_{\\alpha \\beta} \\frac{dx^\\alpha}{d \\sigma} \\frac{dx^\\beta}{d \\sigma} \\right)^{1/2}\n",
    "$$"
   ]
  },
  {
   "cell_type": "markdown",
   "id": "136e8b14",
   "metadata": {},
   "source": [
    "Where $L$ is the Lagrangian:"
   ]
  },
  {
   "cell_type": "markdown",
   "id": "a958e2de",
   "metadata": {},
   "source": [
    "$$\n",
    "d \\sigma = \\int_0^1 L \\left(\\frac{dx^\\alpha}{d\\sigma}, x^\\alpha\\right) d\\sigma\n",
    "$$\n",
    "\n",
    "$$\n",
    "d \\sigma = \\int_0^1 \\frac{d\\tau}{d\\sigma} \\left(\\frac{dx^\\alpha}{d\\sigma}, x^\\alpha\\right) d\\sigma\n",
    "$$\n",
    "\n",
    "$$\n",
    "L = \\frac{d\\tau}{d\\sigma}\n",
    "$$"
   ]
  },
  {
   "cell_type": "markdown",
   "id": "bcefa30c",
   "metadata": {},
   "source": [
    "The next step is to change the derivatives with respect to $\\sigma$ to derivatives with respect to $\\tau$. Remember that:"
   ]
  },
  {
   "cell_type": "markdown",
   "id": "6ba3c7ef",
   "metadata": {},
   "source": [
    "$$\n",
    "\\frac{df}{d\\sigma} = \\frac{df}{d\\tau} \\frac{d\\tau}{d\\sigma} = L \\frac{df}{d\\tau}\n",
    "$$"
   ]
  },
  {
   "cell_type": "markdown",
   "id": "b36ba917",
   "metadata": {},
   "source": [
    "We may now use the Euler-Lagrange equations to find the action of the system. The Euler-Lagrange equations are given by:"
   ]
  },
  {
   "cell_type": "markdown",
   "id": "6138e573",
   "metadata": {},
   "source": [
    "$$\n",
    "-\\frac{d}{dx} \\left(\\frac{\\partial L}{\\partial f'}\\right) + \\frac{\\partial L}{\\partial f}  = 0\n",
    "$$"
   ]
  },
  {
   "cell_type": "markdown",
   "id": "220586e0",
   "metadata": {},
   "source": [
    "In our case, with a \"dummy index\" $\\gamma$ (to avoid confusing it with $\\alpha$ and $\\beta$ in the other terms) this becomes:"
   ]
  },
  {
   "cell_type": "markdown",
   "id": "c48335bd",
   "metadata": {},
   "source": [
    "$$\n",
    "-\\frac{d}{d \\sigma}\\left(\\frac{\\partial L}{\\partial\\left(d x^{\\gamma} / d \\sigma\\right)}\\right)+\\frac{\\partial L}{\\partial x^{\\gamma}}=0\n",
    "$$"
   ]
  },
  {
   "cell_type": "markdown",
   "id": "71b57d69",
   "metadata": {},
   "source": [
    "We now simply need to compute each derivative term. First, the second term:"
   ]
  },
  {
   "cell_type": "markdown",
   "id": "6dadb366",
   "metadata": {},
   "source": [
    "$$\n",
    "\\frac{\\partial L}{\\partial x^{\\gamma}} = -\\frac{1}{2} L \\frac{\\partial g_{\\alpha\\beta}}{\\partial x^\\gamma} \\frac{dx^\\alpha}{d\\sigma} \\frac{dx^\\beta}{d \\sigma}\n",
    "$$\n",
    "\n",
    "$$\n",
    "\\frac{\\partial L}{\\partial x^{\\gamma}} = -\\frac{L}{2} \\frac{\\partial g_{\\alpha\\beta}}{\\partial x^\\gamma} \\frac{dx^\\alpha}{d\\tau} \\frac{dx^\\beta}{d \\tau}\n",
    "$$"
   ]
  },
  {
   "cell_type": "markdown",
   "id": "12e3f47c",
   "metadata": {},
   "source": [
    "And now, the first term:"
   ]
  },
  {
   "cell_type": "markdown",
   "id": "82cbf160",
   "metadata": {},
   "source": [
    "$$\n",
    "\\frac{\\partial L}{\\partial\\left(d x^{\\gamma} / d \\sigma\\right)} = -\\frac{1}{L} g_{\\alpha \\gamma} \\frac{\\alpha\\mu}{d \\sigma}\n",
    "$$\n",
    "\n",
    "$$\n",
    "-\\frac{d}{d \\sigma}\\left(\\frac{\\partial L}{\\partial\\left(d x^{\\gamma} / d \\sigma\\right)}\\right)= \\frac{d}{d\\sigma} \\left(\\frac{1}{L} g_{\\alpha \\gamma} \\frac{\\alpha\\mu}{d \\sigma}\\right)\n",
    "$$\n",
    "\n",
    "$$\n",
    "= L \\frac{d}{d\\tau} \\left(g_{\\alpha \\gamma} \\frac{dx^\\alpha}{d \\tau}\\right)\n",
    "$$\n",
    "\n",
    "$$\n",
    "= L\\left[g_{\\alpha \\gamma} \\frac{d^2 x^\\alpha}{d\\tau^2} + \\frac{dg_{\\alpha \\gamma}}{d\\tau} \\frac{dx^\\alpha}{d \\tau}\\right]\n",
    "$$\n",
    "\n",
    "$$\n",
    "= L\\left[g_{\\alpha \\gamma} \\frac{d^2 x^\\alpha}{d\\tau^2} + \\frac{1}{2} \\left(\\frac{\\partial g_{\\alpha \\gamma }}{\\partial x^{\\beta }}+\\frac{\\partial g_{\\beta \\gamma }}{\\partial x^{\\alpha }}\\right)\\frac{dx^{\\alpha }}{d\\tau }\\frac{dx^{\\beta }}{d\\tau }\\right]\n",
    "$$"
   ]
  },
  {
   "cell_type": "markdown",
   "id": "cd3b0836",
   "metadata": {},
   "source": [
    "So our completed Euler-Langrage equation yields:"
   ]
  },
  {
   "cell_type": "markdown",
   "id": "539539f2",
   "metadata": {},
   "source": [
    "$$\n",
    "L\\left[g_{\\alpha \\gamma} \\frac{d^2 x^\\alpha}{d\\tau^2} + \\frac{1}{2} \\left(\\frac{\\partial g_{\\alpha \\gamma }}{\\partial x^{\\beta }}+\\frac{\\partial g_{\\beta \\gamma }}{\\partial x^{\\alpha }}\\right)\\frac{dx^{\\alpha }}{d\\tau }\\frac{dx^{\\beta }}{d\\tau }\\right] -\\frac{L}{2} \\frac{\\partial g_{\\alpha\\beta}}{\\partial x^\\gamma} \\frac{dx^\\alpha}{d\\tau} \\frac{dx^\\beta}{d \\tau} = 0\n",
    "$$"
   ]
  },
  {
   "cell_type": "markdown",
   "id": "e4e26673",
   "metadata": {},
   "source": [
    "Factoring out the Lagrangian and rearranging, we find that:"
   ]
  },
  {
   "cell_type": "markdown",
   "id": "2da6c274",
   "metadata": {},
   "source": [
    "$$\n",
    "g_{\\alpha \\gamma} \\frac{d^2 x^\\alpha}{d \\tau^2} = -\\frac{1}{2}\\left[\\frac{\\partial g_{\\alpha \\gamma }}{\\partial x^{\\beta }}+\\frac{\\partial g_{\\beta \\gamma }}{\\partial x^{\\alpha }}-\\frac{\\partial g_{\\alpha \\beta }}{\\partial x^{\\gamma }}\\right]\\frac{dx^{\\alpha }}{d\\tau }\\frac{dx^{\\beta }}{d\\tau }\n",
    "$$"
   ]
  },
  {
   "cell_type": "markdown",
   "id": "8a34ba9b",
   "metadata": {},
   "source": [
    "With a change of the dummy index to $\\delta$ to avoid confusion, we find that:"
   ]
  },
  {
   "cell_type": "markdown",
   "id": "831e506b",
   "metadata": {},
   "source": [
    "$$\n",
    "g_{\\alpha \\gamma} \\frac{d^2 x^\\alpha}{d \\tau^2} = -g_{\\alpha \\gamma} \\Gamma^\\alpha_{\\delta \\beta} \\frac{dx^\\delta}{d\\tau} \\frac{dx^\\beta}{d\\tau}\n",
    "$$"
   ]
  },
  {
   "cell_type": "markdown",
   "id": "5ae7dbe7",
   "metadata": {},
   "source": [
    "Factoring out the metric, we finally arrive at the **geodesic equation**:"
   ]
  },
  {
   "cell_type": "markdown",
   "id": "3e5ced44",
   "metadata": {},
   "source": [
    "$$\n",
    "\\frac{d^2 x^\\alpha}{d \\tau^2} = -\\Gamma^\\alpha_{\\delta \\beta} \\frac{dx^\\delta}{d\\tau} \\frac{dx^\\beta}{d\\tau}\n",
    "$$\n",
    "\n",
    "$$\n",
    "\\Gamma^\\alpha_{\\delta \\beta} = \\frac{1}{2} g^{\\alpha \\gamma} \\left[\\frac{\\partial g_{\\gamma \\delta}}{\\partial x^{\\beta }}+\\frac{\\partial g_{\\beta \\gamma }}{\\partial x^{\\alpha }}-\\frac{\\partial g_{\\delta \\beta }}{\\partial x^{\\gamma }}\\right]\n",
    "$$"
   ]
  },
  {
   "cell_type": "markdown",
   "id": "8c765149",
   "metadata": {},
   "source": [
    "Here, $g^{\\alpha \\gamma}$ is the inverse of the metric.\n",
    "\n",
    "> **A note on notation:** In general relativity, we can let the letters we use for indices to be whatever we want, and the equations will still be consistent. For example, $g_{\\alpha \\beta} = g_{ij} = g_{\\alpha \\gamma} = g_{\\mu \\gamma}$. Because letters often change as we add terms to equations, we change them often (though it's understandably confusing to get used to at first).\n",
    "\n",
    "With a bit of letter-changing again, we can put the geodesic equation into its most common form:"
   ]
  },
  {
   "cell_type": "markdown",
   "id": "7eecc3e8",
   "metadata": {},
   "source": [
    "$$\n",
    "\\frac{d^2 x^\\mu}{d \\tau^2} + \\Gamma^\\mu_{\\alpha \\beta} \\frac{dx^\\alpha}{d\\tau} \\frac{dx^\\beta}{d\\tau} =0\n",
    "$$\n",
    "\n",
    "$$\n",
    "\\Gamma^\\mu_{\\alpha \\beta} = \\frac{1}{2} g^{\\mu \\gamma} \\left[\\frac{\\partial g_{\\alpha \\gamma}}{\\partial x^{\\beta }}+\\frac{\\partial g_{\\beta \\gamma }}{\\partial x^{\\mu }}-\\frac{\\partial g_{\\alpha \\beta }}{\\partial x^{\\gamma }}\\right]\n",
    "$$"
   ]
  },
  {
   "cell_type": "markdown",
   "id": "5b8bd275",
   "metadata": {},
   "source": [
    "Any path that obeys the geodesic equation in spacetime is a geodesic. Since spacetime can be curved, these geodesics are not straight lines. The curvature of spacetime - what we experience as gravity - causes distances to change. This causes the metric to change, which in turn affects the paths of particles."
   ]
  },
  {
   "cell_type": "markdown",
   "id": "6c98a256",
   "metadata": {},
   "source": [
    "## Deriving the Einstein Field Equations"
   ]
  },
  {
   "cell_type": "markdown",
   "id": "25bb4560",
   "metadata": {},
   "source": [
    "In Newtonian gravity, the gravitational potential is described by Poisson's equation:"
   ]
  },
  {
   "cell_type": "markdown",
   "id": "838b79d7",
   "metadata": {},
   "source": [
    "$$\n",
    "\\nabla^2 \\Phi = 4 \\pi G \\rho\n",
    "$$"
   ]
  },
  {
   "cell_type": "markdown",
   "id": "cef8cb6e",
   "metadata": {},
   "source": [
    "Where $\\rho$ is the density of the gravitating matter. Since General Relativity reduces to Newtonian gravity in a weak gravitational field, we would expect a relativistic formulation of gravity to look similar to the Poisson equation; the left-hand side would describe the gravitational potential, and the right-and side would describe the density of matter in spacetime.\n",
    "\n",
    "The relativistic analogue of $\\rho$ is the stress-energy tensor $T_{\\mu \\nu}$, which is a $4 \\times 4$ matrix (much like the metric tensor) that describes all the information about the gravitating matter and energy in spacetime."
   ]
  },
  {
   "cell_type": "markdown",
   "id": "e630fe00",
   "metadata": {},
   "source": [
    "![Stress-energy tensor](https://www.naturelovesmath.com/wp-content/uploads/2017/01/Stress-energy-tensor.png)"
   ]
  },
  {
   "cell_type": "markdown",
   "id": "eb252cb8",
   "metadata": {},
   "source": [
    "So a starting point for a relativistic formulation of gravity would look something like this:"
   ]
  },
  {
   "cell_type": "markdown",
   "id": "1f224325",
   "metadata": {},
   "source": [
    "$$\n",
    "\\nabla^2 \\Phi = (4\\pi G) \\: k T_{\\alpha \\beta}\n",
    "$$\n"
   ]
  },
  {
   "cell_type": "markdown",
   "id": "0199aaba",
   "metadata": {},
   "source": [
    "Also, in a weak gravitational field, all the elements of the metric tensor disappear except for $g_{00}$, and from Poisson's equation, we know that:"
   ]
  },
  {
   "cell_type": "markdown",
   "id": "2b5d25b3",
   "metadata": {},
   "source": [
    "$$\n",
    "g_{00} = 4 \\pi G \\rho \\approx -(1 + 2 \\phi)\n",
    "$$"
   ]
  },
  {
   "cell_type": "markdown",
   "id": "472ec675",
   "metadata": {},
   "source": [
    "From there, we can find the proportionality constant for the right-hand side:"
   ]
  },
  {
   "cell_type": "markdown",
   "id": "980d6229",
   "metadata": {},
   "source": [
    "$$\n",
    "\\frac{8\\pi G}{c^4} T_{\\alpha \\beta}\n",
    "$$"
   ]
  },
  {
   "cell_type": "markdown",
   "id": "efc4edc3",
   "metadata": {},
   "source": [
    "On the left-hand side, we know that gravity is actually an effect of the curvature of spacetime, so we need some way of encoding this curvature. The Riemann tensor, which is defined with the Christoffel symbols, allows us to do so:"
   ]
  },
  {
   "cell_type": "markdown",
   "id": "8386dabf",
   "metadata": {},
   "source": [
    "$$\n",
    "{\\displaystyle R^{\\rho }{}_{\\sigma \\mu \\nu }=\\partial _{\\mu }\\Gamma ^{\\rho }{}_{\\nu \\sigma }-\\partial _{\\nu }\\Gamma ^{\\rho }{}_{\\mu \\sigma }+\\Gamma ^{\\rho }{}_{\\mu \\lambda }\\Gamma ^{\\lambda }{}_{\\nu \\sigma }-\\Gamma ^{\\rho }{}_{\\nu \\lambda }\\Gamma ^{\\lambda }{}_{\\mu \\sigma }}\n",
    "$$"
   ]
  },
  {
   "cell_type": "markdown",
   "id": "463eda8e",
   "metadata": {},
   "source": [
    "The Einstein Tensor $G_{\\alpha \\beta}$ is defined by the partial trace and trace of the partial trace of the Riemann tensor, given as follows:"
   ]
  },
  {
   "cell_type": "markdown",
   "id": "53c8705a",
   "metadata": {},
   "source": [
    "$$\n",
    "G_{\\alpha \\beta} = R_{\\alpha \\beta} - \\frac{1}{2} R g_{\\alpha \\beta}\n",
    "$$"
   ]
  },
  {
   "cell_type": "markdown",
   "id": "d3a1de0f",
   "metadata": {},
   "source": [
    "The unique property of the Einstein Tensor is that, if we take its covariant derivative, it reduces down to the gravitational potential, satisfying Poisson's equation for a weak graviational field:"
   ]
  },
  {
   "cell_type": "markdown",
   "id": "0ff2fd7a",
   "metadata": {},
   "source": [
    "$$\n",
    "\\nabla^2 G_{\\alpha \\beta} = \\Phi\n",
    "$$"
   ]
  },
  {
   "cell_type": "markdown",
   "id": "2f37f2ba",
   "metadata": {},
   "source": [
    "With this in mind, we can finally put together the Einstein Field Equations:"
   ]
  },
  {
   "cell_type": "markdown",
   "id": "08c1e506",
   "metadata": {},
   "source": [
    "$$\n",
    "G_{\\alpha \\beta} = \\frac{8\\pi G}{c^4} T_{\\alpha \\beta}\n",
    "$$"
   ]
  },
  {
   "cell_type": "markdown",
   "id": "c7368c64",
   "metadata": {},
   "source": [
    "This simple, elegant equation is the apotheosis of general relativity, and it rightfully deserves its place as one of the most famous equations in all of physics."
   ]
  },
  {
   "cell_type": "markdown",
   "id": "1d0dccc8",
   "metadata": {},
   "source": [
    "## TODO\n",
    "\n",
    "- [ ] Add proper citations\n",
    "- [ ] Continue adding to this"
   ]
  }
 ],
 "metadata": {
  "kernelspec": {
   "display_name": "Python 3 (ipykernel)",
   "language": "python",
   "name": "python3"
  },
  "language_info": {
   "codemirror_mode": {
    "name": "ipython",
    "version": 3
   },
   "file_extension": ".py",
   "mimetype": "text/x-python",
   "name": "python",
   "nbconvert_exporter": "python",
   "pygments_lexer": "ipython3",
   "version": "3.10.2"
  }
 },
 "nbformat": 4,
 "nbformat_minor": 5
}
