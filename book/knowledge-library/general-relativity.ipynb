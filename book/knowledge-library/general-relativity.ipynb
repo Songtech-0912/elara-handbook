{
 "cells": [
  {
   "cell_type": "markdown",
   "id": "c3351964",
   "metadata": {},
   "source": [
    "# General Relativity"
   ]
  },
  {
   "cell_type": "markdown",
   "id": "237af098",
   "metadata": {},
   "source": [
    "**General relativity** is a theory of how gravity works. In General Relativity, gravity is not a force, but rather an effect caused by curved spacetime. This conclusion is based on two fundamental principles:\n",
    "\n",
    "- The **Equivalence Principle**, which says that gravity is indistinguishable from the effect of an accelerating reference frame\n",
    "- The **Principle of Covariance**, which says that all laws of physics should be in the same form in all reference frames\n",
    "\n",
    "The culminating breakthrough of General Relativity is summarized succinctly by the Einstein Field Equations:"
   ]
  },
  {
   "cell_type": "markdown",
   "id": "bde84eba",
   "metadata": {},
   "source": [
    "$$\n",
    "G_{\\alpha \\beta} = \\frac{8\\pi G}{c^4} T_{\\alpha \\beta}\n",
    "$$"
   ]
  },
  {
   "cell_type": "markdown",
   "id": "21b37580",
   "metadata": {},
   "source": [
    "This deceptively simple tensor equation relates the curvature of spacetime to the distribution of matter and energy within it, giving rise to John Archibald Wheeler's famous summary of General Relativity:\n",
    "\n",
    "> \"Spacetime tells matter how to move; matter tells spacetime how to curve\""
   ]
  },
  {
   "cell_type": "markdown",
   "id": "1c0a4e39",
   "metadata": {},
   "source": [
    "## The Equivalence Principle"
   ]
  },
  {
   "cell_type": "markdown",
   "id": "95ed7837",
   "metadata": {},
   "source": [
    "Consider an observer inside a closed room. This room is accelerating upwards at a constant rate of $9.81\\mathrm{\\ m/s^2}$. The observer holds a 1-kilogram ball. What would happen if the observer would drop a ball?"
   ]
  },
  {
   "cell_type": "markdown",
   "id": "6ee2083c",
   "metadata": {},
   "source": [
    "Well, we know that the room is under constant upwards acceleration, so when the observer releases the ball, the floor of the room will travel upwards towards it at $9.81\\mathrm{\\ m/s^2}$. However, to the observer, who is moving upwards *along with* the floor, it would look like everything is stationary, and the *ball* is the object that is falling down."
   ]
  },
  {
   "cell_type": "markdown",
   "id": "e308fe8a",
   "metadata": {},
   "source": [
    "If we use Newton's second law of motion, we find that the force experienced by the ball would be given by:"
   ]
  },
  {
   "cell_type": "markdown",
   "id": "b95b5c32",
   "metadata": {},
   "source": [
    "$$\n",
    "\\vec F_b = m \\vec a\n",
    "$$"
   ]
  },
  {
   "cell_type": "markdown",
   "id": "de8e27be",
   "metadata": {},
   "source": [
    "Thus, the force would be:"
   ]
  },
  {
   "cell_type": "markdown",
   "id": "a88ffe2c",
   "metadata": {},
   "source": [
    "$$\n",
    "\\vec F_b = -9.81 N\n",
    "$$"
   ]
  },
  {
   "cell_type": "markdown",
   "id": "039903e4",
   "metadata": {},
   "source": [
    "Now, consider another observer, inside another closed room. This room is placed on the surface of the Earth. The observer inside this second room drops another 1-kilogram ball. What would happen next?"
   ]
  },
  {
   "cell_type": "markdown",
   "id": "3d4e21c4",
   "metadata": {},
   "source": [
    "Well, the ball will experience the force of Earth's gravity, causing it to fall downwards as well. If we use Newton's law of universal gravitation, we find that the force experienced by the ball would be given by:"
   ]
  },
  {
   "cell_type": "markdown",
   "id": "ccbcb409",
   "metadata": {},
   "source": [
    "$$\n",
    "\\vec F_b = -G\\frac{M_1 M_2}{r^2}\n",
    "$$"
   ]
  },
  {
   "cell_type": "markdown",
   "id": "fd6e8462",
   "metadata": {},
   "source": [
    "We can rearrange this equation to the form:"
   ]
  },
  {
   "cell_type": "markdown",
   "id": "6dbecc64",
   "metadata": {},
   "source": [
    "$$\n",
    "\\vec F_b = \\left(\\frac{-GM_\\oplus}{(r_\\oplus)^2}\\right) M_2\n",
    "$$"
   ]
  },
  {
   "cell_type": "markdown",
   "id": "841c6b20",
   "metadata": {},
   "source": [
    "Using our closest measurements of the mass of the Earth and its radius, we arrive at the result:"
   ]
  },
  {
   "cell_type": "markdown",
   "id": "5139df9b",
   "metadata": {},
   "source": [
    "$$\n",
    "\\vec F_b = -9.81 N\n",
    "$$"
   ]
  },
  {
   "cell_type": "markdown",
   "id": "97a2e118",
   "metadata": {},
   "source": [
    "Notice that this is the **same result** as our closed room moving upwards through space at $9.81\\mathrm{\\ m/s^2}$. The effect of gravity and of an accelerated reference frame is the same. But this is just a coincidence, right? Or is it...?"
   ]
  },
  {
   "cell_type": "markdown",
   "id": "21322bdd",
   "metadata": {},
   "source": [
    "Imagine you were in either the closed room in space or the closed room on Earth, but you weren't told which one. Is there any way you could tell which room it was? No, it would be impossible to perform an experiment to tell the closed room in space from the closed room on Earth."
   ]
  },
  {
   "cell_type": "markdown",
   "id": "f2489aa4",
   "metadata": {},
   "source": [
    "So, gravity is **indistinguishable** from accelerated reference frames. This is the **equivalence principle**."
   ]
  },
  {
   "cell_type": "markdown",
   "id": "599de337",
   "metadata": {},
   "source": [
    "## Reviewing the spacetime metric"
   ]
  },
  {
   "cell_type": "markdown",
   "id": "5d2f6b01",
   "metadata": {},
   "source": [
    "To understand General Relativity, we must first be familiar with the idea of **events**."
   ]
  },
  {
   "cell_type": "markdown",
   "id": "e6f055c7",
   "metadata": {},
   "source": [
    "An event is _anything that happens_. This could be, “a spaceship flew through my window”. Yes, that is an event."
   ]
  },
  {
   "cell_type": "markdown",
   "id": "93381775",
   "metadata": {},
   "source": [
    "We can describe the event by finding the position and time it occured, *relative* to a chosen reference frame:\n",
    "\n",
    "- E.g. “a spaceship flew through my window at 5 meters left and 6 meters in front of my head, at 2 meters above sea level, at 2:30 pm, on January 15th, 2021”\n",
    "- We have a x-coordinate (5 meters left of my head), a y-coordinate (6 meters in front of my head), a z-coordinate (2 meters above sea level), and a time coordinate (2:30 pm 1/15/21)\n",
    "\n",
    "To describe the distance between two events, we use a spacetime metric. This could be the Euclidean metric $\\delta_{\\alpha \\beta}$, the Minkowski metric $\\eta_{\\alpha \\beta}$, or the general metric $g_{\\alpha \\beta}$. As we've seen before, the Minkowski metric in particular is given by $\\eta_{\\alpha \\beta}$, where $\\alpha$ and $\\beta$ represent the $(\\alpha, \\beta)$-th entry of the matrix:"
   ]
  },
  {
   "cell_type": "markdown",
   "id": "3288a6be",
   "metadata": {},
   "source": [
    "$$\n",
    "\\eta_{\\alpha\\beta} = \\begin{pmatrix}-1 & 0 & 0 &0 \\\\ 0 & 1 & 0 & 0 \\\\ 0 & 0 & 1 & 0\\\\ 0 & 0 & 0 & 1\\end{pmatrix} = \\begin{pmatrix}\\eta_{{00}}& \\eta_{{01}}& \\eta_{{02}}& \\eta_{{03}}\\\\\\eta_{{10}}& \\eta_{{11}}& \\eta_{{12}}& \\eta_{{13}}\\\\\\eta_{{20}}& \\eta_{{21}}& \\eta_{{22}}& \\eta_{{23}}\\\\\\eta_{{30}}& \\eta_{{31}}& \\eta_{{32}}& \\eta_{{33}}\\\\\\end{pmatrix}\n",
    "$$"
   ]
  },
  {
   "cell_type": "markdown",
   "id": "89255791",
   "metadata": {},
   "source": [
    "```{admonition} A note about really confusing metric notation\n",
    "In General Relativity, it is customary to count time as the 0th dimension rather than the 4th dimension. This is why $\\alpha$ and $\\beta$ range from 0 to 3 instead of 1 to 4 (as you ordinarily might expect).\n",
    "```"
   ]
  },
  {
   "cell_type": "markdown",
   "id": "50c936bb",
   "metadata": {},
   "source": [
    "```{admonition} A note about signatures\n",
    "The Minkowski metric is similar to the Euclidean metric $\\delta_{\\alpha \\beta}$ with one major difference: $\\eta_{00} = -1 \\neq \\delta_{00}$ (see second appendix for why). So, the metric tensor has a _signature_ - that of $(- + + +)$ along its diagonals. Note that sometimes, physicists will confusingly use a metric signature of $(+---)$, which returns the same distance in spacetime. These two metric signatures are _functionally equivalent_ because the metric tensor is symmetric; the only difference is your personal preference. I will stick with $(- + + +)$ for consistency here.\n",
    "```"
   ]
  },
  {
   "cell_type": "markdown",
   "id": "f6be87b4",
   "metadata": {},
   "source": [
    "Recall that the line element can be written in terms of the product of two infinitesimal displacement vectors multiplied by the metric:"
   ]
  },
  {
   "cell_type": "markdown",
   "id": "0b83892c",
   "metadata": {},
   "source": [
    "$$\n",
    "ds^2 = \\begin{bmatrix}cdt & dx & dy & dz\\end{bmatrix} \\begin{bmatrix}cdt \\\\ dx \\\\ dy \\\\ dz\\end{bmatrix} \\begin{pmatrix}-1 & 0 & 0 &0 \\\\ 0 & 1 & 0 & 0 \\\\ 0 & 0 & 1 & 0\\\\ 0 & 0 & 0 & 1\\end{pmatrix}\n",
    "$$"
   ]
  },
  {
   "cell_type": "markdown",
   "id": "c188588d",
   "metadata": {},
   "source": [
    "We can denote one of these infinitesimal displacement vectors $dx^\\alpha$ and the other $dx^\\beta$, so we have:"
   ]
  },
  {
   "cell_type": "markdown",
   "id": "5f7885e3",
   "metadata": {},
   "source": [
    "$$\n",
    "ds^2 = \\eta_{\\alpha \\beta} dx^\\alpha dx^\\beta\n",
    "$$"
   ]
  },
  {
   "cell_type": "markdown",
   "id": "ffe09209",
   "metadata": {},
   "source": [
    "Additionally, since the components of metric tensors can vary as spacetime is curved and distances change, we shouldn't expect that the metric of spacetime will always be $\\eta_{\\alpha \\beta}$; in fact, that would only be true for flat (uncurved) spacetime. So, we replace $\\eta_{\\alpha \\beta}$ with the more general form of the metric tensor $g_{\\alpha \\beta}$, which applies to all spacetime metrics. We finally arrive at the general metric tensor:"
   ]
  },
  {
   "cell_type": "markdown",
   "id": "40b1c932",
   "metadata": {},
   "source": [
    "$$\n",
    "ds^2 = g_{\\alpha \\beta} dx^\\alpha dx^\\beta\n",
    "$$"
   ]
  },
  {
   "cell_type": "markdown",
   "id": "778716c4",
   "metadata": {},
   "source": [
    "This is the most common form of the spacetime metric you will see, and it is the form we will use going forward."
   ]
  },
  {
   "cell_type": "markdown",
   "id": "f5f39436",
   "metadata": {},
   "source": [
    "### Spacelike, Timelike, and Lightlike Intervals"
   ]
  },
  {
   "cell_type": "markdown",
   "id": "a82af296",
   "metadata": {},
   "source": [
    "When finding the spacetime interval between two events, we can describe the interval using one of three terms:\n",
    "\n",
    "* If the spacetime interval is **positive**, it is spacelike: the two events are separated by space\n",
    "* If the spacetime interval is **negative**, it is timelike: the two events are separated by time\n",
    "* If the spacetime interval is **zero**, it is lightlike: a beam of light could travel directly from one event to the other"
   ]
  },
  {
   "cell_type": "markdown",
   "id": "cb9c8368",
   "metadata": {},
   "source": [
    "## The Geodesic Equation"
   ]
  },
  {
   "cell_type": "markdown",
   "id": "3d48f243",
   "metadata": {},
   "source": [
    "We know from Newton's first law of motion that an object in motion stays in motion at constant speed - that is, it undergoes no acceleration. In other terms:"
   ]
  },
  {
   "cell_type": "markdown",
   "id": "0acc85b7",
   "metadata": {},
   "source": [
    "$$\n",
    "\\frac{d^2x^\\alpha}{d\\tau^2} = 0\n",
    "$$"
   ]
  },
  {
   "cell_type": "markdown",
   "id": "d5bbe888",
   "metadata": {},
   "source": [
    "Where:"
   ]
  },
  {
   "cell_type": "markdown",
   "id": "447b52cb",
   "metadata": {},
   "source": [
    "$$\n",
    "x^\\alpha = x^1, x^2, x^3 ... \\: x^n = x, y, z \\: ... \\: n\n",
    "$$"
   ]
  },
  {
   "cell_type": "markdown",
   "id": "eb33dbcb",
   "metadata": {},
   "source": [
    "This is why, for instance, a ball rolling along an infinitely long hallway will keep going in a path in the same direction - its velocity vector, and thus its directions, stays constant. In nice Euclidean space, we call this path a \"straight line\" - the effect of going ahead in the same direction forever.\n",
    "\n",
    "As we know, in Euclidean space, a straight line is the shortest path between two points, which we call a _geodesic_. We might be tempted to phrase Newton's first law to say that \"a particle in motion will travel along a straight line\". However, in non-Euclidean geometries, a geodesic is not necessarily a straight line. So, we must generalize Newton's first law with modifications: **a particle in motion will move along a geodesic**.\n",
    "\n",
    "To formulate this law mathematically, we can say that the action along the path $x^k(\\lambda)$ between 2 points $A = x^k(0)$ and $B = x^k(1)$ must be minimized. We include the units of $mc$ to get the units for action right, so the full action along the path $x^k (\\lambda)$ is:"
   ]
  },
  {
   "cell_type": "markdown",
   "id": "138fd820",
   "metadata": {},
   "source": [
    "$$\n",
    "S = -mc \\int \\sqrt{-ds^2}\n",
    "$$"
   ]
  },
  {
   "cell_type": "markdown",
   "id": "24ee83d3",
   "metadata": {},
   "source": [
    "```{note} About the line element\n",
    "Here, the line element is negative to get rid of the annoying $-c^2 dt^2$ element which would yield an imaginary number if square rooted. Because the distance along the path is the same whether you travel in the forwards direction ($\\sqrt{ds^2}$) or in the backwards direction ($\\sqrt{-ds^2}$), the result is equivalent.\n",
    "```"
   ]
  },
  {
   "cell_type": "markdown",
   "id": "dff364cc",
   "metadata": {},
   "source": [
    "We can expand this out by writing $ds^2 = g_{ij} dx^i dx^j$, so:"
   ]
  },
  {
   "cell_type": "markdown",
   "id": "b5197b64",
   "metadata": {},
   "source": [
    "$$\n",
    "S = -mc \\int \\sqrt{-g_{ij} dx^i dx^j}\n",
    "$$"
   ]
  },
  {
   "cell_type": "markdown",
   "id": "a837a57b",
   "metadata": {},
   "source": [
    "Now, to actually be able to solve, we need to write the integrand in terms of our path parameter $\\lambda$. To do this, we can divide $dx^i$ and $dx^j$ both by $d\\lambda$, then, to keep the integrand the same, multiply by $d\\lambda \\cdot d\\lambda = d\\lambda^2$:"
   ]
  },
  {
   "cell_type": "markdown",
   "id": "364279c4",
   "metadata": {},
   "source": [
    "$$\n",
    "S = -mc \\int \\sqrt{-g_{ij} \\frac{dx^i}{d\\lambda} \\frac{dx^j}{d\\lambda} d\\lambda^2}\n",
    "$$"
   ]
  },
  {
   "cell_type": "markdown",
   "id": "6b5d1d65",
   "metadata": {},
   "source": [
    "We can then take out the $d\\lambda$ from the square root to have:"
   ]
  },
  {
   "cell_type": "markdown",
   "id": "45a39f1d",
   "metadata": {},
   "source": [
    "$$\n",
    "S = -mc \\int \\sqrt{-g_{ij} \\frac{dx^i}{d\\lambda} \\frac{dx^j}{d\\lambda}} d\\lambda\n",
    "$$"
   ]
  },
  {
   "cell_type": "markdown",
   "id": "85a1d932",
   "metadata": {},
   "source": [
    "Knowing that the integrand of the action is the Lagrangian, we can write:"
   ]
  },
  {
   "cell_type": "markdown",
   "id": "2b02c287",
   "metadata": {},
   "source": [
    "$$\n",
    "\\mathcal{L} = \\sqrt{-g_{ij} \\frac{dx^i}{d\\lambda} \\frac{dx^j}{d\\lambda}}\n",
    "$$"
   ]
  },
  {
   "cell_type": "markdown",
   "id": "4b36cbb0",
   "metadata": {},
   "source": [
    "We can more specifically write it out that that metric $g_{ij}$ is a function of $x^k$, so:"
   ]
  },
  {
   "cell_type": "markdown",
   "id": "3a7e5261",
   "metadata": {},
   "source": [
    "$$\n",
    "\\mathcal{L} = \\sqrt{-g_{ij}(x^k) \\frac{dx^i}{d\\lambda} \\frac{dx^j}{d\\lambda}}\n",
    "$$"
   ]
  },
  {
   "cell_type": "markdown",
   "id": "c2a153a9",
   "metadata": {},
   "source": [
    "We can apply the familiar Euler-Lagrange equations to our Lagrangian, as we've done before, to find the equations of motion for the particle traveling along the path:"
   ]
  },
  {
   "cell_type": "markdown",
   "id": "7be1411f",
   "metadata": {},
   "source": [
    "$$\n",
    "\\frac{d}{d\\lambda} \\frac{\\partial \\mathcal{L}}{\\partial \\dot x^k}\n",
    "= \\frac{\\partial \\mathcal{L}}{\\partial x^k}\n",
    "$$"
   ]
  },
  {
   "cell_type": "markdown",
   "id": "f1d506d4",
   "metadata": {},
   "source": [
    "Let's first take the derivative with respect to $x^k$. We use the chain rule and the fact that $\\frac{\\partial}{\\partial x} \\sqrt{u} = \\frac{1}{2} u^{-\\frac{1}{2}} \\frac{\\partial u}{\\partial x}$. In our Lagrangian, the only part that actually depends on $x^k$ is $g_{ij}$, so the rest of the Lagrangian can be thought of as a constant. So we have:"
   ]
  },
  {
   "cell_type": "markdown",
   "id": "dd659edd",
   "metadata": {},
   "source": [
    "$$\n",
    "\\frac{\\partial \\mathcal{L}}{\\partial x^k} = -\\frac{1}{2} \n",
    "\\left(g_{ij}(x^k) \\frac{dx^i}{d\\lambda} \\frac{dx^j}{d\\lambda}\\right)^{-1/2}\n",
    "\\frac{\\partial g_{ij}}{\\partial x^k} \\frac{dx^i}{d\\lambda} \\frac{dx^j}{d\\lambda}\n",
    "$$"
   ]
  },
  {
   "cell_type": "markdown",
   "id": "371d08f1",
   "metadata": {},
   "source": [
    "We can simplify this by noticing that the Lagrangian itself appears in its derivative, so we can write:"
   ]
  },
  {
   "cell_type": "markdown",
   "id": "05fac310",
   "metadata": {},
   "source": [
    "$$\n",
    "\\frac{\\partial \\mathcal{L}}{\\partial x^k} = -\\frac{1}{2} \n",
    "\\mathcal{L}^{-1}\n",
    "\\frac{\\partial g_{ij}}{\\partial x^k} \\frac{dx^i}{d\\lambda} \\frac{dx^j}{d\\lambda}\n",
    "$$"
   ]
  },
  {
   "cell_type": "markdown",
   "id": "d18aa903",
   "metadata": {},
   "source": [
    "Which simplifies to:"
   ]
  },
  {
   "cell_type": "markdown",
   "id": "73a70992",
   "metadata": {},
   "source": [
    "$$\n",
    "\\frac{\\partial \\mathcal{L}}{\\partial x^k} = -\\frac{1}{2 \\mathcal{L}}\n",
    "\\frac{\\partial g_{ij}}{\\partial x^k} \\frac{dx^i}{d\\lambda} \\frac{dx^j}{d\\lambda}\n",
    "$$"
   ]
  },
  {
   "cell_type": "markdown",
   "id": "b376e6e1",
   "metadata": {},
   "source": [
    "Now, let's take the derivative with respect to $\\dot x^k$. Here, using the same Lagrangian substitution technique and square root derivative, we find that:"
   ]
  },
  {
   "cell_type": "markdown",
   "id": "95e6045e",
   "metadata": {},
   "source": [
    "$$\n",
    "\\frac{\\partial \\mathcal{L}}{\\partial \\dot x^k} =\n",
    "-\\frac{1}{2\\mathcal{L}}\n",
    "\\left(-\\frac{\\partial}{\\partial \\dot x^k} g_{ij} \\frac{dx^i}{d\\lambda} \\frac{dx^j}{d\\lambda}\\right)\n",
    "$$"
   ]
  },
  {
   "cell_type": "markdown",
   "id": "f2fa20f5",
   "metadata": {},
   "source": [
    "Remember that $g_ij(x^k)$ isn't dependent on $\\dot x^k$, so we can simplify factor it out for now:"
   ]
  },
  {
   "cell_type": "markdown",
   "id": "9f4eac62",
   "metadata": {},
   "source": [
    "$$\n",
    "\\frac{\\partial \\mathcal{L}}{\\partial \\dot x^k} =\n",
    "\\frac{1}{2\\mathcal{L}} g_{ij}\n",
    "\\left(\\frac{\\partial}{\\partial \\dot x^k} \\frac{dx^i}{d\\lambda} \\frac{dx^j}{d\\lambda}\\right)\n",
    "$$"
   ]
  },
  {
   "cell_type": "markdown",
   "id": "0ba0ddce",
   "metadata": {},
   "source": [
    "To differentiate the part inside brackets of the previous expression, we use the product rule, namely $\\frac{\\partial}{\\partial x} fg = \\frac{\\partial}{\\partial x}f \\cdot g + \\frac{\\partial}{\\partial x} g \\cdot f$, to get:"
   ]
  },
  {
   "cell_type": "markdown",
   "id": "d3305380",
   "metadata": {},
   "source": [
    "$$\n",
    "\\frac{\\partial \\mathcal{L}}{\\partial \\dot x^k} =\n",
    "-\\frac{1}{2\\mathcal{L}} g_{ij}\n",
    "\\left(\\frac{\\partial \\dot x^i}{\\partial \\dot x^k} \\frac{dx^j}{d\\lambda} + \\frac{\\partial \\dot x^j}{\\partial \\dot x^k} \\frac{dx^i}{d\\lambda}\\right)\n",
    "$$"
   ]
  },
  {
   "cell_type": "markdown",
   "id": "7b99f3ac",
   "metadata": {},
   "source": [
    "Now, we will use the Kronecker delta partial derivative rule:"
   ]
  },
  {
   "cell_type": "markdown",
   "id": "f089b957",
   "metadata": {},
   "source": [
    "$$\n",
    "\\frac{\\partial \\dot x^i}{\\partial \\dot x^k} = {\\delta^i}_k\n",
    "$$"
   ]
  },
  {
   "cell_type": "markdown",
   "id": "4a06c7d9",
   "metadata": {},
   "source": [
    "This simplifies the expression to:"
   ]
  },
  {
   "cell_type": "markdown",
   "id": "ab3cb405",
   "metadata": {},
   "source": [
    "$$\n",
    "\\frac{\\partial \\mathcal{L}}{\\partial \\dot x^k} =\n",
    "\\frac{1}{2\\mathcal{L}} g_{ij}\n",
    "\\left({\\delta^i}_k \\frac{dx^j}{d\\lambda} + {\\delta^j}_k \\frac{dx^i}{d\\lambda}\\right)\n",
    "$$"
   ]
  },
  {
   "cell_type": "markdown",
   "id": "bf9bc688",
   "metadata": {},
   "source": [
    "Finally, we distribute the expression with the metric $g_{ij}$:"
   ]
  },
  {
   "cell_type": "markdown",
   "id": "6fd374d9",
   "metadata": {},
   "source": [
    "$$\n",
    "\\frac{\\partial \\mathcal{L}}{\\partial \\dot x^k} =\n",
    "\\frac{1}{2\\mathcal{L}}\n",
    "\\left(g_{ij} {\\delta^i}_k \\frac{dx^j}{d\\lambda} + g_{ij} {\\delta^j}_k \\frac{dx^i}{d\\lambda}\\right)\n",
    "$$"
   ]
  },
  {
   "cell_type": "markdown",
   "id": "eacf5b56",
   "metadata": {},
   "source": [
    "Remembering that the Kronecker delta can be used to relabel indices:"
   ]
  },
  {
   "cell_type": "markdown",
   "id": "c05f561c",
   "metadata": {},
   "source": [
    "$$\n",
    "g_{\\alpha \\beta} {\\delta^\\alpha}_\\mu = g_{\\beta \\mu}\n",
    "$$"
   ]
  },
  {
   "cell_type": "markdown",
   "id": "5d8a5e7d",
   "metadata": {},
   "source": [
    "We rewrite the expression as:"
   ]
  },
  {
   "cell_type": "markdown",
   "id": "549b0fce",
   "metadata": {},
   "source": [
    "$$\n",
    "\\frac{\\partial \\mathcal{L}}{\\partial \\dot x^k} =\n",
    "\\frac{1}{2\\mathcal{L}}\n",
    "\\left(g_{jk} \\frac{dx^j}{d\\lambda} + g_{ik} \\frac{dx^i}{d\\lambda}\\right)\n",
    "$$"
   ]
  },
  {
   "cell_type": "markdown",
   "id": "a74ac3fa",
   "metadata": {},
   "source": [
    "```{admonition} A note on notation\n",
    "In general relativity, we can generally let the letters we use for tensor indices to be whatever we want, and the equations will still be consistent. For example, $g_{\\alpha \\beta} = g_{ij} = g_{\\alpha \\gamma} = g_{\\mu \\gamma}$. More precisely, dummy indices can be changed at will, but free indices cannot. More on that distinction later.\n",
    "```"
   ]
  },
  {
   "cell_type": "markdown",
   "id": "f16e6b58",
   "metadata": {},
   "source": [
    "Finally, remember that the metric is symmetric, and that $i$ and $j$ are interchangeable indices. This means that:"
   ]
  },
  {
   "cell_type": "markdown",
   "id": "46fc214f",
   "metadata": {},
   "source": [
    "$$\n",
    "g_{jk} \\frac{dx^j}{d\\lambda} = g_{ik} \\frac{dx^i}{d\\lambda}\n",
    "$$"
   ]
  },
  {
   "cell_type": "markdown",
   "id": "5270dbe8",
   "metadata": {},
   "source": [
    "Therefore:"
   ]
  },
  {
   "cell_type": "markdown",
   "id": "3c8faad5",
   "metadata": {},
   "source": [
    "$$\n",
    "\\frac{\\partial \\mathcal{L}}{\\partial \\dot x^k} =\n",
    "\\frac{1}{2\\mathcal{L}}\n",
    "\\left(2 g_{ik} \\frac{dx^i}{d\\lambda}\\right)\n",
    "$$"
   ]
  },
  {
   "cell_type": "markdown",
   "id": "eb6d553d",
   "metadata": {},
   "source": [
    "$$\n",
    "\\frac{\\partial \\mathcal{L}}{\\partial \\dot x^k} =\n",
    "\\frac{1}{\\mathcal{L}}\n",
    "g_{ik} \\frac{dx^i}{d\\lambda}\n",
    "$$"
   ]
  },
  {
   "cell_type": "markdown",
   "id": "a4aaf97f",
   "metadata": {},
   "source": [
    "Now we simply need to differentiate our previous result with respect to $\\lambda$:"
   ]
  },
  {
   "cell_type": "markdown",
   "id": "e28342aa",
   "metadata": {},
   "source": [
    "$$\n",
    "\\frac{d}{d\\lambda} \\frac{\\partial \\mathcal{L}}{\\partial \\dot x^k} =\n",
    "\\frac{d}{d\\lambda} \\left(\\frac{1}{\\mathcal{L}}\n",
    "g_{ik} \\frac{dx^i}{d\\lambda}\\right) = \n",
    "\\frac{1}{\\mathcal{L}} \\frac{d}{d\\lambda} \\left(\n",
    "g_{ik} \\frac{dx^i}{d\\lambda}\\right)\n",
    "$$"
   ]
  },
  {
   "cell_type": "markdown",
   "id": "bce366de",
   "metadata": {},
   "source": [
    "here, we use the product rule again with the terms in the brackets, which give us:"
   ]
  },
  {
   "cell_type": "markdown",
   "id": "fafbb450",
   "metadata": {},
   "source": [
    "$$\n",
    "\\frac{d}{d\\lambda} \\frac{\\partial \\mathcal{L}}{\\partial \\dot x^k} =\n",
    "\\frac{1}{\\mathcal{L}} \\left(\n",
    "\\frac{\\partial g_{ik}}{\\partial \\lambda} \\frac{dx^i}{d\\lambda} + \\frac{d^2 x^i}{d\\lambda} g_{ik}\n",
    "\\right)\n",
    "$$"
   ]
  },
  {
   "cell_type": "markdown",
   "id": "d55e5ddc",
   "metadata": {},
   "source": [
    "Now, we know that technically $g_{ij} = g_{ij} (x^k (\\lambda))$, so we can use the chain rule to write (and remember here we can freely swap out the $k$ index for $j$ because it is equivalent):"
   ]
  },
  {
   "cell_type": "markdown",
   "id": "321ad7f0",
   "metadata": {},
   "source": [
    "$$\n",
    "\\frac{\\partial g_{ik}}{\\partial \\lambda} = \\frac{\\partial g_{ik}}{\\partial x^j}\n",
    "\\frac{d x^j}{d \\lambda}\n",
    "$$"
   ]
  },
  {
   "cell_type": "markdown",
   "id": "3ee9a97c",
   "metadata": {},
   "source": [
    "So we have:"
   ]
  },
  {
   "cell_type": "markdown",
   "id": "3a720d44",
   "metadata": {},
   "source": [
    "$$\n",
    "\\frac{d}{d\\lambda} \\frac{\\partial \\mathcal{L}}{\\partial \\dot x^k} =\n",
    "\\frac{1}{\\mathcal{L}} \\left(\n",
    "\\frac{\\partial g_{ik}}{\\partial x^j}\n",
    "\\frac{d x^j}{d \\lambda} \\frac{dx^i}{d\\lambda} + \\frac{d^2 x^i}{d\\lambda} g_{ik}\n",
    "\\right)\n",
    "$$"
   ]
  },
  {
   "cell_type": "markdown",
   "id": "20a4b8ef",
   "metadata": {},
   "source": [
    "Equating the two sides of the Euler-Lagrange equation, we have:"
   ]
  },
  {
   "cell_type": "markdown",
   "id": "a20ba06e",
   "metadata": {},
   "source": [
    "$$\n",
    "-\\frac{1}{2 \\mathcal{L}}\n",
    "\\frac{\\partial g_{ij}}{\\partial x^k} \\frac{dx^i}{d\\lambda} \\frac{dx^j}{d\\lambda} = \n",
    "\\frac{1}{\\mathcal{L}} \\left(\n",
    "\\frac{\\partial g_{ik}}{\\partial x^j}\n",
    "\\frac{d x^j}{d \\lambda} \\frac{dx^i}{d\\lambda} + \\frac{d^2 x^i}{d\\lambda} g_{ik}\n",
    "\\right)\n",
    "$$"
   ]
  },
  {
   "cell_type": "markdown",
   "id": "360c17c9",
   "metadata": {},
   "source": [
    "We can move the left-hand side to the right to get:"
   ]
  },
  {
   "cell_type": "markdown",
   "id": "df95c664",
   "metadata": {},
   "source": [
    "$$\n",
    "\\frac{1}{\\mathcal{L}} \\left(\n",
    "\\frac{\\partial g_{ik}}{\\partial x^j}\n",
    "\\frac{d x^j}{d \\lambda} \\frac{dx^i}{d\\lambda} + \\frac{d^2 x^i}{d\\lambda} g_{ik}\n",
    "\\right) -\\frac{1}{2 \\mathcal{L}}\n",
    "\\frac{\\partial g_{ij}}{\\partial x^k} \\frac{dx^i}{d\\lambda} \\frac{dx^j}{d\\lambda} = 0\n",
    "$$"
   ]
  },
  {
   "cell_type": "markdown",
   "id": "c43ef80b",
   "metadata": {},
   "source": [
    "And we can factor out the common factor of the Lagrangian and get rid of it:"
   ]
  },
  {
   "cell_type": "markdown",
   "id": "2955e0d0",
   "metadata": {},
   "source": [
    "$$\n",
    "\\left(\n",
    "\\frac{\\partial g_{ik}}{\\partial x^j}\n",
    "\\frac{d x^j}{d \\lambda} \\frac{dx^i}{d\\lambda} + \\frac{d^2 x^i}{d\\lambda} g_{ik}\n",
    "\\right) -\\frac{1}{2}\n",
    "\\frac{\\partial g_{ij}}{\\partial x^k} \\frac{dx^i}{d\\lambda} \\frac{dx^j}{d\\lambda} = 0\n",
    "$$"
   ]
  },
  {
   "cell_type": "markdown",
   "id": "233c2c0d",
   "metadata": {},
   "source": [
    "As well as rearranging the terms to put the second derivative in front:"
   ]
  },
  {
   "cell_type": "markdown",
   "id": "090283c5",
   "metadata": {},
   "source": [
    "$$\n",
    "\\left(\n",
    "\\frac{d^2 x^i}{d\\lambda} g_{ik} + \\frac{\\partial g_{ik}}{\\partial x^j} \\frac{d x^j}{d \\lambda} \\frac{dx^i}{d\\lambda}\n",
    "\\right) -\\frac{1}{2}\n",
    "\\frac{\\partial g_{ij}}{\\partial x^k} \\frac{dx^i}{d\\lambda} \\frac{dx^j}{d\\lambda} = 0\n",
    "$$"
   ]
  },
  {
   "cell_type": "markdown",
   "id": "0686c206",
   "metadata": {},
   "source": [
    "Now, we can remove the brackets:"
   ]
  },
  {
   "cell_type": "markdown",
   "id": "0338c978",
   "metadata": {},
   "source": [
    "$$\n",
    "\\frac{d^2 x^i}{d\\lambda} g_{ik} + \\frac{\\partial g_{ik}}{\\partial x^j} \\frac{d x^j}{d \\lambda} \\frac{dx^i}{d\\lambda}\n",
    " -\\frac{1}{2}\n",
    "\\frac{\\partial g_{ij}}{\\partial x^k} \\frac{dx^i}{d\\lambda} \\frac{dx^j}{d\\lambda} = 0\n",
    "$$"
   ]
  },
  {
   "cell_type": "markdown",
   "id": "b00d4ec1",
   "metadata": {},
   "source": [
    "Recalling how the fact that the metric is symmetric and indices are interchangeable allowed us to combine two expressions of the metric into one, we can do the reverse and break one expression of the metric into two:"
   ]
  },
  {
   "cell_type": "markdown",
   "id": "9615a534",
   "metadata": {},
   "source": [
    "$$\n",
    "\\frac{\\partial g_{ik}}{\\partial x^j} = \n",
    "\\frac{1}{2} \\left(\n",
    "\\frac{\\partial g_{ik}}{\\partial x^j} + \\frac{\\partial g_{kj}}{\\partial x^i}\n",
    "\\right)\n",
    "$$"
   ]
  },
  {
   "cell_type": "markdown",
   "id": "b76361ca",
   "metadata": {},
   "source": [
    "Plugging that into the equation, we have:"
   ]
  },
  {
   "cell_type": "markdown",
   "id": "5dafd582",
   "metadata": {},
   "source": [
    "$$\n",
    "\\frac{d^2 x^i}{d\\lambda} g_{ik} + \\frac{1}{2} \\left(\n",
    "\\frac{\\partial g_{ik}}{\\partial x^j} + \\frac{\\partial g_{kj}}{\\partial x^i}\\right) \\frac{d x^j}{d \\lambda} \\frac{dx^i}{d\\lambda}\n",
    " -\\frac{1}{2}\n",
    "\\frac{\\partial g_{ij}}{\\partial x^k} \\frac{dx^i}{d\\lambda} \\frac{dx^j}{d\\lambda} = 0\n",
    "$$"
   ]
  },
  {
   "cell_type": "markdown",
   "id": "73fd6f16",
   "metadata": {},
   "source": [
    "We now have common factors, which we can combine to form:"
   ]
  },
  {
   "cell_type": "markdown",
   "id": "7d3de89b",
   "metadata": {},
   "source": [
    "$$\n",
    "\\frac{d^2 x^i}{d\\lambda} g_{ik} + \\frac{1}{2} \\left(\n",
    "\\frac{\\partial g_{ik}}{\\partial x^j} + \\frac{\\partial g_{kj}}{\\partial x^i} - \\frac{\\partial g_{ij}}{\\partial x^k}\\right) \\frac{dx^i}{d\\lambda} \\frac{dx^j}{d\\lambda} = 0\n",
    "$$"
   ]
  },
  {
   "cell_type": "markdown",
   "id": "e166893f",
   "metadata": {},
   "source": [
    "We can temporarily move the right term to the right-hand side of the equation, which will make the final step of simplification easier:"
   ]
  },
  {
   "cell_type": "markdown",
   "id": "e7c2b495",
   "metadata": {},
   "source": [
    "$$\n",
    "\\frac{d^2 x^i}{d\\lambda} g_{ik} = -\\frac{1}{2} \\left(\n",
    "\\frac{\\partial g_{ik}}{\\partial x^j} + \\frac{\\partial g_{kj}}{\\partial x^i} - \\frac{\\partial g_{ij}}{\\partial x^k}\\right) \\frac{dx^i}{d\\lambda} \\frac{dx^j}{d\\lambda}\n",
    "$$"
   ]
  },
  {
   "cell_type": "markdown",
   "id": "c9fbee39",
   "metadata": {},
   "source": [
    "Here, we want to get rid of the $g_{ik}$ term, so we multiply both sides by the inverse metric $g^{i \\gamma}$ to get the Kronecker delta:"
   ]
  },
  {
   "cell_type": "markdown",
   "id": "3a768234",
   "metadata": {},
   "source": [
    "$$\n",
    "\\frac{d^2 x^i}{d\\lambda} g_{ik} g^{i \\gamma} = -\\frac{1}{2} g^{i \\gamma} \\left(\n",
    "\\frac{\\partial g_{ik}}{\\partial x^j} + \\frac{\\partial g_{kj}}{\\partial x^i} - \\frac{\\partial g_{ij}}{\\partial x^k}\\right) \\frac{dx^i}{d\\lambda} \\frac{dx^j}{d\\lambda}\n",
    "$$"
   ]
  },
  {
   "cell_type": "markdown",
   "id": "9dec6b6b",
   "metadata": {},
   "source": [
    "$$\n",
    "\\frac{d^2 x^i}{d\\lambda} {\\delta^\\gamma}_k = -\\frac{1}{2} g^{i \\gamma} \\left(\n",
    "\\frac{\\partial g_{ik}}{\\partial x^j} + \\frac{\\partial g_{kj}}{\\partial x^i} - \\frac{\\partial g_{ij}}{\\partial x^k}\\right) \\frac{dx^i}{d\\lambda} \\frac{dx^j}{d\\lambda}\n",
    "$$"
   ]
  },
  {
   "cell_type": "markdown",
   "id": "e1ff289f",
   "metadata": {},
   "source": [
    "As ${\\delta^\\gamma}_k = 1$ when $\\gamma = k$, we have:"
   ]
  },
  {
   "cell_type": "markdown",
   "id": "7ec46b39",
   "metadata": {},
   "source": [
    "$$\n",
    "\\frac{d^2 x^i}{d\\lambda} = -\\frac{1}{2} g^{i \\gamma} \\left(\n",
    "\\frac{\\partial g_{ik}}{\\partial x^j} + \\frac{\\partial g_{kj}}{\\partial x^i} - \\frac{\\partial g_{ij}}{\\partial x^k}\\right) \\frac{dx^i}{d\\lambda} \\frac{dx^j}{d\\lambda}\n",
    "$$"
   ]
  },
  {
   "cell_type": "markdown",
   "id": "709aa9c9",
   "metadata": {},
   "source": [
    "Or:"
   ]
  },
  {
   "cell_type": "markdown",
   "id": "d6c3e1af",
   "metadata": {},
   "source": [
    "$$\n",
    "\\frac{d^2 x^i}{d\\lambda} + \\frac{1}{2} g^{i \\gamma} \\left(\n",
    "\\frac{\\partial g_{ik}}{\\partial x^j} + \\frac{\\partial g_{kj}}{\\partial x^i} - \\frac{\\partial g_{ij}}{\\partial x^k}\\right) \\frac{dx^i}{d\\lambda} \\frac{dx^j}{d\\lambda} = 0\n",
    "$$"
   ]
  },
  {
   "cell_type": "markdown",
   "id": "a8d14763",
   "metadata": {},
   "source": [
    "We can further simplify this equation by extracting out the partial derivatives as:"
   ]
  },
  {
   "cell_type": "markdown",
   "id": "0e5453f3",
   "metadata": {},
   "source": [
    "$$\n",
    "\\Gamma^i_{jk} = \\frac{1}{2} g^{i \\gamma} \\left(\n",
    "\\frac{\\partial g_{ik}}{\\partial x^j} + \\frac{\\partial g_{kj}}{\\partial x^i} - \\frac{\\partial g_{ij}}{\\partial x^k}\\right)\n",
    "$$"
   ]
  },
  {
   "cell_type": "markdown",
   "id": "70c02c09",
   "metadata": {},
   "source": [
    "So we finally arrive at the **geodesic equation**:"
   ]
  },
  {
   "cell_type": "markdown",
   "id": "9917ec8e",
   "metadata": {},
   "source": [
    "$$\n",
    "\\frac{d^2 x^i}{d\\lambda} + \\Gamma^i_{jk} \\frac{dx^i}{d\\lambda} \\frac{dx^j}{d\\lambda} = 0\n",
    "$$"
   ]
  },
  {
   "cell_type": "markdown",
   "id": "5b8bd275",
   "metadata": {},
   "source": [
    "Any path that obeys the geodesic equation in spacetime is a geodesic. Since spacetime can be curved, these geodesics are not straight lines. The curvature of spacetime - what we experience as gravity - causes distances to change. This causes the metric to change, which in turn affects the paths of particles."
   ]
  },
  {
   "cell_type": "markdown",
   "id": "6c98a256",
   "metadata": {},
   "source": [
    "## Deriving the Einstein Field Equations"
   ]
  },
  {
   "cell_type": "markdown",
   "id": "25bb4560",
   "metadata": {},
   "source": [
    "In Newtonian gravity, the gravitational potential is described by Poisson's equation:"
   ]
  },
  {
   "cell_type": "markdown",
   "id": "838b79d7",
   "metadata": {},
   "source": [
    "$$\n",
    "\\nabla^2 \\Phi = 4 \\pi G \\rho\n",
    "$$"
   ]
  },
  {
   "cell_type": "markdown",
   "id": "cef8cb6e",
   "metadata": {},
   "source": [
    "Where $\\rho$ is the density of the gravitating matter. Since General Relativity reduces to Newtonian gravity in a weak gravitational field, we would expect a relativistic formulation of gravity to look similar to the Poisson equation; the left-hand side would describe the gravitational potential, and the right-and side would describe the density of matter in spacetime.\n",
    "\n",
    "The relativistic analogue of $\\rho$ is the stress-energy tensor $T_{\\mu \\nu}$, which is a $4 \\times 4$ matrix (much like the metric tensor) that describes all the information about the gravitating matter and energy in spacetime."
   ]
  },
  {
   "cell_type": "markdown",
   "id": "e630fe00",
   "metadata": {},
   "source": [
    "![Stress-energy tensor](https://www.naturelovesmath.com/wp-content/uploads/2017/01/Stress-energy-tensor.png)"
   ]
  },
  {
   "cell_type": "markdown",
   "id": "eb252cb8",
   "metadata": {},
   "source": [
    "So a starting point for a relativistic formulation of gravity would look something like this:"
   ]
  },
  {
   "cell_type": "markdown",
   "id": "1f224325",
   "metadata": {},
   "source": [
    "$$\n",
    "\\nabla^2 \\Phi = (4\\pi G) \\: k T_{\\alpha \\beta}\n",
    "$$\n"
   ]
  },
  {
   "cell_type": "markdown",
   "id": "0199aaba",
   "metadata": {},
   "source": [
    "Also, in a weak gravitational field, all the elements of the metric tensor disappear except for $g_{00}$, and from Poisson's equation, we know that:"
   ]
  },
  {
   "cell_type": "markdown",
   "id": "2b5d25b3",
   "metadata": {},
   "source": [
    "$$\n",
    "g_{00} = 4 \\pi G \\rho \\approx -(1 + 2 \\phi)\n",
    "$$"
   ]
  },
  {
   "cell_type": "markdown",
   "id": "472ec675",
   "metadata": {},
   "source": [
    "From there, we can find the proportionality constant for the right-hand side:"
   ]
  },
  {
   "cell_type": "markdown",
   "id": "980d6229",
   "metadata": {},
   "source": [
    "$$\n",
    "\\frac{8\\pi G}{c^4} T_{\\alpha \\beta}\n",
    "$$"
   ]
  },
  {
   "cell_type": "markdown",
   "id": "efc4edc3",
   "metadata": {},
   "source": [
    "On the left-hand side, we know that gravity is actually an effect of the curvature of spacetime, so we need some way of encoding this curvature. The Riemann tensor, which is defined with the Christoffel symbols, allows us to do so:"
   ]
  },
  {
   "cell_type": "markdown",
   "id": "8386dabf",
   "metadata": {},
   "source": [
    "$$\n",
    "{\\displaystyle R^{\\rho }{}_{\\sigma \\mu \\nu }=\\partial _{\\mu }\\Gamma ^{\\rho }{}_{\\nu \\sigma }-\\partial _{\\nu }\\Gamma ^{\\rho }{}_{\\mu \\sigma }+\\Gamma ^{\\rho }{}_{\\mu \\lambda }\\Gamma ^{\\lambda }{}_{\\nu \\sigma }-\\Gamma ^{\\rho }{}_{\\nu \\lambda }\\Gamma ^{\\lambda }{}_{\\mu \\sigma }}\n",
    "$$"
   ]
  },
  {
   "cell_type": "markdown",
   "id": "463eda8e",
   "metadata": {},
   "source": [
    "The Einstein Tensor $G_{\\alpha \\beta}$ is defined by the partial trace and trace of the partial trace of the Riemann tensor, given as follows:"
   ]
  },
  {
   "cell_type": "markdown",
   "id": "53c8705a",
   "metadata": {},
   "source": [
    "$$\n",
    "G_{\\alpha \\beta} = R_{\\alpha \\beta} - \\frac{1}{2} R g_{\\alpha \\beta}\n",
    "$$"
   ]
  },
  {
   "cell_type": "markdown",
   "id": "d3a1de0f",
   "metadata": {},
   "source": [
    "The unique property of the Einstein Tensor is that, if we take its covariant derivative, it reduces down to the gravitational potential, satisfying Poisson's equation for a weak graviational field:"
   ]
  },
  {
   "cell_type": "markdown",
   "id": "0ff2fd7a",
   "metadata": {},
   "source": [
    "$$\n",
    "\\nabla^2 G_{\\alpha \\beta} = \\Phi\n",
    "$$"
   ]
  },
  {
   "cell_type": "markdown",
   "id": "2f37f2ba",
   "metadata": {},
   "source": [
    "With this in mind, we can finally put together the Einstein Field Equations:"
   ]
  },
  {
   "cell_type": "markdown",
   "id": "08c1e506",
   "metadata": {},
   "source": [
    "$$\n",
    "G_{\\alpha \\beta} = \\frac{8\\pi G}{c^4} T_{\\alpha \\beta}\n",
    "$$"
   ]
  },
  {
   "cell_type": "markdown",
   "id": "c7368c64",
   "metadata": {},
   "source": [
    "This simple, elegant equation is the apotheosis of general relativity, and it rightfully deserves its place as one of the most famous equations in all of physics."
   ]
  },
  {
   "cell_type": "markdown",
   "id": "1d0dccc8",
   "metadata": {},
   "source": [
    "## TODO\n",
    "\n",
    "- [ ] Add proper citations\n",
    "- [ ] Continue adding to this"
   ]
  }
 ],
 "metadata": {
  "kernelspec": {
   "display_name": "Python 3 (ipykernel)",
   "language": "python",
   "name": "python3"
  },
  "language_info": {
   "codemirror_mode": {
    "name": "ipython",
    "version": 3
   },
   "file_extension": ".py",
   "mimetype": "text/x-python",
   "name": "python",
   "nbconvert_exporter": "python",
   "pygments_lexer": "ipython3",
   "version": "3.11.4"
  }
 },
 "nbformat": 4,
 "nbformat_minor": 5
}
