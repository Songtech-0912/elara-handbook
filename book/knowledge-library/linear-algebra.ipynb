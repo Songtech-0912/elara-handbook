{
 "cells": [
  {
   "cell_type": "markdown",
   "id": "f24f7816",
   "metadata": {},
   "source": [
    "# Linear Algebra"
   ]
  },
  {
   "cell_type": "markdown",
   "id": "bf1c7fc2",
   "metadata": {},
   "source": [
    "A vector is a list of items (usually numbers), which represent coordinates in a certain coordinate system. For example, the vector $(4, 2)$ is a line that moves 4 in the x-direction, and 2 in the y-direction. We draw vectors as arrows in space.\n",
    "\n",
    "A scalar is a number that \"scales\" (that is, shrinks or stretches) a vector. More generally, a scalar is any singular number.\n",
    "\n",
    "To write a vector (say, $\\vec a$), we have several notations:"
   ]
  },
  {
   "cell_type": "markdown",
   "id": "97f8c658",
   "metadata": {},
   "source": [
    "$$\n",
    "\\vec a = (4, 2) = \\begin{bmatrix} 4 \\\\ 2 \\end{bmatrix} = 4 \\hat i + 2 \\hat j\n",
    "$$"
   ]
  },
  {
   "cell_type": "markdown",
   "id": "78f4a0ea",
   "metadata": {},
   "source": [
    "The first (point notation) is used for both points and vectors and is the simplest method. The second (matrix notation) is the same thing, just written out vertically in a column. The third (basis vector notation) is slightly different. It defines a vector as a sum of transformed basis vectors, where:"
   ]
  },
  {
   "cell_type": "markdown",
   "id": "34c55c7d",
   "metadata": {},
   "source": [
    "$$\n",
    "\\hat i = \\begin{bmatrix} 1 \\\\ 0 \\\\ 0 \\end{bmatrix},\n",
    "\\hat j = \\begin{bmatrix} 0 \\\\ 1 \\\\ 0 \\end{bmatrix},\n",
    "\\hat k = \\begin{bmatrix} 0 \\\\ 0 \\\\ 1 \\end{bmatrix}\n",
    "$$"
   ]
  },
  {
   "cell_type": "markdown",
   "id": "4b065c03",
   "metadata": {},
   "source": [
    "The basis vectors are then used to \"construct\" a vector like this: "
   ]
  },
  {
   "cell_type": "markdown",
   "id": "dbe8f9aa",
   "metadata": {},
   "source": [
    "![](https://upload.wikimedia.org/wikipedia/commons/thumb/f/fd/3D_Vector.svg/300px-3D_Vector.svg.png)"
   ]
  },
  {
   "cell_type": "markdown",
   "id": "4d4e4091",
   "metadata": {},
   "source": [
    "```{note}\n",
    "A basis vector can be thought of as a vector with a \"tail\" at the origin and  a \"head\" at 1 unit from the origin along one of the axes.\n",
    "```"
   ]
  },
  {
   "cell_type": "markdown",
   "id": "58eee94d",
   "metadata": {},
   "source": [
    "We can then express any vector as a linear combination of the basis vectors:"
   ]
  },
  {
   "cell_type": "markdown",
   "id": "42cc0f12",
   "metadata": {},
   "source": [
    "$$\n",
    "\\vec a = s_1 \\hat i + s_2 \\hat j + s_3 \\hat k\n",
    "$$"
   ]
  },
  {
   "cell_type": "markdown",
   "id": "3b6d60a7",
   "metadata": {},
   "source": [
    "```{note}\n",
    "A linear combination of basis vectors simply means that we stretch or shrink each basis vector by a certain factor ($s$ being that factor), and then add those stretched/shrinked vectors together to form the final vector.\n",
    "```"
   ]
  },
  {
   "cell_type": "markdown",
   "id": "770faf03",
   "metadata": {},
   "source": [
    "We use the basis vectors $\\hat i, \\hat j, \\hat k$ in 2D and 3D space, but for nth-dimensional spaces, we use the more general basis vectors $e_1, e_2, e_3, \\dots e_n$, so linear combinations work like this:"
   ]
  },
  {
   "cell_type": "markdown",
   "id": "605463a8",
   "metadata": {},
   "source": [
    "$$\n",
    "\\vec a = s_1 \\vec e_1 + s_2 \\vec e_2 + s_3 \\vec e_3 + \\dots + s_n \\vec e_n\n",
    "$$"
   ]
  },
  {
   "cell_type": "markdown",
   "id": "320a9875",
   "metadata": {},
   "source": [
    "Which we often write as:"
   ]
  },
  {
   "cell_type": "markdown",
   "id": "837277f3",
   "metadata": {},
   "source": [
    "$$\n",
    "\\vec a = \\sum_{i = 1}^n s_i \\vec e_i\n",
    "$$"
   ]
  },
  {
   "cell_type": "markdown",
   "id": "18dccc29",
   "metadata": {},
   "source": [
    "```{important}\n",
    "Remember this notation! This will be very important later on.\n",
    "```"
   ]
  },
  {
   "cell_type": "markdown",
   "id": "6c7601d2",
   "metadata": {},
   "source": [
    "To add vectors of any dimension, we add their corresponding components:"
   ]
  },
  {
   "cell_type": "markdown",
   "id": "faaf3b8d",
   "metadata": {},
   "source": [
    "$$\n",
    "\\begin{bmatrix}\n",
    "a_1 \\\\ a_2 \\\\ a_3\n",
    "\\end{bmatrix}\n",
    "+\n",
    "\\begin{bmatrix}\n",
    "b_1 \\\\ b_2 \\\\ b_3\n",
    "\\end{bmatrix}\n",
    "=\n",
    "\\begin{bmatrix}\n",
    "a_1 + b_1 \\\\ a_2 + b_2 \\\\ a_3 + b_3\n",
    "\\end{bmatrix}\n",
    "$$"
   ]
  },
  {
   "cell_type": "markdown",
   "id": "90bfa0b0",
   "metadata": {},
   "source": [
    "To multiply a vector by a scalar, we multiply the scalar by each of the components:"
   ]
  },
  {
   "cell_type": "markdown",
   "id": "11c7e949",
   "metadata": {},
   "source": [
    "$$\n",
    "k\n",
    "\\begin{bmatrix}\n",
    "a_1 \\\\ a_2 \\\\ a_3\n",
    "\\end{bmatrix}\n",
    "=\n",
    "\\begin{bmatrix}\n",
    "k (a_1) \\\\ k (a_2) \\\\ k (a_3)\n",
    "\\end{bmatrix}\n",
    "$$"
   ]
  },
  {
   "cell_type": "markdown",
   "id": "115d0aec",
   "metadata": {},
   "source": [
    "To find the length of a vector, we take its magnitude, like this:"
   ]
  },
  {
   "cell_type": "markdown",
   "id": "f7fe7f01",
   "metadata": {},
   "source": [
    "$$\n",
    "\\operatorname{magn}(\\vec a)\n",
    "$$"
   ]
  },
  {
   "cell_type": "markdown",
   "id": "442054d2",
   "metadata": {},
   "source": [
    "```{admonition} A note on notation\n",
    "You will also see the magnitude of a vector written as $||\\vec a||$ but I highly recommend _not_ using this alternate notation, because it is so easily confused with the absolute value symbol.\n",
    "```"
   ]
  },
  {
   "cell_type": "markdown",
   "id": "08f31b9f",
   "metadata": {},
   "source": [
    "The magnitude of a vector can be found using the Pythagorean theorem, so the magnitude is the square of the sum of each component:"
   ]
  },
  {
   "cell_type": "markdown",
   "id": "962bf9da",
   "metadata": {},
   "source": [
    "$$\n",
    "\\operatorname{magn} \\:\n",
    "\\begin{bmatrix}\n",
    "a_1 \\\\ a_2 \\\\ a_3 \\\\ \\dots \\\\ a_n\n",
    "\\end{bmatrix}\n",
    "= \\sqrt{(a_1)^2 + (a_2)^2 + (a_3)^2 + \\dots + (a_n)^2}\n",
    "$$"
   ]
  },
  {
   "cell_type": "markdown",
   "id": "3ebe8cc5",
   "metadata": {},
   "source": [
    "The **dot product** (or inner product) between vectors tells us how much 2 vectors point in the same direction. The dot product is usually defined like this:"
   ]
  },
  {
   "cell_type": "markdown",
   "id": "914b75aa",
   "metadata": {},
   "source": [
    "$$\n",
    "\\vec a \\cdot \\vec b = \n",
    "\\operatorname{magn}(\\vec a) \\operatorname{magn}(\\vec b) \\cos (\\theta)\n",
    "$$"
   ]
  },
  {
   "cell_type": "markdown",
   "id": "e0659e6c",
   "metadata": {},
   "source": [
    "The more two vectors point in the same direction, the larger the dot product, and vice-versa. If the dot product is zero, that means the vectors are perpendicular to each other, and if the dot product is negative, that means the vectors are pointing in opposite directions."
   ]
  },
  {
   "cell_type": "markdown",
   "id": "bdda7f71",
   "metadata": {},
   "source": [
    "The dot product returns a **scalar**, and there is a simpler formula for computing it:"
   ]
  },
  {
   "cell_type": "markdown",
   "id": "074ec36d",
   "metadata": {},
   "source": [
    "$$\n",
    "\\begin{bmatrix}\n",
    "a_1 \\\\ a_2 \\\\ a_3\n",
    "\\end{bmatrix}\n",
    "\\cdot\n",
    "\\begin{bmatrix}\n",
    "b_1 \\\\ b_2 \\\\ b_3\n",
    "\\end{bmatrix}\n",
    "=\n",
    "\\begin{bmatrix}\n",
    "a_1 \\cdot b_1 \\\\ a_2 \\cdot b_2 \\\\ a_3 \\cdot b_3\n",
    "\\end{bmatrix}\n",
    "$$"
   ]
  },
  {
   "cell_type": "markdown",
   "id": "0e43fe95",
   "metadata": {},
   "source": [
    "The **cross product** between vectors returns a new vector perpendicular to both vectors with a magnitude proportional to how far apart the two vectors are pointing. The cross product is usually written like this:"
   ]
  },
  {
   "cell_type": "markdown",
   "id": "488c66af",
   "metadata": {},
   "source": [
    "$$\n",
    "\\vec a \\times \\vec b\n",
    "$$"
   ]
  },
  {
   "cell_type": "markdown",
   "id": "13462840",
   "metadata": {},
   "source": [
    "And the magnitude of the cross product is this:"
   ]
  },
  {
   "cell_type": "markdown",
   "id": "a462ca17",
   "metadata": {},
   "source": [
    "$$\n",
    "\\operatorname{mag} (\\vec a \\times \\vec b) = \n",
    "\\operatorname{magn}(\\vec a) \\operatorname{magn}(\\vec b)\n",
    "\\sin (\\theta)\n",
    "$$"
   ]
  },
  {
   "cell_type": "markdown",
   "id": "56e25887",
   "metadata": {},
   "source": [
    "The cross product can be calculated by writing a special matrix that looks like this:"
   ]
  },
  {
   "cell_type": "markdown",
   "id": "ee82717b",
   "metadata": {},
   "source": [
    "$$\n",
    "\\begin{vmatrix}\n",
    "\\hat i & \\hat j & \\hat k \\\\\n",
    "a_1 & a_2 & a_3 \\\\\n",
    "b_1 & b_2 & b_3\n",
    "\\end{vmatrix}\n",
    "$$"
   ]
  },
  {
   "cell_type": "markdown",
   "id": "52ba5aca",
   "metadata": {},
   "source": [
    "Now, we compute each component of the cross product vector by blocking out the column under that component's basis vector in that matrix. For example, for $\\hat i$, we block out the first column under it:"
   ]
  },
  {
   "cell_type": "markdown",
   "id": "f1df3035",
   "metadata": {},
   "source": [
    "$$\n",
    "\\begin{vmatrix}\n",
    "\\hat i & \\hat j & \\hat k \\\\\n",
    "\\Box & a_2 & a_3 \\\\\n",
    "\\Box & b_2 & b_3\n",
    "\\end{vmatrix}\n",
    "$$"
   ]
  },
  {
   "cell_type": "markdown",
   "id": "e28a1401",
   "metadata": {},
   "source": [
    "This leaves us with a square matrix underneath the basis vectors. We just need to compute a special value called the determinant of that matrix, which is given by:"
   ]
  },
  {
   "cell_type": "markdown",
   "id": "f3d38cec",
   "metadata": {},
   "source": [
    "$$\n",
    "\\begin{vmatrix}\n",
    "a & b \\\\\n",
    "c & d\n",
    "\\end{vmatrix}\n",
    "= ad - bc\n",
    "$$"
   ]
  },
  {
   "cell_type": "markdown",
   "id": "0e6e0125",
   "metadata": {},
   "source": [
    "In our case, we have:"
   ]
  },
  {
   "cell_type": "markdown",
   "id": "39e4ccb4",
   "metadata": {},
   "source": [
    "$$\n",
    "\\begin{vmatrix}\n",
    "a_2 & a_3 \\\\\n",
    "b_2 & b_3\n",
    "\\end{vmatrix} = a_2 b_3 - a_3 b_2\n",
    "$$"
   ]
  },
  {
   "cell_type": "markdown",
   "id": "1d566e5f",
   "metadata": {},
   "source": [
    "We do the same for all three basis vectors, which gives us this:"
   ]
  },
  {
   "cell_type": "markdown",
   "id": "3950cc16",
   "metadata": {},
   "source": [
    "$$\n",
    "\\vec a \\times \\vec b = \n",
    "\\begin{vmatrix}\n",
    "\\hat i & \\hat j & \\hat k \\\\\n",
    "\\Box & a_2 & a_3 \\\\\n",
    "\\Box & b_2 & b_3\n",
    "\\end{vmatrix} -\n",
    "\\begin{vmatrix}\n",
    "\\hat i & \\hat j & \\hat k \\\\\n",
    "a_1 & \\Box & a_3 \\\\\n",
    "b_1 & \\Box & b_3\n",
    "\\end{vmatrix} +\n",
    "\\begin{vmatrix}\n",
    "\\hat i & \\hat j & \\hat k \\\\\n",
    "a_1 & a_2 & \\Box \\\\\n",
    "b_1 & b_2 & \\Box\n",
    "\\end{vmatrix}\n",
    "$$"
   ]
  },
  {
   "cell_type": "markdown",
   "id": "e094b682",
   "metadata": {},
   "source": [
    "$$\n",
    "\\vec a \\times \\vec b = \n",
    "\\begin{vmatrix}\n",
    "a_2 & a_3 \\\\\n",
    "b_2 & b_3\n",
    "\\end{vmatrix} \\hat i -\n",
    "\\begin{vmatrix}\n",
    "a_1 & a_3 \\\\\n",
    "b_1 & b_3\n",
    "\\end{vmatrix} \\hat j +\n",
    "\\begin{vmatrix}\n",
    "a_1 & a_2 \\\\\n",
    "b_1 & b_2\n",
    "\\end{vmatrix} \\hat k\n",
    "$$"
   ]
  },
  {
   "cell_type": "markdown",
   "id": "35c218da",
   "metadata": {},
   "source": [
    "$$\n",
    "\\vec a \\times \\vec b = \n",
    "(a_2 b_3 - a_3 b_2)\\hat i -\n",
    "(a_1 b_3 - a_3 b_1)\\hat j +\n",
    "(a_1 b_2 - a_2 b_1)\\hat k\n",
    "$$"
   ]
  },
  {
   "cell_type": "markdown",
   "id": "025a4206",
   "metadata": {},
   "source": [
    "```{note}\n",
    "Be careful, remember that it is the first determinant times $\\hat i$, then **minus** the second determinant times $\\hat j$, and then plus the third determinant times $\\hat k$.\n",
    "```"
   ]
  },
  {
   "cell_type": "markdown",
   "id": "8290a573",
   "metadata": {},
   "source": [
    "A **matrix** is an array of items (usually numbers), arranged in rows and columns. The dimension of a matrix is how many rows and columns it has. A two-by-three $(2 \\times 3)$ matrix, for example, has two rows and 3 columns, like this:"
   ]
  },
  {
   "cell_type": "markdown",
   "id": "75fb5c04",
   "metadata": {},
   "source": [
    "$$\n",
    "A =\n",
    "\\begin{pmatrix}\n",
    "1 & 2 & 3 \\\\\n",
    "4 & 2 & 1\n",
    "\\end{pmatrix}\n",
    "$$"
   ]
  },
  {
   "cell_type": "markdown",
   "id": "42659f1d",
   "metadata": {},
   "source": [
    "We denote the rows of the matrix typically with the letter $i$, and the columns with the letter $j$, and we can refer to the entries of a matrix with their column and row number. For example, $A_{2 3}$ is the entry on the 2nd row, 3rd column of the matrix $A$."
   ]
  },
  {
   "cell_type": "markdown",
   "id": "519656b8",
   "metadata": {},
   "source": [
    "A matrix can be n-dimensional. A higher-dimensional matrix with $i$ rows and $j$ columns would be written like this:"
   ]
  },
  {
   "cell_type": "markdown",
   "id": "e3a6678a",
   "metadata": {},
   "source": [
    "$$\n",
    "A =\n",
    "\\begin{pmatrix}\n",
    "A_{11} & A_{12} & A_{13} & \\dots & A_{1j} \\\\\n",
    "A_{21} & A_{22} & A_{23} & \\dots & A_{2j} \\\\\n",
    "\\vdots & \\vdots & \\vdots & \\ddots & \\vdots \\\\\n",
    "A_{i1} & A_{i2} & A_{i3} & \\dots & A_{ij} \\\\\n",
    "\\end{pmatrix}\n",
    "$$"
   ]
  },
  {
   "cell_type": "markdown",
   "id": "aaa5380e",
   "metadata": {},
   "source": [
    "The transpose of a matrix is the matrix with its rows and columns switched, such that:"
   ]
  },
  {
   "cell_type": "markdown",
   "id": "dac87cab",
   "metadata": {},
   "source": [
    "$$\n",
    "(A_{ij})^T = A_{ji}\n",
    "$$"
   ]
  },
  {
   "cell_type": "markdown",
   "id": "3d832b51",
   "metadata": {},
   "source": [
    "We can write out a vector as a row vector or column vector, which are respectively matrices with just one row or column:"
   ]
  },
  {
   "cell_type": "markdown",
   "id": "d34ede68",
   "metadata": {},
   "source": [
    "$$\n",
    "\\vec a =\n",
    "\\begin{bmatrix}\n",
    "a_1 & a_2 & a_3\n",
    "\\end{bmatrix}^T =\n",
    "\\begin{bmatrix}\n",
    "a_1 \\\\ a_2 \\\\ a_3\n",
    "\\end{bmatrix}\n",
    "$$"
   ]
  },
  {
   "cell_type": "markdown",
   "id": "c5396734",
   "metadata": {},
   "source": [
    "```{important}\n",
    "Note that while a vector can be arbitrarily written as a row or column vector, a row vector is **not** the same thing as a column vector!\n",
    "```"
   ]
  },
  {
   "cell_type": "markdown",
   "id": "c4d3982b",
   "metadata": {},
   "source": [
    "A matrix is a description of a _linear transformation_ of the grid. To understand what this means, let's go back to our basis vectors for a moment. Remember that (in 2D space), the basis vectors $\\hat i$ and $\\hat j$ are:"
   ]
  },
  {
   "cell_type": "markdown",
   "id": "549d77a8",
   "metadata": {},
   "source": [
    "$$\n",
    "\\hat i = \\begin{bmatrix} 1 \\\\ 0 \\end{bmatrix},\n",
    "\\hat j = \\begin{bmatrix} 0 \\\\ 1 \\end{bmatrix}\n",
    "$$"
   ]
  },
  {
   "cell_type": "markdown",
   "id": "af27edff",
   "metadata": {},
   "source": [
    "Now, suppose we had a matrix $A$, as follows:"
   ]
  },
  {
   "cell_type": "markdown",
   "id": "35283361",
   "metadata": {},
   "source": [
    "$$\n",
    "A =\n",
    "\\begin{bmatrix}\n",
    "2 & 1 \\\\\n",
    "5 & 1\n",
    "\\end{bmatrix}\n",
    "$$"
   ]
  },
  {
   "cell_type": "markdown",
   "id": "56c2cc89",
   "metadata": {},
   "source": [
    "This matrix tells us to move the basis vectors $\\hat i$ and $\\hat j$ like this:"
   ]
  },
  {
   "cell_type": "markdown",
   "id": "65554a27",
   "metadata": {},
   "source": [
    "$$\n",
    "\\hat i: \n",
    "\\begin{bmatrix} 1 \\\\ 0 \\end{bmatrix}\n",
    "\\rightarrow\n",
    "\\begin{bmatrix} 2 \\\\ 5 \\end{bmatrix}\n",
    "$$\n",
    "\n",
    "$$\n",
    "\\hat j: \n",
    "\\begin{bmatrix} 0 \\\\ 1 \\end{bmatrix}\n",
    "\\rightarrow\n",
    "\\begin{bmatrix} 1 \\\\ 1 \\end{bmatrix}\n",
    "$$"
   ]
  },
  {
   "cell_type": "markdown",
   "id": "086ba347",
   "metadata": {},
   "source": [
    "By moving the basis vectors, every other point on our original grid moves too, so every vector on the original grid moves with it. So, a matrix is a way to _transform_ vectors into new positions by changing the entire grid."
   ]
  },
  {
   "cell_type": "markdown",
   "id": "513a7a2b",
   "metadata": {},
   "source": [
    "## Matrix Operations"
   ]
  },
  {
   "cell_type": "markdown",
   "id": "46493bab",
   "metadata": {},
   "source": [
    "We can add matrices together if they have the *same* dimensions:"
   ]
  },
  {
   "cell_type": "markdown",
   "id": "09f4c0e9",
   "metadata": {},
   "source": [
    "$$\n",
    "\\begin{bmatrix}\n",
    "A_{11} & A_{12} \\\\\n",
    "A_{21} & A_{22}\n",
    "\\end{bmatrix}\n",
    "+\n",
    "\\begin{bmatrix}\n",
    "B_{11} & B_{12} \\\\\n",
    "B_{21} & B_{22}\n",
    "\\end{bmatrix}\n",
    "=\n",
    "\\begin{bmatrix}\n",
    "A_{11} + B_{11} & A_{12} + B_{12} \\\\\n",
    "A_{21} + B_{21} & A_{22} + B_{22}\n",
    "\\end{bmatrix}\n",
    "$$"
   ]
  },
  {
   "cell_type": "markdown",
   "id": "6cd9a4cc",
   "metadata": {},
   "source": [
    "We can multiply any matrix by a scalar:"
   ]
  },
  {
   "cell_type": "markdown",
   "id": "9f76aa22",
   "metadata": {},
   "source": [
    "$$\n",
    "k \\begin{bmatrix}\n",
    "A_{11} & A_{12} \\\\\n",
    "A_{21} & A_{22}\n",
    "\\end{bmatrix}\n",
    "=\n",
    "\\begin{bmatrix}\n",
    "k(A_{11}) & k(A_{12}) \\\\\n",
    "k(A_{21}) & k(A_{22})\n",
    "\\end{bmatrix}\n",
    "$$"
   ]
  },
  {
   "cell_type": "markdown",
   "id": "d4dd9027",
   "metadata": {},
   "source": [
    "And we can multiply matrices with other matrices. To do so, we calculate the dot product of each row vector of matrix $A$ with each column vector of matrix $B$. \n",
    "\n",
    "In general, when finding the entry $C_{ij}$ where $C$ is the matrix product of $A$ and $B$, we take the dot product of the $i$th row of $A$ with the $j$th column of $B$.\n",
    "\n",
    "This is a bit of a more multi-step process, so let's see how this works, given our two example matrices $A$ and $B$ with the matrix product $C$:"
   ]
  },
  {
   "cell_type": "markdown",
   "id": "b5a95d77",
   "metadata": {},
   "source": [
    "$$\n",
    "\\begin{bmatrix}\n",
    "A_{11} & A_{12} \\\\\n",
    "A_{21} & A_{22}\n",
    "\\end{bmatrix}\n",
    "\\begin{bmatrix}\n",
    "B_{11} & B_{12} \\\\\n",
    "B_{21} & B_{22}\n",
    "\\end{bmatrix}\n",
    "=\n",
    "\\begin{bmatrix}\n",
    "C_{11} & C_{12} \\\\\n",
    "C_{21} & C_{22}\n",
    "\\end{bmatrix}\n",
    "$$"
   ]
  },
  {
   "cell_type": "markdown",
   "id": "1a40c917",
   "metadata": {},
   "source": [
    "First, we take the *first* row vector of $A$ and multiply it by the *first* column vector of $B$:"
   ]
  },
  {
   "cell_type": "markdown",
   "id": "37afaf47",
   "metadata": {},
   "source": [
    "$$\n",
    "C_{11} = \n",
    "\\begin{bmatrix}\n",
    "A_{11} & A_{12}\n",
    "\\end{bmatrix}\n",
    "\\cdot\n",
    "\\begin{bmatrix}\n",
    "B_{11} \\\\ B_{12}\n",
    "\\end{bmatrix}\n",
    "=\n",
    "A_{11} B_{11} + A_{12} B_{12}\n",
    "$$"
   ]
  },
  {
   "cell_type": "markdown",
   "id": "399c4ecd",
   "metadata": {},
   "source": [
    "Then, we take the *second* row vector of $A$ and multiply it by the same first column vector of $B$:"
   ]
  },
  {
   "cell_type": "markdown",
   "id": "317c6db6",
   "metadata": {},
   "source": [
    "$$\n",
    "C_{21} =\n",
    "\\begin{bmatrix}\n",
    "A_{21} & A_{22}\n",
    "\\end{bmatrix}\n",
    "\\cdot\n",
    "\\begin{bmatrix}\n",
    "B_{11} \\\\ B_{12}\n",
    "\\end{bmatrix}\n",
    "=\n",
    "A_{21} B_{11} + A_{22} B_{12} \n",
    "$$"
   ]
  },
  {
   "cell_type": "markdown",
   "id": "e4911a62",
   "metadata": {},
   "source": [
    "If the first matrix had more rows, we'd keep doing this, until we've multiplied every row of the first matrix by the first column of the second matrix."
   ]
  },
  {
   "cell_type": "markdown",
   "id": "bf9a222f",
   "metadata": {},
   "source": [
    "Now, we take the _first_ row vector of $A$ and multiply it by the _second_ column vector of $B$:"
   ]
  },
  {
   "cell_type": "markdown",
   "id": "72be8cc5",
   "metadata": {},
   "source": [
    "$$\n",
    "C_{12} =\n",
    "\\begin{bmatrix}\n",
    "A_{11} & A_{12}\n",
    "\\end{bmatrix}\n",
    "\\cdot\n",
    "\\begin{bmatrix}\n",
    "B_{12} \\\\ B_{22}\n",
    "\\end{bmatrix}\n",
    "=\n",
    "A_{11} B_{12} + A_{12} B_{22} \n",
    "$$"
   ]
  },
  {
   "cell_type": "markdown",
   "id": "08fd5ab0",
   "metadata": {},
   "source": [
    "Then, we take the *second* row vector of $A$ and multiply it by the same second column vector of $B$:"
   ]
  },
  {
   "cell_type": "markdown",
   "id": "8ff03525",
   "metadata": {},
   "source": [
    "$$\n",
    "C_{22} =\n",
    "\\begin{bmatrix}\n",
    "A_{21} & A_{22}\n",
    "\\end{bmatrix}\n",
    "\\cdot\n",
    "\\begin{bmatrix}\n",
    "B_{11} \\\\ B_{12}\n",
    "\\end{bmatrix}\n",
    "=\n",
    "A_{21} B_{11} + A_{22} B_{12} \n",
    "$$"
   ]
  },
  {
   "cell_type": "markdown",
   "id": "aeb93d2d",
   "metadata": {},
   "source": [
    "We'd continue this process, going through all the columns of the second matrix. Putting it all together, we find the final matrix product.\n",
    "\n",
    "Since matrix multiplication is dependent on the dot product, we can only multiply two matrices $A$ and $B$ if $A$ has the same number of columns as $B$ has rows. So we can find the matrix product of two $3 \\times 3$ matrices, or a $5 \\times 2$ matrix with a $2 \\times 5$ matrix, but not a $5 \\times 2$ and $3 \\times 3$ matrix."
   ]
  },
  {
   "cell_type": "markdown",
   "id": "7e4f196b",
   "metadata": {},
   "source": [
    "Why is matrix multiplication useful? Well, because remember matrices are transformations that can be applied to vectors. If we want to apply two matrices, $A$ and $B$, to a vector $\\vec a$, that's the same as transforming $\\vec a$ by the matrix product $AB$."
   ]
  },
  {
   "cell_type": "markdown",
   "id": "fcfe8c1d",
   "metadata": {},
   "source": [
    "## Using matrices to transform vectors"
   ]
  },
  {
   "cell_type": "markdown",
   "id": "4ceb4eae",
   "metadata": {},
   "source": [
    "We can use matrices to transform vectors as well, using a modified version of matrix multiplication. The general formula for matrix-vector multiplication is given by:"
   ]
  },
  {
   "cell_type": "markdown",
   "id": "3032756c",
   "metadata": {},
   "source": [
    "$$\n",
    "\\begin{align*}\n",
    "  A \\vec x=\n",
    "  \\left[\n",
    "    \\begin{array}{cccc}\n",
    "      a_{11} & a_{12} & \\ldots & a_{1n}\\\\\n",
    "      a_{21} & a_{22} & \\ldots & a_{2n}\\\\\n",
    "      \\vdots & \\vdots & \\ddots & \\vdots\\\\\n",
    "      a_{m1} & a_{m2} & \\ldots & a_{mn}\n",
    "    \\end{array}\n",
    "  \\right]\n",
    "  \\left[\n",
    "    \\begin{array}{c}\n",
    "      x_1\\\\\n",
    "      x_2\\\\\n",
    "      \\vdots\\\\\n",
    "      x_n\n",
    "    \\end{array}\n",
    "  \\right]\n",
    "  =\n",
    "  \\left[\n",
    "    \\begin{array}{c}\n",
    "      a_{11}x_1+a_{12}x_2 + \\cdots + a_{1n} x_n\\\\\n",
    "      a_{21}x_1+a_{22}x_2 + \\cdots + a_{2n} x_n\\\\\n",
    "      \\vdots\\\\\n",
    "      a_{m1}x_1+a_{m2}x_2 + \\cdots + a_{mn} x_n\\\\\n",
    "    \\end{array}\n",
    "  \\right].\n",
    "\\end{align*}\n",
    "$$"
   ]
  },
  {
   "cell_type": "markdown",
   "id": "e59c4518",
   "metadata": {},
   "source": [
    "Consider the following matrix and vector:"
   ]
  },
  {
   "cell_type": "markdown",
   "id": "9123ec2a",
   "metadata": {},
   "source": [
    "$$\n",
    "S = \n",
    "\\begin{bmatrix}\n",
    "2 & 0 \\\\\n",
    "0 & 2\n",
    "\\end{bmatrix},\n",
    "\\vec v = \n",
    "\\begin{bmatrix}\n",
    "5 \\\\\n",
    "2\n",
    "\\end{bmatrix}\n",
    "$$"
   ]
  },
  {
   "cell_type": "markdown",
   "id": "a42e1345",
   "metadata": {},
   "source": [
    "If we apply the matrix $S$ on a vector $\\vec v$, then we end up with a new vector $\\vec v_2$:"
   ]
  },
  {
   "cell_type": "markdown",
   "id": "fdf544df",
   "metadata": {},
   "source": [
    "$$\n",
    "S \\vec v = \n",
    "\\begin{bmatrix}\n",
    "2 & 0 \\\\\n",
    "0 & 2\n",
    "\\end{bmatrix}\n",
    "\\cdot\n",
    "\\begin{bmatrix}\n",
    "5 \\\\\n",
    "2\n",
    "\\end{bmatrix}\n",
    "= \\begin{bmatrix}\n",
    "10 \\\\\n",
    "4\n",
    "\\end{bmatrix}\n",
    "$$"
   ]
  },
  {
   "cell_type": "markdown",
   "id": "087e6d59",
   "metadata": {},
   "source": [
    "We can check our answer using NumPy's `dot()`, which performs matrix-vector multiplication when given a matrix and a vector:"
   ]
  },
  {
   "cell_type": "code",
   "execution_count": 1,
   "id": "546ab851",
   "metadata": {},
   "outputs": [],
   "source": [
    "import numpy as np"
   ]
  },
  {
   "cell_type": "code",
   "execution_count": 2,
   "id": "777df6b6",
   "metadata": {},
   "outputs": [
    {
     "data": {
      "text/plain": [
       "array([[10],\n",
       "       [ 4]])"
      ]
     },
     "execution_count": 2,
     "metadata": {},
     "output_type": "execute_result"
    }
   ],
   "source": [
    "a = np.array([[2, 0], \n",
    "              [0, 2]])\n",
    "b = np.array([[5], \n",
    "              [2]])\n",
    "a.dot(b)"
   ]
  },
  {
   "cell_type": "markdown",
   "id": "7f07d806",
   "metadata": {},
   "source": [
    "Note that the new vector $\\vec v_2$ is equal to the original vector $\\vec v_1$ scaled by 2! So the matrix $S$ actually encodes the **linear transformation** of scaling by 2. In fact, all matrices can be thought of as _linear maps_ that map vectors onto their transformed versions. Common transformations, such as rotation, shearing, stretching, translation, and countless others can all be encoded through matrices! This is why matrices are useful!"
   ]
  },
  {
   "cell_type": "markdown",
   "id": "8bdcb982",
   "metadata": {},
   "source": [
    "## Transition to tensors"
   ]
  },
  {
   "cell_type": "markdown",
   "id": "e9a38ed1",
   "metadata": {},
   "source": [
    "Consider a 3D vector:"
   ]
  },
  {
   "cell_type": "markdown",
   "id": "43f2c29f",
   "metadata": {},
   "source": [
    "$$\n",
    "\\vec A =\n",
    "\\begin{bmatrix}\n",
    "x \\\\\n",
    "y \\\\\n",
    "z\n",
    "\\end{bmatrix}\n",
    "=\n",
    "\\begin{bmatrix}\n",
    "3 \\\\\n",
    "-5 \\\\\n",
    "2\n",
    "\\end{bmatrix}\n",
    "$$"
   ]
  },
  {
   "cell_type": "markdown",
   "id": "79842d5b",
   "metadata": {},
   "source": [
    "This vector is written in Cartesian coordinates (x, y, z coordinates). The same vector would be written like this in spherical coordinates ($\\theta$ and $\\phi$ are given in radians):"
   ]
  },
  {
   "cell_type": "markdown",
   "id": "70f1d64e",
   "metadata": {},
   "source": [
    "$$\n",
    "\\vec A =\n",
    "\\begin{bmatrix}\n",
    "r \\\\\n",
    "\\theta \\\\\n",
    "\\phi\n",
    "\\end{bmatrix}\n",
    "=\n",
    "\\begin{bmatrix}\n",
    "(x^2 + y^2 + z^2)^{1/2} \\\\\n",
    "\\arctan (y/x) \\\\\n",
    "\\arccos (z^2/(x^2 + y^2 + z^2))\n",
    "\\end{bmatrix}\n",
    "=\n",
    "\\begin{bmatrix}\n",
    "6.164 \\\\\n",
    "-1.03 \\\\\n",
    "0.324\n",
    "\\end{bmatrix}\n",
    "$$"
   ]
  },
  {
   "cell_type": "markdown",
   "id": "bedfc66c",
   "metadata": {},
   "source": [
    "Notice that these two are the _same_ vector, but in different coordinate systems, the components of the vector change. So, a vector's components are **not** invariant. They depend on the coordinate system you use, and converting between coordinate systems is really annoying!"
   ]
  },
  {
   "cell_type": "markdown",
   "id": "a0031698",
   "metadata": {},
   "source": [
    "This is where tensors come in. Tensors are generalizations of n-dimensional arrays - including vectors and matrices - which are invariant. This means, we can rewrite a scalar, vector, or matrix as an equivalent tensor that remains the same in whichever coordinate system we put it in. How cool is that! We'll explore tensors more in the next section."
   ]
  }
 ],
 "metadata": {
  "kernelspec": {
   "display_name": "Python 3 (ipykernel)",
   "language": "python",
   "name": "python3"
  },
  "language_info": {
   "codemirror_mode": {
    "name": "ipython",
    "version": 3
   },
   "file_extension": ".py",
   "mimetype": "text/x-python",
   "name": "python",
   "nbconvert_exporter": "python",
   "pygments_lexer": "ipython3",
   "version": "3.11.4"
  }
 },
 "nbformat": 4,
 "nbformat_minor": 5
}
