{
 "cells": [
  {
   "cell_type": "markdown",
   "id": "2d682144",
   "metadata": {},
   "source": [
    "# Monovariable Calculus"
   ]
  },
  {
   "cell_type": "markdown",
   "id": "5ce4b474",
   "metadata": {},
   "source": [
    "> Calculus is the most powerful weapon of thought yet devised by the wit of man.\n",
    ">\n",
    "> **Wallace B. Smith**\n",
    "\n",
    "Calculus is the study of continuous change: a simple set of concepts that can be applied to the most complex of systems. Nearly all of modern-day science is built on calculus, especially physics; it is quite the tool to have in your engineer's toolbox!\n",
    "\n",
    "Over its nearly 400-year history, calculus has evolved into perhaps the most versatile and broad field of mathematics. There is multivariable calculus, vector calculus, stochastic calculus, the calculus of variations, tensor calculus, fractional calculus...we could go on and on...\n",
    "\n",
    "However, a lifelong journey through calculus begins with monovariable calculus (or just \"calculus\"). In monovariable calculus, we're concerned with developing the fundamental ideas of calculus. These ideas will carry over to all the more advanced forms of calculus. Through them, you're realize how calculus has such versatility and power."
   ]
  },
  {
   "cell_type": "markdown",
   "id": "e99ed4c8",
   "metadata": {},
   "source": [
    "## Limits"
   ]
  },
  {
   "cell_type": "markdown",
   "id": "f6dcf5f9",
   "metadata": {},
   "source": [
    "The **limit** is the value a function approaches as $x$ approaches a given value.\n",
    "\n",
    "For instance:"
   ]
  },
  {
   "cell_type": "markdown",
   "id": "60df7560",
   "metadata": {},
   "source": [
    "$$\n",
    "f(x) = \\frac{x^2 - 1}{x - 1}\n",
    "$$"
   ]
  },
  {
   "cell_type": "markdown",
   "id": "2fc1d61c",
   "metadata": {},
   "source": [
    "While the function is not defined at $x = 1$, it approaches 2 as $x$ approaches 1, thus we can say:"
   ]
  },
  {
   "cell_type": "markdown",
   "id": "cf77e1de",
   "metadata": {},
   "source": [
    "$$\n",
    "\\lim_{x \\rightarrow 1} f(x) = 2\n",
    "$$"
   ]
  },
  {
   "cell_type": "markdown",
   "id": "71c5f845",
   "metadata": {},
   "source": [
    "Sometimes, limits are the same regardless of the direction $x$ approaches $c$. At other times, the limit is different, and dependent on the direction. For instance, take:"
   ]
  },
  {
   "cell_type": "markdown",
   "id": "9c4de280",
   "metadata": {},
   "source": [
    "$$\n",
    "f(x) = \\frac{1}{x - 3}\n",
    "$$"
   ]
  },
  {
   "cell_type": "markdown",
   "id": "ffb8ef77",
   "metadata": {},
   "source": [
    "As $x$ approaches 3 from the right-hand side, $f(x)$ approaches infinity, and as $x$ approaches 3 from the left-hand side, $f(x)$ approaches **negative** infinity. Thus, we can say there are separate left-hand and right-hand limits, where:"
   ]
  },
  {
   "cell_type": "markdown",
   "id": "a7188664",
   "metadata": {},
   "source": [
    "$$\n",
    "\\lim_{x \\rightarrow 3^+} f(x) = \\infty = DNE\n",
    "$$\n",
    "\n",
    "$$\n",
    "\\lim_{x \\rightarrow 3^-} f(x) = -\\infty = DNE\n",
    "$$"
   ]
  },
  {
   "cell_type": "markdown",
   "id": "f0115ea0",
   "metadata": {},
   "source": [
    "(DNE means \"does not exist\")"
   ]
  },
  {
   "cell_type": "markdown",
   "id": "7bc76291",
   "metadata": {},
   "source": [
    "Notice that as the limit is infinite, and infinity is not a real number, we do not say that the limit of the function is infinity. Rather, we say that the limit does not exist.\n",
    "\n",
    "The limit of a function does not exist in one of three cases:\n",
    "\n",
    "- If the function’s left- and right-hand limits are not equal at that x-value\n",
    "- If the function oscillates in value around an x-value\n",
    "- If the function becomes indefinitely large around an x-value"
   ]
  },
  {
   "cell_type": "markdown",
   "id": "ae2b0ac6",
   "metadata": {},
   "source": [
    "## Derivatives"
   ]
  },
  {
   "cell_type": "markdown",
   "id": "5996e5ea",
   "metadata": {},
   "source": [
    "The equation for the slope of a line is defined as:"
   ]
  },
  {
   "cell_type": "markdown",
   "id": "6db80b60",
   "metadata": {},
   "source": [
    "$$\n",
    "m = \\frac{\\Delta f(x)}{\\Delta x} = \\frac{y_2 - y_1}{x_2 - x_1}\n",
    "$$"
   ]
  },
  {
   "cell_type": "markdown",
   "id": "6351b8aa",
   "metadata": {},
   "source": [
    "However, the slope equation only works for straight lines. How, then, could we find the slope of a curve?\n",
    "\n",
    "Well, we can first take advantage of the fact that if you zoom _really_ close in to a curve, it looks like a straight line:"
   ]
  },
  {
   "cell_type": "markdown",
   "id": "bac914ee",
   "metadata": {},
   "source": [
    "```{image} ../images/Calculus-curve-zoom.jpg\n",
    ":alt: Zooming into a curve\n",
    ":width: 600px\n",
    ":align: center\n",
    "```"
   ]
  },
  {
   "cell_type": "markdown",
   "id": "bf9b338f",
   "metadata": {},
   "source": [
    "_Notice how, as we zoom into the curve, the curve looks more and more like a straight line, and the curvature becomes less and less noticeable._"
   ]
  },
  {
   "cell_type": "markdown",
   "id": "0f953184",
   "metadata": {},
   "source": [
    "The **derivative** is a function that tells you the slope of another function at _any_ point. You can think of it as an \"upgraded\" version of the slope formula. We find the derivative by taking two points, $(x, f(x))$ and $((x + a), f(x+a))$, and calculating the slope from them:"
   ]
  },
  {
   "cell_type": "markdown",
   "id": "0d6b1096",
   "metadata": {},
   "source": [
    "```{image} ../images/Derivative-illustration.png\n",
    ":alt: Illustration of the derivative\n",
    ":width: 400px\n",
    ":align: center\n",
    "```"
   ]
  },
  {
   "cell_type": "markdown",
   "id": "fed4f715",
   "metadata": {},
   "source": [
    "As we shrink $a$ and make it smaller and smaller, $a$ will approach zero, and the slope becomes:"
   ]
  },
  {
   "cell_type": "markdown",
   "id": "2176368f",
   "metadata": {},
   "source": [
    "$$\n",
    "m = \\frac{y_2 - y_1}{x_2 - x_1} = \\frac{f(x+a) -f(x)}{(x+a) -x} = \\frac{f(x+a) -f(x)}{a}\n",
    "$$"
   ]
  },
  {
   "cell_type": "markdown",
   "id": "8dfed96d",
   "metadata": {},
   "source": [
    "So, for a function $f$, the derivative $\\frac{df}{dx}$ is defined as the limit by taking $a$ smaller and smaller:"
   ]
  },
  {
   "cell_type": "markdown",
   "id": "00519043",
   "metadata": {},
   "source": [
    "$$\n",
    "\\frac{df}{dx} = \\lim_{a \\rightarrow 0} \\frac{f(x+a) -f(x)}{a}\n",
    "$$"
   ]
  },
  {
   "cell_type": "markdown",
   "id": "76fb4319",
   "metadata": {},
   "source": [
    "### An alternative understanding of the derivative"
   ]
  },
  {
   "cell_type": "markdown",
   "id": "ccd9545f",
   "metadata": {},
   "source": [
    "A more intuitive, but less mathematically rigorous, definition of the derivative is to look at the slope formula once again:"
   ]
  },
  {
   "cell_type": "markdown",
   "id": "ae42a278",
   "metadata": {},
   "source": [
    "$$\n",
    "m = \\frac{\\Delta y}{\\Delta x}\n",
    "$$"
   ]
  },
  {
   "cell_type": "markdown",
   "id": "03e68dd1",
   "metadata": {},
   "source": [
    "Now, let's imagine making the change $\\Delta$ smaller and smaller. The eventual result is that $\\Delta y$, a small change, becomes a tiny change $dy$, and $\\Delta x$, a small change, becomes a tiny change $dx$:"
   ]
  },
  {
   "cell_type": "markdown",
   "id": "614fb51a",
   "metadata": {},
   "source": [
    "$$\n",
    "\\lim_{\\Delta \\to 0} \\frac{\\Delta y}{\\Delta x} = \\frac{dy}{dx}\n",
    "$$"
   ]
  },
  {
   "cell_type": "markdown",
   "id": "99fa576c",
   "metadata": {},
   "source": [
    "### (Opinionated) derivative notation\n",
    "\n",
    "Calculus was invented at roughly the same time by two brilliant mathematicians - Gottlieb Leibniz and Isaac Newton. Unfortunately, each of them published their work at the same time with differing notations. Leibniz wrote the derivative with the notation $\\frac{df}{dx}$; Newton used the notation $\\dot f$. Lagrange and Euler, not long after, came up with the notation $f'(x)$. In any case, Leibniz and Newton...got into a fight, which became a political controversy, and other mathematicians decided to develop *other* notations as well. So, sadly, there is not a unified notation around calculus."
   ]
  },
  {
   "cell_type": "markdown",
   "id": "b2e090d1",
   "metadata": {},
   "source": [
    "The most common form of notation is Leibniz's notation, where the derivative of $f(x)$ is written like this:"
   ]
  },
  {
   "cell_type": "markdown",
   "id": "119b2b2d",
   "metadata": {},
   "source": [
    "$$\n",
    "\\frac{df}{dx}\n",
    "$$"
   ]
  },
  {
   "cell_type": "markdown",
   "id": "ba781ab6",
   "metadata": {},
   "source": [
    "The _nth_-derivative is written as:"
   ]
  },
  {
   "cell_type": "markdown",
   "id": "4c55cff1",
   "metadata": {},
   "source": [
    "$$\n",
    "\\frac{d^n f}{dx^n}\n",
    "$$"
   ]
  },
  {
   "cell_type": "markdown",
   "id": "5ab34a7f",
   "metadata": {},
   "source": [
    "```{important}\n",
    "**Note:** Even though this looks like a fraction, and can be manipulated similar to fractions, the derivative in Leibniz's notation is **absolutely not** the same as a fraction!\n",
    "```"
   ]
  },
  {
   "cell_type": "markdown",
   "id": "7229213d",
   "metadata": {},
   "source": [
    "The second most common notation is Langrange's notation, where the derivative of $f(x)$ is written like this:"
   ]
  },
  {
   "cell_type": "markdown",
   "id": "cc44cd0d",
   "metadata": {},
   "source": [
    "$$\n",
    "f'(x)\n",
    "$$"
   ]
  },
  {
   "cell_type": "markdown",
   "id": "0151a639",
   "metadata": {},
   "source": [
    "Here, the _nth_-derivative is written as:"
   ]
  },
  {
   "cell_type": "markdown",
   "id": "36327c14",
   "metadata": {},
   "source": [
    "$$\n",
    "f^n (x)\n",
    "$$"
   ]
  },
  {
   "cell_type": "markdown",
   "id": "2dfdf560",
   "metadata": {},
   "source": [
    "In Project Elära, derivatives of a single-variable function use Leibniz notation most commonly to minimize confusion. The derivative of a function $f(x)$ in Project Elära is _preferred_ to be written as:"
   ]
  },
  {
   "cell_type": "markdown",
   "id": "becd6e71",
   "metadata": {},
   "source": [
    "$$\n",
    "\\frac{df}{dx}\n",
    "$$"
   ]
  },
  {
   "cell_type": "markdown",
   "id": "aa8a9736",
   "metadata": {},
   "source": [
    "If we have a function $v(t)$, the derivative with respect to $t$ would be written as:"
   ]
  },
  {
   "cell_type": "markdown",
   "id": "4583a7f0",
   "metadata": {},
   "source": [
    "$$\n",
    "\\frac{dv}{dt}\n",
    "$$"
   ]
  },
  {
   "cell_type": "markdown",
   "id": "8153b068",
   "metadata": {},
   "source": [
    "A higher order derivative (e.g. second derivative) is written like this:"
   ]
  },
  {
   "cell_type": "markdown",
   "id": "72eab76a",
   "metadata": {},
   "source": [
    "$$\n",
    "\\frac{d^2 f}{dx^2}\n",
    "$$"
   ]
  },
  {
   "cell_type": "markdown",
   "id": "5ae4c4b6",
   "metadata": {},
   "source": [
    "The derivative evaluated at a certain point $x = a$ is written as:"
   ]
  },
  {
   "cell_type": "markdown",
   "id": "839b5a6c",
   "metadata": {},
   "source": [
    "$$\n",
    "\\left.\\frac{df}{dx} \\right |_{x = a}\n",
    "$$"
   ]
  },
  {
   "cell_type": "markdown",
   "id": "fb4ca2ae",
   "metadata": {},
   "source": [
    "However, there are some alternate notations that will sometimes be used. Note that these are **all** equivalent:"
   ]
  },
  {
   "cell_type": "markdown",
   "id": "8d9c9fee",
   "metadata": {},
   "source": [
    "$$\n",
    "\\frac{d}{dx} f(x) = f'(x)\n",
    "$$"
   ]
  },
  {
   "cell_type": "markdown",
   "id": "7bcd6088",
   "metadata": {},
   "source": [
    "You will also see $\\dot f$ and $\\ddot f$ sometimes for first and second time derivatives respectively. This is recommended not to be used as it is easily notationally confused."
   ]
  },
  {
   "cell_type": "markdown",
   "id": "48f189db",
   "metadata": {},
   "source": [
    "### Differentiation"
   ]
  },
  {
   "cell_type": "markdown",
   "id": "c4452d13",
   "metadata": {},
   "source": [
    "The derivative is a very powerful function, but finding the derivative of a function unfortunately requires a bit of time and patience. This is because there is no universal formula for finding the derivative of a certain function - instead, we have general *rules* for finding the derivatives of a certain type of function, which we use in the process of **differentiation**.\n"
   ]
  },
  {
   "cell_type": "markdown",
   "id": "fd963d26",
   "metadata": {},
   "source": [
    "Let's start with the easiest derivative - the derivative of any constant function is zero. Why? Because the slope of any constant function is always zero, and remember, the derivative is a function that tells you the slope at every point. So if the slope at every point is zero, the derivative will always be zero.\n",
    "\n",
    "We call this the **constant rule**, and we write it out like this:"
   ]
  },
  {
   "cell_type": "markdown",
   "id": "17899eda",
   "metadata": {},
   "source": [
    "$$\n",
    "\\frac{dC}{dx} = 0 \n",
    "$$"
   ]
  },
  {
   "cell_type": "markdown",
   "id": "e3057e32",
   "metadata": {},
   "source": [
    "Where $n$ can be any constant. For instance, the derivative of 2 with respect to $x$ (the same as finding the rate of change of $f(x) = 2$) would be:"
   ]
  },
  {
   "cell_type": "markdown",
   "id": "f387e506",
   "metadata": {},
   "source": [
    "$$\n",
    "\\frac{d(2)}{dx} = 0\n",
    "$$"
   ]
  },
  {
   "cell_type": "markdown",
   "id": "fac7de58",
   "metadata": {},
   "source": [
    "This also means that if you have a function $f(x) = c$, where $c$ is a constant, then:"
   ]
  },
  {
   "cell_type": "markdown",
   "id": "e2ac79bc",
   "metadata": {},
   "source": [
    "$$\n",
    "\\frac{df}{dx} = c\n",
    "$$\n"
   ]
  },
  {
   "cell_type": "markdown",
   "id": "30fe1bd2",
   "metadata": {},
   "source": [
    "That should be simple enough, right?\n",
    "\n",
    "Now, let's do the second-easiest derivative. The derivative of the exponential function $f(x) = e^x$ is itself. We call this the **exponential rule**, and we write it out like this:"
   ]
  },
  {
   "cell_type": "markdown",
   "id": "423f64d7",
   "metadata": {},
   "source": [
    "$$\n",
    "\\frac{d(e^x)}{dx} = e^x\n",
    "$$"
   ]
  },
  {
   "cell_type": "markdown",
   "id": "015e5ace",
   "metadata": {},
   "source": [
    "The exponential rule can also be more generally written as this:"
   ]
  },
  {
   "cell_type": "markdown",
   "id": "41c7392a",
   "metadata": {},
   "source": [
    "$$\n",
    "\\frac{d(a^x)}{dx} = \\ln(a) a^x\n",
    "$$"
   ]
  },
  {
   "cell_type": "markdown",
   "id": "32c591aa",
   "metadata": {},
   "source": [
    "For trigonometric functions, the derivatives unfortunately have to be memorized, but you just have to memorize two of them to find the derivatives of all trigonometric functions:"
   ]
  },
  {
   "cell_type": "markdown",
   "id": "daa8e8b6",
   "metadata": {},
   "source": [
    "$$\n",
    "\\frac{d(\\sin x)}{dx} = \\cos x\n",
    "$$\n",
    "\n",
    "$$\n",
    "\\frac{d(\\cos x)}{dx} = -\\sin x\n",
    "$$"
   ]
  },
  {
   "cell_type": "markdown",
   "id": "e58c885c",
   "metadata": {},
   "source": [
    "And for polynomial functions, we can use the **power rule**:"
   ]
  },
  {
   "cell_type": "markdown",
   "id": "733275ad",
   "metadata": {},
   "source": [
    "$$\n",
    "\\frac{d(x^n)}{dx} = nx^{n - 1}\n",
    "$$"
   ]
  },
  {
   "cell_type": "markdown",
   "id": "6e2144c3",
   "metadata": {},
   "source": [
    "The power rule applies to linear functions in the form $y = mx +c$:"
   ]
  },
  {
   "cell_type": "markdown",
   "id": "057fa4f5",
   "metadata": {},
   "source": [
    "$$\n",
    "\\frac{df}{dx} = \\frac{d(mx + c)}{dx} = \\frac{d(mx)}{dx} = 1 m \\left(x^{1-0}\\right) = m\n",
    "$$"
   ]
  },
  {
   "cell_type": "markdown",
   "id": "ed06d507",
   "metadata": {},
   "source": [
    "As well as for rational functions in the form $f(x) = \\frac{1}{x^n}$:"
   ]
  },
  {
   "cell_type": "markdown",
   "id": "2988b973",
   "metadata": {},
   "source": [
    "$$\n",
    "\\frac{d\\left(\\frac{1}{x^n}\\right)}{dx} = \\frac{d(x^{-n})}{dx} = -nx^{-n -1} = -\\frac{n}{x^{n + 1}}\n",
    "$$"
   ]
  },
  {
   "cell_type": "markdown",
   "id": "a05b6fb7",
   "metadata": {},
   "source": [
    "And nth root functions (e.g. square root, cube root, etc.) in the form $f(x) = \\sqrt[n]{x}$:"
   ]
  },
  {
   "cell_type": "markdown",
   "id": "9b68a5ad",
   "metadata": {},
   "source": [
    "$$\n",
    "\\frac{d\\left(\\sqrt[n]{x}\\right)}{dx} = \\frac{d\\left(x^\\frac{1}{n}\\right)}{dx} = \\frac{1}{n} x^{\\frac{1 - n}{n}}\n",
    "$$"
   ]
  },
  {
   "cell_type": "markdown",
   "id": "037d10e5",
   "metadata": {},
   "source": [
    "Combining the power rule and exponential rule gives us the derivatives of logarithms:"
   ]
  },
  {
   "cell_type": "markdown",
   "id": "a48bcaf8",
   "metadata": {},
   "source": [
    "$$\n",
    "\\frac{d(\\ln x)}{dx} = \\frac{1}{x}\n",
    "$$\n",
    "\n",
    "$$\n",
    "\\frac{d(\\log_a x)}{dx} = \\frac{1}{x \\ln a}\n",
    "$$"
   ]
  },
  {
   "cell_type": "markdown",
   "id": "bd0baf01",
   "metadata": {},
   "source": [
    "However, most functions are made from a _combination_ of these functions. For instance, the function $f(x) = 2x^2 + 3x + 5$ is a combination of a constant function, linear function, and power function. To find the derivatives of combinations of functions, we have a few more rules to help us.\n",
    "\n",
    "First, we have the **sum rule**:"
   ]
  },
  {
   "cell_type": "markdown",
   "id": "2942152e",
   "metadata": {},
   "source": [
    "$$\n",
    "\\frac{d(f(x) + g(x))}{x} = \\frac{df}{dx} + \\frac{dg}{dx}\n",
    "$$"
   ]
  },
  {
   "cell_type": "markdown",
   "id": "94a5603d",
   "metadata": {},
   "source": [
    "Then, the **constant coefficient rule:**"
   ]
  },
  {
   "cell_type": "markdown",
   "id": "c835cc8c",
   "metadata": {},
   "source": [
    "$$\n",
    "\\frac{d(c \\cdot f(x))}{dx} = c \\cdot \\frac{df}{dx}\n",
    "$$"
   ]
  },
  {
   "cell_type": "markdown",
   "id": "d52ae728",
   "metadata": {},
   "source": [
    "Then, the **product rule**:"
   ]
  },
  {
   "cell_type": "markdown",
   "id": "0bb4020f",
   "metadata": {},
   "source": [
    "$$\n",
    "\\frac{d(f(x)g(x)}{dx} = \\frac{df}{dx} g(x) + \\frac{dg}{dx} f(x)\n",
    "$$"
   ]
  },
  {
   "cell_type": "markdown",
   "id": "21b7242f",
   "metadata": {},
   "source": [
    "From the product rule, we can derive the **quotient rule**:"
   ]
  },
  {
   "cell_type": "markdown",
   "id": "a0dd60ff",
   "metadata": {},
   "source": [
    "$$\n",
    "\\frac{d\\left(\\frac{f(x)}{g(x)}\\right)}{dx} = \\frac{\\frac{df}{dx} g(x) - \\frac{dg}{dx} f(x)}{(g(x))^2}\n",
    "$$"
   ]
  },
  {
   "cell_type": "markdown",
   "id": "af73e94b",
   "metadata": {},
   "source": [
    "And, most importantly, we have the **chain rule**. The chain rule is used for _composite functions_ - functions that have been nested into each other. For instance, $h(x) = \\sin x^2$ is made by nesting the function $g(x) = x^2$ _inside_ of the function $f(x) = \\sin x$. So, we can say that $h(x) = f(g(x))$. This is a **composition of functions**.\n",
    "\n",
    "With that in mind, the **chain rule** is written like this:"
   ]
  },
  {
   "cell_type": "markdown",
   "id": "023f9a7e",
   "metadata": {},
   "source": [
    "$$\n",
    "\\frac{df(g(x))}{dx} = \\frac{df}{du}\\frac{du}{dx} = \\frac{df}{dx} \\{g(x)\\} \\frac{dg}{dx}\n",
    "$$"
   ]
  },
  {
   "cell_type": "markdown",
   "id": "1ee84c0f",
   "metadata": {},
   "source": [
    "This means we nest $g(x)$ in the derivative of $f(x)$ and multiply that by the derivative of $g(x)$. The other rules here are mostly self-explanatory, but I'll go through a worked example with the chain rule: let's try to find the derivative of $h(x) = \\cos x^2$."
   ]
  },
  {
   "cell_type": "markdown",
   "id": "4ecaf2ac",
   "metadata": {},
   "source": [
    "#### Practicing the chain rule"
   ]
  },
  {
   "cell_type": "markdown",
   "id": "7f4e5149",
   "metadata": {},
   "source": [
    "We use the chain rule for _composite_ functions, like our example, $h(x) = \\cos x^2$. We know that we can rewrite $h(x)$ as a composite function $f(g(x))$, where:"
   ]
  },
  {
   "cell_type": "markdown",
   "id": "e7908f07",
   "metadata": {},
   "source": [
    "$$\n",
    "h = \\cos (u)\n",
    "$$\n",
    "\n",
    "$$\n",
    "u = x^2\n",
    "$$"
   ]
  },
  {
   "cell_type": "markdown",
   "id": "298f27f8",
   "metadata": {},
   "source": [
    "We can now use the chain rule. In the first step, we find $\\frac{dh}{du}$:"
   ]
  },
  {
   "cell_type": "markdown",
   "id": "7f938707",
   "metadata": {},
   "source": [
    "$$\n",
    "\\frac{dh}{du} = -\\sin (u) = -\\sin (x^2)\n",
    "$$"
   ]
  },
  {
   "cell_type": "markdown",
   "id": "efa8450c",
   "metadata": {},
   "source": [
    "Note that we substituted in $x^2$ for $u$. Now, we find $\\frac{du}{dx}$:"
   ]
  },
  {
   "cell_type": "markdown",
   "id": "a876b3d3",
   "metadata": {},
   "source": [
    "$$\n",
    "\\frac{du}{dx} = 2x\n",
    "$$"
   ]
  },
  {
   "cell_type": "markdown",
   "id": "81445b56",
   "metadata": {},
   "source": [
    "We now just need to multiply them together:"
   ]
  },
  {
   "cell_type": "markdown",
   "id": "624ef862",
   "metadata": {},
   "source": [
    "$$\n",
    "\\frac{dh}{dx} = \\frac{dh}{du} \\frac{du}{dx}\n",
    "$$\n",
    "\n",
    "$$\n",
    "\\frac{dh}{dx} = -2x \\sin x^2\n",
    "$$"
   ]
  },
  {
   "cell_type": "markdown",
   "id": "d6bf8933",
   "metadata": {},
   "source": [
    "That's our answer!"
   ]
  },
  {
   "cell_type": "markdown",
   "id": "0546a5da",
   "metadata": {},
   "source": [
    "### Reciprocal derivatives"
   ]
  },
  {
   "cell_type": "markdown",
   "id": "72d4c3f4",
   "metadata": {},
   "source": [
    "In monovariable calculus _only_, derivatives follow the **reciprocal rule**:"
   ]
  },
  {
   "cell_type": "markdown",
   "id": "86048720",
   "metadata": {},
   "source": [
    "$$\n",
    "\\frac{df}{dx} = \\frac{1}{\\frac{dx}{df}}\n",
    "$$\n",
    "\n",
    "$$\n",
    "\\frac{dx}{df} = \\frac{1}{\\frac{df}{dx}}\n",
    "$$"
   ]
  },
  {
   "cell_type": "markdown",
   "id": "a30d0977",
   "metadata": {},
   "source": [
    "### Tangent to a curve\n",
    "\n",
    "The tangent to the function $f(x)$ at $x = a$ is given by the function $T(x)$, where:"
   ]
  },
  {
   "cell_type": "markdown",
   "id": "f5e34f8b",
   "metadata": {},
   "source": [
    "$$\n",
    "\\sigma(x) = \\frac{df}{dx}\n",
    "$$\n",
    "\n",
    "$$\n",
    "T(x) = \\sigma \\left(a\\right)\\left(x-a\\right)+f\\left(a\\right)\n",
    "$$"
   ]
  },
  {
   "cell_type": "markdown",
   "id": "418878ff",
   "metadata": {},
   "source": [
    "This is also called the **linear approximation** of a function."
   ]
  },
  {
   "cell_type": "markdown",
   "id": "f3fc0777",
   "metadata": {},
   "source": [
    "### Higher-order derivatives"
   ]
  },
  {
   "cell_type": "markdown",
   "id": "c43aa767",
   "metadata": {},
   "source": [
    "Taking a derivative _nth_ times gives you the _nth_ derivative of a function. For example, taking the derivative of the derivative is the second derivative, the derivative of the second derivative is the third derivative, and so on. Going in the other direction, the 0th derivative is not taking the derivative at all - the same as the original function.\n",
    "\n",
    "The second derivative is the most common higher-order derivative, and it is given by:"
   ]
  },
  {
   "cell_type": "markdown",
   "id": "c55f6b77",
   "metadata": {},
   "source": [
    "$$\n",
    "\\frac{d^2 f}{dx^2} = \\frac{d\\left(\\frac{df}{dx}\\right)}{dx}\n",
    "$$"
   ]
  },
  {
   "cell_type": "markdown",
   "id": "fdd96652",
   "metadata": {},
   "source": [
    "The _order_ of the derivative is the number of times you take the derivative: for instance, the 7th derivative involves taking the derivative of a function 7 times! (don't do that, please...)"
   ]
  },
  {
   "cell_type": "markdown",
   "id": "363ce070",
   "metadata": {},
   "source": [
    "### Finding maxima and minima"
   ]
  },
  {
   "cell_type": "markdown",
   "id": "3a5d4c36",
   "metadata": {},
   "source": [
    "We can find the critical points (maxima and minima) of a function $f(x)$ by finding its derivative and setting it to zero:"
   ]
  },
  {
   "cell_type": "markdown",
   "id": "23cab0b5",
   "metadata": {},
   "source": [
    "$$\n",
    "\\frac{df}{dx} = 0\n",
    "$$"
   ]
  },
  {
   "cell_type": "markdown",
   "id": "b4d00061",
   "metadata": {},
   "source": [
    "For instance, for the function $f(x) = 2x^2 + 1$:"
   ]
  },
  {
   "cell_type": "markdown",
   "id": "2b6e9a18",
   "metadata": {},
   "source": [
    "$$\n",
    "\\frac{df}{dx} = 4x\n",
    "$$\n",
    "\n",
    "$$\n",
    "4x = 0\n",
    "$$\n",
    "\n",
    "$$\n",
    "x = 0\n",
    "$$"
   ]
  },
  {
   "cell_type": "markdown",
   "id": "0402fb20",
   "metadata": {},
   "source": [
    "Then, plugging in that x value into the original f(x), we can find the y value of the maximum/minimum point:"
   ]
  },
  {
   "cell_type": "markdown",
   "id": "8c2932ed",
   "metadata": {},
   "source": [
    "$$\n",
    "f(0) = 2(0^2) + 1 = 1\n",
    "$$"
   ]
  },
  {
   "cell_type": "markdown",
   "id": "29f114a8",
   "metadata": {},
   "source": [
    "So the minimum of $f(x)$ is the point $(0, 1)$. How do we know if it's a maximum or minimum though? To find out, we use the **second derivative**, which measures how the slope changes. If a point is a maximum, the slope will change from positive to negative around that point; if a point is a minimum, vice-versa. So:"
   ]
  },
  {
   "cell_type": "markdown",
   "id": "4a8a7947",
   "metadata": {},
   "source": [
    "$$\n",
    "\\begin{cases}\n",
    "\\text{if} \\quad \\frac{d^2 f}{dx^2} < 0 \\quad x = \\text{max.} \\\\\n",
    "\\text{if} \\quad \\frac{d^2 f}{dx^2} > 0 \\quad x = \\text{min.}\n",
    "\\end{cases}\n",
    "$$"
   ]
  },
  {
   "cell_type": "markdown",
   "id": "c0e28d11",
   "metadata": {},
   "source": [
    "The second derivative of $f(x)$ is the derivative of its derivative, which we can find like this:"
   ]
  },
  {
   "cell_type": "markdown",
   "id": "42b2c4c0",
   "metadata": {},
   "source": [
    "$$\n",
    "\\frac{d^2 f}{dx^2} = \\frac{d(4x)}{dx} = 4\n",
    "$$"
   ]
  },
  {
   "cell_type": "markdown",
   "id": "6ca8c52c",
   "metadata": {},
   "source": [
    "Since $\\frac{d^2 f}{dx^2} > 0$, we know that the point $(0, 1)$ has to be a **minimum**."
   ]
  },
  {
   "cell_type": "markdown",
   "id": "bee8a00b",
   "metadata": {},
   "source": [
    "### Implicit differentiation"
   ]
  },
  {
   "cell_type": "markdown",
   "id": "66ba9edd",
   "metadata": {},
   "source": [
    "Implicit differentiation is when we differentiate with respect to an intermediary variable, often used when the object being differentiated is not a function. For instance, consider the equation of a circle:"
   ]
  },
  {
   "cell_type": "markdown",
   "id": "0ee1f573",
   "metadata": {},
   "source": [
    "$$\n",
    "x^2 + y^2 = 1\n",
    "$$"
   ]
  },
  {
   "cell_type": "markdown",
   "id": "52716de2",
   "metadata": {},
   "source": [
    "To implicitly differentiate it, we have:"
   ]
  },
  {
   "cell_type": "markdown",
   "id": "69c496a8",
   "metadata": {},
   "source": [
    "$$\n",
    "\\frac{d}{dx} (x^2 + y^2) = \\frac{d}{dx} (1)\n",
    "$$"
   ]
  },
  {
   "cell_type": "markdown",
   "id": "e5d05dbb",
   "metadata": {},
   "source": [
    "The right-hand side is straightforward:\n",
    "\n",
    "$$\n",
    "\\frac{d}{dx} (x^2 + y^2) = 0\n",
    "$$"
   ]
  },
  {
   "cell_type": "markdown",
   "id": "ff8e3223",
   "metadata": {},
   "source": [
    "The sum rule can be used for the left-hand side:"
   ]
  },
  {
   "cell_type": "markdown",
   "id": "f150f532",
   "metadata": {},
   "source": [
    "$$\n",
    "\\frac{d}{dx}\n",
    " x^2 + \\frac{d}{dx}\n",
    "y^2 = 0\n",
    "$$\n",
    "\n",
    "$$\n",
    "2x + \\frac{d}{dx}\n",
    "y^2\n",
    " = 0\n",
    "$$"
   ]
  },
  {
   "cell_type": "markdown",
   "id": "6ee9fe07",
   "metadata": {},
   "source": [
    "To implicitly differentiate $y^2$, we can use the chain rule:"
   ]
  },
  {
   "cell_type": "markdown",
   "id": "f8068005",
   "metadata": {},
   "source": [
    "$$\n",
    "\\frac{d}{dx}\n",
    "y^2 = 2y \\frac{dy}{dx}\n",
    "$$"
   ]
  },
  {
   "cell_type": "markdown",
   "id": "8c866dac",
   "metadata": {},
   "source": [
    "So:\n",
    "\n",
    "$$\n",
    "2x + 2y \\frac{dy}{dx} = 0\n",
    "$$"
   ]
  },
  {
   "cell_type": "markdown",
   "id": "0f003e35",
   "metadata": {},
   "source": [
    "Rearranging the terms, we find that:\n",
    "\n",
    "$$\n",
    "2y \\frac{dy}{dx} = -2x\n",
    "$$\n",
    "\n",
    "$$\n",
    "\\frac{dy}{dx} = - \\frac{x}{y}\n",
    "$$"
   ]
  },
  {
   "cell_type": "markdown",
   "id": "3ddd30d9",
   "metadata": {},
   "source": [
    "**Problem:** Suppose that $y = x^2 + 3$. Find $\\frac{dy}{dt}$ when $x = 1$, $\\frac{dx}{dt} = 2$.\n",
    "\n",
    "We implicitly differentiate $y$ to find:\n",
    "\n",
    "$$\n",
    "\\frac{dy}{dt} = 2x \\frac{dx}{dt}\n",
    "$$\n",
    "\n",
    "Then we plug in the values for $x$ and $\\frac{dx}{dt}$ to find that:\n",
    "\n",
    "$$\n",
    "\\frac{dy}{dt} = 2(1)(2) = 4\n",
    "$$"
   ]
  },
  {
   "cell_type": "markdown",
   "id": "761b7e7e",
   "metadata": {},
   "source": [
    "## Antiderivatives"
   ]
  },
  {
   "cell_type": "markdown",
   "id": "c364d470",
   "metadata": {},
   "source": [
    "The antiderivative is the function $F(x)$ that is the original function of a derivative $f(x)$. For instance, the antiderivative of $2x$ is $x^2$, because if $2x$ is the derivative, then the original function is $x^2$:"
   ]
  },
  {
   "cell_type": "markdown",
   "id": "e91e7549",
   "metadata": {},
   "source": [
    "$$\n",
    "\\frac{d(x^2)}{dx} = 2x\n",
    "$$"
   ]
  },
  {
   "cell_type": "markdown",
   "id": "b4d949d6",
   "metadata": {},
   "source": [
    "The **indefinite integral** is another name for the antiderivative. The indefinite integral is written as:"
   ]
  },
  {
   "cell_type": "markdown",
   "id": "294af43a",
   "metadata": {},
   "source": [
    "$$\n",
    "F(x) + C = \\int f(x)dx\n",
    "$$"
   ]
  },
  {
   "cell_type": "markdown",
   "id": "621f6540",
   "metadata": {},
   "source": [
    "The $C$ is due to the fact that the integral returns a family of antiderivatives, as any derivative has infinitely many antiderivatives."
   ]
  },
  {
   "cell_type": "markdown",
   "id": "42f48502",
   "metadata": {},
   "source": [
    "Just like derivatives, indefinite integrals follow certain rules:"
   ]
  },
  {
   "cell_type": "markdown",
   "id": "13e75d9f",
   "metadata": {},
   "source": [
    "$$\n",
    "\\int dx = x + C\n",
    "$$\n",
    "\n",
    "Constant rule:\n",
    "\n",
    "$$\n",
    "\\int k  \\, dx = kx + C\n",
    "$$\n",
    "\n",
    "Inverse power rule:\n",
    "\n",
    "$$\n",
    "\\int x^n dx = \\frac{x^{n + 1}}{n + 1}\n",
    "$$\n",
    "\n",
    "Sum and difference rule:\n",
    "\n",
    "$$\n",
    "\\int [f(x) \\pm g(x)] dx = \\int f(x) dx \\pm \\int g(x) dx\n",
    "$$\n",
    "\n",
    "Constant factor rule:\n",
    "\n",
    "$$\n",
    "\\int k f(x) dx = k \\int f(x) dx\n",
    "$$"
   ]
  },
  {
   "cell_type": "markdown",
   "id": "1ead5f65",
   "metadata": {},
   "source": [
    "### An intuitive understanding"
   ]
  },
  {
   "cell_type": "markdown",
   "id": "430fad4c",
   "metadata": {},
   "source": [
    "Suppose we have the derivative of a function, and that derivative is $f(x)$. We now want to find the original function $F(x)$ that derivative came from. To do so, we notice that:"
   ]
  },
  {
   "cell_type": "markdown",
   "id": "38831912",
   "metadata": {},
   "source": [
    "$$\n",
    "f(x) = \\frac{dF}{dx}\n",
    "$$"
   ]
  },
  {
   "cell_type": "markdown",
   "id": "c84446b2",
   "metadata": {},
   "source": [
    "So if we rearrange the terms, we get:"
   ]
  },
  {
   "cell_type": "markdown",
   "id": "b5a6f47a",
   "metadata": {},
   "source": [
    "$$\n",
    "f(x) dx = dF\n",
    "$$"
   ]
  },
  {
   "cell_type": "markdown",
   "id": "2c62abb9",
   "metadata": {},
   "source": [
    "Now, $dF$ is similar to saying \"a tiny tiny change in F\". If we add lots of $dF$'s together, it would seem reasonable that we would get $F$:"
   ]
  },
  {
   "cell_type": "markdown",
   "id": "047fb9b7",
   "metadata": {},
   "source": [
    "$$\n",
    "F(x) = \\sum_i dF\n",
    "$$"
   ]
  },
  {
   "cell_type": "markdown",
   "id": "5b78d243",
   "metadata": {},
   "source": [
    "Only in integral calculus, we replace the summation symbol with the integral symbol $\\int$, so it becomes:"
   ]
  },
  {
   "cell_type": "markdown",
   "id": "f6e14af3",
   "metadata": {},
   "source": [
    "$$\n",
    "F(x) = \\int dF = \\int f(x) dx\n",
    "$$"
   ]
  },
  {
   "cell_type": "markdown",
   "id": "7c8f5992",
   "metadata": {},
   "source": [
    "## Integration"
   ]
  },
  {
   "cell_type": "markdown",
   "id": "f3b1b721",
   "metadata": {},
   "source": [
    "### Area under a curve"
   ]
  },
  {
   "cell_type": "markdown",
   "id": "7333fce3",
   "metadata": {},
   "source": [
    "Up to this point, we've only seen one type of integral - the indefinite integral, used for finding the original function given its derivative. Now, we will explore another type of integral, the definite integral, which returns an area rather than a function. The definite integral looks like this:"
   ]
  },
  {
   "cell_type": "markdown",
   "id": "936e4dbf",
   "metadata": {},
   "source": [
    "$$\n",
    "A = \\int \\limits_a^b f(x) dx\n",
    "$$"
   ]
  },
  {
   "cell_type": "markdown",
   "id": "295b1c77",
   "metadata": {},
   "source": [
    "Intuitively, the definite integral gives the area underneath a curve. It does this by creating tiny rectangles under that curve:"
   ]
  },
  {
   "cell_type": "markdown",
   "id": "61f58ed2",
   "metadata": {},
   "source": [
    "```{image} https://www.technologyuk.net/mathematics/integral-calculus/images/integral_calculus_0013.gif\n",
    ":alt: Integral visualization as rectangles under a curve\n",
    ":width: 400px\n",
    ":align: center\n",
    "```"
   ]
  },
  {
   "cell_type": "markdown",
   "id": "7d36e403",
   "metadata": {},
   "source": [
    "We can find the area by summing the areas of the rectangles we place under the curve. As more rectangles are used, the approximation becomes closer to the true area. Taking the limit as the number of rectangles approaches infinity, we find the true area underneath the curve:"
   ]
  },
  {
   "cell_type": "markdown",
   "id": "fcea0989",
   "metadata": {},
   "source": [
    "$$\n",
    "A = \\lim_{n \\rightarrow \\infty} \\sum_{i = 1}^n f(c_i) \\Delta x = \\int \\limits_a^b f(x) dx\n",
    "$$"
   ]
  },
  {
   "cell_type": "markdown",
   "id": "18d0c489",
   "metadata": {},
   "source": [
    "Several properties of the definite integral include:"
   ]
  },
  {
   "cell_type": "markdown",
   "id": "2de9fb17",
   "metadata": {},
   "source": [
    "$$\n",
    "\\int_a^a f(x) dx = 0\n",
    "$$\n",
    "\n",
    "$$\n",
    "\\int_b^a f(x)dx = -\\int_a^b f(x)dx\n",
    "$$\n",
    "\n",
    "$$\n",
    "\\int_a^c f(x) dx = \\int_a^b f(x)dx + \\int_b^c f(x)dx\n",
    "$$"
   ]
  },
  {
   "cell_type": "markdown",
   "id": "63dc54a7",
   "metadata": {},
   "source": [
    "### Average value of a function\n",
    "\n",
    "The average (mean) value of a function on $[a, b]$ is given by:\n",
    "\n",
    "$$\n",
    "\\frac{1}{b-a} \\int_a^b f(x)dx\n",
    "$$"
   ]
  },
  {
   "cell_type": "markdown",
   "id": "5e82e7e4",
   "metadata": {},
   "source": [
    "### The fundamental theorem of calculus"
   ]
  },
  {
   "cell_type": "markdown",
   "id": "46113f43",
   "metadata": {},
   "source": [
    "Derivatives, indefinite integrals, and definite integrals are related by the **fundamental theorem of calculus (FTC)**. The theorem consists of two parts."
   ]
  },
  {
   "cell_type": "markdown",
   "id": "5c3f0573",
   "metadata": {},
   "source": [
    "The first part of the FTC states that if you have an original function $F(x)$ whose derivative is $f(x)$, then taking the indefinite integral of the derivative gives you the original function:"
   ]
  },
  {
   "cell_type": "markdown",
   "id": "69eb2e23",
   "metadata": {},
   "source": [
    "$$\n",
    "f(x) = \\frac{dF}{dx} \\Rightarrow F(x) = \\int f(x) dx\n",
    "$$"
   ]
  },
  {
   "cell_type": "markdown",
   "id": "700143bb",
   "metadata": {},
   "source": [
    "The FTC #1 establishes that differentiation and integration are **inverse operations**. The derivative is the _rate of change_, whereas the integral finds the _accumulated net change_."
   ]
  },
  {
   "cell_type": "markdown",
   "id": "4a5f8515",
   "metadata": {},
   "source": [
    "Then the second part of the FTC states that the definite integral, which is the area underneath the curve of $f(x)$, is given by evaluating the indefinite integral between the bounds of the curve:"
   ]
  },
  {
   "cell_type": "markdown",
   "id": "15d39879",
   "metadata": {},
   "source": [
    "$$\n",
    "A = \\int \\limits_a^b f(x) dx = F(b) - F(a)\n",
    "$$"
   ]
  },
  {
   "cell_type": "markdown",
   "id": "a8ab3048",
   "metadata": {},
   "source": [
    "This means that when we know the indefinite integral of a function, we can use the FTC as a shortcut to evaluating the definite integral."
   ]
  },
  {
   "cell_type": "markdown",
   "id": "11e43335",
   "metadata": {},
   "source": [
    "For instance, let's try to evaluate the area under the curve of $f(x) = x^2$ from $x = 0$ to $x = 3$:"
   ]
  },
  {
   "cell_type": "markdown",
   "id": "0908f61a",
   "metadata": {},
   "source": [
    "$$\n",
    "\\int \\limits_0^3 x^2 dx\n",
    "$$"
   ]
  },
  {
   "cell_type": "markdown",
   "id": "da92e57b",
   "metadata": {},
   "source": [
    "We first find the indefinite integral of $f(x)$ - the original function whose derivative is $x^2$. We can use the inverse power rule for this:"
   ]
  },
  {
   "cell_type": "markdown",
   "id": "a532f844",
   "metadata": {},
   "source": [
    "$$\n",
    "\\int x^n dx = \\frac{1}{n + 1} x^{n + 1} + C\n",
    "$$"
   ]
  },
  {
   "cell_type": "markdown",
   "id": "f06c7fed",
   "metadata": {},
   "source": [
    "Thus the indefinite integral of $f(x)$ is equal to:"
   ]
  },
  {
   "cell_type": "markdown",
   "id": "a34390ac",
   "metadata": {},
   "source": [
    "$$\n",
    "F(x) = \\frac{x^3}{3} + C\n",
    "$$"
   ]
  },
  {
   "cell_type": "markdown",
   "id": "a4696494",
   "metadata": {},
   "source": [
    "Now, we just evaluate $F(3) - F(0)$:"
   ]
  },
  {
   "cell_type": "markdown",
   "id": "adfcaf5f",
   "metadata": {},
   "source": [
    "$$\n",
    "F(3) - F(0) = \\left(\\frac{3^3}{3} + C\\right) - \\left(\\frac{0^3}{3} + C\\right)\n",
    "$$"
   ]
  },
  {
   "cell_type": "markdown",
   "id": "60f873e4",
   "metadata": {},
   "source": [
    "The two $C$'s cancel and we are simply left with:"
   ]
  },
  {
   "cell_type": "markdown",
   "id": "68d25b7a",
   "metadata": {},
   "source": [
    "$$\n",
    "F(3) - F(0) = 9\n",
    "$$"
   ]
  },
  {
   "cell_type": "markdown",
   "id": "3dc37291",
   "metadata": {},
   "source": [
    "Thus:"
   ]
  },
  {
   "cell_type": "markdown",
   "id": "a916ed35",
   "metadata": {},
   "source": [
    "$$\n",
    "\\int \\limits_0^3 x^2 dx = 9\n",
    "$$"
   ]
  },
  {
   "cell_type": "markdown",
   "id": "4d9dffaf",
   "metadata": {},
   "source": [
    "### U-substitution"
   ]
  },
  {
   "cell_type": "markdown",
   "id": "984e3cda",
   "metadata": {},
   "source": [
    "Just as we have the chain rule for derivatives, we have a sort of \"reverse\" chain rule for evaluating indefinite integrals. We begin with a typical integral:"
   ]
  },
  {
   "cell_type": "markdown",
   "id": "07908585",
   "metadata": {},
   "source": [
    "$$\n",
    "\\int f(x) dx\n",
    "$$"
   ]
  },
  {
   "cell_type": "markdown",
   "id": "8353fb5c",
   "metadata": {},
   "source": [
    "And we want to express the integrand $f(x)$ in terms of another function $g(u)$. To do this, we define:"
   ]
  },
  {
   "cell_type": "markdown",
   "id": "3f5e8fef",
   "metadata": {},
   "source": [
    "$$\n",
    "x = g(u)\n",
    "$$\n",
    "\n",
    "$$\n",
    "f(x) = f(g(u))\n",
    "$$\n",
    "\n",
    "$$\n",
    "\\frac{dx}{du} = g'(u)\n",
    "$$\n",
    "\n",
    "$$\n",
    "dx = g'(u) du\n",
    "$$"
   ]
  },
  {
   "cell_type": "markdown",
   "id": "35ba925a",
   "metadata": {},
   "source": [
    "Therefore:\n",
    "\n",
    "$$\n",
    "\\int f(x) dx = \\int f(g(u)) g'(u) du\n",
    "$$"
   ]
  },
  {
   "cell_type": "markdown",
   "id": "f1d387c5",
   "metadata": {},
   "source": [
    "which is essentially a reverse chain rule. Why would we do this though? Doesn't it make integrals more complicated? While the formula may seem scary, the reality is that with clever cancelling, u-substitution can make integrals a lot easier to solve. Take, for instance:"
   ]
  },
  {
   "cell_type": "markdown",
   "id": "6f78c157",
   "metadata": {},
   "source": [
    "$$\n",
    "\\int \\frac{x^{3}}{\\sqrt{16-x^{4}}}dx\n",
    "$$"
   ]
  },
  {
   "cell_type": "markdown",
   "id": "64b1d26b",
   "metadata": {},
   "source": [
    "Here, we identify the part of the integral that we want to make our $u$. Usually, this is an annoyingly complex part of the integral that we want to make simpler with u-substitution. In this case, it would be $u = 16 - x^4$. So:"
   ]
  },
  {
   "cell_type": "markdown",
   "id": "c720d1d6",
   "metadata": {},
   "source": [
    "$$\n",
    "u = 16 - x^4\n",
    "$$\n",
    "\n",
    "$$\n",
    "\\frac{du}{dx} = -4x^3\n",
    "$$\n",
    "\n",
    "\n",
    "$$\n",
    "dx = \\frac{du}{-4x^3}\n",
    "$$"
   ]
  },
  {
   "cell_type": "markdown",
   "id": "3f393c27",
   "metadata": {},
   "source": [
    "Now, we can substitute $16-x^4$ for $u$:"
   ]
  },
  {
   "cell_type": "markdown",
   "id": "7ae771b6",
   "metadata": {},
   "source": [
    "$$\n",
    "\\int \\frac{x^{3}}{\\sqrt{16-x^{4}}}dx = \\int \\frac{x^{3}}{\\sqrt{u}}dx\n",
    "$$"
   ]
  },
  {
   "cell_type": "markdown",
   "id": "64b734bd",
   "metadata": {},
   "source": [
    "And substitute $\\frac{du}{-4x^3}$ for $dx$:"
   ]
  },
  {
   "cell_type": "markdown",
   "id": "1b0f30cc",
   "metadata": {},
   "source": [
    "$$\n",
    "\\int \\frac{x^{3}}{\\sqrt{u}}dx = \\int \\frac{x^{3}}{\\sqrt{u}} \\frac{du}{-4x^3}\n",
    "$$"
   ]
  },
  {
   "cell_type": "markdown",
   "id": "961ce804",
   "metadata": {},
   "source": [
    "And magically we find that the $x^3$ and $-4x^3$ cancel, leaving us with an integrand completely in terms of $u$:"
   ]
  },
  {
   "cell_type": "markdown",
   "id": "1dccb943",
   "metadata": {},
   "source": [
    "$$\n",
    "\\int \\frac{x^{3}}{\\sqrt{u}} \\frac{du}{-4x^3} = \\int -\\frac{1}{4} \\frac{1}{\\sqrt{u}} du\n",
    "$$"
   ]
  },
  {
   "cell_type": "markdown",
   "id": "097de8e8",
   "metadata": {},
   "source": [
    "We can make the integral even simpler by moving the constant factor outside the integral:"
   ]
  },
  {
   "cell_type": "markdown",
   "id": "cb1a68ba",
   "metadata": {},
   "source": [
    "$$\n",
    "\\int -\\frac{1}{4} \\frac{1}{\\sqrt{u}} du = -\\frac{1}{4} \\int \\frac{1}{\\sqrt{u}} du\n",
    "$$"
   ]
  },
  {
   "cell_type": "markdown",
   "id": "db7621ab",
   "metadata": {},
   "source": [
    "We've successfully greatly simplified the integral!"
   ]
  },
  {
   "cell_type": "markdown",
   "id": "5b40967a",
   "metadata": {},
   "source": [
    "$$\n",
    "\\int \\frac{x^{3}}{\\sqrt{16-x^{4}}}dx \\Rightarrow -\\frac{1}{4} \\int \\frac{1}{\\sqrt{u}} du\n",
    "$$"
   ]
  },
  {
   "cell_type": "markdown",
   "id": "27a0f4b4",
   "metadata": {},
   "source": [
    "Solving this integral in terms of $u$ is easy:"
   ]
  },
  {
   "cell_type": "markdown",
   "id": "521deb13",
   "metadata": {},
   "source": [
    "$$\n",
    "-\\frac{1}{4} \\int \\frac{1}{\\sqrt{u}} du = -\\frac{1}{2} \\sqrt{u} + C\n",
    "$$"
   ]
  },
  {
   "cell_type": "markdown",
   "id": "f723c1d9",
   "metadata": {},
   "source": [
    "We just need to remember to now replace $u$ with its value in terms of $x$:"
   ]
  },
  {
   "cell_type": "markdown",
   "id": "10f62214",
   "metadata": {},
   "source": [
    "$$\n",
    "-\\frac{1}{2} \\sqrt{u} + C = -\\frac{1}{2} \\sqrt{16 - x^4} + C\n",
    "$$"
   ]
  },
  {
   "cell_type": "markdown",
   "id": "16199d26",
   "metadata": {},
   "source": [
    "So we evaluated a difficult integral using u-substitution to find its answer!"
   ]
  },
  {
   "cell_type": "markdown",
   "id": "8f50d10a",
   "metadata": {},
   "source": [
    "### Integration by parts"
   ]
  },
  {
   "cell_type": "markdown",
   "id": "51a6a84e",
   "metadata": {},
   "source": [
    "Integration by parts is given by:"
   ]
  },
  {
   "cell_type": "markdown",
   "id": "ede98a36",
   "metadata": {},
   "source": [
    "$$\n",
    "\\int u dv = uv - \\int v du\n",
    "$$"
   ]
  },
  {
   "cell_type": "markdown",
   "id": "33e93380",
   "metadata": {},
   "source": [
    "It is the integral form of the product rule for derivatives. Unsurprisingly, it is often used for integrating products of functions. To illustrate this, let's consider integrating $f(x) = x \\sin (x)$:"
   ]
  },
  {
   "cell_type": "markdown",
   "id": "5f1ba636",
   "metadata": {},
   "source": [
    "$$\n",
    "\\int x\\sin(x) dx\n",
    "$$"
   ]
  },
  {
   "cell_type": "markdown",
   "id": "b23e07ee",
   "metadata": {},
   "source": [
    "To integrate, we first pick our $u$ and $dv$. We generally want $u$ to be a function that is easy to differentiate, and $dv$ to be a function that is easy to integrate. Here, we will pick $u = x$, $dv = \\sin(x)$. So:"
   ]
  },
  {
   "cell_type": "markdown",
   "id": "5b70d2ed",
   "metadata": {},
   "source": [
    "$$\n",
    "u = x\n",
    "$$\n",
    "\n",
    "$$\n",
    "\\frac{du}{dx} = 1\n",
    "$$\n",
    "\n",
    "$$\n",
    "du = 1dx = dx\n",
    "$$\n",
    "\n",
    "$$\n",
    "dv = \\sin x\n",
    "$$\n",
    "\n",
    "$$\n",
    "v = \\int dv = -\\cos x\n",
    "$$"
   ]
  },
  {
   "cell_type": "markdown",
   "id": "e89f4b03",
   "metadata": {},
   "source": [
    "Using the integration by parts formula, we have:"
   ]
  },
  {
   "cell_type": "markdown",
   "id": "dee49835",
   "metadata": {},
   "source": [
    "$$\n",
    "\\int x\\sin(x) dx = -x \\cos x - \\int (-\\cos x) dx\n",
    "$$"
   ]
  },
  {
   "cell_type": "markdown",
   "id": "81ca10fe",
   "metadata": {},
   "source": [
    "Which simplifies to:"
   ]
  },
  {
   "cell_type": "markdown",
   "id": "925eca16",
   "metadata": {},
   "source": [
    "$$\n",
    "\\int x \\sin x dx = -x\\cos x + \\sin x + C\n",
    "$$"
   ]
  },
  {
   "cell_type": "markdown",
   "id": "90b490a9",
   "metadata": {},
   "source": [
    "### Other integration rules"
   ]
  },
  {
   "cell_type": "markdown",
   "id": "98c5a66f",
   "metadata": {},
   "source": [
    "There are several other notable integration tricks such as integrating by partial fractions, integrating by trigonometric substitutions, using trig identities, long division, and other algebraic methods for solving indefinite integrals. A full list of them can be found at <https://brilliant.org/wiki/integration-tricks/>. Another way to solve complicated integrals is to refer to integral tables, which contain precomputed tables of common integrals - see <https://en.wikipedia.org/wiki/Lists_of_integrals>."
   ]
  },
  {
   "cell_type": "markdown",
   "id": "c9beb6f3",
   "metadata": {},
   "source": [
    "### Integral calculators"
   ]
  },
  {
   "cell_type": "markdown",
   "id": "1e296981",
   "metadata": {},
   "source": [
    "When integrals are too difficult to solve using any known method, consult an online integral calculator! Some very good ones are <https://mathdf.com/int/> and <https://www.wolframalpha.com>. Additionally, for relatively simple expressions (to type in), consult <https://gamma.sympy.org/>. The SymPy Python library is also well worth learning to do symbolic integration on a computer."
   ]
  },
  {
   "cell_type": "markdown",
   "id": "9366bfdb",
   "metadata": {},
   "source": [
    "## Taylor series"
   ]
  },
  {
   "cell_type": "markdown",
   "id": "98e9c67a",
   "metadata": {},
   "source": [
    "Imagine we had a certain function $f(x)$. We want to approximate that function with a polynomial $T(x)$. So we write the general equation of a polynomial centered at $x = a$:"
   ]
  },
  {
   "cell_type": "markdown",
   "id": "26ff578f",
   "metadata": {},
   "source": [
    "$$\n",
    "T(x) = c_0 + c_1 (x - a) + c_2 (x-a)^2 + c_3 (x - a)^3 + c_4 (x - a)^4 + \\dots c_n (x - a)^n\n",
    "$$"
   ]
  },
  {
   "cell_type": "markdown",
   "id": "049bac2c",
   "metadata": {},
   "source": [
    "Now, for this function to be equal to $f(x)$, then $T(a) = f(a)$. So we compute $T(a)$:"
   ]
  },
  {
   "cell_type": "markdown",
   "id": "5442b787",
   "metadata": {},
   "source": [
    "$$\n",
    "T(a) = c_0 + c_1 (a - a) + c_2 (a-a)^2 + c_3 (a - a)^3 + c_4 (a - a)^4 + \\dots c_n (a - a)^n\n",
    "$$"
   ]
  },
  {
   "cell_type": "markdown",
   "id": "6a49c2ea",
   "metadata": {},
   "source": [
    "Since $a - a$ cancels to zero, every term in the equation cancels to zero other than $c_0$, so:"
   ]
  },
  {
   "cell_type": "markdown",
   "id": "fccf21f6",
   "metadata": {},
   "source": [
    "$$\n",
    "T(a) = c_0\n",
    "$$"
   ]
  },
  {
   "cell_type": "markdown",
   "id": "a6dfd610",
   "metadata": {},
   "source": [
    "But we know that $T(a) = f(a)$. So we can rewrite $T(x)$ as:"
   ]
  },
  {
   "cell_type": "markdown",
   "id": "da431d67",
   "metadata": {},
   "source": [
    "$$\n",
    "T(x) = f(a) + c_1 (x - a) + c_2 (x-a)^2 + c_3 (x - a)^3 + c_4 (x - a)^4 + \\dots c_n (x - a)^n\n",
    "$$"
   ]
  },
  {
   "cell_type": "markdown",
   "id": "a39509c4",
   "metadata": {},
   "source": [
    "Alright, but just having two functions be equal at a single point isn't enough to make sure that these two functions are equal. To be more sure that the two functions are equal, we demand $T'(a) = f'(a)$ must be true as well. If we compute $T'(x)$, we'd get:"
   ]
  },
  {
   "cell_type": "markdown",
   "id": "42f0d20b",
   "metadata": {},
   "source": [
    "$$\n",
    "T'(x) = c_1 + 2c_2(x - a) + 3 c_3(x - a)^2 + 4c_4 (x -a)^3 + \\dots nc_n (x - a)^{n - 1}\n",
    "$$"
   ]
  },
  {
   "cell_type": "markdown",
   "id": "f9826d48",
   "metadata": {},
   "source": [
    "Once again, if we compute $T'(a)$, the terms all cancel other than the first, so we have:"
   ]
  },
  {
   "cell_type": "markdown",
   "id": "ffb40401",
   "metadata": {},
   "source": [
    "$$\n",
    "T'(a) = c_1 + 2c_2 (a - a) + 3c_3(a - a)^2 + 4c_4 (a - a)^3 + \\dots nc_n(a - a)^{n - 1}\n",
    "$$"
   ]
  },
  {
   "cell_type": "markdown",
   "id": "57c72994",
   "metadata": {},
   "source": [
    "Again, since all the $a - a$ terms cancel to zero, we are left with just one term, where:"
   ]
  },
  {
   "cell_type": "markdown",
   "id": "fad1d06b",
   "metadata": {},
   "source": [
    "$$\n",
    "T'(a) = c_1\n",
    "$$"
   ]
  },
  {
   "cell_type": "markdown",
   "id": "f944107a",
   "metadata": {},
   "source": [
    "But again, we know that $T'(a) = f'(a)$, so we can rewrite $T(x)$ as:"
   ]
  },
  {
   "cell_type": "markdown",
   "id": "8d894611",
   "metadata": {},
   "source": [
    "$$\n",
    "T(x) = f(a) + f'(a) (x - a) + c_2 (x-a)^2 + c_3 (x - a)^3 + c_4 (x - a)^4 + \\dots c_n (x - a)^n\n",
    "$$"
   ]
  },
  {
   "cell_type": "markdown",
   "id": "d51f2657",
   "metadata": {},
   "source": [
    "Still, we can't be certain that $T(x) = f(x)$. We don't just want their values and their first derivatives to match at $x = a$ - we want their second derivatives to match too! So we do the same exercise - take the second derivative of $T(x)$. We get:"
   ]
  },
  {
   "cell_type": "markdown",
   "id": "73193048",
   "metadata": {},
   "source": [
    "$$\n",
    "T''(x) =2c_2 + 3(2) c_3(x - a) + 4(3)c_4 (x -a)^2 + \\dots n (n-1)c_n (x - a)^{n - 2}\n",
    "$$"
   ]
  },
  {
   "cell_type": "markdown",
   "id": "283dc0c8",
   "metadata": {},
   "source": [
    "Once again, if we solve for $T''(a)$, every term except for the first cancel to yield zero, so we get:"
   ]
  },
  {
   "cell_type": "markdown",
   "id": "1157b7ab",
   "metadata": {},
   "source": [
    "$$\n",
    "T''(a) = 2c_2\n",
    "$$"
   ]
  },
  {
   "cell_type": "markdown",
   "id": "e4c8fbe6",
   "metadata": {},
   "source": [
    "But we said that $f''(a) = T''(a)$, so:"
   ]
  },
  {
   "cell_type": "markdown",
   "id": "f126c33b",
   "metadata": {},
   "source": [
    "$$\n",
    "c_2 = \\frac{1}{2} f''(a)\n",
    "$$"
   ]
  },
  {
   "cell_type": "markdown",
   "id": "2ec9e5a6",
   "metadata": {},
   "source": [
    "So $T(x)$ is now:"
   ]
  },
  {
   "cell_type": "markdown",
   "id": "52b1a37c",
   "metadata": {},
   "source": [
    "$$\n",
    "T(x) = f(a) + f'(a) (x - a) + \\frac{1}{2} f''(a) (x-a)^2 + c_3 (x - a)^3 + c_4 (x - a)^4 + \\dots c_n (x - a)^n\n",
    "$$"
   ]
  },
  {
   "cell_type": "markdown",
   "id": "65bdadff",
   "metadata": {},
   "source": [
    "You might be noticing a pattern here! In fact, if we take the general expression of $T(x)$:"
   ]
  },
  {
   "cell_type": "markdown",
   "id": "0ca4d05e",
   "metadata": {},
   "source": [
    "$$\n",
    "T(x) = \\sum_{n = 0}^\\infty c_n (x - a)^n\n",
    "$$"
   ]
  },
  {
   "cell_type": "markdown",
   "id": "ba4ee336",
   "metadata": {},
   "source": [
    "Then the nth-term of $T(x)$ would be:"
   ]
  },
  {
   "cell_type": "markdown",
   "id": "9c9f9e93",
   "metadata": {},
   "source": [
    "$$\n",
    "c_n (x - a)^n\n",
    "$$"
   ]
  },
  {
   "cell_type": "markdown",
   "id": "a514aed6",
   "metadata": {},
   "source": [
    "If we take the derivative of the nth term, using the power rule, we get:"
   ]
  },
  {
   "cell_type": "markdown",
   "id": "3a16b1cf",
   "metadata": {},
   "source": [
    "$$\n",
    "c_n (n)(n-1)(n-2)\\dots(3)(2)(1) (x-a)^{n -n}\n",
    "$$"
   ]
  },
  {
   "cell_type": "markdown",
   "id": "5cf39fa0",
   "metadata": {},
   "source": [
    "Here we can write $n(n - 1)(n-2)(n-3) \\dots (3)(2)(1)$ as $n!$ (we call that \"n-factorial\"). For example, $3! = 3 \\times 2 \\times 1 = 6$. We can also rewrite $n-n = 0$, and anything raised to the power of zero is just one, so we get this expression for the nth-derivative of $T$:"
   ]
  },
  {
   "cell_type": "markdown",
   "id": "e5cf0eff",
   "metadata": {},
   "source": [
    "$$\n",
    "c_n n!\n",
    "$$"
   ]
  },
  {
   "cell_type": "markdown",
   "id": "9de647d0",
   "metadata": {},
   "source": [
    "And if we demand that the nth-derivative of $f(x)$ is equal to the nth-derivative of $T(x)$ at $x = a$, then:"
   ]
  },
  {
   "cell_type": "markdown",
   "id": "07dfc478",
   "metadata": {},
   "source": [
    "$$\n",
    "f^{(n)}(a) = c_n n!\n",
    "$$"
   ]
  },
  {
   "cell_type": "markdown",
   "id": "7ea87f7c",
   "metadata": {},
   "source": [
    "If we solve for $c_n$, we get:"
   ]
  },
  {
   "cell_type": "markdown",
   "id": "23732a08",
   "metadata": {},
   "source": [
    "$$\n",
    "c_n = \\frac{f^{(n)} (a)}{n!}\n",
    "$$"
   ]
  },
  {
   "cell_type": "markdown",
   "id": "29b70b8a",
   "metadata": {},
   "source": [
    "Then if we plug this back in to the infinite sum representation of $T(x)$, replacing $c_n$ with what we derived:"
   ]
  },
  {
   "cell_type": "markdown",
   "id": "00867aaa",
   "metadata": {},
   "source": [
    "$$\n",
    "T(x) = \\sum_{n = 0}^\\infty \\frac{f^{(n)} (a)}{n!}(x - a)^n\n",
    "$$"
   ]
  },
  {
   "cell_type": "markdown",
   "id": "ac889c4c",
   "metadata": {},
   "source": [
    "This is the formula for the **Taylor series** of a function. For practical purposes, we usually don't let the sum range from 0 to infinity, and instead cap the sum at some number, which we call the **order** of the resulting polynomial. For example, the 7th-order Taylor polynomial is a Taylor series capped at 7 terms."
   ]
  },
  {
   "cell_type": "markdown",
   "id": "36ab2886",
   "metadata": {},
   "source": [
    "We can use the Taylor series to compute the values of transcendental functions (the exponential function, logarithmic function, and trigonometric functions), given known values of a function. For example, using a 7th-order Taylor approximation at $a = 0$ and range reduction techniques to rescale any value of the sine function to between $-\\frac{\\pi}{4}$ and $\\frac{\\pi}{4}$, you can calculate the value of the sine function to within an error of $\\pm 3.6 \\times 10^{-6}$ of the correct value. "
   ]
  },
  {
   "cell_type": "markdown",
   "id": "ed0ad6c0",
   "metadata": {},
   "source": [
    "The Taylor series is also a method of calculating the precise value of $e$, Euler's number, to use in calculations of the exponential function. To do so, we first need to recognize that $e^0 = 1$, as with any other number raised to the power of zero. We also know that because $\\frac{d}{dx} e^x = e^x$, the nth-derivative of $e^x$ will always be $e^x$, and thus the nth-derivative $f^{(n)} (0)$ is always going to be $e^0 = 1$. Plugging that into our Taylor series, and setting $a = 0$ (as our point of reference is $x = 0$), we have:"
   ]
  },
  {
   "cell_type": "markdown",
   "id": "6c32fbdf",
   "metadata": {},
   "source": [
    "$$\n",
    "e^x = T(x) = \\sum_{n = 0}^\\infty \\frac{1}{n!} (x -0)^n\n",
    "$$"
   ]
  },
  {
   "cell_type": "markdown",
   "id": "01ae4446",
   "metadata": {},
   "source": [
    "Which becomes:"
   ]
  },
  {
   "cell_type": "markdown",
   "id": "da1e2799",
   "metadata": {},
   "source": [
    "$$\n",
    "T(x) = \\sum_{n = 0}^\\infty \\frac{x^n}{n!}\n",
    "$$"
   ]
  },
  {
   "cell_type": "markdown",
   "id": "794652b6",
   "metadata": {},
   "source": [
    "Now, given also that we know that $e^1 = e$, then $T(1) = e$, so:"
   ]
  },
  {
   "cell_type": "markdown",
   "id": "9f73befe",
   "metadata": {},
   "source": [
    "$$\n",
    "e = T(1) = \\sum_{n = 0}^\\infty \\frac{1^n}{n!}\n",
    "$$"
   ]
  },
  {
   "cell_type": "markdown",
   "id": "b98c0cac",
   "metadata": {},
   "source": [
    "And since $1^n = 1$, we have:"
   ]
  },
  {
   "cell_type": "markdown",
   "id": "cc9fa526",
   "metadata": {},
   "source": [
    "$$\n",
    "e = \\sum_{n = 0}^\\infty \\frac{1}{n!} = 1 + 1 + \\frac{1}{2} + \\frac{1}{6} + \\frac{1}{24} + \\dots\n",
    "$$"
   ]
  },
  {
   "cell_type": "markdown",
   "id": "c437c2cb",
   "metadata": {},
   "source": [
    "Which results in:"
   ]
  },
  {
   "cell_type": "markdown",
   "id": "70a265e6",
   "metadata": {},
   "source": [
    "$$\n",
    "e \\approx 2.718\n",
    "$$"
   ]
  },
  {
   "cell_type": "markdown",
   "id": "7dd01dc2",
   "metadata": {},
   "source": [
    "You can also find $\\pi$ using Taylor series in a similar manner (just with a Taylor approximation of the arctangent or arcsine function instead)."
   ]
  },
  {
   "cell_type": "markdown",
   "id": "9014ad8c",
   "metadata": {},
   "source": [
    "Taylor series are also good for approximating complex functions. For example, the Taylor series for $\\sin(x)$ starts with:"
   ]
  },
  {
   "cell_type": "markdown",
   "id": "85a41d34",
   "metadata": {},
   "source": [
    "$$\n",
    "\\sin (x) \\approx x - \\frac{1}{3!} x^3 + \\frac{1}{5!} x^5 - \\frac{1}{7!} x^7 + \\dots\n",
    "$$"
   ]
  },
  {
   "cell_type": "markdown",
   "id": "b16a5ff5",
   "metadata": {},
   "source": [
    "Which means the first-order Taylor polynomial for $\\sin(x)$ is just:"
   ]
  },
  {
   "cell_type": "markdown",
   "id": "e25d731c",
   "metadata": {},
   "source": [
    "$$\n",
    "\\sin(x) \\approx x\n",
    "$$"
   ]
  },
  {
   "cell_type": "markdown",
   "id": "bcf211f7",
   "metadata": {},
   "source": [
    "This is called the **small-angle approximation** to the sine function, and it is very powerful - as we'll see later, it allows many complicated differential equations to be simplified and made solvable."
   ]
  }
 ],
 "metadata": {
  "kernelspec": {
   "display_name": "Python 3 (ipykernel)",
   "language": "python",
   "name": "python3"
  },
  "language_info": {
   "codemirror_mode": {
    "name": "ipython",
    "version": 3
   },
   "file_extension": ".py",
   "mimetype": "text/x-python",
   "name": "python",
   "nbconvert_exporter": "python",
   "pygments_lexer": "ipython3",
   "version": "3.11.4"
  }
 },
 "nbformat": 4,
 "nbformat_minor": 5
}
