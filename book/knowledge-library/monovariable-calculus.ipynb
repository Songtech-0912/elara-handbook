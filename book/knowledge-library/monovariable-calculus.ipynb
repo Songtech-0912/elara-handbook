{
 "cells": [
  {
   "cell_type": "markdown",
   "id": "2d682144",
   "metadata": {},
   "source": [
    "# Monovariable Calculus"
   ]
  },
  {
   "cell_type": "markdown",
   "id": "5ce4b474",
   "metadata": {},
   "source": [
    "> Calculus is the most powerful weapon of thought yet devised by the wit of man.\n",
    ">\n",
    "> **Wallace B. Smith**\n",
    "\n",
    "Calculus is the study of continuous change: a simple set of concepts that can be applied to the most complex of systems. Nearly all of modern-day science is built on calculus, especially physics; it is quite the tool to have in your engineer's toolbox!\n",
    "\n",
    "Over its nearly 400-year history, calculus has evolved into perhaps the most versatile and broad field of mathematics. There is multivariable calculus, vector calculus, stochastic calculus, the calculus of variations, tensor calculus, lambda calculus...we could go on and on...\n",
    "\n",
    "However, a lifelong journey through calculus begins with monovariable calculus (or just \"calculus\"). In monovariable calculus, we're concerned with developing the fundamental ideas of calculus. These ideas will carry over to all the more advanced forms of calculus. Through them, you're realize how calculus has such versatility and power."
   ]
  },
  {
   "cell_type": "markdown",
   "id": "ae2b0ac6",
   "metadata": {},
   "source": [
    "## Derivatives"
   ]
  },
  {
   "cell_type": "markdown",
   "id": "5996e5ea",
   "metadata": {},
   "source": [
    "The equation for the slope of a line is defined as:"
   ]
  },
  {
   "cell_type": "markdown",
   "id": "6db80b60",
   "metadata": {},
   "source": [
    "$$\n",
    "m = \\frac{\\Delta f(x)}{\\Delta x} = \\frac{y_2 - y_1}{x_2 - x_1}\n",
    "$$"
   ]
  },
  {
   "cell_type": "markdown",
   "id": "6351b8aa",
   "metadata": {},
   "source": [
    "However, the slope equation only works for straight lines. How, then, could we find the slope of a curve?\n",
    "\n",
    "Well, we can first take advantage of the fact that if you zoom _really_ close in to a curve, it looks like a straight line:"
   ]
  },
  {
   "cell_type": "markdown",
   "id": "bac914ee",
   "metadata": {},
   "source": [
    "![Calculus curve zoom](../images/Calculus-curve-zoom.jpg)"
   ]
  },
  {
   "cell_type": "markdown",
   "id": "bf9b338f",
   "metadata": {},
   "source": [
    "_Notice how, as we zoom into the curve, the curve looks more and more like a straight line, and the curvature becomes less and less noticeable._"
   ]
  },
  {
   "cell_type": "markdown",
   "id": "0f953184",
   "metadata": {},
   "source": [
    "The **derivative** is a function that tells you the slope of another function at _any_ point. You can think of it as an \"upgraded\" version of the slope formula. We find the derivative by taking two points, $(x, f(x))$ and $((x + a), f(x+a))$, and calculating the slope from them:"
   ]
  },
  {
   "cell_type": "markdown",
   "id": "0d6b1096",
   "metadata": {},
   "source": [
    "![Derivative illustration](../images/Derivative-illustration.png)"
   ]
  },
  {
   "cell_type": "markdown",
   "id": "fed4f715",
   "metadata": {},
   "source": [
    "As we shrink $a$ and make it smaller and smaller, $a$ will approach zero, and the slope becomes:"
   ]
  },
  {
   "cell_type": "markdown",
   "id": "2176368f",
   "metadata": {},
   "source": [
    "$$\n",
    "m = \\frac{y_2 - y_1}{x_2 - x_1} = \\frac{f(x+a) -f(x)}{(x+a) -x} = \\frac{f(x+a) -f(x)}{a}\n",
    "$$"
   ]
  },
  {
   "cell_type": "markdown",
   "id": "8dfed96d",
   "metadata": {},
   "source": [
    "So, for a function $f$, the derivative $\\frac{df}{dx}$ is defined as:"
   ]
  },
  {
   "cell_type": "markdown",
   "id": "00519043",
   "metadata": {},
   "source": [
    "$$\n",
    "\\frac{df}{dx} = \\lim_{a \\rightarrow 0} \\frac{f(x+a) -f(x)}{a}\n",
    "$$"
   ]
  },
  {
   "cell_type": "markdown",
   "id": "99fa576c",
   "metadata": {},
   "source": [
    "### (Opinionated) derivative notation\n",
    "\n",
    "Calculus was invented at roughly the same time by two brilliant mathematicians - Gottlieb Leibniz and Isaac Newton. Unfortunately, each of them published their work at the same time with differing notations. Leibniz wrote the derivative with the notation $\\frac{df}{dx}$; Newton used the notation $\\dot f$. Lagrange and Euler, not long after, came up with the notation $f'(x)$. In any case, Leibniz and Newton...got into a fight, which became a political controversy, and other mathematicians decided to develop *other* notations as well. So, sadly, there is not a unified notation around calculus."
   ]
  },
  {
   "cell_type": "markdown",
   "id": "b2e090d1",
   "metadata": {},
   "source": [
    "The most common form of notation is Leibniz's notation, where the derivative of $f(x)$ is written like this:"
   ]
  },
  {
   "cell_type": "markdown",
   "id": "119b2b2d",
   "metadata": {},
   "source": [
    "$$\n",
    "\\frac{df}{dx}\n",
    "$$"
   ]
  },
  {
   "cell_type": "markdown",
   "id": "ba781ab6",
   "metadata": {},
   "source": [
    "The _nth_-derivative is written as:"
   ]
  },
  {
   "cell_type": "markdown",
   "id": "4c55cff1",
   "metadata": {},
   "source": [
    "$$\n",
    "\\frac{d^n f}{dx^n}\n",
    "$$"
   ]
  },
  {
   "cell_type": "markdown",
   "id": "5ab34a7f",
   "metadata": {},
   "source": [
    "```{important}\n",
    "**Note:** Even though this looks like a fraction, and can be manipulated similar to fractions, the derivative in Leibniz's notation is **absolutely not** the same as a fraction!\n",
    "```"
   ]
  },
  {
   "cell_type": "markdown",
   "id": "7229213d",
   "metadata": {},
   "source": [
    "The second most common notation is Langrange's notation, where the derivative of $f(x)$ is written like this:"
   ]
  },
  {
   "cell_type": "markdown",
   "id": "cc44cd0d",
   "metadata": {},
   "source": [
    "$$\n",
    "f'(x)\n",
    "$$"
   ]
  },
  {
   "cell_type": "markdown",
   "id": "0151a639",
   "metadata": {},
   "source": [
    "Here, the _nth_-derivative is written as:"
   ]
  },
  {
   "cell_type": "markdown",
   "id": "36327c14",
   "metadata": {},
   "source": [
    "$$\n",
    "f^n (x)\n",
    "$$"
   ]
  },
  {
   "cell_type": "markdown",
   "id": "2dfdf560",
   "metadata": {},
   "source": [
    "In Project Elära, derivatives of a single-variable function use a strict subset of Leibniz notation to minimize confusion. The derivative of a function $f(x)$ in Project Elära **must** be written as:"
   ]
  },
  {
   "cell_type": "markdown",
   "id": "becd6e71",
   "metadata": {},
   "source": [
    "$$\n",
    "\\frac{df}{dx}\n",
    "$$"
   ]
  },
  {
   "cell_type": "markdown",
   "id": "aa8a9736",
   "metadata": {},
   "source": [
    "If we have a function $v(t)$, the derivative with respect to $t$ would be written as:"
   ]
  },
  {
   "cell_type": "markdown",
   "id": "4583a7f0",
   "metadata": {},
   "source": [
    "$$\n",
    "\\frac{dv}{dt}\n",
    "$$"
   ]
  },
  {
   "cell_type": "markdown",
   "id": "8153b068",
   "metadata": {},
   "source": [
    "A higher order derivative (e.g. second derivative) is written like this:"
   ]
  },
  {
   "cell_type": "markdown",
   "id": "72eab76a",
   "metadata": {},
   "source": [
    "$$\n",
    "\\frac{d^2 f}{dx^2}\n",
    "$$"
   ]
  },
  {
   "cell_type": "markdown",
   "id": "5ae4c4b6",
   "metadata": {},
   "source": [
    "The derivative evaluated at a certain point $x = a$ is written as:"
   ]
  },
  {
   "cell_type": "markdown",
   "id": "839b5a6c",
   "metadata": {},
   "source": [
    "$$\n",
    "\\left.\\frac{df}{dx} \\right |_{x = a}\n",
    "$$"
   ]
  },
  {
   "cell_type": "markdown",
   "id": "fb4ca2ae",
   "metadata": {},
   "source": [
    "Avoid using **any** of the below notations if possible:"
   ]
  },
  {
   "cell_type": "markdown",
   "id": "e1017c45",
   "metadata": {},
   "source": [
    "$$\n",
    "\\frac{d}{dx} f(x), (Df)(x), d'(f, x), f'(x), \\dot f, \\ddot f \\dots\n",
    "$$"
   ]
  },
  {
   "cell_type": "markdown",
   "id": "48f189db",
   "metadata": {},
   "source": [
    "### Differentiation"
   ]
  },
  {
   "cell_type": "markdown",
   "id": "c4452d13",
   "metadata": {},
   "source": [
    "The derivative is a very powerful function, but finding the derivative of a function unfortunately requires a bit of time and patience. This is because there is no universal formula for finding the derivative of a certain function - instead, we have general *rules* for finding the derivatives of a certain type of function, which we use in the process of **differentiation**.\n"
   ]
  },
  {
   "cell_type": "markdown",
   "id": "fd963d26",
   "metadata": {},
   "source": [
    "Let's start with the easiest derivative - the derivative of any constant function is zero. Why? Because the slope of any constant function is always zero, and remember, the derivative is a function that tells you the slope at every point. So if the slope at every point is zero, the derivative will always be zero.\n",
    "\n",
    "We call this the **constant rule**, and we write it out like this:"
   ]
  },
  {
   "cell_type": "markdown",
   "id": "17899eda",
   "metadata": {},
   "source": [
    "$$\n",
    "\\frac{dC}{dx} = 0 \n",
    "$$"
   ]
  },
  {
   "cell_type": "markdown",
   "id": "e3057e32",
   "metadata": {},
   "source": [
    "Where $n$ can be any constant. For instance, the derivative of 2 with respect to $x$ (the same as finding the rate of change of $f(x) = 2$) would be:"
   ]
  },
  {
   "cell_type": "markdown",
   "id": "f387e506",
   "metadata": {},
   "source": [
    "$$\n",
    "\\frac{d(2)}{dx} = 0\n",
    "$$"
   ]
  },
  {
   "cell_type": "markdown",
   "id": "fac7de58",
   "metadata": {},
   "source": [
    "This also means that if you have a function $f(x) = c$, where $c$ is a constant, then:"
   ]
  },
  {
   "cell_type": "markdown",
   "id": "e2ac79bc",
   "metadata": {},
   "source": [
    "$$\n",
    "\\frac{df}{dx} = c\n",
    "$$\n"
   ]
  },
  {
   "cell_type": "markdown",
   "id": "30fe1bd2",
   "metadata": {},
   "source": [
    "That should be simple enough, right?\n",
    "\n",
    "Now, let's do the second-easiest derivative. The derivative of the exponential function $f(x) = e^x$ is itself. We call this the **exponential rule**, and we write it out like this:"
   ]
  },
  {
   "cell_type": "markdown",
   "id": "423f64d7",
   "metadata": {},
   "source": [
    "$$\n",
    "\\frac{d(e^x)}{dx} = e^x\n",
    "$$"
   ]
  },
  {
   "cell_type": "markdown",
   "id": "015e5ace",
   "metadata": {},
   "source": [
    "The exponential rule can also be more generally written as this:"
   ]
  },
  {
   "cell_type": "markdown",
   "id": "41c7392a",
   "metadata": {},
   "source": [
    "$$\n",
    "\\frac{d(a^x)}{dx} = \\ln(a) a^x\n",
    "$$"
   ]
  },
  {
   "cell_type": "markdown",
   "id": "32c591aa",
   "metadata": {},
   "source": [
    "For trigonometric functions, the derivatives unfortunately have to be memorized, but you just have to memorize two of them to find the derivatives of all trigonometric functions:"
   ]
  },
  {
   "cell_type": "markdown",
   "id": "daa8e8b6",
   "metadata": {},
   "source": [
    "$$\n",
    "\\frac{d(\\sin x)}{dx} = \\cos x\n",
    "$$\n",
    "\n",
    "$$\n",
    "\\frac{d(\\cos x)}{dx} = -\\sin x\n",
    "$$"
   ]
  },
  {
   "cell_type": "markdown",
   "id": "e58c885c",
   "metadata": {},
   "source": [
    "And for polynomial functions, we can use the **power rule**:"
   ]
  },
  {
   "cell_type": "markdown",
   "id": "733275ad",
   "metadata": {},
   "source": [
    "$$\n",
    "\\frac{d(x^n)}{dx} = nx^{n - 1}\n",
    "$$"
   ]
  },
  {
   "cell_type": "markdown",
   "id": "6e2144c3",
   "metadata": {},
   "source": [
    "The power rule applies to linear functions in the form $y = mx +c$:"
   ]
  },
  {
   "cell_type": "markdown",
   "id": "057fa4f5",
   "metadata": {},
   "source": [
    "$$\n",
    "\\frac{df}{dx} = \\frac{d(mx + c)}{dx} = \\frac{d(mx)}{dx} = 1 m \\left(x^{1-0}\\right) = m\n",
    "$$"
   ]
  },
  {
   "cell_type": "markdown",
   "id": "ed06d507",
   "metadata": {},
   "source": [
    "As well as for rational functions in the form $f(x) = \\frac{1}{x^n}$:"
   ]
  },
  {
   "cell_type": "markdown",
   "id": "2988b973",
   "metadata": {},
   "source": [
    "$$\n",
    "\\frac{d\\left(\\frac{1}{x^n}\\right)}{dx} = \\frac{d(x^{-n})}{dx} = -nx^{-n -1} = -\\frac{n}{x^{n + 1}}\n",
    "$$"
   ]
  },
  {
   "cell_type": "markdown",
   "id": "a05b6fb7",
   "metadata": {},
   "source": [
    "And nth root functions (e.g. square root, cube root, etc.) in the form $f(x) = \\sqrt[n]{x}$:"
   ]
  },
  {
   "cell_type": "markdown",
   "id": "9b68a5ad",
   "metadata": {},
   "source": [
    "$$\n",
    "\\frac{d\\left(\\sqrt[n]{x}\\right)}{dx} = \\frac{d\\left(x^\\frac{1}{n}\\right)}{dx} = \\frac{1}{n} x^{\\frac{1 - n}{n}}\n",
    "$$"
   ]
  },
  {
   "cell_type": "markdown",
   "id": "037d10e5",
   "metadata": {},
   "source": [
    "Combining the power rule and exponential rule gives us the derivatives of logarithms:"
   ]
  },
  {
   "cell_type": "markdown",
   "id": "a48bcaf8",
   "metadata": {},
   "source": [
    "$$\n",
    "d'(\\ln x) = \\frac{1}{x}\n",
    "$$\n",
    "\n",
    "$$\n",
    "d'(\\log_a x) = \\frac{1}{x \\ln a}\n",
    "$$"
   ]
  },
  {
   "cell_type": "markdown",
   "id": "bd0baf01",
   "metadata": {},
   "source": [
    "However, most functions are made from a _combination_ of these functions. For instance, the function $f(x) = 2x^2 + 3x + 5$ is a combination of a constant function, linear function, and power function. To find the derivatives of combinations of functions, we have a few more rules to help us.\n",
    "\n",
    "First, we have the **sum rule**:"
   ]
  },
  {
   "cell_type": "markdown",
   "id": "2942152e",
   "metadata": {},
   "source": [
    "$$\n",
    "\\frac{d(f(x) + g(x))}{x} = \\frac{df}{dx} + \\frac{dg}{dx}\n",
    "$$"
   ]
  },
  {
   "cell_type": "markdown",
   "id": "94a5603d",
   "metadata": {},
   "source": [
    "Then, the **constant coefficient rule:**"
   ]
  },
  {
   "cell_type": "markdown",
   "id": "c835cc8c",
   "metadata": {},
   "source": [
    "$$\n",
    "\\frac{d(c \\cdot f(x))}{dx} = c \\cdot \\frac{df}{dx}\n",
    "$$"
   ]
  },
  {
   "cell_type": "markdown",
   "id": "d52ae728",
   "metadata": {},
   "source": [
    "Then, the **product rule**:"
   ]
  },
  {
   "cell_type": "markdown",
   "id": "0bb4020f",
   "metadata": {},
   "source": [
    "$$\n",
    "\\frac{d(f(x)g(x)}{dx} = \\frac{df}{dx} g(x) + \\frac{dg}{dx} f(x)\n",
    "$$"
   ]
  },
  {
   "cell_type": "markdown",
   "id": "21b7242f",
   "metadata": {},
   "source": [
    "From the product rule, we can derive the **quotient rule**:"
   ]
  },
  {
   "cell_type": "markdown",
   "id": "a0dd60ff",
   "metadata": {},
   "source": [
    "$$\n",
    "\\delta (x) = \\frac{df}{dx} g(x) - \\frac{dg}{dx} f(x)\n",
    "$$\n",
    "\n",
    "$$\n",
    "\\frac{d\\left(\\frac{f(x)}{g(x)}\\right)}{dx} = \\frac{\\delta (x)}{(g(x))^2}\n",
    "$$"
   ]
  },
  {
   "cell_type": "markdown",
   "id": "af73e94b",
   "metadata": {},
   "source": [
    "And, most importantly, we have the **chain rule**. The chain rule is used for _composite functions_ - functions that have been nested into each other. For instance, $h(x) = \\sin x^2$ is made by nesting the function $g(x) = x^2$ _inside_ of the function $f(x) = \\sin x$. So, we can say that $h(x) = f(g(x))$. This is a **composition of functions**.\n",
    "\n",
    "With that in mind, the **chain rule** is written like this:"
   ]
  },
  {
   "cell_type": "markdown",
   "id": "023f9a7e",
   "metadata": {},
   "source": [
    "$$\n",
    "\\sigma (x) = \\frac{df}{dx}\n",
    "$$\n",
    "\n",
    "$$\n",
    "\\frac{df(g(x))}{dx} = \\sigma(g(x)) \\frac{dg}{dx}\n",
    "$$"
   ]
  },
  {
   "cell_type": "markdown",
   "id": "1ee84c0f",
   "metadata": {},
   "source": [
    "This means we nest $g(x)$ in the derivative of $f(x)$ and multiply that by the derivative of $g(x)$. The other rules here are mostly self-explanatory, but I'll go through a worked example with the chain rule: let's try to find the derivative of $h(x) = \\cos x^2$."
   ]
  },
  {
   "cell_type": "markdown",
   "id": "4ecaf2ac",
   "metadata": {},
   "source": [
    "#### Practicing the chain rule"
   ]
  },
  {
   "cell_type": "markdown",
   "id": "7f4e5149",
   "metadata": {},
   "source": [
    "We use the chain rule for _composite_ functions, like our example, $h(x) = \\cos x^2$. We know that we can rewrite $h(x)$ as a composite function $f(g(x))$, where:"
   ]
  },
  {
   "cell_type": "markdown",
   "id": "e7908f07",
   "metadata": {},
   "source": [
    "$$\n",
    "\\begin{cases}\n",
    "f(x) = \\cos x \\\\\n",
    "g(x) = x^2\n",
    "\\end{cases}\n",
    "$$"
   ]
  },
  {
   "cell_type": "markdown",
   "id": "44a121a6",
   "metadata": {},
   "source": [
    "We can now use the two-step chain rule. In the first step, we find the derivative of $f(x)$ and we call this $F(x)$:"
   ]
  },
  {
   "cell_type": "markdown",
   "id": "2a226447",
   "metadata": {},
   "source": [
    "$$\n",
    "\\sigma(x) = \\frac{df}{dx} = \\frac{d(\\cos x)}{dx}\n",
    "$$\n",
    "\n",
    "$$\n",
    "\\sigma(x) = -\\sin x\n",
    "$$"
   ]
  },
  {
   "cell_type": "markdown",
   "id": "4e85bb65",
   "metadata": {},
   "source": [
    "In the second step, we nest $g(x)$ in $F(x)$ and multiply that by the derivative of $g(x)$:"
   ]
  },
  {
   "cell_type": "markdown",
   "id": "624ef862",
   "metadata": {},
   "source": [
    "$$\n",
    "\\frac{dh}{dx} = \\sigma(g(x)) \\frac{dg}{dx}\n",
    "$$\n",
    "\n",
    "$$\n",
    "\\frac{dh}{dx} = -\\sin(x^2) \\cdot \\frac{dg}{dx}\n",
    "$$\n",
    "\n",
    "$$\n",
    "\\frac{dh}{dx} = -\\sin x^2 + 2x\n",
    "$$"
   ]
  },
  {
   "cell_type": "markdown",
   "id": "d6bf8933",
   "metadata": {},
   "source": [
    "That's our answer!"
   ]
  },
  {
   "cell_type": "markdown",
   "id": "0546a5da",
   "metadata": {},
   "source": [
    "### Reciprocal derivatives"
   ]
  },
  {
   "cell_type": "markdown",
   "id": "72d4c3f4",
   "metadata": {},
   "source": [
    "In monovariable calculus _only_, derivatives follow the **reciprocal rule**:"
   ]
  },
  {
   "cell_type": "markdown",
   "id": "86048720",
   "metadata": {},
   "source": [
    "$$\n",
    "\\frac{df}{dx} = \\frac{1}{\\frac{dx}{df}}\n",
    "$$\n",
    "\n",
    "$$\n",
    "\\frac{dx}{df} = \\frac{1}{\\frac{df}{dx}}\n",
    "$$"
   ]
  },
  {
   "cell_type": "markdown",
   "id": "a30d0977",
   "metadata": {},
   "source": [
    "### Tangent to a curve\n",
    "\n",
    "The tangent to the function $f(x)$ is given by the function $t(n)$, where:"
   ]
  },
  {
   "cell_type": "markdown",
   "id": "f5e34f8b",
   "metadata": {},
   "source": [
    "$$\n",
    "F(x) = \\frac{df}{dx}\n",
    "$$\n",
    "\n",
    "$$\n",
    "t(n) = F\\left(n\\right)\\left(x-n\\right)+f\\left(n\\right)\n",
    "$$"
   ]
  },
  {
   "cell_type": "markdown",
   "id": "f3fc0777",
   "metadata": {},
   "source": [
    "### Higher-order derivatives"
   ]
  },
  {
   "cell_type": "markdown",
   "id": "c43aa767",
   "metadata": {},
   "source": [
    "Taking a derivative _nth_ times gives you the _nth_ derivative of a function. For example, taking the derivative of the derivative is the second derivative, the derivative of the second derivative is the third derivative, and so on. Going in the other direction, the 0th derivative is not taking the derivative at all - the same as the original function.\n",
    "\n",
    "The second derivative is the most common higher-order derivative, and it is given by:"
   ]
  },
  {
   "cell_type": "markdown",
   "id": "c55f6b77",
   "metadata": {},
   "source": [
    "$$\n",
    "\\frac{d^2 f}{dx^2} = \\frac{d\\left(\\frac{df}{dx}\\right)}{dx}\n",
    "$$"
   ]
  },
  {
   "cell_type": "markdown",
   "id": "fdd96652",
   "metadata": {},
   "source": [
    "The _order_ of the derivative is the number of times you take the derivative: for instance, the 7th derivative involves taking the derivative of a function 7 times! (don't do that, please...)"
   ]
  },
  {
   "cell_type": "markdown",
   "id": "363ce070",
   "metadata": {},
   "source": [
    "### Finding maxima and minima"
   ]
  },
  {
   "cell_type": "markdown",
   "id": "3a5d4c36",
   "metadata": {},
   "source": [
    "We can find the critical points (maxima and minima) of a function $f(x)$ by finding its derivative and setting it to zero:"
   ]
  },
  {
   "cell_type": "markdown",
   "id": "23cab0b5",
   "metadata": {},
   "source": [
    "$$\n",
    "\\frac{df}{dx} = 0\n",
    "$$"
   ]
  },
  {
   "cell_type": "markdown",
   "id": "b4d00061",
   "metadata": {},
   "source": [
    "For instance, for the function $f(x) = 2x^2 + 1$:"
   ]
  },
  {
   "cell_type": "markdown",
   "id": "2b6e9a18",
   "metadata": {},
   "source": [
    "$$\n",
    "\\frac{df}{dx} = 4x\n",
    "$$\n",
    "\n",
    "$$\n",
    "4x = 0\n",
    "$$\n",
    "\n",
    "$$\n",
    "x = 0\n",
    "$$"
   ]
  },
  {
   "cell_type": "markdown",
   "id": "0402fb20",
   "metadata": {},
   "source": [
    "Then, plugging in that x value into the original f(x), we can find the y value of the maximum/minimum point:"
   ]
  },
  {
   "cell_type": "markdown",
   "id": "8c2932ed",
   "metadata": {},
   "source": [
    "$$\n",
    "f(0) = 2(0^2) + 1 = 1\n",
    "$$"
   ]
  },
  {
   "cell_type": "markdown",
   "id": "29f114a8",
   "metadata": {},
   "source": [
    "So the minimum of $f(x)$ is the point $(0, 1)$. How do we know if it's a maximum or minimum though? To find out, we use the **second derivative**, which measures how the slope changes. If a point is a maximum, the slope will change from positive to negative around that point; if a point is a minimum, vice-versa. So:"
   ]
  },
  {
   "cell_type": "markdown",
   "id": "4a8a7947",
   "metadata": {},
   "source": [
    "$$\n",
    "\\begin{cases}\n",
    "\\text{if} \\quad \\frac{d^2 f}{dx^2} < 0 \\quad x = \\text{max.} \\\\\n",
    "\\text{if} \\quad \\frac{d^2 f}{dx^2} > 0 \\quad x = \\text{min.}\n",
    "\\end{cases}\n",
    "$$"
   ]
  },
  {
   "cell_type": "markdown",
   "id": "c0e28d11",
   "metadata": {},
   "source": [
    "The second derivative of $f(x)$ is the derivative of its derivative, which we can find like this:"
   ]
  },
  {
   "cell_type": "markdown",
   "id": "42b2c4c0",
   "metadata": {},
   "source": [
    "$$\n",
    "\\frac{d^2 f}{dx^2} = \\frac{d(4x)}{dx} = 4\n",
    "$$"
   ]
  },
  {
   "cell_type": "markdown",
   "id": "6ca8c52c",
   "metadata": {},
   "source": [
    "Since $\\frac{d^2 f}{dx^2} > 0$, we know that the point $(0, 1)$ has to be a **minimum**."
   ]
  }
 ],
 "metadata": {
  "kernelspec": {
   "display_name": "Python 3 (ipykernel)",
   "language": "python",
   "name": "python3"
  },
  "language_info": {
   "codemirror_mode": {
    "name": "ipython",
    "version": 3
   },
   "file_extension": ".py",
   "mimetype": "text/x-python",
   "name": "python",
   "nbconvert_exporter": "python",
   "pygments_lexer": "ipython3",
   "version": "3.10.5"
  }
 },
 "nbformat": 4,
 "nbformat_minor": 5
}
