{
 "cells": [
  {
   "cell_type": "markdown",
   "id": "2d682144",
   "metadata": {},
   "source": [
    "# Monovariable Calculus"
   ]
  },
  {
   "cell_type": "markdown",
   "id": "5ce4b474",
   "metadata": {},
   "source": [
    "> Calculus is the most powerful weapon of thought yet devised by the wit of man.\n",
    ">\n",
    "> **Wallace B. Smith**\n",
    "\n",
    "Calculus is the study of continuous change: a simple set of concepts that can be applied to the most complex of systems. Nearly all of modern-day science is built on calculus, especially physics; it is quite the tool to have in your engineer's toolbox!\n",
    "\n",
    "Over its nearly 400-year history, calculus has evolved into perhaps the most versatile and broad field of mathematics. There is multivariable calculus, vector calculus, stochastic calculus, the calculus of variations, tensor calculus, lambda calculus...we could go on and on...\n",
    "\n",
    "However, a lifelong journey through calculus begins with monovariable calculus (or just \"calculus\"). In monovariable calculus, we're concerned with developing the fundamental ideas of calculus. These ideas will carry over to all the more advanced forms of calculus. Through them, you're realize how calculus has such versatility and power."
   ]
  },
  {
   "cell_type": "markdown",
   "id": "e99ed4c8",
   "metadata": {},
   "source": [
    "## Limits"
   ]
  },
  {
   "cell_type": "markdown",
   "id": "f6dcf5f9",
   "metadata": {},
   "source": [
    "The **limit** is the value a function approaches as $x$ approaches a given value.\n",
    "\n",
    "For instance:"
   ]
  },
  {
   "cell_type": "markdown",
   "id": "60df7560",
   "metadata": {},
   "source": [
    "$$\n",
    "f(x) = \\frac{x^2 - 1}{x - 1}\n",
    "$$"
   ]
  },
  {
   "cell_type": "markdown",
   "id": "2fc1d61c",
   "metadata": {},
   "source": [
    "While the function is not defined at $x = 1$, it approaches 2 as $x$ approaches 1, thus we can say:"
   ]
  },
  {
   "cell_type": "markdown",
   "id": "cf77e1de",
   "metadata": {},
   "source": [
    "$$\n",
    "\\lim_{x \\rightarrow 1} f(x) = 2\n",
    "$$"
   ]
  },
  {
   "cell_type": "markdown",
   "id": "71c5f845",
   "metadata": {},
   "source": [
    "Sometimes, limits are the same regardless of the direction $x$ approaches $c$. At other times, the limit is different, and dependent on the direction. For instance, take:"
   ]
  },
  {
   "cell_type": "markdown",
   "id": "9c4de280",
   "metadata": {},
   "source": [
    "$$\n",
    "f(x) = \\frac{1}{x - 3}\n",
    "$$"
   ]
  },
  {
   "cell_type": "markdown",
   "id": "ffb8ef77",
   "metadata": {},
   "source": [
    "As $x$ approaches 3 from the right-hand side, $f(x)$ approaches infinity, and as $x$ approaches 3 from the left-hand side, $f(x)$ approaches **negative** infinity. Thus, we can say there are separate left-hand and right-hand limits, where:"
   ]
  },
  {
   "cell_type": "markdown",
   "id": "a7188664",
   "metadata": {},
   "source": [
    "$$\n",
    "\\lim_{x \\rightarrow 3^+} f(x) = \\infty = DNE\n",
    "$$\n",
    "\n",
    "$$\n",
    "\\lim_{x \\rightarrow 3^-} f(x) = -\\infty = DNE\n",
    "$$"
   ]
  },
  {
   "cell_type": "markdown",
   "id": "f0115ea0",
   "metadata": {},
   "source": [
    "(DNE means \"does not exist\")"
   ]
  },
  {
   "cell_type": "markdown",
   "id": "7bc76291",
   "metadata": {},
   "source": [
    "Notice that as the limit is infinite, and infinity is not a real number, we do not say that the limit of the function is infinity. Rather, we say that the limit does not exist.\n",
    "\n",
    "The limit of a function does not exist in one of three cases:\n",
    "\n",
    "- If the function’s left- and right-hand limits are not equal at that x-value\n",
    "- If the function oscillates in value around an x-value\n",
    "- If the function becomes indefinitely large around an x-value"
   ]
  },
  {
   "cell_type": "markdown",
   "id": "ae2b0ac6",
   "metadata": {},
   "source": [
    "## Derivatives"
   ]
  },
  {
   "cell_type": "markdown",
   "id": "5996e5ea",
   "metadata": {},
   "source": [
    "The equation for the slope of a line is defined as:"
   ]
  },
  {
   "cell_type": "markdown",
   "id": "6db80b60",
   "metadata": {},
   "source": [
    "$$\n",
    "m = \\frac{\\Delta f(x)}{\\Delta x} = \\frac{y_2 - y_1}{x_2 - x_1}\n",
    "$$"
   ]
  },
  {
   "cell_type": "markdown",
   "id": "6351b8aa",
   "metadata": {},
   "source": [
    "However, the slope equation only works for straight lines. How, then, could we find the slope of a curve?\n",
    "\n",
    "Well, we can first take advantage of the fact that if you zoom _really_ close in to a curve, it looks like a straight line:"
   ]
  },
  {
   "cell_type": "markdown",
   "id": "bac914ee",
   "metadata": {},
   "source": [
    "![Calculus curve zoom](../images/Calculus-curve-zoom.jpg)"
   ]
  },
  {
   "cell_type": "markdown",
   "id": "bf9b338f",
   "metadata": {},
   "source": [
    "_Notice how, as we zoom into the curve, the curve looks more and more like a straight line, and the curvature becomes less and less noticeable._"
   ]
  },
  {
   "cell_type": "markdown",
   "id": "0f953184",
   "metadata": {},
   "source": [
    "The **derivative** is a function that tells you the slope of another function at _any_ point. You can think of it as an \"upgraded\" version of the slope formula. We find the derivative by taking two points, $(x, f(x))$ and $((x + a), f(x+a))$, and calculating the slope from them:"
   ]
  },
  {
   "cell_type": "markdown",
   "id": "0d6b1096",
   "metadata": {},
   "source": [
    "![Derivative illustration](../images/Derivative-illustration.png)"
   ]
  },
  {
   "cell_type": "markdown",
   "id": "fed4f715",
   "metadata": {},
   "source": [
    "As we shrink $a$ and make it smaller and smaller, $a$ will approach zero, and the slope becomes:"
   ]
  },
  {
   "cell_type": "markdown",
   "id": "2176368f",
   "metadata": {},
   "source": [
    "$$\n",
    "m = \\frac{y_2 - y_1}{x_2 - x_1} = \\frac{f(x+a) -f(x)}{(x+a) -x} = \\frac{f(x+a) -f(x)}{a}\n",
    "$$"
   ]
  },
  {
   "cell_type": "markdown",
   "id": "8dfed96d",
   "metadata": {},
   "source": [
    "So, for a function $f$, the derivative $\\frac{df}{dx}$ is defined as the limit by taking $a$ smaller and smaller:"
   ]
  },
  {
   "cell_type": "markdown",
   "id": "00519043",
   "metadata": {},
   "source": [
    "$$\n",
    "\\frac{df}{dx} = \\lim_{a \\rightarrow 0} \\frac{f(x+a) -f(x)}{a}\n",
    "$$"
   ]
  },
  {
   "cell_type": "markdown",
   "id": "76fb4319",
   "metadata": {},
   "source": [
    "### An alternative understanding of the derivative"
   ]
  },
  {
   "cell_type": "markdown",
   "id": "ccd9545f",
   "metadata": {},
   "source": [
    "A more intuitive, but less mathematically rigorous, definition of the derivative is to look at the slope formula once again:"
   ]
  },
  {
   "cell_type": "markdown",
   "id": "ae42a278",
   "metadata": {},
   "source": [
    "$$\n",
    "m = \\frac{\\Delta y}{\\Delta x}\n",
    "$$"
   ]
  },
  {
   "cell_type": "markdown",
   "id": "03e68dd1",
   "metadata": {},
   "source": [
    "Now, let's imagine making the change $\\Delta$ smaller and smaller. The eventual result is that $\\Delta y$, a small change, becomes a tiny change $dy$, and $\\Delta x$, a small change, becomes a tiny change $dx$:"
   ]
  },
  {
   "cell_type": "markdown",
   "id": "614fb51a",
   "metadata": {},
   "source": [
    "$$\n",
    "\\lim_{\\Delta \\to 0} \\frac{\\Delta y}{\\Delta x} = \\frac{dy}{dx}\n",
    "$$"
   ]
  },
  {
   "cell_type": "markdown",
   "id": "99fa576c",
   "metadata": {},
   "source": [
    "### (Opinionated) derivative notation\n",
    "\n",
    "Calculus was invented at roughly the same time by two brilliant mathematicians - Gottlieb Leibniz and Isaac Newton. Unfortunately, each of them published their work at the same time with differing notations. Leibniz wrote the derivative with the notation $\\frac{df}{dx}$; Newton used the notation $\\dot f$. Lagrange and Euler, not long after, came up with the notation $f'(x)$. In any case, Leibniz and Newton...got into a fight, which became a political controversy, and other mathematicians decided to develop *other* notations as well. So, sadly, there is not a unified notation around calculus."
   ]
  },
  {
   "cell_type": "markdown",
   "id": "b2e090d1",
   "metadata": {},
   "source": [
    "The most common form of notation is Leibniz's notation, where the derivative of $f(x)$ is written like this:"
   ]
  },
  {
   "cell_type": "markdown",
   "id": "119b2b2d",
   "metadata": {},
   "source": [
    "$$\n",
    "\\frac{df}{dx}\n",
    "$$"
   ]
  },
  {
   "cell_type": "markdown",
   "id": "ba781ab6",
   "metadata": {},
   "source": [
    "The _nth_-derivative is written as:"
   ]
  },
  {
   "cell_type": "markdown",
   "id": "4c55cff1",
   "metadata": {},
   "source": [
    "$$\n",
    "\\frac{d^n f}{dx^n}\n",
    "$$"
   ]
  },
  {
   "cell_type": "markdown",
   "id": "5ab34a7f",
   "metadata": {},
   "source": [
    "```{important}\n",
    "**Note:** Even though this looks like a fraction, and can be manipulated similar to fractions, the derivative in Leibniz's notation is **absolutely not** the same as a fraction!\n",
    "```"
   ]
  },
  {
   "cell_type": "markdown",
   "id": "7229213d",
   "metadata": {},
   "source": [
    "The second most common notation is Langrange's notation, where the derivative of $f(x)$ is written like this:"
   ]
  },
  {
   "cell_type": "markdown",
   "id": "cc44cd0d",
   "metadata": {},
   "source": [
    "$$\n",
    "f'(x)\n",
    "$$"
   ]
  },
  {
   "cell_type": "markdown",
   "id": "0151a639",
   "metadata": {},
   "source": [
    "Here, the _nth_-derivative is written as:"
   ]
  },
  {
   "cell_type": "markdown",
   "id": "36327c14",
   "metadata": {},
   "source": [
    "$$\n",
    "f^n (x)\n",
    "$$"
   ]
  },
  {
   "cell_type": "markdown",
   "id": "2dfdf560",
   "metadata": {},
   "source": [
    "In Project Elära, derivatives of a single-variable function use a strict subset of Leibniz notation to minimize confusion. The derivative of a function $f(x)$ in Project Elära, except in special cases, **should** be written as:"
   ]
  },
  {
   "cell_type": "markdown",
   "id": "becd6e71",
   "metadata": {},
   "source": [
    "$$\n",
    "\\frac{df}{dx}\n",
    "$$"
   ]
  },
  {
   "cell_type": "markdown",
   "id": "aa8a9736",
   "metadata": {},
   "source": [
    "If we have a function $v(t)$, the derivative with respect to $t$ would be written as:"
   ]
  },
  {
   "cell_type": "markdown",
   "id": "4583a7f0",
   "metadata": {},
   "source": [
    "$$\n",
    "\\frac{dv}{dt}\n",
    "$$"
   ]
  },
  {
   "cell_type": "markdown",
   "id": "8153b068",
   "metadata": {},
   "source": [
    "A higher order derivative (e.g. second derivative) is written like this:"
   ]
  },
  {
   "cell_type": "markdown",
   "id": "72eab76a",
   "metadata": {},
   "source": [
    "$$\n",
    "\\frac{d^2 f}{dx^2}\n",
    "$$"
   ]
  },
  {
   "cell_type": "markdown",
   "id": "5ae4c4b6",
   "metadata": {},
   "source": [
    "The derivative evaluated at a certain point $x = a$ is written as:"
   ]
  },
  {
   "cell_type": "markdown",
   "id": "839b5a6c",
   "metadata": {},
   "source": [
    "$$\n",
    "\\left.\\frac{df}{dx} \\right |_{x = a}\n",
    "$$"
   ]
  },
  {
   "cell_type": "markdown",
   "id": "cc5af91a",
   "metadata": {},
   "source": [
    "The composition of a function (which we'll use in the chain rule) is written as:"
   ]
  },
  {
   "cell_type": "markdown",
   "id": "9cb4b2cb",
   "metadata": {},
   "source": [
    "$$\n",
    "\\frac{df}{dx} \\{g(x) \\}\n",
    "$$"
   ]
  },
  {
   "cell_type": "markdown",
   "id": "fb4ca2ae",
   "metadata": {},
   "source": [
    "Avoid using **any** of the below notations if possible:"
   ]
  },
  {
   "cell_type": "markdown",
   "id": "e1017c45",
   "metadata": {},
   "source": [
    "$$\n",
    "\\frac{d}{dx} f(x), (Df)(x), d'(f, x), f'(x), \\dot f, \\ddot f \\dots\n",
    "$$"
   ]
  },
  {
   "cell_type": "markdown",
   "id": "48f189db",
   "metadata": {},
   "source": [
    "### Differentiation"
   ]
  },
  {
   "cell_type": "markdown",
   "id": "c4452d13",
   "metadata": {},
   "source": [
    "The derivative is a very powerful function, but finding the derivative of a function unfortunately requires a bit of time and patience. This is because there is no universal formula for finding the derivative of a certain function - instead, we have general *rules* for finding the derivatives of a certain type of function, which we use in the process of **differentiation**.\n"
   ]
  },
  {
   "cell_type": "markdown",
   "id": "fd963d26",
   "metadata": {},
   "source": [
    "Let's start with the easiest derivative - the derivative of any constant function is zero. Why? Because the slope of any constant function is always zero, and remember, the derivative is a function that tells you the slope at every point. So if the slope at every point is zero, the derivative will always be zero.\n",
    "\n",
    "We call this the **constant rule**, and we write it out like this:"
   ]
  },
  {
   "cell_type": "markdown",
   "id": "17899eda",
   "metadata": {},
   "source": [
    "$$\n",
    "\\frac{dC}{dx} = 0 \n",
    "$$"
   ]
  },
  {
   "cell_type": "markdown",
   "id": "e3057e32",
   "metadata": {},
   "source": [
    "Where $n$ can be any constant. For instance, the derivative of 2 with respect to $x$ (the same as finding the rate of change of $f(x) = 2$) would be:"
   ]
  },
  {
   "cell_type": "markdown",
   "id": "f387e506",
   "metadata": {},
   "source": [
    "$$\n",
    "\\frac{d(2)}{dx} = 0\n",
    "$$"
   ]
  },
  {
   "cell_type": "markdown",
   "id": "fac7de58",
   "metadata": {},
   "source": [
    "This also means that if you have a function $f(x) = c$, where $c$ is a constant, then:"
   ]
  },
  {
   "cell_type": "markdown",
   "id": "e2ac79bc",
   "metadata": {},
   "source": [
    "$$\n",
    "\\frac{df}{dx} = c\n",
    "$$\n"
   ]
  },
  {
   "cell_type": "markdown",
   "id": "30fe1bd2",
   "metadata": {},
   "source": [
    "That should be simple enough, right?\n",
    "\n",
    "Now, let's do the second-easiest derivative. The derivative of the exponential function $f(x) = e^x$ is itself. We call this the **exponential rule**, and we write it out like this:"
   ]
  },
  {
   "cell_type": "markdown",
   "id": "423f64d7",
   "metadata": {},
   "source": [
    "$$\n",
    "\\frac{d(e^x)}{dx} = e^x\n",
    "$$"
   ]
  },
  {
   "cell_type": "markdown",
   "id": "015e5ace",
   "metadata": {},
   "source": [
    "The exponential rule can also be more generally written as this:"
   ]
  },
  {
   "cell_type": "markdown",
   "id": "41c7392a",
   "metadata": {},
   "source": [
    "$$\n",
    "\\frac{d(a^x)}{dx} = \\ln(a) a^x\n",
    "$$"
   ]
  },
  {
   "cell_type": "markdown",
   "id": "32c591aa",
   "metadata": {},
   "source": [
    "For trigonometric functions, the derivatives unfortunately have to be memorized, but you just have to memorize two of them to find the derivatives of all trigonometric functions:"
   ]
  },
  {
   "cell_type": "markdown",
   "id": "daa8e8b6",
   "metadata": {},
   "source": [
    "$$\n",
    "\\frac{d(\\sin x)}{dx} = \\cos x\n",
    "$$\n",
    "\n",
    "$$\n",
    "\\frac{d(\\cos x)}{dx} = -\\sin x\n",
    "$$"
   ]
  },
  {
   "cell_type": "markdown",
   "id": "e58c885c",
   "metadata": {},
   "source": [
    "And for polynomial functions, we can use the **power rule**:"
   ]
  },
  {
   "cell_type": "markdown",
   "id": "733275ad",
   "metadata": {},
   "source": [
    "$$\n",
    "\\frac{d(x^n)}{dx} = nx^{n - 1}\n",
    "$$"
   ]
  },
  {
   "cell_type": "markdown",
   "id": "6e2144c3",
   "metadata": {},
   "source": [
    "The power rule applies to linear functions in the form $y = mx +c$:"
   ]
  },
  {
   "cell_type": "markdown",
   "id": "057fa4f5",
   "metadata": {},
   "source": [
    "$$\n",
    "\\frac{df}{dx} = \\frac{d(mx + c)}{dx} = \\frac{d(mx)}{dx} = 1 m \\left(x^{1-0}\\right) = m\n",
    "$$"
   ]
  },
  {
   "cell_type": "markdown",
   "id": "ed06d507",
   "metadata": {},
   "source": [
    "As well as for rational functions in the form $f(x) = \\frac{1}{x^n}$:"
   ]
  },
  {
   "cell_type": "markdown",
   "id": "2988b973",
   "metadata": {},
   "source": [
    "$$\n",
    "\\frac{d\\left(\\frac{1}{x^n}\\right)}{dx} = \\frac{d(x^{-n})}{dx} = -nx^{-n -1} = -\\frac{n}{x^{n + 1}}\n",
    "$$"
   ]
  },
  {
   "cell_type": "markdown",
   "id": "a05b6fb7",
   "metadata": {},
   "source": [
    "And nth root functions (e.g. square root, cube root, etc.) in the form $f(x) = \\sqrt[n]{x}$:"
   ]
  },
  {
   "cell_type": "markdown",
   "id": "9b68a5ad",
   "metadata": {},
   "source": [
    "$$\n",
    "\\frac{d\\left(\\sqrt[n]{x}\\right)}{dx} = \\frac{d\\left(x^\\frac{1}{n}\\right)}{dx} = \\frac{1}{n} x^{\\frac{1 - n}{n}}\n",
    "$$"
   ]
  },
  {
   "cell_type": "markdown",
   "id": "037d10e5",
   "metadata": {},
   "source": [
    "Combining the power rule and exponential rule gives us the derivatives of logarithms:"
   ]
  },
  {
   "cell_type": "markdown",
   "id": "a48bcaf8",
   "metadata": {},
   "source": [
    "$$\n",
    "\\frac{d(\\ln x)}{dx} = \\frac{1}{x}\n",
    "$$\n",
    "\n",
    "$$\n",
    "\\frac{d(\\log_a x)}{dx} = \\frac{1}{x \\ln a}\n",
    "$$"
   ]
  },
  {
   "cell_type": "markdown",
   "id": "bd0baf01",
   "metadata": {},
   "source": [
    "However, most functions are made from a _combination_ of these functions. For instance, the function $f(x) = 2x^2 + 3x + 5$ is a combination of a constant function, linear function, and power function. To find the derivatives of combinations of functions, we have a few more rules to help us.\n",
    "\n",
    "First, we have the **sum rule**:"
   ]
  },
  {
   "cell_type": "markdown",
   "id": "2942152e",
   "metadata": {},
   "source": [
    "$$\n",
    "\\frac{d(f(x) + g(x))}{x} = \\frac{df}{dx} + \\frac{dg}{dx}\n",
    "$$"
   ]
  },
  {
   "cell_type": "markdown",
   "id": "94a5603d",
   "metadata": {},
   "source": [
    "Then, the **constant coefficient rule:**"
   ]
  },
  {
   "cell_type": "markdown",
   "id": "c835cc8c",
   "metadata": {},
   "source": [
    "$$\n",
    "\\frac{d(c \\cdot f(x))}{dx} = c \\cdot \\frac{df}{dx}\n",
    "$$"
   ]
  },
  {
   "cell_type": "markdown",
   "id": "d52ae728",
   "metadata": {},
   "source": [
    "Then, the **product rule**:"
   ]
  },
  {
   "cell_type": "markdown",
   "id": "0bb4020f",
   "metadata": {},
   "source": [
    "$$\n",
    "\\frac{d(f(x)g(x)}{dx} = \\frac{df}{dx} g(x) + \\frac{dg}{dx} f(x)\n",
    "$$"
   ]
  },
  {
   "cell_type": "markdown",
   "id": "21b7242f",
   "metadata": {},
   "source": [
    "From the product rule, we can derive the **quotient rule**:"
   ]
  },
  {
   "cell_type": "markdown",
   "id": "a0dd60ff",
   "metadata": {},
   "source": [
    "$$\n",
    "\\frac{d\\left(\\frac{f(x)}{g(x)}\\right)}{dx} = \\frac{\\frac{df}{dx} g(x) - \\frac{dg}{dx} f(x)}{(g(x))^2}\n",
    "$$"
   ]
  },
  {
   "cell_type": "markdown",
   "id": "af73e94b",
   "metadata": {},
   "source": [
    "And, most importantly, we have the **chain rule**. The chain rule is used for _composite functions_ - functions that have been nested into each other. For instance, $h(x) = \\sin x^2$ is made by nesting the function $g(x) = x^2$ _inside_ of the function $f(x) = \\sin x$. So, we can say that $h(x) = f(g(x))$. This is a **composition of functions**.\n",
    "\n",
    "With that in mind, the **chain rule** is written like this:"
   ]
  },
  {
   "cell_type": "markdown",
   "id": "023f9a7e",
   "metadata": {},
   "source": [
    "$$\n",
    "\\frac{df(g(x))}{dx} = \\frac{df}{du}\\frac{du}{dx} = \\frac{df}{dx} \\{g(x)\\} \\frac{dg}{dx}\n",
    "$$"
   ]
  },
  {
   "cell_type": "markdown",
   "id": "1ee84c0f",
   "metadata": {},
   "source": [
    "This means we nest $g(x)$ in the derivative of $f(x)$ and multiply that by the derivative of $g(x)$. The other rules here are mostly self-explanatory, but I'll go through a worked example with the chain rule: let's try to find the derivative of $h(x) = \\cos x^2$."
   ]
  },
  {
   "cell_type": "markdown",
   "id": "4ecaf2ac",
   "metadata": {},
   "source": [
    "#### Practicing the chain rule"
   ]
  },
  {
   "cell_type": "markdown",
   "id": "7f4e5149",
   "metadata": {},
   "source": [
    "We use the chain rule for _composite_ functions, like our example, $h(x) = \\cos x^2$. We know that we can rewrite $h(x)$ as a composite function $f(g(x))$, where:"
   ]
  },
  {
   "cell_type": "markdown",
   "id": "e7908f07",
   "metadata": {},
   "source": [
    "$$\n",
    "h = \\cos (u)\n",
    "$$\n",
    "\n",
    "$$\n",
    "u = x^2\n",
    "$$"
   ]
  },
  {
   "cell_type": "markdown",
   "id": "298f27f8",
   "metadata": {},
   "source": [
    "We can now use the chain rule. In the first step, we find $\\frac{dh}{du}$:"
   ]
  },
  {
   "cell_type": "markdown",
   "id": "7f938707",
   "metadata": {},
   "source": [
    "$$\n",
    "\\frac{dh}{du} = -\\sin (u) = -\\sin (x^2)\n",
    "$$"
   ]
  },
  {
   "cell_type": "markdown",
   "id": "efa8450c",
   "metadata": {},
   "source": [
    "Note that we substituted in $x^2$ for $u$. Now, we find $\\frac{du}{dx}$:"
   ]
  },
  {
   "cell_type": "markdown",
   "id": "a876b3d3",
   "metadata": {},
   "source": [
    "$$\n",
    "\\frac{du}{dx} = 2x\n",
    "$$"
   ]
  },
  {
   "cell_type": "markdown",
   "id": "81445b56",
   "metadata": {},
   "source": [
    "We now just need to multiply them together:"
   ]
  },
  {
   "cell_type": "markdown",
   "id": "624ef862",
   "metadata": {},
   "source": [
    "$$\n",
    "\\frac{dh}{dx} = \\frac{dh}{du} \\frac{du}{dx}\n",
    "$$\n",
    "\n",
    "$$\n",
    "\\frac{dh}{dx} = -2x \\sin x^2\n",
    "$$"
   ]
  },
  {
   "cell_type": "markdown",
   "id": "d6bf8933",
   "metadata": {},
   "source": [
    "That's our answer!"
   ]
  },
  {
   "cell_type": "markdown",
   "id": "0546a5da",
   "metadata": {},
   "source": [
    "### Reciprocal derivatives"
   ]
  },
  {
   "cell_type": "markdown",
   "id": "72d4c3f4",
   "metadata": {},
   "source": [
    "In monovariable calculus _only_, derivatives follow the **reciprocal rule**:"
   ]
  },
  {
   "cell_type": "markdown",
   "id": "86048720",
   "metadata": {},
   "source": [
    "$$\n",
    "\\frac{df}{dx} = \\frac{1}{\\frac{dx}{df}}\n",
    "$$\n",
    "\n",
    "$$\n",
    "\\frac{dx}{df} = \\frac{1}{\\frac{df}{dx}}\n",
    "$$"
   ]
  },
  {
   "cell_type": "markdown",
   "id": "a30d0977",
   "metadata": {},
   "source": [
    "### Tangent to a curve\n",
    "\n",
    "The tangent to the function $f(x)$ at $x = a$ is given by the function $T(x)$, where:"
   ]
  },
  {
   "cell_type": "markdown",
   "id": "f5e34f8b",
   "metadata": {},
   "source": [
    "$$\n",
    "\\sigma(x) = \\frac{df}{dx}\n",
    "$$\n",
    "\n",
    "$$\n",
    "T(x) = \\sigma \\left(a\\right)\\left(x-a\\right)+f\\left(a\\right)\n",
    "$$"
   ]
  },
  {
   "cell_type": "markdown",
   "id": "418878ff",
   "metadata": {},
   "source": [
    "This is also called the **linear approximation** of a function."
   ]
  },
  {
   "cell_type": "markdown",
   "id": "f3fc0777",
   "metadata": {},
   "source": [
    "### Higher-order derivatives"
   ]
  },
  {
   "cell_type": "markdown",
   "id": "c43aa767",
   "metadata": {},
   "source": [
    "Taking a derivative _nth_ times gives you the _nth_ derivative of a function. For example, taking the derivative of the derivative is the second derivative, the derivative of the second derivative is the third derivative, and so on. Going in the other direction, the 0th derivative is not taking the derivative at all - the same as the original function.\n",
    "\n",
    "The second derivative is the most common higher-order derivative, and it is given by:"
   ]
  },
  {
   "cell_type": "markdown",
   "id": "c55f6b77",
   "metadata": {},
   "source": [
    "$$\n",
    "\\frac{d^2 f}{dx^2} = \\frac{d\\left(\\frac{df}{dx}\\right)}{dx}\n",
    "$$"
   ]
  },
  {
   "cell_type": "markdown",
   "id": "fdd96652",
   "metadata": {},
   "source": [
    "The _order_ of the derivative is the number of times you take the derivative: for instance, the 7th derivative involves taking the derivative of a function 7 times! (don't do that, please...)"
   ]
  },
  {
   "cell_type": "markdown",
   "id": "363ce070",
   "metadata": {},
   "source": [
    "### Finding maxima and minima"
   ]
  },
  {
   "cell_type": "markdown",
   "id": "3a5d4c36",
   "metadata": {},
   "source": [
    "We can find the critical points (maxima and minima) of a function $f(x)$ by finding its derivative and setting it to zero:"
   ]
  },
  {
   "cell_type": "markdown",
   "id": "23cab0b5",
   "metadata": {},
   "source": [
    "$$\n",
    "\\frac{df}{dx} = 0\n",
    "$$"
   ]
  },
  {
   "cell_type": "markdown",
   "id": "b4d00061",
   "metadata": {},
   "source": [
    "For instance, for the function $f(x) = 2x^2 + 1$:"
   ]
  },
  {
   "cell_type": "markdown",
   "id": "2b6e9a18",
   "metadata": {},
   "source": [
    "$$\n",
    "\\frac{df}{dx} = 4x\n",
    "$$\n",
    "\n",
    "$$\n",
    "4x = 0\n",
    "$$\n",
    "\n",
    "$$\n",
    "x = 0\n",
    "$$"
   ]
  },
  {
   "cell_type": "markdown",
   "id": "0402fb20",
   "metadata": {},
   "source": [
    "Then, plugging in that x value into the original f(x), we can find the y value of the maximum/minimum point:"
   ]
  },
  {
   "cell_type": "markdown",
   "id": "8c2932ed",
   "metadata": {},
   "source": [
    "$$\n",
    "f(0) = 2(0^2) + 1 = 1\n",
    "$$"
   ]
  },
  {
   "cell_type": "markdown",
   "id": "29f114a8",
   "metadata": {},
   "source": [
    "So the minimum of $f(x)$ is the point $(0, 1)$. How do we know if it's a maximum or minimum though? To find out, we use the **second derivative**, which measures how the slope changes. If a point is a maximum, the slope will change from positive to negative around that point; if a point is a minimum, vice-versa. So:"
   ]
  },
  {
   "cell_type": "markdown",
   "id": "4a8a7947",
   "metadata": {},
   "source": [
    "$$\n",
    "\\begin{cases}\n",
    "\\text{if} \\quad \\frac{d^2 f}{dx^2} < 0 \\quad x = \\text{max.} \\\\\n",
    "\\text{if} \\quad \\frac{d^2 f}{dx^2} > 0 \\quad x = \\text{min.}\n",
    "\\end{cases}\n",
    "$$"
   ]
  },
  {
   "cell_type": "markdown",
   "id": "c0e28d11",
   "metadata": {},
   "source": [
    "The second derivative of $f(x)$ is the derivative of its derivative, which we can find like this:"
   ]
  },
  {
   "cell_type": "markdown",
   "id": "42b2c4c0",
   "metadata": {},
   "source": [
    "$$\n",
    "\\frac{d^2 f}{dx^2} = \\frac{d(4x)}{dx} = 4\n",
    "$$"
   ]
  },
  {
   "cell_type": "markdown",
   "id": "6ca8c52c",
   "metadata": {},
   "source": [
    "Since $\\frac{d^2 f}{dx^2} > 0$, we know that the point $(0, 1)$ has to be a **minimum**."
   ]
  },
  {
   "cell_type": "markdown",
   "id": "bee8a00b",
   "metadata": {},
   "source": [
    "### Implicit differentiation"
   ]
  },
  {
   "cell_type": "markdown",
   "id": "66ba9edd",
   "metadata": {},
   "source": [
    "Implicit differentiation is when we differentiate with respect to an intermediary variable, often used when the object being differentiated is not a function. For instance, consider the equation of a circle:"
   ]
  },
  {
   "cell_type": "markdown",
   "id": "0ee1f573",
   "metadata": {},
   "source": [
    "$$\n",
    "x^2 + y^2 = 1\n",
    "$$"
   ]
  },
  {
   "cell_type": "markdown",
   "id": "52716de2",
   "metadata": {},
   "source": [
    "To implicitly differentiate it, we have:"
   ]
  },
  {
   "cell_type": "markdown",
   "id": "69c496a8",
   "metadata": {},
   "source": [
    "$$\n",
    "\\frac{d}{dx} (x^2 + y^2) = \\frac{d}{dx} (1)\n",
    "$$"
   ]
  },
  {
   "cell_type": "markdown",
   "id": "e5d05dbb",
   "metadata": {},
   "source": [
    "The right-hand side is straightforward:\n",
    "\n",
    "$$\n",
    "\\frac{d}{dx} (x^2 + y^2) = 0\n",
    "$$"
   ]
  },
  {
   "cell_type": "markdown",
   "id": "ff8e3223",
   "metadata": {},
   "source": [
    "The sum rule can be used for the left-hand side:"
   ]
  },
  {
   "cell_type": "markdown",
   "id": "f150f532",
   "metadata": {},
   "source": [
    "$$\n",
    "\\frac{d}{dx}\n",
    " x^2 + \\frac{d}{dx}\n",
    "y^2 = 0\n",
    "$$\n",
    "\n",
    "$$\n",
    "2x + \\frac{d}{dx}\n",
    "y^2\n",
    " = 0\n",
    "$$"
   ]
  },
  {
   "cell_type": "markdown",
   "id": "6ee9fe07",
   "metadata": {},
   "source": [
    "To implicitly differentiate $y^2$, we can use the chain rule:"
   ]
  },
  {
   "cell_type": "markdown",
   "id": "f8068005",
   "metadata": {},
   "source": [
    "$$\n",
    "\\frac{d}{dx}\n",
    "y^2 = 2y \\frac{dy}{dx}\n",
    "$$"
   ]
  },
  {
   "cell_type": "markdown",
   "id": "8c866dac",
   "metadata": {},
   "source": [
    "So:\n",
    "\n",
    "$$\n",
    "2x + 2y \\frac{dy}{dx} = 0\n",
    "$$"
   ]
  },
  {
   "cell_type": "markdown",
   "id": "0f003e35",
   "metadata": {},
   "source": [
    "Rearranging the terms, we find that:\n",
    "\n",
    "$$\n",
    "2y \\frac{dy}{dx} = -2x\n",
    "$$\n",
    "\n",
    "$$\n",
    "\\frac{dy}{dx} = - \\frac{x}{y}\n",
    "$$"
   ]
  },
  {
   "cell_type": "markdown",
   "id": "3ddd30d9",
   "metadata": {},
   "source": [
    "**Problem:** Suppose that $y = x^2 + 3$. Find $\\frac{dy}{dt}$ when $x = 1$, $\\frac{dx}{dt} = 2$.\n",
    "\n",
    "We implicitly differentiate $y$ to find:\n",
    "\n",
    "$$\n",
    "\\frac{dy}{dt} = 2x \\frac{dx}{dt}\n",
    "$$\n",
    "\n",
    "Then we plug in the values for $x$ and $\\frac{dx}{dt}$ to find that:\n",
    "\n",
    "$$\n",
    "\\frac{dy}{dt} = 2(1)(2) = 4\n",
    "$$"
   ]
  },
  {
   "cell_type": "markdown",
   "id": "af91d5ae",
   "metadata": {},
   "source": [
    "## Antiderivatives\n",
    "\n",
    "The antiderivative is the function $F(x)$ that is the original function of a derivative $f(x)$.\n",
    "\n",
    "$$\n",
    "\\frac{dF}{dx} = f(x)\n",
    "$$\n",
    "\n",
    "For instance, the antiderivative of $2x$ is $x^2$, because if $2x$ is the derivative, then the original function is $x^2$:\n",
    "\n",
    "$$\n",
    "\\frac{d(x^2)}{dx} = 2x\n",
    "$$\n",
    "\n",
    "The indefinite integral finds the original function (antiderivative) given its derivative. The indefinite integral is written as:\n",
    "\n",
    "$$\n",
    "F(x) + C = \\int f(x)dx\n",
    "$$\n",
    "\n",
    "The $C$ is due to the fact that the integral returns a family of antiderivatives, as any derivative has infinitely many antiderivatives.\n",
    "\n",
    "Indefinite integrals follow the following rules:\n",
    "\n",
    "$$\n",
    "\\int dx = x + C\n",
    "$$\n",
    "\n",
    "$$\n",
    "\\int k  \\, dx = kx + C\n",
    "$$\n",
    "\n",
    "$$\n",
    "\\int x^n dx = \\frac{x^{n + 1}}{n + 1}\n",
    "$$\n",
    "\n",
    "$$\n",
    "\\int [f(x) \\pm g(x)] dx = \\int f(x) dx \\pm \\int g(x) dx\n",
    "$$\n",
    "\n",
    "$$\n",
    "\\int k f(x) dx = k \\int f(x) dx\n",
    "$$\n",
    "\n",
    "### An intuitive understanding\n",
    "\n",
    "Suppose we have the derivative of a function, and that derivative is $f(x)$. We now want to find the original function $F(x)$ that derivative came from. To do so, we notice that:\n",
    "\n",
    "$$\n",
    "f(x) = \\frac{dF}{dx}\n",
    "$$\n",
    "\n",
    "So if we rearrange the terms, we get:\n",
    "\n",
    "$$\n",
    "f(x) dx = dF\n",
    "$$\n",
    "\n",
    "Now, $dF$ is similar to saying \"a tiny tiny change in F\". If we add lots of $dF$'s together, it would seem reasonable that we would get $F$:\n",
    "\n",
    "$$\n",
    "F(x) = \\sum_i dF\n",
    "$$\n",
    "\n",
    "Only in integral calculus, we replace the summation symbol with the integral symbol $\\int$, so it becomes:\n",
    "\n",
    "$$\n",
    "F(x) = \\int dF = \\int f(x) dx\n",
    "$$\n",
    "\n",
    "## Differential equations\n",
    "\n",
    "Differential equations are equations that include a derivative as one of their terms. Solving differential equations involves integrating both sides of the equation.\n",
    "\n",
    "$$\n",
    "\\frac{dy}{dx} = 2x^2 + 3x + 5\n",
    "$$\n",
    "\n",
    "To solve the above differential equation, we integrate both sides of the equation with respect to $x$, giving:\n",
    "\n",
    "$$\n",
    "dy = (2x^2 + 3x + 5) dx\n",
    "$$\n",
    "\n",
    "$$\n",
    "\\int dy = \\int (2x^2 + 3x + 5) dx\n",
    "$$\n",
    "\n",
    "$$\n",
    "y = \\frac{2x^3}{3} + \\frac{3x^2}{2} + 5x + C\n",
    "$$\n",
    "\n",
    "This is known as the **general solution** to a differential equation. To find the exact solution, an initial value is usually provided - for instance, $(0, 6)$. Substituting the initial value, we find that:\n",
    "\n",
    "$$\n",
    "6 = 0 + 0 + 0 + C\n",
    "$$\n",
    "\n",
    "Therefore, we find that $C = 6$, making the exact solution given the initial values:\n",
    "\n",
    "$$\n",
    "y = \\frac{2x^3}{3} + \\frac{3x^2}{2} + 5x + 6\n",
    "$$\n",
    "\n",
    "## Approximating under a curve\n",
    "\n",
    "The area under a curve of $f(x)$ on the interval $[a, b]$ can be calculated by creating a finite number of rectangles under $f(x)$ and adding up their areas. The greater the number of rectangles used, the more precise the approximation.\n",
    "\n",
    "The base of each rectangle is $\\Delta x$, where:\n",
    "\n",
    "$$\n",
    "\\Delta x = \\frac{b - a}{n}\n",
    "$$\n",
    "\n",
    "The three most common rectangle approximation methods are LRAM, RRAM, and RRAM. The expressions of areas for each are as follows:\n",
    "\n",
    "**LRAM**\n",
    "\n",
    "$$\n",
    "A = \\sum_{i = 1}^n f(x_{i -1}) \\Delta x\n",
    "$$\n",
    "\n",
    "$$\n",
    "f(x_{i - 1}) = x_0 + (i - 1) \\Delta x\n",
    "$$\n",
    "\n",
    "**RRAM**\n",
    "\n",
    "$$\n",
    "A = \\sum_{i = 1}^n f(x_i) \\Delta x\n",
    "$$\n",
    "\n",
    "$$\n",
    "f(x_i) = x_0 + i \\Delta x\n",
    "$$\n",
    "\n",
    "**MRAM**\n",
    "\n",
    "$$\n",
    "A = \\sum_{i = 1}^n f\\left(\\frac{x_{i - 1} + x_i}{2}\\right) \\Delta x\n",
    "$$\n",
    "\n",
    "Thus the general form of the area is:\n",
    "\n",
    "$$\n",
    "A = \\sum_{i = 1}^n f(c_i) \\Delta x\n",
    "$$\n",
    "\n",
    "For instance, take $f(x) = x^2$, on the interval $[0, 3]$, with 6 approximating rectangles. Then:\n",
    "\n",
    "$$\n",
    "\\Delta x = \\frac{3}{6} = \\frac{1}{2}\n",
    "$$\n",
    "\n",
    "$$\n",
    "f(x_{i - 1}) = \\frac{1}{2} i - \\frac{1}{2} \n",
    "$$\n",
    "\n",
    "$$\n",
    "f(x_i) = \\frac{i}{2}\n",
    "$$\n",
    "\n",
    "The area approximations would be as follows:\n",
    "\n",
    "Using LRAM:\n",
    "\n",
    "$$\n",
    "A = \\frac{1}{2} \\left[f(0) + f(0.5) + f(1) + f(1.5) + f(2) + f(2.5)\\right] = 6.875\n",
    "$$\n",
    "\n",
    "Using RRAM:\n",
    "\n",
    "$$\n",
    "A = \\frac{1}{2} [f(0.5) + f(1) + f(1.5) + f(2) + f(2.5) + f(3)] = 11.375\n",
    "$$\n",
    "\n",
    "Using MRARM:\n",
    "\n",
    "$$\n",
    "A = \\frac{1}{2}\\left(\\frac{f(0.5) + f(0)}{2} + \\frac{f(1) + f(0.5)}{2} + \\frac{f(1.5) + f(1)}{2} + \\dots \\right) = 8.938\n",
    "$$\n",
    "\n",
    "A calculator for area approximations can be found at https://www.geogebra.org/m/gQhUAxcY\n",
    "\n",
    "## Riemann sums\n",
    "\n",
    "The exact area can be found through taking the limit of the Riemann sum:\n",
    "\n",
    "$$\n",
    "A = \\lim_{n \\rightarrow \\infty} \\sum_{i = 1}^n f(c_i) \\Delta x\n",
    "$$\n",
    "\n",
    "Here, $f(c_i)$ can use LRAM, RRAM, or MRAM; all are equivalent. For a practical demonstration of this method, consider the earlier example of the area under the curve of $x^2$ from $[0, 3]$. The exact area can be found with the Riemann sum:\n",
    "\n",
    "$$\n",
    "\\Delta x = \\frac{3}{n}\n",
    "$$\n",
    "\n",
    "$$\n",
    "x_i = \\frac{3i}{n}\n",
    "$$\n",
    "\n",
    "$$\n",
    "A = \\lim_{n \\rightarrow \\infty} \\sum_{i = 1}^n \\left(\\frac{3i}{n}\\right)^2 \\frac{3}{n}\n",
    "$$\n",
    "\n",
    "$$\n",
    "A = \\lim_{n \\rightarrow \\infty} \\frac{3}{n} \\sum_{i = 1}^n \\frac{9i^2}{n^2}\n",
    "$$\n",
    "\n",
    "$$\n",
    "A = \\lim_{n \\rightarrow \\infty} \\frac{27}{n^3} \\sum_{i = 1}^n i^2\n",
    "$$\n",
    "\n",
    "Here, we can use one sum formula:\n",
    "\n",
    "$$\n",
    "\\sum_{i = 1}^n i^2 = \\frac{n(n + 1)(2n + 1)}{6} = \\frac{2n^3 + 3n^2 + n}{6}\n",
    "$$\n",
    "\n",
    "Which simplifies our area expression to:\n",
    "\n",
    "$$\n",
    "A = \\lim_{n \\rightarrow \\infty} \\frac{27}{n^3} \\left(\\frac{2n^3 + 3n^2 + n}{6}\\right)\n",
    "$$\n",
    "\n",
    "$$\n",
    "A = \\lim_{n \\rightarrow \\infty} \\left(9 + \\frac{27}{2n} + \\frac{9}{2n^2}\\right)\n",
    "$$\n",
    "\n",
    "Given the properties of infinite limits, the area evaluated is just:\n",
    "\n",
    "$$\n",
    "A = 9\n",
    "$$\n",
    "\n",
    "## The definite integral\n",
    "\n",
    "The definite integral is equal to the Riemann sum:\n",
    "\n",
    "$$\n",
    "\\int_a^b f(x) dx = \\lim_{n \\rightarrow \\infty} \\sum_{i = 1}^n f(c_i) \\Delta x\n",
    "$$\n",
    "\n",
    "The definite integral can also be evaluated using the indefinite integral:\n",
    "\n",
    "$$\n",
    "\\int_a^b f(x)dx = F(b) - F(a)\n",
    "$$\n",
    "\n",
    "Several properties of the definite integral include:\n",
    "\n",
    "$$\n",
    "\\int_a^a f(x) dx = 0\n",
    "$$\n",
    "\n",
    "$$\n",
    "\\int_b^a f(x)dx = -\\int_a^b f(x)dx\n",
    "$$\n",
    "\n",
    "$$\n",
    "\\int_a^c f(x) dx = \\int_a^b f(x)dx + \\int_b^c f(x)dx\n",
    "$$\n",
    "\n",
    "$$\n",
    "\\int \\limits_a^b ndx = n(b - a)\n",
    "$$"
   ]
  },
  {
   "cell_type": "markdown",
   "id": "deba7d45",
   "metadata": {},
   "source": [
    "## The Fundamental Theorem of Calculus (Part I)\n",
    "\n",
    "When we know the antiderivative of a function, we can use the first part of the FTC as a shortcut to evaluating the definite integral:\n",
    "\n",
    "$$\n",
    "\\int \\limits_a^b f(x)dx = F(x) \\Big|_a^b = F(b) - F(a)\n",
    "$$\n",
    "\n",
    "## Average value of a function\n",
    "\n",
    "The average (mean) value of a function on $[a, b]$ is given by:\n",
    "\n",
    "$$\n",
    "\\frac{1}{b-a} \\int_a^b f(x)dx\n",
    "$$\n",
    "\n",
    "The **********************************************************************************mean value theorem for definite integrals********************************************************************************** states that there is a $c$ in $[a, b]$ where:\n",
    "\n",
    "$$\n",
    "f(c) = \\frac{1}{b - a} \\int_a^b f(x)dx\n",
    "$$\n",
    "\n",
    "The value $x = c$ is the value of $x$ for which the function has its average value.\n",
    "\n",
    "## The Fundamental Theorem of Calculus (Part II)\n",
    "\n",
    "We can write the antideriative in terms of the definite integral of a function:\n",
    "\n",
    "$$\n",
    "F(x) = \\int_a^x f(t)dt\n",
    "$$\n",
    "\n",
    "$$\n",
    "F'(x) = f(x)\n",
    "$$\n",
    "\n",
    "The FTC #2 establishes that differentiation and integration are **inverse operations**. The derivative is the _rate of change_, whereas the integral finds the _accumulated net change_.\n",
    "\n",
    "Using the chain rule, we can extend the FTC #2:\n",
    "\n",
    "$$\n",
    "\\int_a^{g(x)} f(t)dt = f(g(x)) \\cdot g'(x)\n",
    "$$\n",
    "\n",
    "$$\n",
    "\\int_{h(x)}^{g(x)} f(t)dt = f(g(x)) \\cdot g'(x) - f(h(x)) \\cdot h'(x)\n",
    "$$\n",
    "\n",
    "## Finding the value of a definite integral given values\n",
    "\n",
    "From both parts of the FTC, we can derive a third theorem:\n",
    "\n",
    "$$\n",
    "F(x) = F(a) + \\int_a^x f(t)dt\n",
    "$$\n",
    "\n",
    "\n",
    "```{admonition} Example problem\n",
    "Given $\\displaystyle \\int_3^{12} f'(x)dx  = -4$ and $f(3) = 35$, find $f(12)$.\n",
    "```\n",
    "\n",
    "$$\n",
    "f(12) = f(3) = \\int_3^{12} f'(x) dx  \\\\ f(12) = 35+ (-4) \\\\ f(12) = 31\n",
    "$$\n",
    "\n",
    "## U-substitution for evaluating integrals\n",
    "\n",
    "U-substitution allows for evaluating integrals that would be otherwise very difficult to compute. For instance:\n",
    "\n",
    "$$\n",
    "\\int \\limits_{0}^{2}\\frac{x^{3}}{\\sqrt{16-x^{4}}}dx\n",
    "$$\n",
    "\n",
    "In order to do u-substitution, we extract a part of the function we’re integrating to be $u$, and we rewrite the integral in terms of $u$ by changing the differential:\n",
    "\n",
    "$$\n",
    "dx = \\frac{du}{u'(x)}\n",
    "$$\n",
    "\n",
    "In this case:\n",
    "\n",
    "$$\n",
    "u = 16-x^4 \\\\ dx = \\frac{du}{-4x^3}\n",
    "$$\n",
    "\n",
    "If we then substitute the differential into our integral, we have:\n",
    "\n",
    "$$\n",
    "\\int_{u_0}^{u_1} x^3 u^{-1/2} \\left(\\frac{du}{-4x^3}\\right)\n",
    "$$\n",
    "\n",
    "We have to convert our original bounds of integration into bounds in terms of $u$, so:\n",
    "\n",
    "$$\n",
    "u_0 \\Rightarrow 16 - (0^4) = 16 \\\\ u_1 \\Rightarrow 16 - (2^4) = 0\n",
    "$$\n",
    "\n",
    "So our integral becomes:\n",
    "\n",
    "$$\n",
    "\\int_{16}^0 x^3 u^{-1/2}  \\left(\\frac{du}{-4x^3}\\right)\n",
    "$$\n",
    "\n",
    "We can now simplify the integral by moving out all the constants, giving:\n",
    "\n",
    "$$\n",
    "- \\frac{1}{4}\\int_{16}^0 u^{-1/2}  du\n",
    "$$\n",
    "\n",
    "Which computes to:\n",
    "\n",
    "$$\n",
    "-\\frac{\\sqrt{u}}{2} \\Big|_0^{16} = 2\n",
    "$$\n",
    "\n",
    "Therefore:\n",
    "\n",
    "$$\n",
    "\\int \\limits_{0}^{2}\\frac{x^{3}}{\\sqrt{16-x^{4}}}dx = 2\n",
    "$$\n",
    "\n",
    "## Definite integral evaluation\n",
    "\n",
    "Using U-substitution, it often becomes easier to evaluate definite integrals when given another definite integral.\n",
    "\n",
    "### Example 1\n",
    "\n",
    "Given $\\displaystyle \\int \\limits_4^8 g(x)dx = 11$, find$\\displaystyle \\int \\limits_{10}^{6} g(x - 2) dx$\n",
    "\n",
    "### Example 1 solution\n",
    "\n",
    "Let $u = x - 2$. Since the derivative of $u(x)$ is one, $du = dx$. Therefore:\n",
    "\n",
    "$$\n",
    "\\int \\limits_{(10 - 2)}^{(6 - 2)} g(u)\\,du = \\int \\limits_8^4 g(u)\\, du\n",
    "$$\n",
    "\n",
    "Now we can use a powerful property of U-substitution:\n",
    "\n",
    "$$\n",
    "\\int \\limits_a^b f(x) dx = \\int \\limits_a^b f(u) du\n",
    "$$\n",
    "\n",
    "This means that:\n",
    "\n",
    "$$\n",
    "\\int \\limits_8^4 g(u)\\, du = \\int \\limits_8^4 g(x)dx = -\\int \\limits_4^8 g(x)dx = -11\n",
    "$$\n",
    "\n",
    "### Example 2\n",
    "\n",
    "Given $\\displaystyle \\int \\limits_4^8 g(x)dx = 11$, find$\\displaystyle \\int_{12}^{24} g\\left(\\frac{x}{3}\\right) dx$\n",
    "\n",
    "### Example 2 solution\n",
    "\n",
    "Let $u = \\frac{x}{3}$. Then $dx = 3du$. Therefore:\n",
    "\n",
    "$$\n",
    "\\displaystyle \\int_{12}^{24} g\\left(\\frac{x}{3}\\right) dx = 3 \\int \\limits_{12 / 3}^{24 / 3} g(u)du = 3 \\int \\limits_4^8 g(u)du\n",
    "$$\n",
    "\n",
    "And using the U-substitution properties, we can find that:\n",
    "\n",
    "$$\n",
    "3 \\int \\limits_4^8 g(u)du = 3 \\int \\limits_4^8 g(x)dx = 3(11) = 33\n",
    "$$"
   ]
  }
 ],
 "metadata": {
  "kernelspec": {
   "display_name": "Python 3 (ipykernel)",
   "language": "python",
   "name": "python3"
  },
  "language_info": {
   "codemirror_mode": {
    "name": "ipython",
    "version": 3
   },
   "file_extension": ".py",
   "mimetype": "text/x-python",
   "name": "python",
   "nbconvert_exporter": "python",
   "pygments_lexer": "ipython3",
   "version": "3.11.4"
  }
 },
 "nbformat": 4,
 "nbformat_minor": 5
}
