{
 "cells": [
  {
   "cell_type": "markdown",
   "id": "acaaf28a",
   "metadata": {},
   "source": [
    "# Quantum mechanics"
   ]
  },
  {
   "cell_type": "markdown",
   "id": "4669e22d",
   "metadata": {},
   "source": [
    "> \"When you change the way you look at things, the things you look at change.\"\n",
    ">\n",
    "> **Max Plank**"
   ]
  },
  {
   "cell_type": "markdown",
   "id": "6fec9b57",
   "metadata": {},
   "source": [
    "Up to this point, we've explored physics that obeyed the principles of predictability and certainty. We took it for granted that particles moved on definite paths, that if we knew everything about the system we could predict everything about how it would evolve. All of those assumptions completely break down in quantum mechanics, when we take a look at the world near the scale of atoms. We'll explore this fascinating new world - and in time, hopefully realize that \"the quantum world is not spooky or incomprehensible - it's just way different\"."
   ]
  },
  {
   "cell_type": "markdown",
   "id": "c763c34c",
   "metadata": {},
   "source": [
    "## Quantization and wavefunctions"
   ]
  },
  {
   "cell_type": "markdown",
   "id": "1869aa6e",
   "metadata": {},
   "source": [
    "When we speak of observable properties of a macroscopic object, such as its speed, momentum, and energy, we expect that these properties can take on _any_ value. For instance, we can have a speed of 5.34 m/s, or 100,000 m/s, or 0.0015 m/s. These are called **continuous** properties."
   ]
  },
  {
   "cell_type": "markdown",
   "id": "9ee784ab",
   "metadata": {},
   "source": [
    "But in the quantum world, every property of a microscopic particle has to be made of indivisible unit values. One way to think about it is to imagine you have several basketballs - it would make sense to have 0 basketballs, or 50 basketballs, or 12 basketballs, but it wouldn't make sense to have $\\pi$ basketballs or 1.513 basketballs. The indivisible unit, in our case, is one basketball, and in quantum mechanics we call the unit a **quantum** (plural _quanta_). For example, the quantum of charge is the elementary charge constant $e = 1.602 \\times 10^{-19}$ Coulombs. This means that you can only have a charge of $2e$ or $5e$ or $17e$, never $1.352e$. The quantum of energy (for visible light) is approximately $2.605 \\times 10^{-19}$ joules. We call properties that are composed of quanta **quantized**."
   ]
  },
  {
   "cell_type": "markdown",
   "id": "185d00c8",
   "metadata": {},
   "source": [
    "Energy is important, because it was Einstein who first discovered that the energy of light is quantized, and in particular that the quantum of light energy is given by:"
   ]
  },
  {
   "cell_type": "markdown",
   "id": "a03ca1e2",
   "metadata": {},
   "source": [
    "$$\n",
    "E_p = hf\n",
    "$$"
   ]
  },
  {
   "cell_type": "markdown",
   "id": "097b35dd",
   "metadata": {},
   "source": [
    "```{note}\n",
    "$h$ is Plank's constant, approximately $6.626 \\times 10^{−34}$, and $f$ is the frequency of the wave. $\\hbar$ is equal to $\\frac{h}{2\\pi}$.\n",
    "```"
   ]
  },
  {
   "cell_type": "markdown",
   "id": "4223c88a",
   "metadata": {},
   "source": [
    "This means that if you measure the energy of any light, it must be $0E_p$ or $1E_p$ or $5E_p$ or $1000E_p$, not $1.5E_p$. Light can't just take any energy it wants; the energy must strictly be $N\\cdot E_p$, where $N$ is the number of photons in the measured light."
   ]
  },
  {
   "cell_type": "markdown",
   "id": "ff0ac9d7",
   "metadata": {},
   "source": [
    "Einstein recognized that the quantization of light isn't just a mathematical idea of integer multiples of a value, but that quanta of light are actually physical particles that we call **photons**. But isn't light a wave? Wasn't that what Maxwell's equations said? Physicists recognized that in fact, light was a particle _and_ a wave."
   ]
  },
  {
   "cell_type": "markdown",
   "id": "42199227",
   "metadata": {},
   "source": [
    "However, we hit one more roadblock. If light is a particle, why can't we just measure its observable properties (such as position) and know how it behaves? Through experimentation, scientists tried, and failed, to do exactly this. They concluded that quantum particles cannot be found exactly. We can only measure probabilities by using a **wavefunction** that describes the state of a quantum system. The wavefunction is oftentimes a complex function, and has no direct physical meaning (which makes sense; all physical quantities are real numbers, not complex numbers!) However, it turns out that if you integrate the square of the wavefunction, you find the **probability** of a particle being at a particular position at a particular time."
   ]
  },
  {
   "cell_type": "markdown",
   "id": "96eba22d",
   "metadata": {},
   "source": [
    "$$\n",
    "P(x, t) = \\int  |\\Psi(x, t)^2 | dx\n",
    "$$"
   ]
  },
  {
   "cell_type": "markdown",
   "id": "1cf380b3",
   "metadata": {},
   "source": [
    "Note that we can generalize this to multiple dimensions:"
   ]
  },
  {
   "cell_type": "markdown",
   "id": "76c621e8",
   "metadata": {},
   "source": [
    "$$\n",
    "P(x, t) = \\int | \\Psi(x, y, z, t)^2 | \\, dx \\, dy \\, dz\n",
    "$$"
   ]
  },
  {
   "cell_type": "markdown",
   "id": "a7dc8211",
   "metadata": {},
   "source": [
    "And integrating over all space gives a probability of 1, that is, 100% probability:"
   ]
  },
  {
   "cell_type": "markdown",
   "id": "1fd12b69",
   "metadata": {},
   "source": [
    "$$\n",
    "\\int \\limits_{-\\infty}^\\infty | \\Psi(x, y, z, t)^2 |~dx~dy~dz = 1\n",
    "$$"
   ]
  },
  {
   "cell_type": "markdown",
   "id": "b8851ea3",
   "metadata": {},
   "source": [
    "```{note}\n",
    "We typically use an uppercase $\\Psi$ for time-dependent wavefunctions and a lowercase $\\psi$ for time-independent wavefunctions.\n",
    "```"
   ]
  },
  {
   "cell_type": "markdown",
   "id": "bca76042",
   "metadata": {},
   "source": [
    "## The Schrödinger equation"
   ]
  },
  {
   "cell_type": "markdown",
   "id": "4c374e05",
   "metadata": {},
   "source": [
    "The key equation of quantum mechanics is the Schrödinger equation, which describes how the wavefunction evolves through space and time. It is given by:"
   ]
  },
  {
   "cell_type": "markdown",
   "id": "6a9064ab",
   "metadata": {},
   "source": [
    "$$\n",
    "i \\hbar \\frac{\\partial \\Psi}{\\partial t} = \n",
    "\\left(-\\frac{\\hbar^2}{2m} \\nabla^2 + V(x) \\right)\n",
    "\\Psi\n",
    "$$"
   ]
  },
  {
   "cell_type": "markdown",
   "id": "f4cf0168",
   "metadata": {},
   "source": [
    "Just as the geodesic equation was a generalization of Newton's laws to relativity, the Schrödinger equation was a generalization of Newton's laws to quantum mechanics. Solving this partial differential equation yields the wavefunction, which can then be used to find the probability of a particle being at a certain position."
   ]
  },
  {
   "cell_type": "markdown",
   "id": "ad113db0",
   "metadata": {},
   "source": [
    "While the Schrödinger equation is separable, the process of separation of variables is so tedious that the \"method of inspired guessing\" is often the faster method. Consider, for example, a constant potential $V(x) = 0$, and using the 1D Schrödinger equation. We can guess that the solution likely involves a complex exponential function, since wavefunctions are oftentimes complex. Let's try:"
   ]
  },
  {
   "cell_type": "markdown",
   "id": "c3d34cb7",
   "metadata": {},
   "source": [
    "$$\n",
    "\\Psi(x, t) = e^{i(x - t)}\n",
    "$$"
   ]
  },
  {
   "cell_type": "markdown",
   "id": "2fd76844",
   "metadata": {},
   "source": [
    "We first take the derivatives of our guess solution for time and space:"
   ]
  },
  {
   "cell_type": "markdown",
   "id": "2711f107",
   "metadata": {},
   "source": [
    "$$\n",
    "\\frac{\\partial \\Psi}{\\partial t} = -i e^{i(x - t)}\n",
    "$$\n",
    "\n",
    "$$\n",
    "\\frac{\\partial^2 \\Psi}{\\partial x^2} = i^2 e^{i(x - t)} = -e^{i(x - t)}\n",
    "$$"
   ]
  },
  {
   "cell_type": "markdown",
   "id": "7bf5b8cb",
   "metadata": {},
   "source": [
    "Plugging these into the equation gives:"
   ]
  },
  {
   "cell_type": "markdown",
   "id": "24daed63",
   "metadata": {},
   "source": [
    "$$\n",
    "i \\hbar (-i e^{i(x - t)}) = -\\frac{\\hbar^2}{2m} (-e^{i(x - t)})\n",
    "$$"
   ]
  },
  {
   "cell_type": "markdown",
   "id": "dc40d317",
   "metadata": {},
   "source": [
    "$$\n",
    "\\hbar e^{i(x - t)} = -\\frac{\\hbar^2}{2m} e^{i(x - t)}\n",
    "$$"
   ]
  },
  {
   "cell_type": "markdown",
   "id": "02c9ebdc",
   "metadata": {},
   "source": [
    "$$\n",
    "\\hbar = -\\frac{\\hbar}{2m}\n",
    "$$"
   ]
  },
  {
   "cell_type": "markdown",
   "id": "6db43156",
   "metadata": {},
   "source": [
    "Hmmm...maybe that guess wasn't quite right, but we can now refine our solution for it to satisfy Schrödinger's equation. Perhaps a better guess would be:"
   ]
  },
  {
   "cell_type": "markdown",
   "id": "b46f6c32",
   "metadata": {},
   "source": [
    "$$\n",
    "\\Psi(x, t) = e^{i(x - t)/\\hbar}\n",
    "$$"
   ]
  },
  {
   "cell_type": "markdown",
   "id": "42376f3d",
   "metadata": {},
   "source": [
    "Upon simplification, this leads to:"
   ]
  },
  {
   "cell_type": "markdown",
   "id": "1fd4112d",
   "metadata": {},
   "source": [
    "$$\n",
    "1 = \\frac{1}{2m}\n",
    "$$"
   ]
  },
  {
   "cell_type": "markdown",
   "id": "91f24d3b",
   "metadata": {},
   "source": [
    "Not quite right either, but we're getting there. Let's try one more guess:"
   ]
  },
  {
   "cell_type": "markdown",
   "id": "ce53ead2",
   "metadata": {},
   "source": [
    "$$\n",
    "\\Psi(x, t) = e^{i\\left(x - \\frac{t}{2m}\\right)/\\hbar}\n",
    "$$"
   ]
  },
  {
   "cell_type": "markdown",
   "id": "59279608",
   "metadata": {},
   "source": [
    "This does actually work! And as the Schrödinger equation is linear, we can append two scaling factors $k$ and $\\omega$ to make for a general solution:"
   ]
  },
  {
   "cell_type": "markdown",
   "id": "97ae104f",
   "metadata": {},
   "source": [
    "$$\n",
    "\\Psi(x, t) = e^{i\\left(kx - \\frac{\\omega t}{2m}\\right)/\\hbar}\n",
    "$$"
   ]
  },
  {
   "cell_type": "markdown",
   "id": "d7e7584e",
   "metadata": {},
   "source": [
    "So using the method of inspired guessing, we have officially solved the 1D Schrödinger equation!"
   ]
  },
  {
   "cell_type": "markdown",
   "id": "c09cf5dd",
   "metadata": {},
   "source": [
    "However, clearly, this method is not foolproof, and getting to a correct solution is not easy. Thus, Schrödinger's equation is usually solved numerically, using either the finite volume method or finite element method, discussed in the differential equations chapter."
   ]
  },
  {
   "cell_type": "markdown",
   "id": "5e0e239c",
   "metadata": {},
   "source": [
    "## Observables"
   ]
  },
  {
   "cell_type": "markdown",
   "id": "3c6a7e2c",
   "metadata": {},
   "source": [
    "Just like how we explored the quantization of energy for photons, other measurable quantities, such as momentum, charge, and angular momentum of quantum particles, are also quantized. We call these measurable quantities **observables**. Observables have defined real values, but those values are discrete values, not continuous functions. Therefore, since observables are discrete numbers, then momentum, charge, energy, and angular momentum cannot be represented by functions, as functions have continuous outputs.\n",
    "\n",
    "But we know of one different mathematical representation that can work to give discrete numbers - _eigenfunctions and eigenvalues_. Indeed, in quantum mechanics, an observable $a$ is an eigenvalue of an eigenfunction $\\psi$:"
   ]
  },
  {
   "cell_type": "markdown",
   "id": "670dcc8d",
   "metadata": {},
   "source": [
    "$$\n",
    "\\hat A \\psi = a \\psi\n",
    "$$"
   ]
  },
  {
   "cell_type": "markdown",
   "id": "53392564",
   "metadata": {},
   "source": [
    "Here, $\\hat A$ is a linear operator acting on $\\psi$. The most common type of linear operator for eigenfunctions are derivative operators. For instance, the momentum operator is given by:"
   ]
  },
  {
   "cell_type": "markdown",
   "id": "80b25cbd",
   "metadata": {},
   "source": [
    "$$\n",
    "\\hat p = -i\\hbar \\frac{\\partial}{\\partial x}\n",
    "$$"
   ]
  },
  {
   "cell_type": "markdown",
   "id": "bc1040d6",
   "metadata": {},
   "source": [
    "So if we wanted to find the measured value of the momentum $p$, we would need to solve the equation:"
   ]
  },
  {
   "cell_type": "markdown",
   "id": "01591208",
   "metadata": {},
   "source": [
    "$$\n",
    "\\hat p \\psi = p \\psi\n",
    "$$"
   ]
  },
  {
   "cell_type": "markdown",
   "id": "ba43174b",
   "metadata": {},
   "source": [
    "Or, plugging in the value of the momentum operator:"
   ]
  },
  {
   "cell_type": "markdown",
   "id": "6f269310",
   "metadata": {},
   "source": [
    "$$\n",
    "-i\\hbar \\frac{\\partial \\psi}{\\partial x} = p \\psi\n",
    "$$"
   ]
  },
  {
   "cell_type": "markdown",
   "id": "10518e59",
   "metadata": {},
   "source": [
    "This ensures that the observable - in this case, the measured value of momentum - has to be a discrete number, rather than a continuous function. In a similar way, the kinetic energy and total energy operators are (given in order):"
   ]
  },
  {
   "cell_type": "markdown",
   "id": "5a723380",
   "metadata": {},
   "source": [
    "$$\n",
    "\\hat K = -\\frac{\\hbar^2}{2m} \\frac{\\partial^2}{\\partial x^2}\n",
    "$$\n",
    "\n",
    "$$\n",
    "\\hat E = -\\frac{\\hbar^2}{2m} \\frac{\\partial^2}{\\partial x^2} + V(x)\n",
    "$$"
   ]
  },
  {
   "cell_type": "markdown",
   "id": "7e5247b7",
   "metadata": {},
   "source": [
    "So, the eigenfunction-eigenvalue equations for kinetic energy and total energy are given by:"
   ]
  },
  {
   "cell_type": "markdown",
   "id": "50c73d25",
   "metadata": {},
   "source": [
    "$$\n",
    "\\hat K \\psi = -\\frac{\\hbar^2}{2m} \\frac{\\partial^2 \\psi}{\\partial x^2} = K \\psi\n",
    "$$\n",
    "\n",
    "$$\n",
    "\\hat E \\psi = -\\frac{\\hbar^2}{2m} \\frac{\\partial^2 \\psi}{\\partial x^2} + V(x) \\psi = E \\psi\n",
    "$$"
   ]
  },
  {
   "cell_type": "markdown",
   "id": "f930beff",
   "metadata": {},
   "source": [
    "Notice the energy operator is identical to the Hamiltonian $\\hat H$, as it is the sum of the kinetic energy operator and the potential energy. Therefore, we often rewrite the eigenfunction-eigenvalue equation for energy as:"
   ]
  },
  {
   "cell_type": "markdown",
   "id": "b4728da1",
   "metadata": {},
   "source": [
    "$$\n",
    "\\hat H \\psi = E \\psi\n",
    "$$"
   ]
  },
  {
   "cell_type": "markdown",
   "id": "067858c3",
   "metadata": {},
   "source": [
    "This is the **time-independent Schrödinger equation**."
   ]
  },
  {
   "cell_type": "markdown",
   "id": "c2e848ff",
   "metadata": {},
   "source": [
    "## The uncertainty principle"
   ]
  },
  {
   "cell_type": "markdown",
   "id": "4c778990",
   "metadata": {},
   "source": [
    "Knowing more about a particular observable in general means that we know less about another observable. This is the **uncertainy principle** - when we express the certainty of an observable in terms of its standard deviation $\\sigma$, then:"
   ]
  },
  {
   "cell_type": "markdown",
   "id": "da1fee89",
   "metadata": {},
   "source": [
    "$$\n",
    "\\sigma_x \\sigma_p = \\frac{\\hbar}{2}\n",
    "$$"
   ]
  }
 ],
 "metadata": {
  "kernelspec": {
   "display_name": "Python 3 (ipykernel)",
   "language": "python",
   "name": "python3"
  },
  "language_info": {
   "codemirror_mode": {
    "name": "ipython",
    "version": 3
   },
   "file_extension": ".py",
   "mimetype": "text/x-python",
   "name": "python",
   "nbconvert_exporter": "python",
   "pygments_lexer": "ipython3",
   "version": "3.11.4"
  }
 },
 "nbformat": 4,
 "nbformat_minor": 5
}
