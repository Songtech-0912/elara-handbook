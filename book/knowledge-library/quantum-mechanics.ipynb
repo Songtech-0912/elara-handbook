{
 "cells": [
  {
   "cell_type": "markdown",
   "id": "acaaf28a",
   "metadata": {},
   "source": [
    "# Quantum mechanics"
   ]
  },
  {
   "cell_type": "markdown",
   "id": "4669e22d",
   "metadata": {},
   "source": [
    "> \"When you change the way you look at things, the things you look at change.\"\n",
    ">\n",
    "> **Max Plank**"
   ]
  },
  {
   "cell_type": "markdown",
   "id": "6fec9b57",
   "metadata": {},
   "source": [
    "Up to this point, we've explored physics that obeyed the principles of predictability and certainty. We took it for granted that particles moved on definite paths, that if we knew everything about the system we could predict everything about how it would evolve. All of those assumptions completely break down in quantum mechanics, when we take a look at the world near the scale of atoms. We'll explore this fascinating new world - and in time, hopefully realize that \"the quantum world is not spooky or incomprehensible - it's just way different\"."
   ]
  },
  {
   "cell_type": "markdown",
   "id": "c763c34c",
   "metadata": {},
   "source": [
    "## Quantization and wavefunctions"
   ]
  },
  {
   "cell_type": "markdown",
   "id": "1869aa6e",
   "metadata": {},
   "source": [
    "When we speak of observable properties of a macroscopic object, such as its speed, momentum, and energy, we expect that these properties can take on _any_ value. For instance, we can have a speed of 5.34 m/s, or 100,000 m/s, or 0.0015 m/s. These are called **continuous** properties."
   ]
  },
  {
   "cell_type": "markdown",
   "id": "9ee784ab",
   "metadata": {},
   "source": [
    "But in the quantum world, every property of a microscopic particle has to be made of indivisible unit values. One way to think about it is to imagine you have several basketballs - it would make sense to have 0 basketballs, or 50 basketballs, or 12 basketballs, but it wouldn't make sense to have $\\pi$ basketballs or 1.513 basketballs. The indivisible unit, in our case, is one basketball, and in quantum mechanics we call the unit a **quantum** (plural _quanta_). For example, the quantum of charge is the elementary charge constant $e = 1.602 \\times 10^{-19}$ Coulombs. This means that you can only have a charge of $2e$ or $5e$ or $17e$, never $1.352e$. The quantum of energy (for visible light) is approximately $2.605 \\times 10^{-19}$ joules. We call properties that are composed of quanta **quantized**."
   ]
  },
  {
   "cell_type": "markdown",
   "id": "185d00c8",
   "metadata": {},
   "source": [
    "Energy is important, because it was Einstein who first discovered that the energy of light is quantized, and in particular that the quantum of light energy is given by:"
   ]
  },
  {
   "cell_type": "markdown",
   "id": "a03ca1e2",
   "metadata": {},
   "source": [
    "$$\n",
    "E_p = hf\n",
    "$$"
   ]
  },
  {
   "cell_type": "markdown",
   "id": "097b35dd",
   "metadata": {},
   "source": [
    "```{note}\n",
    "$h$ is Plank's constant, approximately $6.626 \\times 10^{−34}$, and $f$ is the frequency of the wave. $\\hbar$ is equal to $\\frac{h}{2\\pi}$.\n",
    "```"
   ]
  },
  {
   "cell_type": "markdown",
   "id": "4223c88a",
   "metadata": {},
   "source": [
    "This means that if you measure the energy of any light, it must be $0E_p$ or $1E_p$ or $5E_p$ or $1000E_p$, not $1.5E_p$. Light can't just take any energy it wants; the energy must strictly be $N\\cdot E_p$, where $N$ is the number of photons in the measured light."
   ]
  },
  {
   "cell_type": "markdown",
   "id": "ff0ac9d7",
   "metadata": {},
   "source": [
    "Einstein recognized that the quantization of light isn't just a mathematical idea of integer multiples of a value, but that quanta of light are actually physical particles that we call **photons**. But isn't light a wave? Wasn't that what Maxwell's equations said? Physicists recognized that in fact, light was a particle _and_ a wave."
   ]
  },
  {
   "cell_type": "markdown",
   "id": "42199227",
   "metadata": {},
   "source": [
    "However, we hit one more roadblock. If light is a particle, why can't we just measure its observable properties (such as position) and know how it behaves? Through experimentation, scientists tried, and failed, to do exactly this. They concluded that quantum particles cannot be found exactly. We can only measure probabilities by using a **wavefunction** that describes the state of a quantum system. The wavefunction is oftentimes a complex function, and has no direct physical meaning (which makes sense; all physical quantities are real numbers, not complex numbers!) However, it turns out that if you integrate the square of the wavefunction, you find the **probability** of a particle being in a position at a particular time."
   ]
  },
  {
   "cell_type": "markdown",
   "id": "96eba22d",
   "metadata": {},
   "source": [
    "$$\n",
    "P = \\int \\limits_{x_1}^{x_2} |\\Psi(x, t)^2 | dx\n",
    "$$"
   ]
  },
  {
   "cell_type": "markdown",
   "id": "1cf380b3",
   "metadata": {},
   "source": [
    "Note that we can generalize this to multiple dimensions:"
   ]
  },
  {
   "cell_type": "markdown",
   "id": "76c621e8",
   "metadata": {},
   "source": [
    "$$\n",
    "P = \\int \\limits_{r_1}^{r_2} | \\Psi(x, y, z, t)^2 | \\, dx \\, dy \\, dz\n",
    "$$"
   ]
  },
  {
   "cell_type": "markdown",
   "id": "b8851ea3",
   "metadata": {},
   "source": [
    "```{note}\n",
    "We typically use an uppercase $\\Psi$ for time-dependent wavefunctions and a lowercase $\\psi$ for time-independent wavefunctions.\n",
    "```"
   ]
  },
  {
   "cell_type": "markdown",
   "id": "bca76042",
   "metadata": {},
   "source": [
    "## The Schrödinger equation"
   ]
  },
  {
   "cell_type": "markdown",
   "id": "4c374e05",
   "metadata": {},
   "source": [
    "The key equation of quantum mechanics is the Schrödinger equation, which describes how the wavefunction evolves through space and time. It is given by:"
   ]
  },
  {
   "cell_type": "markdown",
   "id": "6a9064ab",
   "metadata": {},
   "source": [
    "$$\n",
    "i \\hbar \\frac{\\partial \\Psi}{\\partial t} = \n",
    "\\left(-\\frac{\\hbar^2}{2m} \\nabla^2 + V(x) \\right)\n",
    "\\Psi\n",
    "$$"
   ]
  },
  {
   "cell_type": "markdown",
   "id": "f4cf0168",
   "metadata": {},
   "source": [
    "Just as the geodesic equation was a generalization of Newton's first law to relativity, the Schrödinger equation was a generalization of Newton's second law to quantum mechanics. Solving this partial differential equation yields the wavefunction, which can then be used to find the probability of a particle being at a certain position, calculate its momentum, and find its energy."
   ]
  },
  {
   "cell_type": "markdown",
   "id": "b7d1a9cf",
   "metadata": {},
   "source": [
    "## Observables as operators"
   ]
  },
  {
   "cell_type": "markdown",
   "id": "24fff2b7",
   "metadata": {},
   "source": [
    "In classical mechanics, we assumed that observable values of a particle were given by functions. In quantum mechanics, however, the observable values of a particle are given by **operators** - functions that change other functions. For example, the position operator is given by $x$, so to find the position, we _apply_ the operator by multiplying by $x$ to the wavefunction:"
   ]
  },
  {
   "cell_type": "markdown",
   "id": "9068fbb9",
   "metadata": {},
   "source": [
    "$$\n",
    "\\hat X \\rightarrow x \\psi (x, t)\n",
    "$$"
   ]
  },
  {
   "cell_type": "markdown",
   "id": "8689d97c",
   "metadata": {},
   "source": [
    "Similarly, the momentum operator is given by $\\frac{\\hbar}{i} \\frac{\\partial}{\\partial x}$, so to find the momentum, we apply the operator by multiplying it by the wavefunction:"
   ]
  },
  {
   "cell_type": "markdown",
   "id": "7025a647",
   "metadata": {},
   "source": [
    "$$\n",
    "\\hat p = \\frac{\\hbar}{i} \\frac{\\partial}{\\partial x} \\psi(x, t)\n",
    "$$"
   ]
  },
  {
   "cell_type": "markdown",
   "id": "ba6d82cb",
   "metadata": {},
   "source": [
    "The remaining operators can be built from a combination of the momentum operator and position operator. For example, since kinetic energy $K = \\frac{p^2}{2m}$, the kinetic energy operator is given by:"
   ]
  },
  {
   "cell_type": "markdown",
   "id": "eb65c9b0",
   "metadata": {},
   "source": [
    "$$\n",
    "\\hat K = -\\frac{\\hbar}{2m} \\frac{\\partial^2}{\\partial x^2} \\psi(x, t)\n",
    "$$"
   ]
  },
  {
   "cell_type": "markdown",
   "id": "c2e848ff",
   "metadata": {},
   "source": [
    "## The uncertainty principle"
   ]
  },
  {
   "cell_type": "markdown",
   "id": "4c778990",
   "metadata": {},
   "source": [
    "Knowing more about a particular observable in general means that we know less about another observable. This is the **uncertainy principle** - when we express the certainty of an observable in terms of its standard deviation $\\sigma$, then:"
   ]
  },
  {
   "cell_type": "markdown",
   "id": "da1fee89",
   "metadata": {},
   "source": [
    "$$\n",
    "\\sigma_x \\sigma_p = \\frac{\\hbar}{2}\n",
    "$$"
   ]
  }
 ],
 "metadata": {
  "kernelspec": {
   "display_name": "Python 3 (ipykernel)",
   "language": "python",
   "name": "python3"
  },
  "language_info": {
   "codemirror_mode": {
    "name": "ipython",
    "version": 3
   },
   "file_extension": ".py",
   "mimetype": "text/x-python",
   "name": "python",
   "nbconvert_exporter": "python",
   "pygments_lexer": "ipython3",
   "version": "3.11.4"
  }
 },
 "nbformat": 4,
 "nbformat_minor": 5
}
