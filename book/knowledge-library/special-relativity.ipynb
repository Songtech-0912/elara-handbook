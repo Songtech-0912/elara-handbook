{
 "cells": [
  {
   "cell_type": "markdown",
   "id": "6de0b075",
   "metadata": {},
   "source": [
    "# Special Relativity"
   ]
  },
  {
   "cell_type": "markdown",
   "id": "ccf258f8",
   "metadata": {},
   "source": [
    "> \"Henceforth space by itself, and time by itself, are doomed to fade away into mere shadows, and only a kind of union of the two will preserve an independent reality...\"\n",
    ">\n",
    "> **Hermann Minkowski (1908)**"
   ]
  },
  {
   "cell_type": "markdown",
   "id": "247bd1bd",
   "metadata": {},
   "source": [
    "For over 200 years, the basic premises of Newtonian mechanics remained absolute. Space and time were separate entities, and the laws of physics followed Newton's postulates. That is, until 1905, when Einstein broke both previously-assumed absolute truths, and set out to create a new theory. This groundbreaking theory was the theory of **Special Relativity**, a description of the motion of objects that supercedes Newtonian mechanics and completely revolutionized our understanding of the world."
   ]
  },
  {
   "cell_type": "code",
   "execution_count": 2,
   "id": "e028b0b0",
   "metadata": {},
   "outputs": [],
   "source": [
    "import matplotlib.pyplot as plt\n",
    "import numpy as np"
   ]
  },
  {
   "cell_type": "markdown",
   "id": "f5495306",
   "metadata": {},
   "source": [
    "## Galilean Relativity"
   ]
  },
  {
   "cell_type": "markdown",
   "id": "280d8000",
   "metadata": {},
   "source": [
    "Imagine you were seated aboard a train, and the train was moving with constant velocity. Are you moving and the earth underneath you stationary? Or is the train stationary and the earth is moving under you? In physics, both of these interpretations can be true - your understanding of your motion must be considered **relative** to some other object. For instance, you can pick the stationary object to be the earth, in which case you would be considered moving, or you could pick the stationary object to be yourself on the train, in which case the Earth would be moving. In either case, the laws of physics remain the same."
   ]
  },
  {
   "cell_type": "markdown",
   "id": "4191d642",
   "metadata": {},
   "source": [
    "The object that you define to be stationary creates what is called a **reference frame** - a coordinate system with an origin centered at that object. Consider two reference frames - one moving, called $S'$, with velocity $\\vec v$, and one stationary, called $S$:"
   ]
  },
  {
   "cell_type": "markdown",
   "id": "94e31137",
   "metadata": {},
   "source": [
    "![Reference frames diagram](https://upload.wikimedia.org/wikipedia/commons/9/90/Standard_conf.png)"
   ]
  },
  {
   "cell_type": "markdown",
   "id": "fb91bd70",
   "metadata": {},
   "source": [
    "An observer would measure an event as having coordinates $(t, x, y, z)$ in frame $S$, and $(t', x', y', z')$ in frame $S'$. The relationship between the two coordinates is given by:"
   ]
  },
  {
   "cell_type": "markdown",
   "id": "f9d9acef",
   "metadata": {},
   "source": [
    "$$\n",
    "x' = x - vt\n",
    "$$\n",
    "\n",
    "$$\n",
    "y' = y\n",
    "$$\n",
    "\n",
    "$$\n",
    "z' = z\n",
    "$$\n",
    "\n",
    "$$\n",
    "t' = t\n",
    "$$"
   ]
  },
  {
   "cell_type": "markdown",
   "id": "0a16c49e",
   "metadata": {},
   "source": [
    "And the velocity $\\vec v'$ relative to stationary reference frame $S$ of an object moving with velocity $\\vec v$ in a moving reference frame $S'$ with velocity $\\vec u$ is given by:"
   ]
  },
  {
   "cell_type": "markdown",
   "id": "5225e324",
   "metadata": {},
   "source": [
    "$$\n",
    "\\vec v' = \\vec v + \\vec u\n",
    "$$"
   ]
  },
  {
   "cell_type": "markdown",
   "id": "f9bf43b8",
   "metadata": {},
   "source": [
    "One thing we specifically notice is that here, time is **absolute** - the same in every reference frame. As we will see, this will no longer hold true in special relativity."
   ]
  },
  {
   "cell_type": "markdown",
   "id": "939a814a",
   "metadata": {},
   "source": [
    "## The constant speed of light"
   ]
  },
  {
   "cell_type": "markdown",
   "id": "5702167f",
   "metadata": {},
   "source": [
    "In the late 19th-century, physicists finally came up with one unified theory of electromagnetism using Maxwell's equations, which we saw earlier. Recall that the equations are given by:"
   ]
  },
  {
   "cell_type": "markdown",
   "id": "651a68c8",
   "metadata": {},
   "source": [
    "$$\n",
    "\\nabla \\cdot \\vec E = \\frac{\\rho}{\\epsilon_0}\n",
    "$$\n",
    "\n",
    "$$\n",
    "\\nabla \\times \\vec E = -\\frac{\\partial \\vec B}{\\partial t}\n",
    "$$\n",
    "\n",
    "$$\n",
    "\\nabla \\cdot \\vec B = 0\n",
    "$$\n",
    "\n",
    "$$\n",
    "\\nabla \\times \\vec B = \\mu_0 \\vec J + \\mu_0 \\epsilon_0 \\frac{\\partial \\vec E}{\\partial t}\n",
    "$$"
   ]
  },
  {
   "cell_type": "markdown",
   "id": "da419d4d",
   "metadata": {},
   "source": [
    "Let's take Faraday's law:"
   ]
  },
  {
   "cell_type": "markdown",
   "id": "2627e965",
   "metadata": {},
   "source": [
    "$$\n",
    "\\nabla \\times \\vec E = -\\frac{\\partial \\vec B}{\\partial t}\n",
    "$$"
   ]
  },
  {
   "cell_type": "markdown",
   "id": "57c57bee",
   "metadata": {},
   "source": [
    "Suppose we take the curl of both sides:"
   ]
  },
  {
   "cell_type": "markdown",
   "id": "99f142e9",
   "metadata": {},
   "source": [
    "$$\n",
    "\\nabla \\times (\\nabla \\times \\vec E) = \\nabla \\times -\\frac{\\partial \\vec B}{\\partial t}\n",
    "$$"
   ]
  },
  {
   "cell_type": "markdown",
   "id": "3fee60f5",
   "metadata": {},
   "source": [
    "The right hand side can be rearranged to be:"
   ]
  },
  {
   "cell_type": "markdown",
   "id": "042800d2",
   "metadata": {},
   "source": [
    "$$\n",
    "\\nabla \\times (\\nabla \\times \\vec E) = -\\frac{\\partial}{\\partial t} (\\nabla \\times \\vec B)\n",
    "$$"
   ]
  },
  {
   "cell_type": "markdown",
   "id": "c8dfde2d",
   "metadata": {},
   "source": [
    "Which simplifies to:"
   ]
  },
  {
   "cell_type": "markdown",
   "id": "e77a4b99",
   "metadata": {},
   "source": [
    "$$\n",
    "\\nabla \\times (\\nabla \\times \\vec E) = -\\mu_0 \\epsilon_0 \\frac{\\partial^2 \\vec E}{\\partial t^2}\n",
    "$$"
   ]
  },
  {
   "cell_type": "markdown",
   "id": "c4decd30",
   "metadata": {},
   "source": [
    "We can use the vector identity $\\nabla \\times (\\nabla \\times \\vec E) = -\\nabla^2 E$ to simplify further to:"
   ]
  },
  {
   "cell_type": "markdown",
   "id": "a2c7c9a2",
   "metadata": {},
   "source": [
    "$$\n",
    "\\nabla^2 E = \\mu_0 \\epsilon_0 \\frac{\\partial^2 \\vec E}{\\partial t^2}\n",
    "$$"
   ]
  },
  {
   "cell_type": "markdown",
   "id": "cf69bc5c",
   "metadata": {},
   "source": [
    "Using the same technique for Ampére's law and then Faraday's law yields the same result for magnetic fields:"
   ]
  },
  {
   "cell_type": "markdown",
   "id": "fe6d9be6",
   "metadata": {},
   "source": [
    "$$\n",
    "\\nabla^2 B = \\mu_0 \\epsilon_0 \\frac{\\partial^2 \\vec B}{\\partial t^2}\n",
    "$$"
   ]
  },
  {
   "cell_type": "markdown",
   "id": "80906d40",
   "metadata": {},
   "source": [
    "Note that this looks very much like the wave equation:"
   ]
  },
  {
   "cell_type": "markdown",
   "id": "5ef11dd8",
   "metadata": {},
   "source": [
    "$$\n",
    "\\nabla^2 f = \\frac{1}{v^2} \\frac{\\partial^2 f}{\\partial t^2}\n",
    "$$"
   ]
  },
  {
   "cell_type": "markdown",
   "id": "0961e056",
   "metadata": {},
   "source": [
    "Which means that oscillating electric and magnetic fields produce electromagnetic waves that move through space at a speed $v$. We can solve for $v$ by noting that:"
   ]
  },
  {
   "cell_type": "markdown",
   "id": "313652cb",
   "metadata": {},
   "source": [
    "$$\n",
    "\\frac{1}{v^2} = \\mu_0 \\epsilon_0\n",
    "$$"
   ]
  },
  {
   "cell_type": "markdown",
   "id": "b9d29723",
   "metadata": {},
   "source": [
    "This yields:"
   ]
  },
  {
   "cell_type": "markdown",
   "id": "53dc016f",
   "metadata": {},
   "source": [
    "$$\n",
    "v = \\frac{1}{\\sqrt{\\mu_0 \\epsilon_0}} = 299792458 \\mathrm{\\ m/s} = c\n",
    "$$"
   ]
  },
  {
   "cell_type": "markdown",
   "id": "35df3170",
   "metadata": {},
   "source": [
    "Now notice something special. The velocity $c$ of electromagnetic waves - light waves - is a constant, because it is composed of the reciprocal of the square root of two other constants. This means that regardless of the velocity of the reference frame, it must be the same speed."
   ]
  },
  {
   "cell_type": "markdown",
   "id": "95c7afc4",
   "metadata": {},
   "source": [
    "However, remember that in Galilean relativity, we defined that $\\vec v' = \\vec v + \\vec u$. So we'd expect that an observer in a moving reference frame would measure a higher speed of light, while observers in a stationary reference frame would measure a lower speed of light. Through numerous experiments, this was proven not to be the case - we are certain that the speed of light is constant, regardless of the reference frame."
   ]
  },
  {
   "cell_type": "markdown",
   "id": "e81631e9",
   "metadata": {},
   "source": [
    "Therefore, the Galilean transformations must be wrong, and a new set of transformations - the Lorentz transformations - must supercede them."
   ]
  },
  {
   "cell_type": "markdown",
   "id": "ad8c9d90",
   "metadata": {},
   "source": [
    "## The Lorentz Transformations"
   ]
  },
  {
   "cell_type": "markdown",
   "id": "0d67831d",
   "metadata": {},
   "source": [
    "The Lorentz transformations are Einstein's revision to Galilean relavity, derived from two postulates:\n",
    "\n",
    "- The laws of physics hold true in every reference frame\n",
    "- The speed of light $c$ is constant in every reference frame"
   ]
  },
  {
   "cell_type": "markdown",
   "id": "c2cc6460",
   "metadata": {},
   "source": [
    "To derive the Lorentz transformations, let's start with the Galilean transformations for $x \\rightarrow x'$ and $x' \\rightarrow x$:"
   ]
  },
  {
   "cell_type": "markdown",
   "id": "26d5d6eb",
   "metadata": {},
   "source": [
    "$$\n",
    "x' = x - vt\n",
    "$$\n",
    "\n",
    "$$\n",
    "x = x' + vt'\n",
    "$$"
   ]
  },
  {
   "cell_type": "markdown",
   "id": "303c8af1",
   "metadata": {},
   "source": [
    "To correct Galilean coordinate transformations, we intuitively need to multiply the Galilean transformations by a factor $\\gamma$, which we can think of as the \"correcting factor\" to make sure that the Galilean transforms preserve the speed of light in every reference frame:"
   ]
  },
  {
   "cell_type": "markdown",
   "id": "5e01ab18",
   "metadata": {},
   "source": [
    "$$\n",
    "x' = \\gamma (x - vt)\n",
    "$$\n",
    "\n",
    "$$\n",
    "x = \\gamma (x' + vt')\n",
    "$$"
   ]
  },
  {
   "cell_type": "markdown",
   "id": "34e3ee6b",
   "metadata": {},
   "source": [
    "Now, we can multiply the left and right hand sides of the equation together, to combine the two equations into one equation:"
   ]
  },
  {
   "cell_type": "markdown",
   "id": "c1a1c805",
   "metadata": {},
   "source": [
    "$$\n",
    "x' x = \\gamma (x - vt) \\gamma (x' + vt')\n",
    "$$"
   ]
  },
  {
   "cell_type": "markdown",
   "id": "dac0c22c",
   "metadata": {},
   "source": [
    "$$\n",
    "x' x = \\gamma^2 (xx' + xvt - x'vt - v^2  t t')\n",
    "$$"
   ]
  },
  {
   "cell_type": "markdown",
   "id": "3b6bcc9f",
   "metadata": {},
   "source": [
    "Remember the second postulate of special relativity is that the speed of light is an invariant in every reference frame - that is $c = \\frac{x}{t} = \\frac{x'}{t'}$. Rearranging, we can say that $x = ct$ and $x' = ct'$. Substituting that in, we have:"
   ]
  },
  {
   "cell_type": "markdown",
   "id": "90c34c2f",
   "metadata": {},
   "source": [
    "$$\n",
    "c^2 tt' = \\gamma^2 (c^2 tt' + ct vt - ct' vt - v^2 tt')\n",
    "$$"
   ]
  },
  {
   "cell_type": "markdown",
   "id": "b5fccbcf",
   "metadata": {},
   "source": [
    "The two middle terms cancel each other out, so we have:"
   ]
  },
  {
   "cell_type": "markdown",
   "id": "f4274337",
   "metadata": {},
   "source": [
    "$$\n",
    "c^2 tt' = \\gamma^2 (c^2 tt' - v^2 tt')\n",
    "$$"
   ]
  },
  {
   "cell_type": "markdown",
   "id": "b7fcab27",
   "metadata": {},
   "source": [
    "We isolate $\\gamma^2$ by dividing the right-hand side of the equation by the left, to obtain:"
   ]
  },
  {
   "cell_type": "markdown",
   "id": "fc83b138",
   "metadata": {},
   "source": [
    "$$\n",
    "\\gamma^2 = \\frac{c^2 tt'}{c^2 tt' - v^2 tt'}\n",
    "$$"
   ]
  },
  {
   "cell_type": "markdown",
   "id": "861f093c",
   "metadata": {},
   "source": [
    "We can factor out the common factor of $tt'$, to get:"
   ]
  },
  {
   "cell_type": "markdown",
   "id": "1e0bb053",
   "metadata": {},
   "source": [
    "$$\n",
    "\\gamma^2 = \\frac{c^2 tt'}{tt'(c^2 - v^2)}\n",
    "$$"
   ]
  },
  {
   "cell_type": "markdown",
   "id": "72d826f4",
   "metadata": {},
   "source": [
    "$$\n",
    "\\gamma^2 = \\frac{c^2}{(c^2 - v^2)}\n",
    "$$"
   ]
  },
  {
   "cell_type": "markdown",
   "id": "6a9737f7",
   "metadata": {},
   "source": [
    "We can then simplify by dividing both the numerator and denominator by $c^2$, which gives us:"
   ]
  },
  {
   "cell_type": "markdown",
   "id": "1b665e58",
   "metadata": {},
   "source": [
    "$$\n",
    "\\gamma^2 = \\frac{1}{1 - \\frac{v^2}{c^2}}\n",
    "$$"
   ]
  },
  {
   "cell_type": "markdown",
   "id": "40a03ca8",
   "metadata": {},
   "source": [
    "$$\n",
    "\\gamma^2 = \\frac{1}{1 - \\left(\\frac{v}{c}\\right)^2}\n",
    "$$"
   ]
  },
  {
   "cell_type": "markdown",
   "id": "8e0057b2",
   "metadata": {},
   "source": [
    "Finally, taking the square root, we have:"
   ]
  },
  {
   "cell_type": "markdown",
   "id": "17de0086",
   "metadata": {},
   "source": [
    "$$\n",
    "\\gamma = \\frac{1}{\\sqrt{1 - \\left(\\frac{v}{c}\\right)^2}}\n",
    "$$"
   ]
  },
  {
   "cell_type": "markdown",
   "id": "8dd6152f",
   "metadata": {},
   "source": [
    "We can use this to derive the Lorentz transformations for $x$, $y$, and $z$, but we need a little more algebra to figure out the Lorentz transform for $t$. To do this, we first write out the Lorentz transformations from $x \\rightarrow x'$ and $x' \\rightarrow x$:"
   ]
  },
  {
   "cell_type": "markdown",
   "id": "f2a26109",
   "metadata": {},
   "source": [
    "$$\n",
    "x' = \\gamma(x - vt)\n",
    "$$\n",
    "\n",
    "$$\n",
    "x = \\gamma (x' + vt')\n",
    "$$"
   ]
  },
  {
   "cell_type": "markdown",
   "id": "634b6061",
   "metadata": {},
   "source": [
    "We take the second equation to solve for $t'$:"
   ]
  },
  {
   "cell_type": "markdown",
   "id": "18bab425",
   "metadata": {},
   "source": [
    "$$ \n",
    "t' = \\frac{x}{\\gamma v} - \\frac{x'}{v}\n",
    "$$"
   ]
  },
  {
   "cell_type": "markdown",
   "id": "79295849",
   "metadata": {},
   "source": [
    "And we can now plug in the first Lorentz transformation equation into $x'$:"
   ]
  },
  {
   "cell_type": "markdown",
   "id": "caeba6e0",
   "metadata": {},
   "source": [
    "$$ \n",
    "t' = \\frac{x}{\\gamma v} - \\frac{\\gamma(x - vt)}{v}\n",
    "$$"
   ]
  },
  {
   "cell_type": "markdown",
   "id": "d5d9a3df",
   "metadata": {},
   "source": [
    "We can now distribute to find:"
   ]
  },
  {
   "cell_type": "markdown",
   "id": "25c15d87",
   "metadata": {},
   "source": [
    "$$\n",
    "t' = \\gamma \\left(\\frac{x}{\\gamma^2 v} - \\frac{x}{v} + t\\right)\n",
    "$$"
   ]
  },
  {
   "cell_type": "markdown",
   "id": "db682ea5",
   "metadata": {},
   "source": [
    "We can further factor out the first two terms as:"
   ]
  },
  {
   "cell_type": "markdown",
   "id": "d54c82ae",
   "metadata": {},
   "source": [
    "$$\n",
    "t' = \\gamma \\left(x\\left[\\frac{1}{\\gamma^2 v} - \\frac{1}{v}\\right]+ t\\right)\n",
    "$$"
   ]
  },
  {
   "cell_type": "markdown",
   "id": "a2ac83f8",
   "metadata": {},
   "source": [
    "This simplifies to:"
   ]
  },
  {
   "cell_type": "markdown",
   "id": "c335c666",
   "metadata": {},
   "source": [
    "$$\n",
    "t' = \\gamma \\left(x\\left[\\frac{1- \\gamma^2}{\\gamma^2 v}\\right] + t\\right)\n",
    "$$"
   ]
  },
  {
   "cell_type": "markdown",
   "id": "b55bd30e",
   "metadata": {},
   "source": [
    "Which then simplifies to:"
   ]
  },
  {
   "cell_type": "markdown",
   "id": "3618b153",
   "metadata": {},
   "source": [
    "$$\n",
    "t' = \\gamma \\left(-\\frac{xv}{c^2} + t\\right)\n",
    "$$"
   ]
  },
  {
   "cell_type": "markdown",
   "id": "75677259",
   "metadata": {},
   "source": [
    "Or:"
   ]
  },
  {
   "cell_type": "markdown",
   "id": "9019d5b2",
   "metadata": {},
   "source": [
    "$$\n",
    "t' = \\gamma \\left(t - \\frac{vx}{c^2}\\right)\n",
    "$$"
   ]
  },
  {
   "cell_type": "markdown",
   "id": "c5e2faea",
   "metadata": {},
   "source": [
    "So, we now have the complete set of **Lorentz transformations**, which obey the laws of special relativity:"
   ]
  },
  {
   "cell_type": "markdown",
   "id": "a5935d7b",
   "metadata": {},
   "source": [
    "$$\n",
    "t' = \\gamma \\left(t - \\frac{vx}{c^2}\\right)\n",
    "$$\n",
    "\n",
    "$$\n",
    "x' = \\gamma (x - vt)\n",
    "$$\n",
    "\n",
    "$$\n",
    "y' = y\n",
    "$$\n",
    "\n",
    "$$\n",
    "z' = z\n",
    "$$"
   ]
  },
  {
   "cell_type": "markdown",
   "id": "8e5b43bb",
   "metadata": {},
   "source": [
    "Where the Lorentz factor $\\gamma$ is approximately 1 at speeds of everyday life, but rises to infinity as you approach $c$:"
   ]
  },
  {
   "cell_type": "code",
   "execution_count": 17,
   "id": "b9e819f8",
   "metadata": {},
   "outputs": [
    {
     "data": {
      "image/png": "[encoded data removed]",
      "text/plain": [
       "<Figure size 640x480 with 1 Axes>"
      ]
     },
     "metadata": {},
     "output_type": "display_data"
    }
   ],
   "source": [
    "c = 299792458\n",
    "v = np.linspace(0, 0.999 * c, 1000)\n",
    "gamma = 1 / np.sqrt(1 - (v / c) ** 2)\n",
    "one = np.ones(len(v))\n",
    "\n",
    "plt.plot(v, gamma, label=\"Gamma\")\n",
    "plt.plot(v, one, label=\"y = 1\")\n",
    "plt.legend()\n",
    "plt.title(\"Gamma factor as a function of speed (in m/s)\")\n",
    "plt.show()"
   ]
  },
  {
   "cell_type": "markdown",
   "id": "d3718878",
   "metadata": {},
   "source": [
    "## The idea of spacetime"
   ]
  },
  {
   "cell_type": "markdown",
   "id": "da5b9847",
   "metadata": {},
   "source": [
    "In classical physics, time had always been thought of as a steady feature in the background of the universe, something that was universal, and crucially, experienced the same way by everyone. But now, with the Lorentz transforms, it was clear that time was a dimension, like any other, and it couldn't be separated from the dimensions of space. Hence, the new idea of **spacetime** was born - a 4-dimensional space that contained space _and_ time."
   ]
  },
  {
   "cell_type": "markdown",
   "id": "3e32bf75",
   "metadata": {},
   "source": [
    "But how would this new spacetime be described? One way to describe spacetime is by defining a **metric**, which we saw back in tensor calculus. A metric can be used to define how distances are measured in space. For instance, in 2D Euclidean space, we can measure distances with:"
   ]
  },
  {
   "cell_type": "markdown",
   "id": "bf8f31d0",
   "metadata": {},
   "source": [
    "$$\n",
    "ds^2 = dx^2 + dy^2\n",
    "$$"
   ]
  },
  {
   "cell_type": "markdown",
   "id": "e4d938db",
   "metadata": {},
   "source": [
    "which is just the Pythagorean theorem. Hermann Minkowski, Einstein's former professor, recognized that this metric would not work in special relativity when applied to spacetime. He instead proposed a different metric, which we today know as the **Minkowski metric**."
   ]
  },
  {
   "cell_type": "markdown",
   "id": "2953cb78",
   "metadata": {},
   "source": [
    "We start from the Euclidean metric in three dimensions:"
   ]
  },
  {
   "cell_type": "markdown",
   "id": "8d230bdd",
   "metadata": {},
   "source": [
    "$$\n",
    "ds^2 = dx^2 + dy^2 + dz^2\n",
    "$$"
   ]
  },
  {
   "cell_type": "markdown",
   "id": "ad213c09",
   "metadata": {},
   "source": [
    "Now, if we add a time dimension, and still consider Euclidean space, we have:"
   ]
  },
  {
   "cell_type": "markdown",
   "id": "457a4466",
   "metadata": {},
   "source": [
    "$$\n",
    "ds^2 = dt^2 + dx^2 + dy^2 + dz^2\n",
    "$$"
   ]
  },
  {
   "cell_type": "markdown",
   "id": "4024ede6",
   "metadata": {},
   "source": [
    "We want to use the same units for time as well as space (units of meters). Otherwise, we would have incompatible units in our metric. Thus, we add a factor of $c^2$ to get:"
   ]
  },
  {
   "cell_type": "markdown",
   "id": "287ed3c1",
   "metadata": {},
   "source": [
    "$$\n",
    "ds^2 = dt^2 + dx^2 + dy^2 + dz^2\n",
    "$$"
   ]
  },
  {
   "cell_type": "markdown",
   "id": "a5bda0b9",
   "metadata": {},
   "source": [
    "Now, note the observation that in special relativity, as an object moves faster, it experiences _less_ time, instead of more time, as in Euclidean space. Therefore, the time component of the metric must be negative:"
   ]
  },
  {
   "cell_type": "markdown",
   "id": "1177c593",
   "metadata": {},
   "source": [
    "$$\n",
    "ds^2 = -c^2 dt^2 + dx^2 + dy^2 + dz^2\n",
    "$$"
   ]
  },
  {
   "cell_type": "markdown",
   "id": "9c3fb79b",
   "metadata": {},
   "source": [
    "We have arrived at the Minkowski metric."
   ]
  },
  {
   "cell_type": "markdown",
   "id": "c5ddc4e4",
   "metadata": {},
   "source": [
    "## Consequences of special relativity"
   ]
  },
  {
   "cell_type": "markdown",
   "id": "907356af",
   "metadata": {},
   "source": [
    "### Relativity of simultaneity"
   ]
  },
  {
   "cell_type": "markdown",
   "id": "e326c5a9",
   "metadata": {},
   "source": [
    "Let's go back to the Lorentz transform for time coordinates:"
   ]
  },
  {
   "cell_type": "markdown",
   "id": "6af9eb24",
   "metadata": {},
   "source": [
    "$$\n",
    "t' = \\gamma \\left(t - \\frac{vx}{c^2}\\right)\n",
    "$$"
   ]
  },
  {
   "cell_type": "markdown",
   "id": "e3eed8fb",
   "metadata": {},
   "source": [
    "We can rewrite this equation equivalently in terms of _changes_ in time:"
   ]
  },
  {
   "cell_type": "markdown",
   "id": "25e85472",
   "metadata": {},
   "source": [
    "$$\n",
    "\\Delta t' = \\gamma \\left(\\Delta t - \\frac{v \\Delta x}{c^2}\\right)\n",
    "$$"
   ]
  },
  {
   "cell_type": "markdown",
   "id": "1a5a8c9c",
   "metadata": {},
   "source": [
    "From this equation, it is clear that two events with $\\Delta t = 0$ - happening simultaneously in one frame - do not necessarily imply that $\\Delta t' = 0$ - that is, they are happening simultaneously in the other frame. In fact, the actual case is that:"
   ]
  },
  {
   "cell_type": "markdown",
   "id": "fd051616",
   "metadata": {},
   "source": [
    "$$\n",
    "\\Delta t = 0 \\Rightarrow \\Delta t' = -\\frac{\\gamma v\\Delta x}{c^2}\n",
    "$$"
   ]
  },
  {
   "cell_type": "markdown",
   "id": "0dba7d0d",
   "metadata": {},
   "source": [
    "Which implies that events that are simultaneous in frame $S$ are separated by a time of $-\\frac{\\gamma v\\Delta x}{c^2}$ in frame $S'$. This is the **relativity of simultaneity**."
   ]
  },
  {
   "cell_type": "markdown",
   "id": "a457e1ba",
   "metadata": {},
   "source": [
    "### Time dilation"
   ]
  },
  {
   "cell_type": "markdown",
   "id": "5cb8b711",
   "metadata": {},
   "source": [
    "Again, we return to the equation:"
   ]
  },
  {
   "cell_type": "markdown",
   "id": "ceaaadd0",
   "metadata": {},
   "source": [
    "$$\n",
    "\\Delta t' = \\gamma \\left(\\Delta t - \\frac{v \\Delta x}{c^2}\\right)\n",
    "$$"
   ]
  },
  {
   "cell_type": "markdown",
   "id": "0bf692d7",
   "metadata": {},
   "source": [
    "In this case, suppose we have two clocks, one at rest aboard a moving spaceship (frame $S'$), and one at rest on Earth (frame $S$). Because both clocks are not moving, we can say that $\\Delta x = 0$. But this leads us to find something strange:"
   ]
  },
  {
   "cell_type": "markdown",
   "id": "c79dd622",
   "metadata": {},
   "source": [
    "$$\n",
    "\\Delta t' = \\gamma \\Delta t\n",
    "$$"
   ]
  },
  {
   "cell_type": "markdown",
   "id": "3cf62240",
   "metadata": {},
   "source": [
    "That is, more time passes on Earth than aboard the spaceship during the same measured time interval. Or put it another way, clocks tick more slowly when placed in a moving reference frame. For instance, a 3-second time interval for a spaceship going at 80% light speed would be measured as 7-seconds by the earthbound clock. In practice, this effect doesn't show up until a reference frame is moving at more than 50% of the speed of light, but in interstellar spaceflight, the effects can be dramatic - at 99.999% of the speed of light, one year aboard a spacecraft would be 223 years on Earth! In fact, this is one mode of time travel into the future - passengers aboard a very fast craft would experience little time, while a lot more time passes for stationary observers, allowing passengers to seemingly magically travel into the future."
   ]
  },
  {
   "cell_type": "markdown",
   "id": "b570bfe2",
   "metadata": {},
   "source": [
    "### Length contraction"
   ]
  },
  {
   "cell_type": "markdown",
   "id": "38e6f601",
   "metadata": {},
   "source": [
    "We first take the x-coordinate Lorentz transform equation, and we write it in terms of the change in $x$:"
   ]
  },
  {
   "cell_type": "markdown",
   "id": "c713c7c0",
   "metadata": {},
   "source": [
    "$$\n",
    "\\Delta x' = \\gamma (\\Delta x - v \\Delta t)\n",
    "$$"
   ]
  },
  {
   "cell_type": "markdown",
   "id": "1ae952d0",
   "metadata": {},
   "source": [
    "We set $\\Delta t = 0$ as we want a snapshot of one moment in time - therefore, we have:"
   ]
  },
  {
   "cell_type": "markdown",
   "id": "f2aef3fe",
   "metadata": {},
   "source": [
    "$$\n",
    "\\Delta x' = \\gamma \\Delta x\n",
    "$$"
   ]
  },
  {
   "cell_type": "markdown",
   "id": "33b1245a",
   "metadata": {},
   "source": [
    "We can solve for $\\Delta x$ with:"
   ]
  },
  {
   "cell_type": "markdown",
   "id": "efb7ecd8",
   "metadata": {},
   "source": [
    "$$\n",
    "\\Delta x = \\frac{\\Delta x'}{\\gamma}\n",
    "$$"
   ]
  },
  {
   "cell_type": "markdown",
   "id": "efedb53e",
   "metadata": {},
   "source": [
    "This means in the stationary frame, a moving object would be _contracted_ along the direction of motion. This means in the paradoxical case that a meterstick travelling at 90% or more than the speed of light would be able to fit into a barn house less than a meter long."
   ]
  },
  {
   "cell_type": "markdown",
   "id": "5fd3912d",
   "metadata": {},
   "source": [
    "### Relativistic addition of velocities"
   ]
  },
  {
   "cell_type": "markdown",
   "id": "2e67d235",
   "metadata": {},
   "source": [
    "$$\n",
    "u'={\\frac {dx'}{dt'}}={\\frac {\\gamma (dx-vdt)}{\\gamma \\left(dt-{\\frac {vdx}{c^{2}}}\\right)}}={\\frac {{\\frac {dx}{dt}}-v}{1-\\left({\\frac {v}{c^{2}}}\\right)\\left({\\frac {dx}{dt}}\\right)}}={\\frac {u-v}{1-uv/c^{2}}}\n",
    "$$"
   ]
  },
  {
   "cell_type": "markdown",
   "id": "e052bfe4",
   "metadata": {},
   "source": [
    "### Proper length and proper time:"
   ]
  },
  {
   "cell_type": "markdown",
   "id": "f54ed2a8",
   "metadata": {},
   "source": [
    "Proper time $\\tau$ is the time measured by an observer's own clock as the observer moves through spacetime. It is related to the coordinate time $t$, which is the clock of an external observer, by:"
   ]
  },
  {
   "cell_type": "markdown",
   "id": "8d10f77f",
   "metadata": {},
   "source": [
    "$$\n",
    "\\Delta t = \\gamma \\Delta \\tau\n",
    "$$"
   ]
  },
  {
   "cell_type": "markdown",
   "id": "0c9e6b73",
   "metadata": {},
   "source": [
    "Proper length $\\ell$ is the length measured by an observer's own ruler as the observer moves through spacetime. It is related to the coordinate length $L$, which is the ruler of an external observer, by:"
   ]
  },
  {
   "cell_type": "markdown",
   "id": "ffa32849",
   "metadata": {},
   "source": [
    "$$\n",
    "\\Delta L = \\gamma \\Delta \\ell \n",
    "$$"
   ]
  },
  {
   "cell_type": "markdown",
   "id": "9977d80a",
   "metadata": {},
   "source": [
    "## Generalizing Newtonian mechanics to special relativity"
   ]
  },
  {
   "cell_type": "markdown",
   "id": "fb4d6d46",
   "metadata": {},
   "source": [
    "Consider a particle moving along a path through spacetime $x^\\mu (\\tau)$. The four-velocity of that particle is given by:"
   ]
  },
  {
   "cell_type": "markdown",
   "id": "db6cdf8d",
   "metadata": {},
   "source": [
    "$$\n",
    "U^\\mu = \\frac{dx^\\mu}{d\\tau} = \\gamma \\frac{dx^\\mu}{dt} = \n",
    "\\left(c\\frac{dt}{d\\tau}, \\frac{dx}{d\\tau}, \\frac{dy}{d\\tau}, \\frac{dz}{d\\tau} \\right)\n",
    "$$"
   ]
  },
  {
   "cell_type": "markdown",
   "id": "ce7701cf",
   "metadata": {},
   "source": [
    "It can also be written as:"
   ]
  },
  {
   "cell_type": "markdown",
   "id": "ec628d21",
   "metadata": {},
   "source": [
    "$$\n",
    "U^\\mu = (c\\gamma, \\gamma v)\n",
    "$$"
   ]
  },
  {
   "cell_type": "markdown",
   "id": "8dd1f7d0",
   "metadata": {},
   "source": [
    "Relativistic four-momentum is given by:"
   ]
  },
  {
   "cell_type": "markdown",
   "id": "dced80dd",
   "metadata": {},
   "source": [
    "$$\n",
    "P^\\mu = m U^\\mu = m \\gamma v = (mc\\gamma, m\\gamma v)\n",
    "$$"
   ]
  },
  {
   "cell_type": "markdown",
   "id": "55ad7e57",
   "metadata": {},
   "source": [
    "Relativistic four-force is given by:"
   ]
  },
  {
   "cell_type": "markdown",
   "id": "31d56aa3",
   "metadata": {},
   "source": [
    "$$\n",
    "F^\\mu = \\frac{dP^\\mu}{d\\tau}\n",
    "$$"
   ]
  },
  {
   "cell_type": "markdown",
   "id": "44a3d7ca",
   "metadata": {},
   "source": [
    "Relativitic kinetic energy is given by:"
   ]
  },
  {
   "cell_type": "markdown",
   "id": "6d81c600",
   "metadata": {},
   "source": [
    "$$\n",
    "K = (\\gamma - 1)mc^2 = \\gamma mc^2 - mc^2\n",
    "$$"
   ]
  },
  {
   "cell_type": "markdown",
   "id": "c6af1081",
   "metadata": {},
   "source": [
    "Total relativistic energy is given by:"
   ]
  },
  {
   "cell_type": "markdown",
   "id": "b4930f52",
   "metadata": {},
   "source": [
    "$$\n",
    "E = \\gamma mc^2 = K + mc^2\n",
    "$$"
   ]
  },
  {
   "cell_type": "markdown",
   "id": "b8e3447a",
   "metadata": {},
   "source": [
    "When the object is stationary, $\\gamma = 1$, so the equation simplifies to:"
   ]
  },
  {
   "cell_type": "markdown",
   "id": "a73015a8",
   "metadata": {},
   "source": [
    "$$\n",
    "E = mc^2\n",
    "$$"
   ]
  },
  {
   "cell_type": "markdown",
   "id": "16a68044",
   "metadata": {},
   "source": [
    "This provides another way to write relativistic momentum:"
   ]
  },
  {
   "cell_type": "markdown",
   "id": "2828ae56",
   "metadata": {},
   "source": [
    "$$\n",
    "P^\\mu = (E/c, mU^\\mu)\n",
    "$$"
   ]
  }
 ],
 "metadata": {
  "kernelspec": {
   "display_name": "Python 3 (ipykernel)",
   "language": "python",
   "name": "python3"
  },
  "language_info": {
   "codemirror_mode": {
    "name": "ipython",
    "version": 3
   },
   "file_extension": ".py",
   "mimetype": "text/x-python",
   "name": "python",
   "nbconvert_exporter": "python",
   "pygments_lexer": "ipython3",
   "version": "3.11.4"
  }
 },
 "nbformat": 4,
 "nbformat_minor": 5
}
