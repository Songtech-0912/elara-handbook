{
 "cells": [
  {
   "cell_type": "markdown",
   "id": "ef6702a0",
   "metadata": {},
   "source": [
    "# Special Relativity"
   ]
  },
  {
   "cell_type": "markdown",
   "id": "cb5d5d00",
   "metadata": {},
   "source": [
    "> \"Henceforth space by itself, and time by itself, are doomed to fade away into mere shadows, and only a kind of union of the two will preserve an independent reality...\"\n",
    ">\n",
    "> **Hermann Minkowski (1908)**"
   ]
  },
  {
   "cell_type": "markdown",
   "id": "cbcc3ea5",
   "metadata": {},
   "source": [
    "For over 200 years, the basic premises of Newtonian mechanics remained absolute. Space and time were separate entities, and the laws of physics followed Newton's postulates. That is, until 1905, when Einstein broke both previously-assumed absolute truths, and set out to create a new theory. This groundbreaking theory was the theory of **Special Relativity**, a description of the motion of objects that supercedes Newtonian mechanics and completely revolutionized our understanding of the world."
   ]
  },
  {
   "cell_type": "markdown",
   "id": "7ebf9540",
   "metadata": {},
   "source": [
    "## Galilean Relativity"
   ]
  },
  {
   "cell_type": "markdown",
   "id": "22a0d756",
   "metadata": {},
   "source": [
    "Imagine you were seated aboard a train, and the train was moving with constant velocity. Are you moving and the earth underneath you stationary? Or is the train stationary and the earth is moving under you? In physics, both of these interpretations can be true - your understanding of your motion must be considered **relative** to some other object. For instance, you can pick the stationary object to be the earth, in which case you would be considered moving, or you could pick the stationary object to be yourself on the train, in which case the Earth would be moving. In either case, the laws of physics remain the same."
   ]
  },
  {
   "cell_type": "markdown",
   "id": "cd084473",
   "metadata": {},
   "source": [
    "The object that you define to be stationary creates what is called a **reference frame** - a coordinate system with an origin centered at that object. Consider two reference frames - one moving, called $S'$, with velocity $\\vec v$, and one stationary, called $S$:"
   ]
  },
  {
   "cell_type": "markdown",
   "id": "3270e3ab",
   "metadata": {},
   "source": [
    "![Reference frames diagram](https://upload.wikimedia.org/wikipedia/commons/9/90/Standard_conf.png)"
   ]
  },
  {
   "cell_type": "markdown",
   "id": "4e0764c3",
   "metadata": {},
   "source": [
    "An observer would measure an event as having coordinates $(t, x, y, z)$ in frame $S$, and $(t', x', y', z')$ in frame $S'$. The relationship between the two coordinates is given by:"
   ]
  },
  {
   "cell_type": "markdown",
   "id": "336fd0c6",
   "metadata": {},
   "source": [
    "$$\n",
    "x' = x - vt\n",
    "$$\n",
    "\n",
    "$$\n",
    "y' = y\n",
    "$$\n",
    "\n",
    "$$\n",
    "z' = z\n",
    "$$\n",
    "\n",
    "$$\n",
    "t' = t\n",
    "$$"
   ]
  },
  {
   "cell_type": "markdown",
   "id": "2fc361ac",
   "metadata": {},
   "source": [
    "And the velocity $\\vec v'$ relative to stationary reference frame $S$ of an object moving with velocity $\\vec v$ in a moving reference frame $S'$ with velocity $\\vec u$ is given by:"
   ]
  },
  {
   "cell_type": "markdown",
   "id": "11784a01",
   "metadata": {},
   "source": [
    "$$\n",
    "\\vec v' = \\vec v + \\vec u\n",
    "$$"
   ]
  },
  {
   "cell_type": "markdown",
   "id": "c67ff744",
   "metadata": {},
   "source": [
    "One thing we specifically notice is that here, time is **absolute** - the same in every reference frame. As we will see, this will no longer hold true in special relativity."
   ]
  },
  {
   "cell_type": "markdown",
   "id": "daf1c0a2",
   "metadata": {},
   "source": [
    "## The constant speed of light"
   ]
  },
  {
   "cell_type": "markdown",
   "id": "62723c38",
   "metadata": {},
   "source": [
    "In the late 19th-century, physicists finally came up with one unified theory of electromagnetism using Maxwell's equations, which we saw earlier. Recall that the equations are given by:"
   ]
  },
  {
   "cell_type": "markdown",
   "id": "fb86c16e",
   "metadata": {},
   "source": [
    "$$\n",
    "\\nabla \\cdot \\vec E = \\frac{\\rho}{\\epsilon_0}\n",
    "$$\n",
    "\n",
    "$$\n",
    "\\nabla \\times \\vec E = -\\frac{\\partial \\vec B}{\\partial t}\n",
    "$$\n",
    "\n",
    "$$\n",
    "\\nabla \\cdot \\vec B = 0\n",
    "$$\n",
    "\n",
    "$$\n",
    "\\nabla \\times \\vec B = \\mu_0 \\vec J + \\mu_0 \\epsilon_0 \\frac{\\partial \\vec E}{\\partial t}\n",
    "$$"
   ]
  },
  {
   "cell_type": "markdown",
   "id": "7f572b9e",
   "metadata": {},
   "source": [
    "Let's take Faraday's law:"
   ]
  },
  {
   "cell_type": "markdown",
   "id": "c36545b0",
   "metadata": {},
   "source": [
    "$$\n",
    "\\nabla \\times \\vec E = -\\frac{\\partial \\vec B}{\\partial t}\n",
    "$$"
   ]
  },
  {
   "cell_type": "markdown",
   "id": "82a2176a",
   "metadata": {},
   "source": [
    "Suppose we take the curl of both sides:"
   ]
  },
  {
   "cell_type": "markdown",
   "id": "06603abd",
   "metadata": {},
   "source": [
    "$$\n",
    "\\nabla \\times (\\nabla \\times \\vec E) = \\nabla \\times -\\frac{\\partial \\vec B}{\\partial t}\n",
    "$$"
   ]
  },
  {
   "cell_type": "markdown",
   "id": "3208e070",
   "metadata": {},
   "source": [
    "The right hand side can be rearranged to be:"
   ]
  },
  {
   "cell_type": "markdown",
   "id": "ca832de9",
   "metadata": {},
   "source": [
    "$$\n",
    "\\nabla \\times (\\nabla \\times \\vec E) = -\\frac{\\partial}{\\partial t} (\\nabla \\times \\vec B)\n",
    "$$"
   ]
  },
  {
   "cell_type": "markdown",
   "id": "57b41bba",
   "metadata": {},
   "source": [
    "Which simplifies to:"
   ]
  },
  {
   "cell_type": "markdown",
   "id": "758596fc",
   "metadata": {},
   "source": [
    "$$\n",
    "\\nabla \\times (\\nabla \\times \\vec E) = -\\mu_0 \\epsilon_0 \\frac{\\partial^2 \\vec E}{\\partial t^2}\n",
    "$$"
   ]
  },
  {
   "cell_type": "markdown",
   "id": "59061081",
   "metadata": {},
   "source": [
    "We can use the vector identity $\\nabla \\times (\\nabla \\times \\vec E) = -\\nabla^2 E$ to simplify further to:"
   ]
  },
  {
   "cell_type": "markdown",
   "id": "67d6ead0",
   "metadata": {},
   "source": [
    "$$\n",
    "\\nabla^2 E = \\mu_0 \\epsilon_0 \\frac{\\partial^2 \\vec E}{\\partial t^2}\n",
    "$$"
   ]
  },
  {
   "cell_type": "markdown",
   "id": "7f9f689d",
   "metadata": {},
   "source": [
    "Using the same technique for Ampére's law and then Faraday's law yields the same result for magnetic fields:"
   ]
  },
  {
   "cell_type": "markdown",
   "id": "e5dc33e8",
   "metadata": {},
   "source": [
    "$$\n",
    "\\nabla^2 B = \\mu_0 \\epsilon_0 \\frac{\\partial^2 \\vec B}{\\partial t^2}\n",
    "$$"
   ]
  },
  {
   "cell_type": "markdown",
   "id": "bbde4174",
   "metadata": {},
   "source": [
    "Note that this looks very much like the wave equation:"
   ]
  },
  {
   "cell_type": "markdown",
   "id": "5e61f257",
   "metadata": {},
   "source": [
    "$$\n",
    "\\nabla^2 f = \\frac{1}{v^2} \\frac{\\partial^2 f}{\\partial t^2}\n",
    "$$"
   ]
  },
  {
   "cell_type": "markdown",
   "id": "b71e53da",
   "metadata": {},
   "source": [
    "Which means that oscillating electric and magnetic fields produce electromagnetic waves that move through space at a speed $v$. We can solve for $v$ by noting that:"
   ]
  },
  {
   "cell_type": "markdown",
   "id": "62699b67",
   "metadata": {},
   "source": [
    "$$\n",
    "\\frac{1}{v^2} = \\mu_0 \\epsilon_0\n",
    "$$"
   ]
  },
  {
   "cell_type": "markdown",
   "id": "6ca490bc",
   "metadata": {},
   "source": [
    "This yields:"
   ]
  },
  {
   "cell_type": "markdown",
   "id": "cba21d10",
   "metadata": {},
   "source": [
    "$$\n",
    "v = \\frac{1}{\\sqrt{\\mu_0 \\epsilon_0}} = 299792458 \\mathrm{\\ m/s} = c\n",
    "$$"
   ]
  },
  {
   "cell_type": "markdown",
   "id": "bc751bb6",
   "metadata": {},
   "source": [
    "Now notice something special. The velocity $c$ of electromagnetic waves - light waves - is a constant, because it is composed of the reciprocal of the square root of two other constants. This means that regardless of the velocity of the reference frame, it must be the same speed."
   ]
  },
  {
   "cell_type": "markdown",
   "id": "54aa643b",
   "metadata": {},
   "source": [
    "However, remember that in Galilean relativity, we defined that $\\vec v' = \\vec v + \\vec u$. So we'd expect that an observer in a moving reference frame would measure a higher speed of light, while observers in a stationary reference frame would measure a lower speed of light. Through numerous experiments, this was proven not to be the case - we are certain that the speed of light is constant, regardless of the reference frame."
   ]
  },
  {
   "cell_type": "markdown",
   "id": "4895673a",
   "metadata": {},
   "source": [
    "Therefore, the Galilean transformations must be wrong, and a new set of transformations - the Lorentz transformations - must supercede them."
   ]
  },
  {
   "cell_type": "markdown",
   "id": "1c7388cc",
   "metadata": {},
   "source": [
    "## The Lorentz Transformations"
   ]
  },
  {
   "cell_type": "markdown",
   "id": "b1c27814",
   "metadata": {},
   "source": [
    "The Lorentz transformations are Einstein's revision to Galilean relavity, derived from two postulates:\n",
    "\n",
    "- The laws of physics hold true in every reference frame\n",
    "- The speed of light $c$ is constant in every reference frame"
   ]
  },
  {
   "cell_type": "markdown",
   "id": "535a4335",
   "metadata": {},
   "source": [
    "To derive the Lorentz transformations, let's start with the Galilean transformations for $x \\rightarrow x'$ and $x' \\rightarrow x$:"
   ]
  },
  {
   "cell_type": "markdown",
   "id": "c4720034",
   "metadata": {},
   "source": [
    "$$\n",
    "x' = x - vt\n",
    "$$\n",
    "\n",
    "$$\n",
    "x = x' + vt'\n",
    "$$"
   ]
  },
  {
   "cell_type": "markdown",
   "id": "79505c5c",
   "metadata": {},
   "source": [
    "To correct Galilean coordinate transformations, we intuitively need to multiply the Galilean transformations by a factor $\\gamma$, which we can think of as the \"correcting factor\" to make sure that the Galilean transforms preserve the speed of light in every reference frame:"
   ]
  },
  {
   "cell_type": "markdown",
   "id": "6623e8fc",
   "metadata": {},
   "source": [
    "$$\n",
    "x' = \\gamma (x - vt)\n",
    "$$\n",
    "\n",
    "$$\n",
    "x = \\gamma (x' + vt')\n",
    "$$"
   ]
  },
  {
   "cell_type": "markdown",
   "id": "704e3e80",
   "metadata": {},
   "source": [
    "Now, we can multiply the left and right hand sides of the equation together, to combine the two equations into one equation:"
   ]
  },
  {
   "cell_type": "markdown",
   "id": "241ab43f",
   "metadata": {},
   "source": [
    "$$\n",
    "x' x = \\gamma (x - vt) \\gamma (x' + vt')\n",
    "$$"
   ]
  },
  {
   "cell_type": "markdown",
   "id": "c96d2950",
   "metadata": {},
   "source": [
    "$$\n",
    "x' x = \\gamma^2 (xx' + xvt - x'vt - v^2  t t')\n",
    "$$"
   ]
  },
  {
   "cell_type": "markdown",
   "id": "22f97488",
   "metadata": {},
   "source": [
    "Remember the second postulate of special relativity is that the speed of light is an invariant in every reference frame - that is $c = \\frac{x}{t} = \\frac{x'}{t'}$. Rearranging, we can say that $x = ct$ and $x' = ct'$. Substituting that in, we have:"
   ]
  },
  {
   "cell_type": "markdown",
   "id": "be83a131",
   "metadata": {},
   "source": [
    "$$\n",
    "c^2 tt' = \\gamma^2 (c^2 tt' + ct vt - ct' vt - v^2 tt')\n",
    "$$"
   ]
  },
  {
   "cell_type": "markdown",
   "id": "d63c05d3",
   "metadata": {},
   "source": [
    "The two middle terms cancel each other out, so we have:"
   ]
  },
  {
   "cell_type": "markdown",
   "id": "af33923d",
   "metadata": {},
   "source": [
    "$$\n",
    "c^2 tt' = \\gamma^2 (c^2 tt' - v^2 tt')\n",
    "$$"
   ]
  },
  {
   "cell_type": "markdown",
   "id": "e5b68e3d",
   "metadata": {},
   "source": [
    "We isolate $\\gamma^2$ by dividing the right-hand side of the equation by the left, to obtain:"
   ]
  },
  {
   "cell_type": "markdown",
   "id": "0af0b7b8",
   "metadata": {},
   "source": [
    "$$\n",
    "\\gamma^2 = \\frac{c^2 tt'}{c^2 tt' - v^2 tt'}\n",
    "$$"
   ]
  },
  {
   "cell_type": "markdown",
   "id": "4b9078b7",
   "metadata": {},
   "source": [
    "We can factor out the common factor of $tt'$, to get:"
   ]
  },
  {
   "cell_type": "markdown",
   "id": "b6ff7b51",
   "metadata": {},
   "source": [
    "$$\n",
    "\\gamma^2 = \\frac{c^2 tt'}{tt'(c^2 - v^2)}\n",
    "$$"
   ]
  },
  {
   "cell_type": "markdown",
   "id": "7aa6bc00",
   "metadata": {},
   "source": [
    "$$\n",
    "\\gamma^2 = \\frac{c^2}{(c^2 - v^2)}\n",
    "$$"
   ]
  },
  {
   "cell_type": "markdown",
   "id": "cdd5a483",
   "metadata": {},
   "source": [
    "We can then simplify by dividing both the numerator and denominator by $c^2$, which gives us:"
   ]
  },
  {
   "cell_type": "markdown",
   "id": "428a9735",
   "metadata": {},
   "source": [
    "$$\n",
    "\\gamma^2 = \\frac{1}{1 - \\frac{v^2}{c^2}}\n",
    "$$"
   ]
  },
  {
   "cell_type": "markdown",
   "id": "d23a6fe4",
   "metadata": {},
   "source": [
    "$$\n",
    "\\gamma^2 = \\frac{1}{1 - \\left(\\frac{v}{c}\\right)^2}\n",
    "$$"
   ]
  },
  {
   "cell_type": "markdown",
   "id": "27706ae8",
   "metadata": {},
   "source": [
    "Finally, taking the square root, we have:"
   ]
  },
  {
   "cell_type": "markdown",
   "id": "6cbb452e",
   "metadata": {},
   "source": [
    "$$\n",
    "\\gamma = \\frac{1}{\\sqrt{1 - \\left(\\frac{v}{c}\\right)^2}}\n",
    "$$"
   ]
  },
  {
   "cell_type": "markdown",
   "id": "ea09bd2f",
   "metadata": {},
   "source": [
    "We can use this to derive the Lorentz transformations for $x$, $y$, and $z$, but we need a little more algebra to figure out the Lorentz transform for $t$. To do this, we first write out the Lorentz transformations from $x \\rightarrow x'$ and $x' \\rightarrow x$:"
   ]
  },
  {
   "cell_type": "markdown",
   "id": "8f4937f0",
   "metadata": {},
   "source": [
    "$$\n",
    "x' = \\gamma(x - vt)\n",
    "$$\n",
    "\n",
    "$$\n",
    "x = \\gamma (x' + vt')\n",
    "$$"
   ]
  },
  {
   "cell_type": "markdown",
   "id": "244c1b08",
   "metadata": {},
   "source": [
    "We take the second equation to solve for $t'$:"
   ]
  },
  {
   "cell_type": "markdown",
   "id": "801fc699",
   "metadata": {},
   "source": [
    "$$ \n",
    "t' = \\frac{x}{\\gamma v} - \\frac{x'}{v}\n",
    "$$"
   ]
  },
  {
   "cell_type": "markdown",
   "id": "492bac71",
   "metadata": {},
   "source": [
    "And we can now plug in the first Lorentz transformation equation into $x'$:"
   ]
  },
  {
   "cell_type": "markdown",
   "id": "61ff6216",
   "metadata": {},
   "source": [
    "$$ \n",
    "t' = \\frac{x}{\\gamma v} - \\frac{\\gamma(x - vt)}{v}\n",
    "$$"
   ]
  },
  {
   "cell_type": "markdown",
   "id": "3673c706",
   "metadata": {},
   "source": [
    "We can now distribute to find:"
   ]
  },
  {
   "cell_type": "markdown",
   "id": "95d1d437",
   "metadata": {},
   "source": [
    "$$\n",
    "t' = \\gamma \\left(\\frac{x}{\\gamma^2 v} - \\frac{x}{v} + t\\right)\n",
    "$$"
   ]
  },
  {
   "cell_type": "markdown",
   "id": "24ccfd81",
   "metadata": {},
   "source": [
    "We can further factor out the first two terms as:"
   ]
  },
  {
   "cell_type": "markdown",
   "id": "c6ef44e0",
   "metadata": {},
   "source": [
    "$$\n",
    "t' = \\gamma \\left(x\\left[\\frac{1}{\\gamma^2 v} - \\frac{1}{v}\\right]+ t\\right)\n",
    "$$"
   ]
  },
  {
   "cell_type": "markdown",
   "id": "ef865d7d",
   "metadata": {},
   "source": [
    "This simplifies to:"
   ]
  },
  {
   "cell_type": "markdown",
   "id": "d921b979",
   "metadata": {},
   "source": [
    "$$\n",
    "t' = \\gamma \\left(x\\left[\\frac{1- \\gamma^2}{\\gamma^2 v}\\right] + t\\right)\n",
    "$$"
   ]
  },
  {
   "cell_type": "markdown",
   "id": "de21c801",
   "metadata": {},
   "source": [
    "Which then simplifies to:"
   ]
  },
  {
   "cell_type": "markdown",
   "id": "2c3ceca6",
   "metadata": {},
   "source": [
    "$$\n",
    "t' = \\gamma \\left(-\\frac{xv}{c^2} + t\\right)\n",
    "$$"
   ]
  },
  {
   "cell_type": "markdown",
   "id": "4febe5b8",
   "metadata": {},
   "source": [
    "Or:"
   ]
  },
  {
   "cell_type": "markdown",
   "id": "c41d5b3d",
   "metadata": {},
   "source": [
    "$$\n",
    "t' = \\gamma \\left(t - \\frac{vx}{c^2}\\right)\n",
    "$$"
   ]
  },
  {
   "cell_type": "markdown",
   "id": "0cc275d4",
   "metadata": {},
   "source": [
    "So, we now have the complete set of **Lorentz transformations**, which obey the laws of special relativity:"
   ]
  },
  {
   "cell_type": "markdown",
   "id": "aceb6b17",
   "metadata": {},
   "source": [
    "$$\n",
    "t' = \\gamma \\left(t - \\frac{vx}{c^2}\\right)\n",
    "$$\n",
    "\n",
    "$$\n",
    "x' = \\gamma (x - vt)\n",
    "$$\n",
    "\n",
    "$$\n",
    "y' = y\n",
    "$$\n",
    "\n",
    "$$\n",
    "z' = z\n",
    "$$"
   ]
  },
  {
   "cell_type": "markdown",
   "id": "27f8f287",
   "metadata": {},
   "source": [
    "## Consequences of special relativity"
   ]
  }
 ],
 "metadata": {
  "kernelspec": {
   "display_name": "Python 3 (ipykernel)",
   "language": "python",
   "name": "python3"
  },
  "language_info": {
   "codemirror_mode": {
    "name": "ipython",
    "version": 3
   },
   "file_extension": ".py",
   "mimetype": "text/x-python",
   "name": "python",
   "nbconvert_exporter": "python",
   "pygments_lexer": "ipython3",
   "version": "3.11.4"
  }
 },
 "nbformat": 4,
 "nbformat_minor": 5
}
